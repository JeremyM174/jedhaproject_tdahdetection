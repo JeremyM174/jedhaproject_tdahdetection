{
 "cells": [
  {
   "cell_type": "code",
   "execution_count": 1,
   "id": "b8e0f3b8",
   "metadata": {},
   "outputs": [],
   "source": [
    "import onnxruntime as ort\n",
    "import numpy as np\n",
    "from torchvision import transforms\n",
    "from PIL import Image\n"
   ]
  },
  {
   "cell_type": "code",
   "execution_count": 2,
   "id": "7e4ef5eb",
   "metadata": {},
   "outputs": [
    {
     "name": "stdout",
     "output_type": "stream",
     "text": [
      "Prédiction brute : [[1.0763495  0.7474734  2.0190406  0.47534782]]\n"
     ]
    }
   ],
   "source": [
    "# Charger le modèle ONNX\n",
    "session = ort.InferenceSession(\"daisee_model.onnx\")\n",
    "\n",
    "# Charger et prétraiter une image\n",
    "img_path = r\"C:\\Users\\alber\\Desktop\\visual_studio_code\\dossier_jedha\\Jedha_Full_stack\\00_Final_Project\\set\\DAiSEE_tiny\\daisee\\Train\\Boredom\\cropped_face_0_30383023_frame_181220.jpg\"\n",
    "image = Image.open(img_path).convert(\"RGB\")\n",
    "\n",
    "transform = transforms.Compose([\n",
    "    transforms.Resize(256),\n",
    "    transforms.CenterCrop(224),\n",
    "    transforms.ToTensor(),\n",
    "    transforms.Normalize([0.485, 0.456, 0.406], \n",
    "                         [0.229, 0.224, 0.225])\n",
    "])\n",
    "\n",
    "input_tensor = transform(image).unsqueeze(0).numpy()  # (1, 3, 224, 224)\n",
    "\n",
    "# Faire une prédiction\n",
    "outputs = session.run(['output'], {'input': input_tensor})\n",
    "preds = outputs[0]\n",
    "\n",
    "# Résultat\n",
    "print(\"Prédiction brute :\", preds)\n"
   ]
  },
  {
   "cell_type": "code",
   "execution_count": 3,
   "id": "95b4f310",
   "metadata": {},
   "outputs": [],
   "source": [
    "EMOTION_LABELS = ['boredom', \n",
    "                  'confusion',\n",
    "                  'engagement', \n",
    "                  'frustration'\n",
    "]"
   ]
  },
  {
   "cell_type": "code",
   "execution_count": 5,
   "id": "526d5b89",
   "metadata": {},
   "outputs": [
    {
     "name": "stdout",
     "output_type": "stream",
     "text": [
      "[1.0763494968414307, 0.747473418712616, 2.019040584564209, 0.4753478169441223]\n"
     ]
    }
   ],
   "source": [
    "list_of_pred = preds[0].tolist()\n",
    "\n",
    "print(list_of_pred)"
   ]
  },
  {
   "cell_type": "code",
   "execution_count": 6,
   "id": "f17bc51f",
   "metadata": {},
   "outputs": [
    {
     "name": "stdout",
     "output_type": "stream",
     "text": [
      "2\n"
     ]
    }
   ],
   "source": [
    "emotion = list_of_pred.index(max(list_of_pred))\n",
    "print(emotion)"
   ]
  },
  {
   "cell_type": "code",
   "execution_count": 7,
   "id": "4109d686",
   "metadata": {},
   "outputs": [
    {
     "data": {
      "text/plain": [
       "'engagement'"
      ]
     },
     "execution_count": 7,
     "metadata": {},
     "output_type": "execute_result"
    }
   ],
   "source": [
    "result = EMOTION_LABELS[emotion]\n",
    "result"
   ]
  },
  {
   "cell_type": "code",
   "execution_count": null,
   "id": "ff7587e9",
   "metadata": {},
   "outputs": [],
   "source": []
  }
 ],
 "metadata": {
  "kernelspec": {
   "display_name": "dl_project_py311",
   "language": "python",
   "name": "python3"
  },
  "language_info": {
   "codemirror_mode": {
    "name": "ipython",
    "version": 3
   },
   "file_extension": ".py",
   "mimetype": "text/x-python",
   "name": "python",
   "nbconvert_exporter": "python",
   "pygments_lexer": "ipython3",
   "version": "3.11.0"
  }
 },
 "nbformat": 4,
 "nbformat_minor": 5
}
