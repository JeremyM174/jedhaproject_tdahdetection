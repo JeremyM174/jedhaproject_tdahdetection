{
 "cells": [
  {
   "cell_type": "markdown",
   "id": "1cdf9d88",
   "metadata": {},
   "source": [
    "# DAiSEE small"
   ]
  },
  {
   "cell_type": "code",
   "execution_count": 1,
   "id": "e4e474f2",
   "metadata": {},
   "outputs": [],
   "source": [
    "import pandas as pd "
   ]
  },
  {
   "cell_type": "code",
   "execution_count": 2,
   "id": "1684eb4c",
   "metadata": {},
   "outputs": [
    {
     "data": {
      "text/html": [
       "<div>\n",
       "<style scoped>\n",
       "    .dataframe tbody tr th:only-of-type {\n",
       "        vertical-align: middle;\n",
       "    }\n",
       "\n",
       "    .dataframe tbody tr th {\n",
       "        vertical-align: top;\n",
       "    }\n",
       "\n",
       "    .dataframe thead th {\n",
       "        text-align: right;\n",
       "    }\n",
       "</style>\n",
       "<table border=\"1\" class=\"dataframe\">\n",
       "  <thead>\n",
       "    <tr style=\"text-align: right;\">\n",
       "      <th></th>\n",
       "      <th>image_path</th>\n",
       "      <th>boredom</th>\n",
       "      <th>engagement</th>\n",
       "      <th>confusion</th>\n",
       "      <th>frustration</th>\n",
       "      <th>split</th>\n",
       "    </tr>\n",
       "  </thead>\n",
       "  <tbody>\n",
       "    <tr>\n",
       "      <th>0</th>\n",
       "      <td>Train/110001/1100011002/1100011002.jpg</td>\n",
       "      <td>0</td>\n",
       "      <td>0</td>\n",
       "      <td>0</td>\n",
       "      <td>0</td>\n",
       "      <td>train</td>\n",
       "    </tr>\n",
       "    <tr>\n",
       "      <th>1</th>\n",
       "      <td>Train/110001/1100011003/1100011003.jpg</td>\n",
       "      <td>0</td>\n",
       "      <td>0</td>\n",
       "      <td>0</td>\n",
       "      <td>0</td>\n",
       "      <td>train</td>\n",
       "    </tr>\n",
       "    <tr>\n",
       "      <th>2</th>\n",
       "      <td>Train/110001/1100011004/1100011004.jpg</td>\n",
       "      <td>0</td>\n",
       "      <td>1</td>\n",
       "      <td>0</td>\n",
       "      <td>0</td>\n",
       "      <td>train</td>\n",
       "    </tr>\n",
       "    <tr>\n",
       "      <th>3</th>\n",
       "      <td>Train/110001/1100011005/1100011005.jpg</td>\n",
       "      <td>0</td>\n",
       "      <td>1</td>\n",
       "      <td>0</td>\n",
       "      <td>0</td>\n",
       "      <td>train</td>\n",
       "    </tr>\n",
       "    <tr>\n",
       "      <th>4</th>\n",
       "      <td>Train/110001/1100011006/1100011006.jpg</td>\n",
       "      <td>0</td>\n",
       "      <td>1</td>\n",
       "      <td>0</td>\n",
       "      <td>0</td>\n",
       "      <td>train</td>\n",
       "    </tr>\n",
       "    <tr>\n",
       "      <th>5</th>\n",
       "      <td>Train/110001/1100011007/1100011007.jpg</td>\n",
       "      <td>0</td>\n",
       "      <td>0</td>\n",
       "      <td>0</td>\n",
       "      <td>0</td>\n",
       "      <td>train</td>\n",
       "    </tr>\n",
       "    <tr>\n",
       "      <th>6</th>\n",
       "      <td>Train/110001/1100011008/1100011008.jpg</td>\n",
       "      <td>0</td>\n",
       "      <td>1</td>\n",
       "      <td>0</td>\n",
       "      <td>0</td>\n",
       "      <td>train</td>\n",
       "    </tr>\n",
       "    <tr>\n",
       "      <th>7</th>\n",
       "      <td>Train/110001/1100011009/1100011009.jpg</td>\n",
       "      <td>0</td>\n",
       "      <td>0</td>\n",
       "      <td>0</td>\n",
       "      <td>0</td>\n",
       "      <td>train</td>\n",
       "    </tr>\n",
       "    <tr>\n",
       "      <th>8</th>\n",
       "      <td>Train/110001/1100011010/1100011010.jpg</td>\n",
       "      <td>0</td>\n",
       "      <td>1</td>\n",
       "      <td>0</td>\n",
       "      <td>0</td>\n",
       "      <td>train</td>\n",
       "    </tr>\n",
       "    <tr>\n",
       "      <th>9</th>\n",
       "      <td>Train/110001/1100011011/1100011011.jpg</td>\n",
       "      <td>0</td>\n",
       "      <td>1</td>\n",
       "      <td>0</td>\n",
       "      <td>0</td>\n",
       "      <td>train</td>\n",
       "    </tr>\n",
       "  </tbody>\n",
       "</table>\n",
       "</div>"
      ],
      "text/plain": [
       "                               image_path  boredom  engagement  confusion  \\\n",
       "0  Train/110001/1100011002/1100011002.jpg        0           0          0   \n",
       "1  Train/110001/1100011003/1100011003.jpg        0           0          0   \n",
       "2  Train/110001/1100011004/1100011004.jpg        0           1          0   \n",
       "3  Train/110001/1100011005/1100011005.jpg        0           1          0   \n",
       "4  Train/110001/1100011006/1100011006.jpg        0           1          0   \n",
       "5  Train/110001/1100011007/1100011007.jpg        0           0          0   \n",
       "6  Train/110001/1100011008/1100011008.jpg        0           1          0   \n",
       "7  Train/110001/1100011009/1100011009.jpg        0           0          0   \n",
       "8  Train/110001/1100011010/1100011010.jpg        0           1          0   \n",
       "9  Train/110001/1100011011/1100011011.jpg        0           1          0   \n",
       "\n",
       "   frustration  split  \n",
       "0            0  train  \n",
       "1            0  train  \n",
       "2            0  train  \n",
       "3            0  train  \n",
       "4            0  train  \n",
       "5            0  train  \n",
       "6            0  train  \n",
       "7            0  train  \n",
       "8            0  train  \n",
       "9            0  train  "
      ]
     },
     "execution_count": 2,
     "metadata": {},
     "output_type": "execute_result"
    }
   ],
   "source": [
    "df_binary = pd.read_csv(r'C:\\Users\\alber\\Desktop\\visual_studio_code\\dossier_jedha\\Jedha_Full_stack\\00_Final_Project\\set\\DAiSEE_small\\final_df_binary.csv')\n",
    "df_binary.head(10)"
   ]
  },
  {
   "cell_type": "code",
   "execution_count": 3,
   "id": "4cec5bf8",
   "metadata": {},
   "outputs": [
    {
     "data": {
      "text/html": [
       "<div>\n",
       "<style scoped>\n",
       "    .dataframe tbody tr th:only-of-type {\n",
       "        vertical-align: middle;\n",
       "    }\n",
       "\n",
       "    .dataframe tbody tr th {\n",
       "        vertical-align: top;\n",
       "    }\n",
       "\n",
       "    .dataframe thead th {\n",
       "        text-align: right;\n",
       "    }\n",
       "</style>\n",
       "<table border=\"1\" class=\"dataframe\">\n",
       "  <thead>\n",
       "    <tr style=\"text-align: right;\">\n",
       "      <th></th>\n",
       "      <th>image_path</th>\n",
       "      <th>boredom</th>\n",
       "      <th>engagement</th>\n",
       "      <th>confusion</th>\n",
       "      <th>frustration</th>\n",
       "      <th>split</th>\n",
       "    </tr>\n",
       "  </thead>\n",
       "  <tbody>\n",
       "    <tr>\n",
       "      <th>0</th>\n",
       "      <td>Train/110001/1100011002/1100011002.jpg</td>\n",
       "      <td>0</td>\n",
       "      <td>0</td>\n",
       "      <td>0</td>\n",
       "      <td>0</td>\n",
       "      <td>train</td>\n",
       "    </tr>\n",
       "    <tr>\n",
       "      <th>1</th>\n",
       "      <td>Train/110001/1100011003/1100011003.jpg</td>\n",
       "      <td>0</td>\n",
       "      <td>0</td>\n",
       "      <td>0</td>\n",
       "      <td>0</td>\n",
       "      <td>train</td>\n",
       "    </tr>\n",
       "    <tr>\n",
       "      <th>2</th>\n",
       "      <td>Train/110001/1100011004/1100011004.jpg</td>\n",
       "      <td>0</td>\n",
       "      <td>1</td>\n",
       "      <td>0</td>\n",
       "      <td>0</td>\n",
       "      <td>train</td>\n",
       "    </tr>\n",
       "    <tr>\n",
       "      <th>3</th>\n",
       "      <td>Train/110001/1100011005/1100011005.jpg</td>\n",
       "      <td>0</td>\n",
       "      <td>1</td>\n",
       "      <td>0</td>\n",
       "      <td>0</td>\n",
       "      <td>train</td>\n",
       "    </tr>\n",
       "    <tr>\n",
       "      <th>4</th>\n",
       "      <td>Train/110001/1100011006/1100011006.jpg</td>\n",
       "      <td>0</td>\n",
       "      <td>1</td>\n",
       "      <td>0</td>\n",
       "      <td>0</td>\n",
       "      <td>train</td>\n",
       "    </tr>\n",
       "    <tr>\n",
       "      <th>...</th>\n",
       "      <td>...</td>\n",
       "      <td>...</td>\n",
       "      <td>...</td>\n",
       "      <td>...</td>\n",
       "      <td>...</td>\n",
       "      <td>...</td>\n",
       "    </tr>\n",
       "    <tr>\n",
       "      <th>7914</th>\n",
       "      <td>Test/987736/987736029/987736029.jpg</td>\n",
       "      <td>0</td>\n",
       "      <td>1</td>\n",
       "      <td>0</td>\n",
       "      <td>0</td>\n",
       "      <td>test</td>\n",
       "    </tr>\n",
       "    <tr>\n",
       "      <th>7915</th>\n",
       "      <td>Test/998826/998826011/998826011.jpg</td>\n",
       "      <td>0</td>\n",
       "      <td>1</td>\n",
       "      <td>0</td>\n",
       "      <td>0</td>\n",
       "      <td>test</td>\n",
       "    </tr>\n",
       "    <tr>\n",
       "      <th>7916</th>\n",
       "      <td>Test/998826/9988260112/9988260112.jpg</td>\n",
       "      <td>0</td>\n",
       "      <td>1</td>\n",
       "      <td>0</td>\n",
       "      <td>0</td>\n",
       "      <td>test</td>\n",
       "    </tr>\n",
       "    <tr>\n",
       "      <th>7917</th>\n",
       "      <td>Test/998826/9988260115/9988260115.jpg</td>\n",
       "      <td>0</td>\n",
       "      <td>1</td>\n",
       "      <td>0</td>\n",
       "      <td>0</td>\n",
       "      <td>test</td>\n",
       "    </tr>\n",
       "    <tr>\n",
       "      <th>7918</th>\n",
       "      <td>Test/998826/9988260119/9988260119.jpg</td>\n",
       "      <td>0</td>\n",
       "      <td>0</td>\n",
       "      <td>0</td>\n",
       "      <td>0</td>\n",
       "      <td>test</td>\n",
       "    </tr>\n",
       "  </tbody>\n",
       "</table>\n",
       "<p>7919 rows × 6 columns</p>\n",
       "</div>"
      ],
      "text/plain": [
       "                                  image_path  boredom  engagement  confusion  \\\n",
       "0     Train/110001/1100011002/1100011002.jpg        0           0          0   \n",
       "1     Train/110001/1100011003/1100011003.jpg        0           0          0   \n",
       "2     Train/110001/1100011004/1100011004.jpg        0           1          0   \n",
       "3     Train/110001/1100011005/1100011005.jpg        0           1          0   \n",
       "4     Train/110001/1100011006/1100011006.jpg        0           1          0   \n",
       "...                                      ...      ...         ...        ...   \n",
       "7914     Test/987736/987736029/987736029.jpg        0           1          0   \n",
       "7915     Test/998826/998826011/998826011.jpg        0           1          0   \n",
       "7916   Test/998826/9988260112/9988260112.jpg        0           1          0   \n",
       "7917   Test/998826/9988260115/9988260115.jpg        0           1          0   \n",
       "7918   Test/998826/9988260119/9988260119.jpg        0           0          0   \n",
       "\n",
       "      frustration  split  \n",
       "0               0  train  \n",
       "1               0  train  \n",
       "2               0  train  \n",
       "3               0  train  \n",
       "4               0  train  \n",
       "...           ...    ...  \n",
       "7914            0   test  \n",
       "7915            0   test  \n",
       "7916            0   test  \n",
       "7917            0   test  \n",
       "7918            0   test  \n",
       "\n",
       "[7919 rows x 6 columns]"
      ]
     },
     "execution_count": 3,
     "metadata": {},
     "output_type": "execute_result"
    }
   ],
   "source": [
    "df_binary"
   ]
  },
  {
   "cell_type": "code",
   "execution_count": 7,
   "id": "7852dd57",
   "metadata": {},
   "outputs": [
    {
     "data": {
      "text/html": [
       "<div>\n",
       "<style scoped>\n",
       "    .dataframe tbody tr th:only-of-type {\n",
       "        vertical-align: middle;\n",
       "    }\n",
       "\n",
       "    .dataframe tbody tr th {\n",
       "        vertical-align: top;\n",
       "    }\n",
       "\n",
       "    .dataframe thead th {\n",
       "        text-align: right;\n",
       "    }\n",
       "</style>\n",
       "<table border=\"1\" class=\"dataframe\">\n",
       "  <thead>\n",
       "    <tr style=\"text-align: right;\">\n",
       "      <th></th>\n",
       "      <th>image_path</th>\n",
       "      <th>boredom</th>\n",
       "      <th>engagement</th>\n",
       "      <th>confusion</th>\n",
       "      <th>frustration</th>\n",
       "      <th>split</th>\n",
       "    </tr>\n",
       "  </thead>\n",
       "  <tbody>\n",
       "    <tr>\n",
       "      <th>0</th>\n",
       "      <td>Train/110001/1100011002/1100011002.jpg</td>\n",
       "      <td>0</td>\n",
       "      <td>2</td>\n",
       "      <td>0</td>\n",
       "      <td>0</td>\n",
       "      <td>train</td>\n",
       "    </tr>\n",
       "    <tr>\n",
       "      <th>1</th>\n",
       "      <td>Train/110001/1100011003/1100011003.jpg</td>\n",
       "      <td>0</td>\n",
       "      <td>2</td>\n",
       "      <td>0</td>\n",
       "      <td>0</td>\n",
       "      <td>train</td>\n",
       "    </tr>\n",
       "    <tr>\n",
       "      <th>2</th>\n",
       "      <td>Train/110001/1100011004/1100011004.jpg</td>\n",
       "      <td>0</td>\n",
       "      <td>3</td>\n",
       "      <td>0</td>\n",
       "      <td>0</td>\n",
       "      <td>train</td>\n",
       "    </tr>\n",
       "    <tr>\n",
       "      <th>3</th>\n",
       "      <td>Train/110001/1100011005/1100011005.jpg</td>\n",
       "      <td>0</td>\n",
       "      <td>3</td>\n",
       "      <td>0</td>\n",
       "      <td>0</td>\n",
       "      <td>train</td>\n",
       "    </tr>\n",
       "    <tr>\n",
       "      <th>4</th>\n",
       "      <td>Train/110001/1100011006/1100011006.jpg</td>\n",
       "      <td>0</td>\n",
       "      <td>3</td>\n",
       "      <td>0</td>\n",
       "      <td>0</td>\n",
       "      <td>train</td>\n",
       "    </tr>\n",
       "    <tr>\n",
       "      <th>...</th>\n",
       "      <td>...</td>\n",
       "      <td>...</td>\n",
       "      <td>...</td>\n",
       "      <td>...</td>\n",
       "      <td>...</td>\n",
       "      <td>...</td>\n",
       "    </tr>\n",
       "    <tr>\n",
       "      <th>7914</th>\n",
       "      <td>Test/987736/987736029/987736029.jpg</td>\n",
       "      <td>0</td>\n",
       "      <td>3</td>\n",
       "      <td>0</td>\n",
       "      <td>0</td>\n",
       "      <td>test</td>\n",
       "    </tr>\n",
       "    <tr>\n",
       "      <th>7915</th>\n",
       "      <td>Test/998826/998826011/998826011.jpg</td>\n",
       "      <td>0</td>\n",
       "      <td>3</td>\n",
       "      <td>0</td>\n",
       "      <td>0</td>\n",
       "      <td>test</td>\n",
       "    </tr>\n",
       "    <tr>\n",
       "      <th>7916</th>\n",
       "      <td>Test/998826/9988260112/9988260112.jpg</td>\n",
       "      <td>0</td>\n",
       "      <td>3</td>\n",
       "      <td>0</td>\n",
       "      <td>0</td>\n",
       "      <td>test</td>\n",
       "    </tr>\n",
       "    <tr>\n",
       "      <th>7917</th>\n",
       "      <td>Test/998826/9988260115/9988260115.jpg</td>\n",
       "      <td>0</td>\n",
       "      <td>3</td>\n",
       "      <td>0</td>\n",
       "      <td>0</td>\n",
       "      <td>test</td>\n",
       "    </tr>\n",
       "    <tr>\n",
       "      <th>7918</th>\n",
       "      <td>Test/998826/9988260119/9988260119.jpg</td>\n",
       "      <td>1</td>\n",
       "      <td>2</td>\n",
       "      <td>0</td>\n",
       "      <td>0</td>\n",
       "      <td>test</td>\n",
       "    </tr>\n",
       "  </tbody>\n",
       "</table>\n",
       "<p>7919 rows × 6 columns</p>\n",
       "</div>"
      ],
      "text/plain": [
       "                                  image_path  boredom  engagement  confusion  \\\n",
       "0     Train/110001/1100011002/1100011002.jpg        0           2          0   \n",
       "1     Train/110001/1100011003/1100011003.jpg        0           2          0   \n",
       "2     Train/110001/1100011004/1100011004.jpg        0           3          0   \n",
       "3     Train/110001/1100011005/1100011005.jpg        0           3          0   \n",
       "4     Train/110001/1100011006/1100011006.jpg        0           3          0   \n",
       "...                                      ...      ...         ...        ...   \n",
       "7914     Test/987736/987736029/987736029.jpg        0           3          0   \n",
       "7915     Test/998826/998826011/998826011.jpg        0           3          0   \n",
       "7916   Test/998826/9988260112/9988260112.jpg        0           3          0   \n",
       "7917   Test/998826/9988260115/9988260115.jpg        0           3          0   \n",
       "7918   Test/998826/9988260119/9988260119.jpg        1           2          0   \n",
       "\n",
       "      frustration  split  \n",
       "0               0  train  \n",
       "1               0  train  \n",
       "2               0  train  \n",
       "3               0  train  \n",
       "4               0  train  \n",
       "...           ...    ...  \n",
       "7914            0   test  \n",
       "7915            0   test  \n",
       "7916            0   test  \n",
       "7917            0   test  \n",
       "7918            0   test  \n",
       "\n",
       "[7919 rows x 6 columns]"
      ]
     },
     "execution_count": 7,
     "metadata": {},
     "output_type": "execute_result"
    }
   ],
   "source": [
    "df_continous = pd.read_csv(r'C:\\Users\\alber\\Desktop\\visual_studio_code\\dossier_jedha\\Jedha_Full_stack\\00_Final_Project\\set\\DAiSEE_small\\final_df_multi.csv')\n",
    "df_continous"
   ]
  },
  {
   "cell_type": "code",
   "execution_count": 20,
   "id": "c60db906",
   "metadata": {},
   "outputs": [
    {
     "data": {
      "text/html": [
       "<div>\n",
       "<style scoped>\n",
       "    .dataframe tbody tr th:only-of-type {\n",
       "        vertical-align: middle;\n",
       "    }\n",
       "\n",
       "    .dataframe tbody tr th {\n",
       "        vertical-align: top;\n",
       "    }\n",
       "\n",
       "    .dataframe thead th {\n",
       "        text-align: right;\n",
       "    }\n",
       "</style>\n",
       "<table border=\"1\" class=\"dataframe\">\n",
       "  <thead>\n",
       "    <tr style=\"text-align: right;\">\n",
       "      <th></th>\n",
       "      <th>image_path</th>\n",
       "      <th>boredom</th>\n",
       "      <th>engagement</th>\n",
       "      <th>confusion</th>\n",
       "      <th>frustration</th>\n",
       "      <th>split</th>\n",
       "    </tr>\n",
       "  </thead>\n",
       "  <tbody>\n",
       "    <tr>\n",
       "      <th>0</th>\n",
       "      <td>Train/110001/1100011002/1100011002.jpg</td>\n",
       "      <td>0</td>\n",
       "      <td>2</td>\n",
       "      <td>0</td>\n",
       "      <td>0</td>\n",
       "      <td>train</td>\n",
       "    </tr>\n",
       "    <tr>\n",
       "      <th>1</th>\n",
       "      <td>Train/110001/1100011003/1100011003.jpg</td>\n",
       "      <td>0</td>\n",
       "      <td>2</td>\n",
       "      <td>0</td>\n",
       "      <td>0</td>\n",
       "      <td>train</td>\n",
       "    </tr>\n",
       "    <tr>\n",
       "      <th>2</th>\n",
       "      <td>Train/110001/1100011004/1100011004.jpg</td>\n",
       "      <td>0</td>\n",
       "      <td>3</td>\n",
       "      <td>0</td>\n",
       "      <td>0</td>\n",
       "      <td>train</td>\n",
       "    </tr>\n",
       "    <tr>\n",
       "      <th>3</th>\n",
       "      <td>Train/110001/1100011005/1100011005.jpg</td>\n",
       "      <td>0</td>\n",
       "      <td>3</td>\n",
       "      <td>0</td>\n",
       "      <td>0</td>\n",
       "      <td>train</td>\n",
       "    </tr>\n",
       "    <tr>\n",
       "      <th>4</th>\n",
       "      <td>Train/110001/1100011006/1100011006.jpg</td>\n",
       "      <td>0</td>\n",
       "      <td>3</td>\n",
       "      <td>0</td>\n",
       "      <td>0</td>\n",
       "      <td>train</td>\n",
       "    </tr>\n",
       "    <tr>\n",
       "      <th>...</th>\n",
       "      <td>...</td>\n",
       "      <td>...</td>\n",
       "      <td>...</td>\n",
       "      <td>...</td>\n",
       "      <td>...</td>\n",
       "      <td>...</td>\n",
       "    </tr>\n",
       "    <tr>\n",
       "      <th>7914</th>\n",
       "      <td>Test/987736/987736029/987736029.jpg</td>\n",
       "      <td>0</td>\n",
       "      <td>3</td>\n",
       "      <td>0</td>\n",
       "      <td>0</td>\n",
       "      <td>test</td>\n",
       "    </tr>\n",
       "    <tr>\n",
       "      <th>7915</th>\n",
       "      <td>Test/998826/998826011/998826011.jpg</td>\n",
       "      <td>0</td>\n",
       "      <td>3</td>\n",
       "      <td>0</td>\n",
       "      <td>0</td>\n",
       "      <td>test</td>\n",
       "    </tr>\n",
       "    <tr>\n",
       "      <th>7916</th>\n",
       "      <td>Test/998826/9988260112/9988260112.jpg</td>\n",
       "      <td>0</td>\n",
       "      <td>3</td>\n",
       "      <td>0</td>\n",
       "      <td>0</td>\n",
       "      <td>test</td>\n",
       "    </tr>\n",
       "    <tr>\n",
       "      <th>7917</th>\n",
       "      <td>Test/998826/9988260115/9988260115.jpg</td>\n",
       "      <td>0</td>\n",
       "      <td>3</td>\n",
       "      <td>0</td>\n",
       "      <td>0</td>\n",
       "      <td>test</td>\n",
       "    </tr>\n",
       "    <tr>\n",
       "      <th>7918</th>\n",
       "      <td>Test/998826/9988260119/9988260119.jpg</td>\n",
       "      <td>1</td>\n",
       "      <td>2</td>\n",
       "      <td>0</td>\n",
       "      <td>0</td>\n",
       "      <td>test</td>\n",
       "    </tr>\n",
       "  </tbody>\n",
       "</table>\n",
       "<p>7919 rows × 6 columns</p>\n",
       "</div>"
      ],
      "text/plain": [
       "                                  image_path  boredom  engagement  confusion  \\\n",
       "0     Train/110001/1100011002/1100011002.jpg        0           2          0   \n",
       "1     Train/110001/1100011003/1100011003.jpg        0           2          0   \n",
       "2     Train/110001/1100011004/1100011004.jpg        0           3          0   \n",
       "3     Train/110001/1100011005/1100011005.jpg        0           3          0   \n",
       "4     Train/110001/1100011006/1100011006.jpg        0           3          0   \n",
       "...                                      ...      ...         ...        ...   \n",
       "7914     Test/987736/987736029/987736029.jpg        0           3          0   \n",
       "7915     Test/998826/998826011/998826011.jpg        0           3          0   \n",
       "7916   Test/998826/9988260112/9988260112.jpg        0           3          0   \n",
       "7917   Test/998826/9988260115/9988260115.jpg        0           3          0   \n",
       "7918   Test/998826/9988260119/9988260119.jpg        1           2          0   \n",
       "\n",
       "      frustration  split  \n",
       "0               0  train  \n",
       "1               0  train  \n",
       "2               0  train  \n",
       "3               0  train  \n",
       "4               0  train  \n",
       "...           ...    ...  \n",
       "7914            0   test  \n",
       "7915            0   test  \n",
       "7916            0   test  \n",
       "7917            0   test  \n",
       "7918            0   test  \n",
       "\n",
       "[7919 rows x 6 columns]"
      ]
     },
     "execution_count": 20,
     "metadata": {},
     "output_type": "execute_result"
    }
   ],
   "source": [
    "df_continous"
   ]
  },
  {
   "cell_type": "markdown",
   "id": "3f6f2a9c",
   "metadata": {},
   "source": [
    "## exploration"
   ]
  },
  {
   "cell_type": "code",
   "execution_count": 19,
   "id": "e71027c6",
   "metadata": {},
   "outputs": [
    {
     "data": {
      "text/html": [
       "<div>\n",
       "<style scoped>\n",
       "    .dataframe tbody tr th:only-of-type {\n",
       "        vertical-align: middle;\n",
       "    }\n",
       "\n",
       "    .dataframe tbody tr th {\n",
       "        vertical-align: top;\n",
       "    }\n",
       "\n",
       "    .dataframe thead th {\n",
       "        text-align: right;\n",
       "    }\n",
       "</style>\n",
       "<table border=\"1\" class=\"dataframe\">\n",
       "  <thead>\n",
       "    <tr style=\"text-align: right;\">\n",
       "      <th></th>\n",
       "      <th>boredom</th>\n",
       "      <th>engagement</th>\n",
       "      <th>confusion</th>\n",
       "      <th>frustration</th>\n",
       "    </tr>\n",
       "  </thead>\n",
       "  <tbody>\n",
       "    <tr>\n",
       "      <th>count</th>\n",
       "      <td>7919.000000</td>\n",
       "      <td>7919.000000</td>\n",
       "      <td>7919.000000</td>\n",
       "      <td>7919.000000</td>\n",
       "    </tr>\n",
       "    <tr>\n",
       "      <th>mean</th>\n",
       "      <td>0.040030</td>\n",
       "      <td>0.416467</td>\n",
       "      <td>0.011491</td>\n",
       "      <td>0.010355</td>\n",
       "    </tr>\n",
       "    <tr>\n",
       "      <th>std</th>\n",
       "      <td>0.196043</td>\n",
       "      <td>0.493004</td>\n",
       "      <td>0.106587</td>\n",
       "      <td>0.101237</td>\n",
       "    </tr>\n",
       "    <tr>\n",
       "      <th>min</th>\n",
       "      <td>0.000000</td>\n",
       "      <td>0.000000</td>\n",
       "      <td>0.000000</td>\n",
       "      <td>0.000000</td>\n",
       "    </tr>\n",
       "    <tr>\n",
       "      <th>25%</th>\n",
       "      <td>0.000000</td>\n",
       "      <td>0.000000</td>\n",
       "      <td>0.000000</td>\n",
       "      <td>0.000000</td>\n",
       "    </tr>\n",
       "    <tr>\n",
       "      <th>50%</th>\n",
       "      <td>0.000000</td>\n",
       "      <td>0.000000</td>\n",
       "      <td>0.000000</td>\n",
       "      <td>0.000000</td>\n",
       "    </tr>\n",
       "    <tr>\n",
       "      <th>75%</th>\n",
       "      <td>0.000000</td>\n",
       "      <td>1.000000</td>\n",
       "      <td>0.000000</td>\n",
       "      <td>0.000000</td>\n",
       "    </tr>\n",
       "    <tr>\n",
       "      <th>max</th>\n",
       "      <td>1.000000</td>\n",
       "      <td>1.000000</td>\n",
       "      <td>1.000000</td>\n",
       "      <td>1.000000</td>\n",
       "    </tr>\n",
       "  </tbody>\n",
       "</table>\n",
       "</div>"
      ],
      "text/plain": [
       "           boredom   engagement    confusion  frustration\n",
       "count  7919.000000  7919.000000  7919.000000  7919.000000\n",
       "mean      0.040030     0.416467     0.011491     0.010355\n",
       "std       0.196043     0.493004     0.106587     0.101237\n",
       "min       0.000000     0.000000     0.000000     0.000000\n",
       "25%       0.000000     0.000000     0.000000     0.000000\n",
       "50%       0.000000     0.000000     0.000000     0.000000\n",
       "75%       0.000000     1.000000     0.000000     0.000000\n",
       "max       1.000000     1.000000     1.000000     1.000000"
      ]
     },
     "execution_count": 19,
     "metadata": {},
     "output_type": "execute_result"
    }
   ],
   "source": [
    "df_binary.describe()"
   ]
  },
  {
   "cell_type": "code",
   "execution_count": 8,
   "id": "2eed512e",
   "metadata": {},
   "outputs": [
    {
     "data": {
      "text/html": [
       "<div>\n",
       "<style scoped>\n",
       "    .dataframe tbody tr th:only-of-type {\n",
       "        vertical-align: middle;\n",
       "    }\n",
       "\n",
       "    .dataframe tbody tr th {\n",
       "        vertical-align: top;\n",
       "    }\n",
       "\n",
       "    .dataframe thead th {\n",
       "        text-align: right;\n",
       "    }\n",
       "</style>\n",
       "<table border=\"1\" class=\"dataframe\">\n",
       "  <thead>\n",
       "    <tr style=\"text-align: right;\">\n",
       "      <th></th>\n",
       "      <th>boredom</th>\n",
       "      <th>engagement</th>\n",
       "      <th>confusion</th>\n",
       "      <th>frustration</th>\n",
       "    </tr>\n",
       "  </thead>\n",
       "  <tbody>\n",
       "    <tr>\n",
       "      <th>count</th>\n",
       "      <td>7919.000000</td>\n",
       "      <td>7919.000000</td>\n",
       "      <td>7919.000000</td>\n",
       "      <td>7919.000000</td>\n",
       "    </tr>\n",
       "    <tr>\n",
       "      <th>mean</th>\n",
       "      <td>0.887991</td>\n",
       "      <td>2.347645</td>\n",
       "      <td>0.424549</td>\n",
       "      <td>0.287536</td>\n",
       "    </tr>\n",
       "    <tr>\n",
       "      <th>std</th>\n",
       "      <td>0.898741</td>\n",
       "      <td>0.616144</td>\n",
       "      <td>0.694462</td>\n",
       "      <td>0.590217</td>\n",
       "    </tr>\n",
       "    <tr>\n",
       "      <th>min</th>\n",
       "      <td>0.000000</td>\n",
       "      <td>0.000000</td>\n",
       "      <td>0.000000</td>\n",
       "      <td>0.000000</td>\n",
       "    </tr>\n",
       "    <tr>\n",
       "      <th>25%</th>\n",
       "      <td>0.000000</td>\n",
       "      <td>2.000000</td>\n",
       "      <td>0.000000</td>\n",
       "      <td>0.000000</td>\n",
       "    </tr>\n",
       "    <tr>\n",
       "      <th>50%</th>\n",
       "      <td>1.000000</td>\n",
       "      <td>2.000000</td>\n",
       "      <td>0.000000</td>\n",
       "      <td>0.000000</td>\n",
       "    </tr>\n",
       "    <tr>\n",
       "      <th>75%</th>\n",
       "      <td>2.000000</td>\n",
       "      <td>3.000000</td>\n",
       "      <td>1.000000</td>\n",
       "      <td>0.000000</td>\n",
       "    </tr>\n",
       "    <tr>\n",
       "      <th>max</th>\n",
       "      <td>3.000000</td>\n",
       "      <td>3.000000</td>\n",
       "      <td>3.000000</td>\n",
       "      <td>3.000000</td>\n",
       "    </tr>\n",
       "  </tbody>\n",
       "</table>\n",
       "</div>"
      ],
      "text/plain": [
       "           boredom   engagement    confusion  frustration\n",
       "count  7919.000000  7919.000000  7919.000000  7919.000000\n",
       "mean      0.887991     2.347645     0.424549     0.287536\n",
       "std       0.898741     0.616144     0.694462     0.590217\n",
       "min       0.000000     0.000000     0.000000     0.000000\n",
       "25%       0.000000     2.000000     0.000000     0.000000\n",
       "50%       1.000000     2.000000     0.000000     0.000000\n",
       "75%       2.000000     3.000000     1.000000     0.000000\n",
       "max       3.000000     3.000000     3.000000     3.000000"
      ]
     },
     "execution_count": 8,
     "metadata": {},
     "output_type": "execute_result"
    }
   ],
   "source": [
    "df_continous.describe()"
   ]
  },
  {
   "cell_type": "code",
   "execution_count": 9,
   "id": "ec16ebb8",
   "metadata": {},
   "outputs": [],
   "source": [
    "import plotly.express as px"
   ]
  },
  {
   "cell_type": "code",
   "execution_count": 11,
   "id": "7e9b1225",
   "metadata": {},
   "outputs": [
    {
     "data": {
      "application/vnd.plotly.v1+json": {
       "config": {
        "plotlyServerURL": "https://plot.ly"
       },
       "data": [
        {
         "bingroup": "x",
         "hovertemplate": "boredom=%{x}<br>count=%{y}<extra></extra>",
         "legendgroup": "",
         "marker": {
          "color": "#636efa",
          "pattern": {
           "shape": ""
          }
         },
         "name": "",
         "orientation": "v",
         "showlegend": false,
         "type": "histogram",
         "x": {
          "bdata": "AAAAAAABAAAAAAAAAAAAAAAAAAAAAAAAAAAAAAAAAAAAAQAAAQAAAAEAAAAAAQAAAQAAAAEAAAAAAAAAAAAAAAAAAAAAAAAAAAAAAAAAAAAAAQAAAAEAAAAAAAAAAAAAAAAAAAAAAAABAAAAAAAAAAAAAAACAAEAAQADAgICAgICAgABAAEDAAEAAAAAAQEAAAEAAAAAAAEBAAAAAgACAgACAgIAAAAAAAICAgIAAAADAgECAAACAQEAAQICAQICAgICAQECAQICAgECAgECAgICAgICAQICAgICAgECAAEAAgIAAQECAgABAgACAgICAwIBAAIAAAIBAgEAAAMBAQECAgIBAQEAAQICAQICAQIAAgEDAAEDAgMBAAEAAAEDAAIAAAACAAEAAAAAAAABAAAAAAAAAAAAAAIAAgEAAAAAAAAAAAAAAAEAAAIAAQACAgEDAgICAgIDAAIBAgABAgIAAwACAQIBAgICAgICAgIAAAACAQEAAQICAgICAgICAgADAgIBAQACAgICAgICAgIAAgIAAQECAgEAAgIAAAICAAAAAgIAAgICAAEAAAACAAACAAACAQICAAAAAgICAAAAAQIAAgICAQICAgEBAQACAgICAQIAAgAAAgIBAgICAgABAAIBAQIBAQICAwIAAgACAQIBAAIAAAEAAAAAAQACAQAAAQAAAAEBAgAAAgEAAQAAAQIAAQECAAAAAQAAAQEAAAEAAAEAAAEAAAIAAAEAAQACAAEAAAEAAgIAAAAAAQAAAAEAAQEBAQABAQABAAAAAQEAAQACAQABAAICAgACAAACAAAAAAEAAAAAAAIAAAABAAABAQAAAQAAAQABAAEAAAACAAEAAAECAQAAAAEAAAABAAAAAAABAgAAAQAAAQECAAAAAAEAAgAAAgABAAEAAQEAAgICAQIAAQMCAgABAQIBAAEAAwECAQICAQACAgICAgAAAAIBAgICAAECAQMCAQECAQICAQABAgAAAAABAAAAAAICAAABAQICAgAAAAABAQECAQECAQACAAACAgEBAgABAQEBAgAAAAIAAAECAAICAAIAAgEBAAEBAAIAAQACAAEAAQABAgABAgACAQIBAQEBAAIAAQECAAACAgIAAgAAAQABAQACAAACAgICAgACAgABAQACAQICAAIBAQMBAAEAAAMCAQEAAQACAQICAAECAgIAAQECAAEAAQEAAQEAAAACAAACAAAAAgEAAAEBAAACAgACAAABAAABAQIAAAECAgAAAAICAgACAQECAQEAAAAAAAABAgACAgEBAAIBAQEAAwMDAwIDAgIAAgIBAgADAwMCAgIBAwIAAgACAQEBAQIAAAIBAQAAAQACAQEAAAEAAgEAAwAAAgIBAgACAwICAAIDAgABAAABAgIAAAEBAQABAQEAAAEBAQEBAgIBAQEBAQEBAQEBAQEBAQEBAQEBAQABAQABAQABAwEAAAEBAQEAAQABAQAAAQEBAQEBAAEBAAABAQAAAAAAAAEAAAIAAAEAAAEBAAABAQIBAAEBAQEAAQAAAAABAQAAAAEAAAABAQAAAwECAAECAAECAAAAAAABAgEBAAAAAAEAAAAAAQABAAAAAQEBAAICAQACAAABAAICAgACAAABAwMDAgAAAgAAAAAAAAEBAQABAAICAgIBAQIBAgECAQABAAAAAAABAgMAAgIBAAEAAwEDAQICAQEBAAIBAAICAgIAAAABAgACAgICAgIBAAIBAgECAQEAAgECAQIBAgAAAQICAAABAgAAAAIAAAABAAIAAAABAgIAAAAAAAECAAEAAAECAAABAgABAgAAAQIBAAIAAAAAAAABAgIAAAEAAAAAAgEAAAACAAAAAgEAAAAAAQABAQAAAQMBAQEAAAAAAAEBAAEBAgAAAAEBAAEBAAABAQEBAQEBAAIBAQEBAQMBAQEBAAMAAAEAAQAAAQEAAgEBAQEAAQEBAQEBAQABAAABAgIBAAEAAQEBAAEAAQEDAAEBAgAAAAAAAgAAAQACAAAAAAICAQABAAIAAAAAAAIAAAAAAgAAAAAAAgAAAQABAAEBAAACAQAAAQABAAACAAEAAQECAAACAAEAAQAAAQAAAAAAAgIAAAAAAQIBAAEAAQMBAQAAAQABAQABAQICAQIAAAEBAQIAAAEBAAEAAQIAAQAAAAEBAAICAQEAAQAAAQAAAQABAgAAAAAAAQEBAQEAAAAAAgICAAAAAQIBAQABAgIDAQAAAAEAAAIBAAAAAAICAQAAAQAAAAEAAAABAAAAAAEAAAABAAAAAQAAAAEAAAAAAAAAAAAAAAABAAAAAAEAAAAAAAAAAAABAAABAAAAAAAAAAEAAAABAQABAgEBAQEBAQAAAgACAAMBAAEAAAEAAQAAAQAAAAAAAQABAAAAAAAAAQIAAAEAAAEAAAEBAAAAAAMBAAMCAAAAAAABAAICAQECAgAAAQEAAgIAAgABAwEAAAEAAAICAAEBAQICAgICAgAAAgICAAACAAAAAAAAAAIBAQABAQEAAAEAAgECAAIBAgACAAECAQIBAQECAAABAgIBAAEBAAACAAIAAAEBAAIAAgIAAgECAgEBAAAAAQAAAAAAAAAAAAABAAEAAAEAAAAAAQAAAAAAAAABAAABAAAAAQACAAEAAAAAAAEAAgACAAEBAQACAAIAAgIAAQAAAAABAAEBAAIBAAEAAQEAAgIDAQEAAQEBAQIBAAIBAgIBAQICAwIBAgEAAQAAAgICAQIDAQIAAgACAQECAgEAAAECAwEBAgAAAQEBAgIBAAAAAAABAQIBAAAAAQECAgEAAQICAQAAAAACAQACAgICAgECAAABAQACAAICAgICAAECAgACAgACAgIAAgECAQECAAEAAQIBAgACAAAAAAICAAECAgABAAEBAAAAAQICAQEBAAEBAAMCAgEBAQACAgIBAAIBAAECAgEBAQACAQAAAQIBAQACAgIAAQIDAwEDAwMDAwMDAwICAQABAAAAAAAAAAABAgABAAEAAQEAAAAAAAAAAQIAAAECAAECAAABAQECAAAAAAABAgABAgACAAEAAAAAAQABAAAAAAAAAQAAAAAAAQEAAAEBAQEAAAAAAQEBAAACAAIAAAAAAAEAAAEAAAACAAEAAgAAAAIAAQAAAAIBAAIBAgMBAgACAQIBAAABAAAAAAIAAAECAAEAAgEAAAMAAAEAAAAAAAAAAQEAAQEBAgABAAACAAABAQIAAQIAAQIBAAAAAgIBAAECAQICAAECAAEBAQIBAgICAAIAAQICAQICAQACAQMBAQABAgECAgICAAEBAQICAQEBAAAAAQAAAAEAAAICAAAAAgABAAMBAQEBAgABAQIAAQAAAAABAAIAAAAAAQAAAgEAAAABAAAAAQEBAgEAAAABAAACAAICAQEBAAAAAAAAAAAAAAEAAQAAAQIBAQABAAIBAAAAAQEAAQAAAAACAAEBAgABAAAAAgABAAABAgMBAQIBAQIBAQIBAgECAQICAgIDAwIBAAEAAgEDAgIDAwMCAQEBAQECAgMCAAIBAAAAAAAAAQAAAQEAAAAAAAAAAQAAAAAAAAAAAAEBAQEAAAAAAAEAAAABAAEBAAEAAQECAQABAAEBAQEDAAMAAAAAAAECAAEBAAEBAAABAQEBAQEBAgEBAAABAAEBAQABAQIBAQEBAAEBAAECAgABAQABAQEBAQAAAQABAQABAAEBAAEBAQAAAQAAAQABAAAAAAIAAQAAAAAAAQAAAAABAQEAAAAAAQAAAAAAAAABAQAAAAAAAAABAAEBAQAAAgIAAgEAAAABAAEBAAACAAEBAAAAAAAAAAEAAQAAAQAAAAAAAAAAAAABAgEBAAAAAAAAAQAAAAAAAQABAAEAAQAAAQACAAAAAAAAAQABAQAAAAAAAgABAAAAAAAAAAAAAgEAAgAAAgICAgICAQACAQIBAAAAAQACAgICAQEBAQICAAACAQIAAgICAgIBAAEAAgAAAAIBAgEBAQABAQICAAIAAQABAgECAgABAQECAgECAQIBAgEBAQEBAQMCAQEDAAICAQICAQICAgABAgMCAgICAgABAAABAQACAgEAAgMAAAAAAAEAAgAAAAEAAQICAAIAAAEBAgEBAgECAAEAAQIDAgAAAAACAQAAAQAAAgECAgICAAEBAgIAAQABAAACAQIAAQECAQECAQIBAgECAQAAAgEBAQEAAAEBAQECAQAAAAEAAAABAQABAAAAAQECAQAAAAIAAQIAAQACAQAAAAAAAAAAAAAAAAAAAAACAQAAAQABAAAAAAEBAAAAAAABAQACAAAAAQEAAAAAAAAAAAEAAQAAAAICAAAAAAAAAAAAAAAAAAAAAAAAAAABAAAAAAAAAAAAAAAAAAAAAAAAAAAAAAAAAAAAAAAAAAAAAgAAAAAAAAAAAAAAAAAAAAAAAQAAAAAAAAAAAAEAAgABAAABAAEAAAIBAQIAAgABAAAAAAEAAAAAAAAAAAAAAAEAAAAAAAAAAQACAAAAAAAAAAEBAQAAAAAAAAABAAAAAAAAAAAAAAAAAQIAAAEAAAABAwEAAAEBAQABAQAAAAEAAAABAAACAAABAgACAQEBAgEAAQAAAgEAAgIAAgMBAAIBAgIAAgMBAAIAAAABAAIAAAIBAgIAAgICAAECAgMCAQEAAAAAAQECAAECAQIBAAIAAgICAgIAAQIDAAABAQEBAgIBAgICAgEAAgECAgIAAAICAQACAgICAwICAgICAgMDAgIBAQEBAgADAAMAAQIBAAABAAIAAgIDAAICAgICAgIAAAAAAQMBAgECAgICAgIAAAECAAEBAQIBAQIAAgEBAQEBAgIBAwACAgEAAAEBAQAAAAABAAABAQEAAAACAgABAQAAAAAAAAEAAgAAAAICAAABAgEBAQEAAAIAAQABAAAAAAABAAEBAQACAAAAAQEAAAAAAQIAAQAAAAACAAEAAgABAgABAAAAAQABAAAAAAAAAAEAAAAAAAACAAAAAAAAAAAAAQAAAAAAAQAAAAAAAQAAAAEAAAABAAAAAAAAAAABAAAAAAABAQAAAQMAAQAAAAABAAEBAAIAAQEAAgABAAEAAQEAAAAAAAEBAAAAAQABAAEAAAEBAwIBAAIAAAIAAQECAAAAAAACAAAAAQIAAAABAAEAAQICAQEAAQIAAAEAAAAAAQEAAAEBAAAAAQABAQEBAgAAAQACAQIAAgAAAAACAAABAAIBAgEBAQIAAQACAQACAQICAgAAAgEAAAIAAQIBAgABAAIAAAAAAAACAQABAQEAAQAAAAICAgIBAAAAAAECAAECAAABAAAAAAACAQMAAAAAAgAAAAIBAAADAAMCAgEDAQAAAAACAAEDAgIAAAAAAQACAAAAAAABAgECAgAAAAEAAAEBAgEAAgIAAAABAAECAQEBAQABAQMBAAICAAMBAQEBAQEBAAEBAQABAQIBAgACAAABAgEBAQIBAQEBAAECAAACAAEBAQEBAQIBAQEAAQABAQEBAgEBAQIBAgEBAwEAAgABAgABAgECAQECAgEBAgMAAQIAAQABAAEAAQABAQAAAAEBAAEAAQEAAAIAAAABAQABAAAAAQABAQABAAEBAQABAAEBAAABAQABAAEBAAEAAAABAQAAAQAAAAEBAAABAAAAAQEBAQEBAQEBAAABAQABAgAAAAEAAgAAAAABAQAAAQEAAQEAAQAAAQABAQEBAQEBAQAAAQABAAAAAAEBAQAAAAEBAQABAQEBAgEBAAAAAAABAQEAAQAAAAABAgAAAAAAAAIAAAAAAAAAAAAAAgEAAQIAAAEBAAABAQABAAACAAEBAAEAAQECAwECAQIAAgMAAAIAAAECAgEDAAAAAQEBAgAAAQEBAQICAAIBAQAAAQEAAAICAAECAgIAAQIBAQIBAQEAAAAAAAACAQEBAQABAgAAAgAAAgEDAgAAAQEBAQAAAQIBAgICAAEAAQIAAAACAQAAAQIBAgEAAgIAAQICAgICAgMDAwAAAwACAgIDAQMDAwMDAwICAQIDAgMCAgIDAwIDAwICAgICAgICAgABAgMCAAACAgIDAgICAgIAAgAAAgABAQMCAQIBAgICAgICAgECAwECAgEBAAEBAQEDAgIAAgIAAQIDAwIAAwAAAAECAwICAwMDAgIDAQIAAgEAAAACAAMCAgMCAQACAQICAQICAQADAgIDAAAAAwACAAIAAAIAAAEAAAAAAAABAAECAQEBAQEBAAEAAAACAAEAAgEAAgECAQEBAgECAQEBAAEBAAABAAAAAgEBAQICAAECAAEBAQEBAQABAgAAAQABAQEBAAEAAgEBAgEBAAEAAAEAAQEBAAABAQEBAQEBAQEBAAEBAQABAQABAQAAAQIAAQAAAQIAAQEAAAEAAQEDAQECAQACAgEBAAMAAQEAAQAAAAEAAQEAAAACAgEBAQEAAAEAAQABAQACAgIDAgMAAAADAQICAwECAwADAAIBAwIAAgIAAgICAAICAgIBAgMCAQICAgMDAAACAgABAQICAgABAAABAQAAAAEAAAABAAEAAQEAAAEAAAAAAAEAAAAAAAACAAAAAgAAAAEAAAAAAQICAAECAQICAwICAQICAwEBAwAAAgECAgAAAAADAAMAAQAAAwAAAAAAAAMAAAECAQADAAECAAAAAgMDAwIDAwAAAAMDAAAAAAAAAAAAAAIBAgAAAQEAAQABAAAAAQACAgABAQEAAQEAAAIAAAACAQABAQACAgAAAAABAAEAAQEAAAIAAAABAQEAAAICAQEAAQEBAQAAAgIAAAIAAQIAAQAAAQAAAAECAgECAwIBAAADAgABAAIBAgEBAgECAwMCAQICAQMCAwMCAgICAgICAgICAgICAAIBAgMCAgICAwIAAgICAAIAAwIDAwMCAAICAgICAgICAwIDAgMCAQEDAgMDAAECAAICAQIAAgABAgEAAQADAgACAAAAAQABAAAAAAMAAwMCAgEAAAICAwABAgEBAAIAAAACAQEAAQAAAAABAQAAAAEAAgABAQICAgABAAAAAAIAAAIAAgABAgACAgIBAQIDAgECAQEBAAEAAQICAAECAgECAgIBAAABAAAAAgEAAAIBAAEBAAEBAAACAAIAAAABAAACAgIBAgIDAgIBAQIDAwMDAgICAgMAAQADAAMCAgMCAgIAAQIAAQIDAwMCAgMCAgICAQMDAwMDAgIDAgMDAwMCAgMBAQACAgIAAgACAwICAwICAgIDAgIBAgACAAIDAQACAgIDAgECAQICAAICAQMBAgMCAwADAgICAAICAQIAAAEAAgAAAAIAAAIAAAEDAQIAAQIAAQIAAQEBAgICAAIBAgECAAEAAgACAQICAgIBAQMBAwICAQIBAgIDAgECAgEBAAIBAQACAgIBAAICAgACAgABAAACAAACAQABAAECAQAAAQICAAIDAgEAAAICAgEAAQICAgAAAgEBAgEAAQACAgECAAMCAgICAgICAQIBAAICAgIDAAICAgECAQICAwEBAgIBAwICAgICAQICAgICAQIAAAABAQAAAQEBAQMAAAIAAQACAgICAgICAAICAAIDAwECAgIAAgICAAICAQICAQMCAgIAAgABAwICAgICAgICAgICAAIAAAIAAgACAgICAgICAgIDAQABAQACAAIBAgECAAAAAQIBAQEBAAAAAQACAQECAQIAAAAAAQEAAAAAAAEAAAEAAAAAAAABAAIAAAEAAwEDAgMDAgIAAgMCAwIDAwADAwICAgMAAAMDAQMDAQMCAgEAAAIAAQICAgEAAgABAAECAgAAAAIBAAAAAAAAAAEAAwICAgACAgIAAAECAgECAQMBAQEAAQABAAAAAQACAgMBAgIBAQEDAgECAwEBAQICAgABAgIBAgECAQACAQIBAgICAgEAAgICAgMBAQIAAAECAAEAAwACAQIBAQEAAQAAAgECAgMBAwEBAgICAgIBAgIBAgIDAQICAQICAgIBAQEAAgIAAgIAAgIBAQIDAgICAwAAAAABAAEBAQAAAAICAAEAAQICAAABAQEAAgIBAQICAgACAQEBAQEAAgEBAAICAgIBAQEAAQEBAAIBAQMCAQEBAAEAAgABAQEAAAEDAQMCAQIBAgIBAQECAQEBAgIAAQICAQAAAgIAAwIBAAEBAQEBAAABAQAAAAEAAAIBAQEAAgECAgECAQEBAAABAQEBAQAAAQABAAEAAQEAAQABAAEBAQABAQEBAAEDAAAAAQABAAEAAQABAQAAAAABAQAAAAEAAQEBAAIAAAAAAQEAAQEAAAAAAQAAAAAAAAEAAQAAAQAAAQAAAQAAAQEAAQAAAAAAAAABAQAAAQMBAQEBAAECAgICAAIBAQEAAAIBAgIAAgACAwICAAEAAgIBAAABAAEBAQACAQIBAgACAAEBAAIAAgIAAAABAAIAAgIAAQABAQABAAIAAAIAAgIAAgAAAAEAAAABAQABAAAAAAEBAgEAAQAAAQEAAAAAAAEBAQEAAQECAAAAAQACAQABAQAAAgAAAQAAAAIAAQACAAADAAIAAAIAAQACAgICAgMBAgEBAgIBAQICAgEAAQEBAAIBAgIBAgEAAAAAAwICAQABAgIAAAAAAQAAAAECAgECAAEAAAAAAAEBAQIBAAEBAAIAAgECAAABAAEBAAIBAQACAAABAAEAAAABAQECAAIBAwICAgIDAgMDAgICAQECAAIAAAEAAQIAAAEAAQABAgAAAgECAQEBAAICAgEBAgICAgEAAQIAAQEAAAAAAAACAgAAAQABAAIAAQEBAQAAAQABAAICAQAAAwIBAgACAAABAgACAAMAAAAAAAAAAAABAgIBAQAAAQECAAEBAAAAAAECAAAAAAAAAQECAQEAAAAAAAAAAAAAAAAAAQAAAAABAAACAAAAAAAAAQAAAQEBAAABAQAAAAABAAEBAQABAgICAgIBAQACAgIDAAIAAAAAAAECAgIBAQEAAQACAAEBAgACAgMCAAIAAAAAAQABAgICAAIAAgICAgIBAgIBAgMCAwMDAwICAwICAgIBAgIBAgIBAgEBAgICAgEAAgIAAgICAQIAAAABAQACAgICAgACAgACAgACAAEAAQECAgEBAAICAAAAAAACAAAAAAAAAAABAgICAAEAAAEBAQABAAICAQICAAMBAAEAAQAAAAEAAAAAAQAAAAAAAQAAAAEBAAABAQAAAgAAAAAAAgEAAAAAAAECAQAAAAAAAAECAAAAAAABAAMAAAABAAACAAIAAAEAAAAAAAAAAQACAAEBAgAAAAABAQEAAAAAAAABAAAAAAAAAAAAAAAAAAAAAAAAAAAAAAAAAAABAgEAAQEAAAAAAAAAAAEAAQAAAAAAAAAAAAICAgIAAAICAAAAAAAAAgIAAQEDAAEBAgICAQECAQEBAAAAAgABAAIBAAAAAQECAQABAgIAAAMCAAABAQEAAgEBAQABAAIAAgEBAAAAAgACAAICAAIAAgECAAECAgECAAACAgECAQECAQICAgIAAgIBAQEBAgIBAAAAAQEAAAAAAgABAgAAAgACAAICAQABAAACAgEAAQEBAgEAAQECAAIBAAAAAAEAAgAAAAEBAgIAAgAAAAECAgECAQIBAAIBAQABAAICAAABAQEBAAEBAQAAAAEBAAACAQAAAQAAAAEAAQIAAQACAQEBAAEAAgEBAgIBAAAAAAAAAAABAAAAAAAAAQAAAAEBAQAAAAABAAABAAEAAQABAAABAAEAAQEAAQEAAAAAAQACAAIBAQAAAAEBAAABAAABAAAAAAEAAAAAAAAAAAAAAAAAAQAAAQICAAEAAAAAAAAAAAIAAAEAAgABAwEAAAABAgAAAAAAAgAAAgABAAEAAAEBAAIAAAABAAAAAAEAAAAAAAEAAgAAAAAAAQIAAAEAAAICAgEAAQABAQEAAQACAAECAgAAAAABAgAAAAABAAEAAAAAAQAAAAABAAACAAABAAICAQABAgEBAQABAgICAQAAAAABAAAAAQACAgACAAAAAgAAAgIAAAECAAEBAQEBAAAAAQABAAABAAAAAQEAAQAAAQECAAICAAAAAAACAAABAQEBAgEBAgIBAQEBAgECAQIBAAIBAAECAgIBAAMBAwABAAECAQECAQIBAgEBAAIBAQIBAQEBAAICAQMDAgIDAgIDAAMDAgICAgIBAQEAAgECAQEBAQIBAAAAAQEAAQABAAEBAQABAQEAAQACAwEBAAEAAgABAAEBAAABAQEAAAEAAQABAAABAAAAAQEAAAEAAAEAAAAAAQMAAAAAAAACAQEBAgMBAQAAAAIBAQAAAAEBAQABAAABAQIBAQABAAABAQAAAQMBAAABAQAAAQAAAAEBAQAAAAAAAAABAQEAAAAAAAABAQABAQAAAQEBAAABAQEAAQEBAQIBAQEBAQAAAQABAQEBAAIAAQEBAQABAAEBAAEBAgEBAQEBAAABAQEBAQAAAQABAQEBAQEBAQEAAQEBAwEAAQEBAAABAAADAAABAAEAAQEAAQAAAAAAAAE=",
          "dtype": "i1"
         },
         "xaxis": "x",
         "yaxis": "y"
        }
       ],
       "layout": {
        "barmode": "relative",
        "legend": {
         "tracegroupgap": 0
        },
        "margin": {
         "t": 60
        },
        "template": {
         "data": {
          "bar": [
           {
            "error_x": {
             "color": "#2a3f5f"
            },
            "error_y": {
             "color": "#2a3f5f"
            },
            "marker": {
             "line": {
              "color": "#E5ECF6",
              "width": 0.5
             },
             "pattern": {
              "fillmode": "overlay",
              "size": 10,
              "solidity": 0.2
             }
            },
            "type": "bar"
           }
          ],
          "barpolar": [
           {
            "marker": {
             "line": {
              "color": "#E5ECF6",
              "width": 0.5
             },
             "pattern": {
              "fillmode": "overlay",
              "size": 10,
              "solidity": 0.2
             }
            },
            "type": "barpolar"
           }
          ],
          "carpet": [
           {
            "aaxis": {
             "endlinecolor": "#2a3f5f",
             "gridcolor": "white",
             "linecolor": "white",
             "minorgridcolor": "white",
             "startlinecolor": "#2a3f5f"
            },
            "baxis": {
             "endlinecolor": "#2a3f5f",
             "gridcolor": "white",
             "linecolor": "white",
             "minorgridcolor": "white",
             "startlinecolor": "#2a3f5f"
            },
            "type": "carpet"
           }
          ],
          "choropleth": [
           {
            "colorbar": {
             "outlinewidth": 0,
             "ticks": ""
            },
            "type": "choropleth"
           }
          ],
          "contour": [
           {
            "colorbar": {
             "outlinewidth": 0,
             "ticks": ""
            },
            "colorscale": [
             [
              0,
              "#0d0887"
             ],
             [
              0.1111111111111111,
              "#46039f"
             ],
             [
              0.2222222222222222,
              "#7201a8"
             ],
             [
              0.3333333333333333,
              "#9c179e"
             ],
             [
              0.4444444444444444,
              "#bd3786"
             ],
             [
              0.5555555555555556,
              "#d8576b"
             ],
             [
              0.6666666666666666,
              "#ed7953"
             ],
             [
              0.7777777777777778,
              "#fb9f3a"
             ],
             [
              0.8888888888888888,
              "#fdca26"
             ],
             [
              1,
              "#f0f921"
             ]
            ],
            "type": "contour"
           }
          ],
          "contourcarpet": [
           {
            "colorbar": {
             "outlinewidth": 0,
             "ticks": ""
            },
            "type": "contourcarpet"
           }
          ],
          "heatmap": [
           {
            "colorbar": {
             "outlinewidth": 0,
             "ticks": ""
            },
            "colorscale": [
             [
              0,
              "#0d0887"
             ],
             [
              0.1111111111111111,
              "#46039f"
             ],
             [
              0.2222222222222222,
              "#7201a8"
             ],
             [
              0.3333333333333333,
              "#9c179e"
             ],
             [
              0.4444444444444444,
              "#bd3786"
             ],
             [
              0.5555555555555556,
              "#d8576b"
             ],
             [
              0.6666666666666666,
              "#ed7953"
             ],
             [
              0.7777777777777778,
              "#fb9f3a"
             ],
             [
              0.8888888888888888,
              "#fdca26"
             ],
             [
              1,
              "#f0f921"
             ]
            ],
            "type": "heatmap"
           }
          ],
          "histogram": [
           {
            "marker": {
             "pattern": {
              "fillmode": "overlay",
              "size": 10,
              "solidity": 0.2
             }
            },
            "type": "histogram"
           }
          ],
          "histogram2d": [
           {
            "colorbar": {
             "outlinewidth": 0,
             "ticks": ""
            },
            "colorscale": [
             [
              0,
              "#0d0887"
             ],
             [
              0.1111111111111111,
              "#46039f"
             ],
             [
              0.2222222222222222,
              "#7201a8"
             ],
             [
              0.3333333333333333,
              "#9c179e"
             ],
             [
              0.4444444444444444,
              "#bd3786"
             ],
             [
              0.5555555555555556,
              "#d8576b"
             ],
             [
              0.6666666666666666,
              "#ed7953"
             ],
             [
              0.7777777777777778,
              "#fb9f3a"
             ],
             [
              0.8888888888888888,
              "#fdca26"
             ],
             [
              1,
              "#f0f921"
             ]
            ],
            "type": "histogram2d"
           }
          ],
          "histogram2dcontour": [
           {
            "colorbar": {
             "outlinewidth": 0,
             "ticks": ""
            },
            "colorscale": [
             [
              0,
              "#0d0887"
             ],
             [
              0.1111111111111111,
              "#46039f"
             ],
             [
              0.2222222222222222,
              "#7201a8"
             ],
             [
              0.3333333333333333,
              "#9c179e"
             ],
             [
              0.4444444444444444,
              "#bd3786"
             ],
             [
              0.5555555555555556,
              "#d8576b"
             ],
             [
              0.6666666666666666,
              "#ed7953"
             ],
             [
              0.7777777777777778,
              "#fb9f3a"
             ],
             [
              0.8888888888888888,
              "#fdca26"
             ],
             [
              1,
              "#f0f921"
             ]
            ],
            "type": "histogram2dcontour"
           }
          ],
          "mesh3d": [
           {
            "colorbar": {
             "outlinewidth": 0,
             "ticks": ""
            },
            "type": "mesh3d"
           }
          ],
          "parcoords": [
           {
            "line": {
             "colorbar": {
              "outlinewidth": 0,
              "ticks": ""
             }
            },
            "type": "parcoords"
           }
          ],
          "pie": [
           {
            "automargin": true,
            "type": "pie"
           }
          ],
          "scatter": [
           {
            "fillpattern": {
             "fillmode": "overlay",
             "size": 10,
             "solidity": 0.2
            },
            "type": "scatter"
           }
          ],
          "scatter3d": [
           {
            "line": {
             "colorbar": {
              "outlinewidth": 0,
              "ticks": ""
             }
            },
            "marker": {
             "colorbar": {
              "outlinewidth": 0,
              "ticks": ""
             }
            },
            "type": "scatter3d"
           }
          ],
          "scattercarpet": [
           {
            "marker": {
             "colorbar": {
              "outlinewidth": 0,
              "ticks": ""
             }
            },
            "type": "scattercarpet"
           }
          ],
          "scattergeo": [
           {
            "marker": {
             "colorbar": {
              "outlinewidth": 0,
              "ticks": ""
             }
            },
            "type": "scattergeo"
           }
          ],
          "scattergl": [
           {
            "marker": {
             "colorbar": {
              "outlinewidth": 0,
              "ticks": ""
             }
            },
            "type": "scattergl"
           }
          ],
          "scattermap": [
           {
            "marker": {
             "colorbar": {
              "outlinewidth": 0,
              "ticks": ""
             }
            },
            "type": "scattermap"
           }
          ],
          "scattermapbox": [
           {
            "marker": {
             "colorbar": {
              "outlinewidth": 0,
              "ticks": ""
             }
            },
            "type": "scattermapbox"
           }
          ],
          "scatterpolar": [
           {
            "marker": {
             "colorbar": {
              "outlinewidth": 0,
              "ticks": ""
             }
            },
            "type": "scatterpolar"
           }
          ],
          "scatterpolargl": [
           {
            "marker": {
             "colorbar": {
              "outlinewidth": 0,
              "ticks": ""
             }
            },
            "type": "scatterpolargl"
           }
          ],
          "scatterternary": [
           {
            "marker": {
             "colorbar": {
              "outlinewidth": 0,
              "ticks": ""
             }
            },
            "type": "scatterternary"
           }
          ],
          "surface": [
           {
            "colorbar": {
             "outlinewidth": 0,
             "ticks": ""
            },
            "colorscale": [
             [
              0,
              "#0d0887"
             ],
             [
              0.1111111111111111,
              "#46039f"
             ],
             [
              0.2222222222222222,
              "#7201a8"
             ],
             [
              0.3333333333333333,
              "#9c179e"
             ],
             [
              0.4444444444444444,
              "#bd3786"
             ],
             [
              0.5555555555555556,
              "#d8576b"
             ],
             [
              0.6666666666666666,
              "#ed7953"
             ],
             [
              0.7777777777777778,
              "#fb9f3a"
             ],
             [
              0.8888888888888888,
              "#fdca26"
             ],
             [
              1,
              "#f0f921"
             ]
            ],
            "type": "surface"
           }
          ],
          "table": [
           {
            "cells": {
             "fill": {
              "color": "#EBF0F8"
             },
             "line": {
              "color": "white"
             }
            },
            "header": {
             "fill": {
              "color": "#C8D4E3"
             },
             "line": {
              "color": "white"
             }
            },
            "type": "table"
           }
          ]
         },
         "layout": {
          "annotationdefaults": {
           "arrowcolor": "#2a3f5f",
           "arrowhead": 0,
           "arrowwidth": 1
          },
          "autotypenumbers": "strict",
          "coloraxis": {
           "colorbar": {
            "outlinewidth": 0,
            "ticks": ""
           }
          },
          "colorscale": {
           "diverging": [
            [
             0,
             "#8e0152"
            ],
            [
             0.1,
             "#c51b7d"
            ],
            [
             0.2,
             "#de77ae"
            ],
            [
             0.3,
             "#f1b6da"
            ],
            [
             0.4,
             "#fde0ef"
            ],
            [
             0.5,
             "#f7f7f7"
            ],
            [
             0.6,
             "#e6f5d0"
            ],
            [
             0.7,
             "#b8e186"
            ],
            [
             0.8,
             "#7fbc41"
            ],
            [
             0.9,
             "#4d9221"
            ],
            [
             1,
             "#276419"
            ]
           ],
           "sequential": [
            [
             0,
             "#0d0887"
            ],
            [
             0.1111111111111111,
             "#46039f"
            ],
            [
             0.2222222222222222,
             "#7201a8"
            ],
            [
             0.3333333333333333,
             "#9c179e"
            ],
            [
             0.4444444444444444,
             "#bd3786"
            ],
            [
             0.5555555555555556,
             "#d8576b"
            ],
            [
             0.6666666666666666,
             "#ed7953"
            ],
            [
             0.7777777777777778,
             "#fb9f3a"
            ],
            [
             0.8888888888888888,
             "#fdca26"
            ],
            [
             1,
             "#f0f921"
            ]
           ],
           "sequentialminus": [
            [
             0,
             "#0d0887"
            ],
            [
             0.1111111111111111,
             "#46039f"
            ],
            [
             0.2222222222222222,
             "#7201a8"
            ],
            [
             0.3333333333333333,
             "#9c179e"
            ],
            [
             0.4444444444444444,
             "#bd3786"
            ],
            [
             0.5555555555555556,
             "#d8576b"
            ],
            [
             0.6666666666666666,
             "#ed7953"
            ],
            [
             0.7777777777777778,
             "#fb9f3a"
            ],
            [
             0.8888888888888888,
             "#fdca26"
            ],
            [
             1,
             "#f0f921"
            ]
           ]
          },
          "colorway": [
           "#636efa",
           "#EF553B",
           "#00cc96",
           "#ab63fa",
           "#FFA15A",
           "#19d3f3",
           "#FF6692",
           "#B6E880",
           "#FF97FF",
           "#FECB52"
          ],
          "font": {
           "color": "#2a3f5f"
          },
          "geo": {
           "bgcolor": "white",
           "lakecolor": "white",
           "landcolor": "#E5ECF6",
           "showlakes": true,
           "showland": true,
           "subunitcolor": "white"
          },
          "hoverlabel": {
           "align": "left"
          },
          "hovermode": "closest",
          "mapbox": {
           "style": "light"
          },
          "paper_bgcolor": "white",
          "plot_bgcolor": "#E5ECF6",
          "polar": {
           "angularaxis": {
            "gridcolor": "white",
            "linecolor": "white",
            "ticks": ""
           },
           "bgcolor": "#E5ECF6",
           "radialaxis": {
            "gridcolor": "white",
            "linecolor": "white",
            "ticks": ""
           }
          },
          "scene": {
           "xaxis": {
            "backgroundcolor": "#E5ECF6",
            "gridcolor": "white",
            "gridwidth": 2,
            "linecolor": "white",
            "showbackground": true,
            "ticks": "",
            "zerolinecolor": "white"
           },
           "yaxis": {
            "backgroundcolor": "#E5ECF6",
            "gridcolor": "white",
            "gridwidth": 2,
            "linecolor": "white",
            "showbackground": true,
            "ticks": "",
            "zerolinecolor": "white"
           },
           "zaxis": {
            "backgroundcolor": "#E5ECF6",
            "gridcolor": "white",
            "gridwidth": 2,
            "linecolor": "white",
            "showbackground": true,
            "ticks": "",
            "zerolinecolor": "white"
           }
          },
          "shapedefaults": {
           "line": {
            "color": "#2a3f5f"
           }
          },
          "ternary": {
           "aaxis": {
            "gridcolor": "white",
            "linecolor": "white",
            "ticks": ""
           },
           "baxis": {
            "gridcolor": "white",
            "linecolor": "white",
            "ticks": ""
           },
           "bgcolor": "#E5ECF6",
           "caxis": {
            "gridcolor": "white",
            "linecolor": "white",
            "ticks": ""
           }
          },
          "title": {
           "x": 0.05
          },
          "xaxis": {
           "automargin": true,
           "gridcolor": "white",
           "linecolor": "white",
           "ticks": "",
           "title": {
            "standoff": 15
           },
           "zerolinecolor": "white",
           "zerolinewidth": 2
          },
          "yaxis": {
           "automargin": true,
           "gridcolor": "white",
           "linecolor": "white",
           "ticks": "",
           "title": {
            "standoff": 15
           },
           "zerolinecolor": "white",
           "zerolinewidth": 2
          }
         }
        },
        "xaxis": {
         "anchor": "y",
         "domain": [
          0,
          1
         ],
         "title": {
          "text": "boredom"
         }
        },
        "yaxis": {
         "anchor": "x",
         "domain": [
          0,
          1
         ],
         "title": {
          "text": "count"
         }
        }
       }
      }
     },
     "metadata": {},
     "output_type": "display_data"
    }
   ],
   "source": [
    "px.histogram(df_continous,\n",
    "             'boredom')"
   ]
  },
  {
   "cell_type": "code",
   "execution_count": 15,
   "id": "f006d6d8",
   "metadata": {},
   "outputs": [
    {
     "data": {
      "application/vnd.plotly.v1+json": {
       "config": {
        "plotlyServerURL": "https://plot.ly"
       },
       "data": [
        {
         "bingroup": "x",
         "hovertemplate": "boredom=%{x}<br>count=%{y}<extra></extra>",
         "legendgroup": "",
         "marker": {
          "color": "#636efa",
          "pattern": {
           "shape": ""
          }
         },
         "name": "",
         "orientation": "v",
         "showlegend": false,
         "type": "histogram",
         "x": {
          "bdata": "AAAAAAAAAAAAAAAAAAAAAAAAAAAAAAAAAAAAAAAAAAAAAAAAAAAAAAAAAAAAAAAAAAAAAAAAAAAAAAAAAAAAAAAAAAAAAAAAAAAAAAAAAAAAAAAAAAAAAAAAAAAAAAAAAAAAAAAAAAAAAAAAAAAAAAAAAAAAAAAAAAABAAAAAAAAAAAAAAABAAAAAAAAAAAAAAAAAAAAAAAAAAAAAAAAAAAAAAAAAAAAAAAAAAAAAAABAAAAAAAAAAAAAAAAAAAAAAAAAAAAAAAAAAAAAAAAAAAAAAAAAAAAAAAAAAAAAAAAAAAAAAAAAAAAAAAAAAAAAQAAAAAAAAAAAAAAAAEAAAAAAAAAAAAAAAAAAAAAAAAAAAABAAABAAEAAAAAAAABAAAAAAAAAAAAAAAAAAAAAAAAAAAAAAAAAAAAAAAAAAAAAAAAAAAAAAAAAAAAAAAAAAABAAAAAAABAAAAAAAAAAAAAQAAAAAAAAAAAAAAAAAAAAAAAAAAAAAAAAAAAAAAAAABAAAAAAAAAAAAAAAAAAAAAAAAAAAAAAAAAAAAAAAAAAAAAAAAAAAAAAAAAAAAAAAAAAAAAAAAAAAAAAAAAAAAAAAAAAAAAAAAAAAAAAAAAAAAAAAAAAAAAAAAAAAAAAAAAAAAAAAAAAAAAQAAAAAAAAAAAAAAAAAAAAAAAAAAAAAAAAAAAAAAAAAAAAAAAAAAAAAAAAAAAAAAAAAAAAAAAAAAAAAAAAAAAAAAAAAAAAAAAAAAAAAAAAAAAAAAAAAAAAAAAAAAAAAAAAAAAAAAAAAAAAAAAAAAAAAAAAAAAAAAAAAAAAAAAAAAAAAAAAAAAAAAAAAAAAAAAAAAAAAAAAAAAAAAAAAAAAAAAAAAAAAAAAAAAAAAAAAAAAAAAAAAAAAAAAAAAAAAAAAAAAAAAAAAAAAAAAAAAAEAAAAAAAAAAAAAAQAAAAAAAAAAAAAAAAAAAAAAAAAAAAAAAAEAAAAAAAAAAAAAAAAAAAAAAAAAAAAAAAAAAAAAAAAAAAAAAAAAAAAAAAAAAAAAAAAAAAAAAAAAAAAAAAAAAAAAAAAAAAAAAAAAAAAAAAAAAAAAAAAAAAAAAAAAAAAAAAAAAAAAAAAAAAAAAAAAAAAAAAAAAAAAAAAAAAAAAAAAAAAAAAAAAAAAAAAAAAAAAAEAAAAAAAEAAAAAAAAAAAAAAAAAAAAAAAAAAAAAAAAAAAAAAAAAAAAAAAAAAAAAAAAAAAAAAAAAAAAAAAAAAAAAAAAAAAAAAAAAAAAAAAAAAAAAAAAAAAAAAAAAAAAAAAAAAAAAAQEBAQABAAAAAAAAAAABAQEAAAAAAQAAAAAAAAAAAAAAAAAAAAAAAAAAAAAAAAAAAAAAAQAAAAAAAAAAAQAAAAABAAAAAAAAAAAAAAAAAAAAAAAAAAAAAAAAAAAAAAAAAAAAAAAAAAAAAAAAAAAAAAAAAAAAAAAAAQAAAAAAAAAAAAAAAAAAAAAAAAAAAAAAAAAAAAAAAAAAAAAAAAAAAAAAAAAAAAAAAAAAAAAAAAAAAAAAAAAAAAAAAAAAAAAAAAAAAQAAAAAAAAAAAAAAAAAAAAAAAAAAAAAAAAAAAAAAAAAAAAAAAAAAAAAAAAAAAAAAAAAAAAAAAQEBAAAAAAAAAAAAAAAAAAAAAAAAAAAAAAAAAAAAAAAAAAAAAAAAAAEAAAAAAAAAAQABAAAAAAAAAAAAAAAAAAAAAAAAAAAAAAAAAAAAAAAAAAAAAAAAAAAAAAAAAAAAAAAAAAAAAAAAAAAAAAAAAAAAAAAAAAAAAAAAAAAAAAAAAAAAAAAAAAAAAAAAAAAAAAAAAAAAAAAAAAAAAAAAAAAAAAAAAAAAAAAAAAAAAAAAAAAAAAAAAAEAAAAAAAAAAAAAAAAAAAAAAAAAAAAAAAAAAAAAAAAAAAAAAAAAAAEAAAAAAAEAAAAAAAAAAAAAAAAAAAAAAAAAAAAAAAAAAAAAAAAAAAAAAAAAAAAAAAABAAAAAAAAAAAAAAAAAAAAAAAAAAAAAAAAAAAAAAAAAAAAAAAAAAAAAAAAAAAAAAAAAAAAAAAAAAAAAAAAAAAAAAAAAAAAAAAAAAAAAAAAAAAAAAAAAAAAAAAAAAAAAAAAAAEAAAAAAAAAAAAAAAAAAAAAAAAAAAAAAAAAAAAAAAAAAAAAAAAAAAAAAAAAAAAAAAAAAAAAAAAAAAAAAAAAAAAAAAAAAAAAAAAAAAAAAAAAAAABAAAAAAAAAAAAAAAAAAAAAAAAAAAAAAAAAAAAAAAAAAAAAAAAAAAAAAAAAAAAAAAAAAAAAAAAAAAAAAAAAAAAAAAAAAAAAAAAAAAAAAAAAAAAAAAAAAAAAAAAAAAAAAAAAAAAAAAAAAEAAAAAAAAAAAAAAAAAAAAAAAAAAAAAAAAAAAAAAAAAAAAAAAAAAAAAAAEAAAEAAAAAAAAAAAAAAAAAAAAAAAAAAAAAAAAAAQAAAAAAAAAAAAAAAAAAAAAAAAAAAAAAAAAAAAAAAAAAAAAAAAAAAAAAAAAAAAAAAAAAAAAAAAAAAAAAAAAAAAAAAAAAAAAAAAAAAAAAAAAAAAAAAAAAAAAAAAAAAAAAAAAAAAAAAAAAAAAAAAAAAAAAAAAAAAAAAAAAAAAAAAAAAAAAAAAAAAAAAAAAAAAAAAAAAAAAAAAAAAAAAAAAAAAAAAAAAAAAAAAAAAAAAAAAAAABAAAAAAAAAAAAAAAAAAAAAAAAAQAAAAAAAAAAAAAAAAABAAAAAAAAAAAAAAAAAAAAAQAAAAAAAAAAAAAAAAAAAAAAAAAAAAAAAAAAAAAAAAAAAAAAAAAAAAAAAAAAAAAAAAAAAAAAAAAAAAAAAAAAAAAAAAAAAAAAAAAAAAAAAAAAAAAAAAAAAAAAAAAAAAAAAAAAAAAAAAAAAAAAAAAAAAAAAAEAAAAAAAAAAAAAAAAAAAAAAAAAAAAAAAAAAAAAAAAAAAAAAAABAQABAQEBAQEBAQAAAAAAAAAAAAAAAAAAAAAAAAAAAAAAAAAAAAAAAAAAAAAAAAAAAAAAAAAAAAAAAAAAAAAAAAAAAAAAAAAAAAAAAAAAAAAAAAAAAAAAAAAAAAAAAAAAAAAAAAAAAAAAAAAAAAAAAAAAAAAAAAAAAAAAAAAAAAAAAAAAAAAAAAAAAAEAAAAAAAAAAAAAAAAAAAAAAAAAAAAAAAAAAAEAAAAAAAAAAAAAAAAAAAAAAAAAAAAAAAAAAAAAAAAAAAAAAAAAAAAAAAAAAAAAAAAAAAAAAAAAAAAAAAAAAAAAAAAAAAAAAAEAAAAAAAAAAAAAAAAAAAAAAAAAAAAAAAAAAAAAAAAAAAAAAAAAAAEAAAAAAAAAAAAAAAAAAAAAAAAAAAAAAAAAAAAAAAAAAAAAAAAAAAAAAAAAAAAAAAAAAAAAAAAAAAAAAAAAAAAAAAAAAAAAAAAAAAAAAAAAAAAAAAAAAAAAAAAAAAAAAAAAAAAAAAAAAAEAAAAAAAAAAAAAAAAAAAAAAAABAQAAAAAAAAABAAABAQEAAAAAAAAAAAEAAAAAAAAAAAAAAAAAAAAAAAAAAAAAAAAAAAAAAAAAAAAAAAAAAAAAAAAAAAAAAAAAAAAAAAAAAAAAAAAAAAABAAEAAAAAAAAAAAAAAAAAAAAAAAAAAAAAAAAAAAAAAAAAAAAAAAAAAAAAAAAAAAAAAAAAAAAAAAAAAAAAAAAAAAAAAAAAAAAAAAAAAAAAAAAAAAAAAAAAAAAAAAAAAAAAAAAAAAAAAAAAAAAAAAAAAAAAAAAAAAAAAAAAAAAAAAAAAAAAAAAAAAAAAAAAAAAAAAAAAAAAAAAAAAAAAAAAAAAAAAAAAAAAAAAAAAAAAAAAAAAAAAAAAAAAAAAAAAAAAAAAAAAAAAAAAAAAAAAAAAAAAAAAAAAAAAAAAAAAAAAAAAAAAAAAAAAAAAAAAAAAAAAAAAAAAAAAAAAAAAAAAAAAAAAAAAAAAAAAAAAAAAAAAAAAAAAAAAAAAAAAAAAAAAAAAAAAAAAAAAAAAAAAAAAAAAAAAAAAAAAAAAEAAAABAAAAAAAAAAAAAAAAAAEAAAAAAAAAAAAAAAAAAAAAAAEAAAAAAAAAAAAAAAAAAAAAAAAAAAAAAAAAAAAAAAAAAAABAAAAAAAAAAAAAAAAAAAAAAAAAAAAAAAAAAAAAAAAAAAAAAAAAAAAAAAAAAAAAAAAAAAAAAAAAAAAAAAAAAAAAAAAAAAAAAAAAAAAAAAAAAAAAAAAAAAAAAAAAAAAAAAAAAAAAAAAAAAAAAAAAAAAAAAAAAAAAAAAAAAAAAAAAAAAAAAAAAAAAAAAAAAAAAAAAAAAAAAAAAAAAAAAAAAAAAAAAAAAAAAAAAAAAAAAAAAAAAAAAAAAAAAAAAAAAAAAAAAAAAAAAAAAAAAAAAAAAAAAAAAAAAAAAAAAAAAAAAAAAAAAAAAAAAAAAAAAAAAAAAAAAAAAAAAAAAAAAAAAAAAAAAAAAAAAAAAAAAAAAAAAAAAAAAAAAAAAAAAAAAAAAAAAAAAAAAAAAAAAAAAAAAAAAAAAAAAAAAAAAAAAAQAAAAAAAAAAAAAAAAAAAAAAAAAAAAAAAAAAAAAAAAAAAAAAAAAAAAAAAAEAAAAAAAAAAAEAAAAAAAAAAAAAAAAAAAAAAAAAAAAAAAEAAAAAAAAAAAAAAAAAAAAAAAAAAAAAAAAAAAABAAAAAAAAAAAAAAAAAAAAAAAAAAAAAAAAAAAAAAAAAQAAAAAAAAEBAAAAAAAAAAABAAEAAAAAAAAAAAAAAAABAAAAAAAAAAAAAAAAAAEAAAAAAAAAAAAAAAAAAAAAAAAAAAAAAAAAAAAAAAAAAQAAAAAAAAAAAAAAAAAAAAAAAAAAAAAAAAAAAAAAAAAAAAAAAAAAAAAAAAAAAAAAAAAAAAAAAAAAAAAAAAAAAAAAAAAAAAAAAAAAAAAAAAAAAAAAAAAAAAAAAAAAAAAAAAAAAAAAAAAAAAAAAAAAAAAAAAAAAAAAAAAAAAAAAAAAAAAAAAAAAAAAAAAAAAAAAAAAAAAAAAAAAAAAAAAAAAAAAAAAAAEAAAAAAAAAAAAAAAAAAAAAAAAAAAAAAAAAAAAAAAAAAAAAAAAAAAAAAAAAAQAAAAAAAAAAAAAAAAAAAAAAAAAAAAAAAAAAAAAAAAAAAAAAAAAAAAAAAAAAAAAAAAAAAAAAAAAAAAAAAAAAAAAAAAAAAAAAAAAAAAAAAAAAAAAAAAAAAAAAAAAAAAAAAAAAAAAAAAAAAAAAAAAAAAAAAAAAAAAAAAAAAAAAAAAAAAAAAAAAAAAAAAAAAAAAAAAAAAAAAAAAAAEAAAAAAAAAAAAAAAABAAEAAAABAAAAAAAAAAABAAAAAAAAAAAAAAAAAAAAAAAAAAAAAAAAAAAAAAAAAAAAAAAAAAAAAAAAAAAAAAEAAAAAAAEAAAAAAAAAAAAAAAAAAAAAAAAAAAAAAAAAAAAAAAAAAAAAAAAAAAAAAAAAAAAAAAAAAAAAAAAAAAAAAAAAAAAAAQAAAAAAAAAAAAAAAAAAAAAAAAEAAAAAAAAAAAAAAAAAAAAAAAAAAAAAAAAAAAAAAAAAAAAAAAAAAAAAAAAAAAAAAAAAAAAAAAAAAAAAAAAAAAAAAAAAAAAAAAAAAAAAAAAAAAAAAAAAAAAAAAAAAAAAAAAAAAAAAAAAAAAAAAAAAAAAAAAAAAAAAAAAAAAAAAAAAAAAAAAAAAAAAAAAAAAAAAAAAAAAAAAAAAAAAAAAAAAAAAAAAAAAAAAAAAAAAAAAAAAAAAAAAAAAAAAAAAAAAAAAAAAAAAAAAAAAAAAAAAAAAAAAAAAAAAAAAQAAAAAAAAEAAAAAAAAAAAABAAAAAAAAAAAAAAAAAAAAAAAAAAAAAAAAAAAAAAAAAAAAAAAAAAAAAAAAAAAAAAAAAAAAAAAAAAAAAAAAAAABAAAAAAAAAAAAAAAAAAAAAAAAAAAAAAAAAAAAAAAAAAAAAAAAAAAAAAAAAAEBAQAAAQAAAAABAAEBAQEBAQAAAAABAAEAAAABAQABAQAAAAAAAAAAAAAAAAEAAAAAAAABAAAAAAAAAAAAAAAAAAEAAAAAAAAAAAAAAAAAAQAAAAAAAAAAAAABAAAAAAAAAAABAQAAAQAAAAAAAQAAAQEBAAABAAAAAAAAAAAAAAEAAAEAAAAAAAAAAAAAAAABAAABAAAAAQAAAAAAAAAAAAAAAAAAAAAAAAAAAAAAAAAAAAAAAAAAAAAAAAAAAAAAAAAAAAAAAAAAAAAAAAAAAAAAAAAAAAAAAAAAAAAAAAAAAAAAAAAAAAAAAAAAAAAAAAAAAAAAAAAAAAAAAAAAAAAAAAAAAAAAAAAAAAAAAAAAAAAAAAAAAAAAAAAAAAAAAAAAAAAAAAABAAAAAAAAAAAAAAEAAAAAAAAAAAAAAAAAAAAAAAAAAAAAAAAAAAAAAAAAAAABAAEAAAABAAAAAQAAAQABAAAAAQAAAAAAAAAAAAAAAAAAAAEAAAAAAAEBAAAAAAAAAAAAAAAAAAAAAAAAAAAAAAAAAAAAAAAAAAAAAAAAAAAAAAAAAAAAAAAAAAAAAAAAAAAAAAAAAAAAAAAAAQAAAAAAAQAAAQAAAAAAAAAAAAABAAEAAAAAAQAAAAAAAAEAAAAAAAABAAAAAAAAAAEBAQABAQAAAAEBAAAAAAAAAAAAAAAAAAAAAAAAAAAAAAAAAAAAAAAAAAAAAAAAAAAAAAAAAAAAAAAAAAAAAAAAAAAAAAAAAAAAAAAAAAAAAAAAAAAAAAAAAAAAAAAAAAAAAAAAAAAAAAAAAAAAAAAAAQAAAAABAAAAAAAAAAAAAAAAAQEAAAAAAAEAAQEAAAAAAAAAAAAAAAAAAAAAAAEAAAAAAQAAAAAAAAAAAQABAQEAAAAAAAAAAAAAAQABAAEAAAABAAEBAAAAAAAAAAAAAAAAAAAAAAABAAAAAAAAAAAAAAAAAAEAAQEAAAAAAAAAAQAAAAAAAAAAAAAAAAAAAAAAAAAAAAAAAAAAAAAAAAAAAAAAAAAAAAAAAAAAAAAAAAAAAAAAAAABAAAAAAAAAAAAAAAAAAAAAAAAAAAAAAAAAAAAAAAAAAAAAAAAAAAAAAAAAAAAAAAAAAAAAAAAAAABAAAAAAABAQEBAAAAAAEAAAABAAEAAAEAAAAAAAAAAAABAQEAAAEAAAAAAAEBAQEBAAABAAEBAQEAAAEAAAAAAAAAAAAAAQAAAQAAAAABAAAAAAAAAAABAAAAAAABAAAAAAAAAAAAAAEAAAEAAQABAAAAAAAAAAAAAAAAAAAAAAAAAAAAAAABAAAAAAAAAAAAAAAAAAAAAAAAAAAAAAAAAAAAAAAAAAAAAAEAAQAAAAAAAAABAAAAAAAAAAAAAAAAAAAAAAAAAAAAAAAAAAAAAAAAAAAAAAAAAAAAAAAAAAABAAAAAAAAAAAAAAAAAAAAAAAAAAAAAAAAAAAAAAEAAAAAAAAAAAAAAAAAAAABAAAAAAAAAAAAAQAAAAAAAQAAAAAAAAAAAAAAAAAAAAAAAAAAAAAAAAEAAAAAAAAAAAAAAAAAAAAAAAABAQAAAAAAAAAAAAAAAAAAAAEAAAAAAAAAAQAAAAAAAAAAAAAAAAAAAAAAAAAAAAAAAAAAAAABAAAAAAAAAAAAAAAAAAAAAAAAAAAAAAAAAAAAAAAAAAAAAAAAAAAAAAAAAAAAAAAAAAAAAAAAAAAAAAAAAQABAAEBAAAAAAEAAQABAQABAQAAAAEAAAEBAAEBAAEAAAAAAAAAAAAAAAAAAAAAAAAAAAAAAAAAAAAAAAAAAAAAAQAAAAAAAAAAAAAAAAAAAAEAAAAAAAAAAAAAAAAAAAEAAAAAAAABAAAAAQAAAAAAAAAAAAAAAAAAAAAAAAAAAAAAAAAAAAAAAAEAAAAAAAAAAAAAAQAAAAAAAAAAAAAAAAAAAAEAAQAAAAAAAAAAAAAAAAABAAAAAAAAAAAAAAAAAAAAAAAAAAAAAAABAAAAAQAAAAAAAAAAAAAAAAAAAAAAAAAAAAAAAAAAAAAAAAAAAAAAAAAAAAAAAAAAAAAAAAAAAAAAAAAAAAAAAAEAAAAAAAAAAAAAAAAAAAABAAEAAAAAAAAAAAAAAAAAAAAAAAAAAAAAAAAAAQAAAAAAAAAAAAAAAAAAAAAAAAAAAAAAAAAAAAAAAAAAAAAAAAAAAAAAAAAAAAAAAAAAAAAAAAAAAAAAAAAAAAABAAAAAAAAAAAAAAAAAAAAAAAAAAAAAAAAAAAAAAAAAAAAAAAAAAAAAAAAAAAAAAAAAAAAAAAAAAAAAAAAAAAAAAAAAAAAAAAAAAAAAAAAAAEAAAAAAAAAAAAAAAAAAAAAAAAAAAAAAAAAAQAAAAAAAAAAAAAAAAAAAAAAAAAAAAAAAAAAAAAAAAAAAAAAAAAAAAAAAAAAAAAAAAAAAAAAAAAAAAAAAAAAAAAAAAAAAAAAAAAAAAAAAAAAAAAAAAAAAAAAAAAAAAAAAAAAAAAAAAAAAAAAAAAAAAAAAAAAAAAAAAABAAAAAAAAAAAAAAAAAAEAAAAAAAAAAAAAAAAAAAAAAAAAAAAAAAAAAAAAAQAAAAAAAAAAAAAAAAAAAAAAAAAAAAAAAAAAAAAAAAAAAAAAAAAAAAAAAAAAAAAAAAAAAAAAAAAAAAAAAAAAAAAAAAAAAQAAAAABAAEBAAAAAAAAAAAAAAAAAAAAAAAAAAAAAAAAAAAAAAAAAAAAAAAAAAAAAAAAAAAAAAAAAAAAAAAAAAAAAAAAAAAAAAAAAAAAAAAAAAAAAAAAAQAAAAAAAAAAAAAAAAEAAAAAAAAAAAAAAAAAAAAAAAAAAAAAAAAAAAAAAAAAAAAAAAAAAAAAAAAAAAAAAAAAAAAAAAAAAAAAAAAAAAAAAAAAAAAAAAAAAAAAAAAAAAAAAAAAAAAAAAAAAAAAAAAAAAABAAAAAAAAAAAAAAAAAAAAAAAAAAAAAAAAAAEAAAAAAAAAAAAAAAAAAAAAAAAAAAAAAAAAAAEAAQEBAQAAAQAAAAAAAAAAAAAAAAAAAAAAAAAAAAAAAAAAAAAAAAAAAAAAAAAAAAAAAAAAAAAAAAAAAAAAAAAAAAAAAAAAAAAAAAAAAAAAAAAAAAAAAAAAAAAAAAAAAAAAAAAAAAEAAAAAAAAAAAAAAAAAAAAAAAAAAAAAAAAAAAAAAAAAAAAAAAAAAAAAAAAAAAAAAAAAAAAAAAAAAAAAAAAAAAEAAAAAAAAAAAAAAAAAAAAAAAAAAAAAAAAAAAAAAAAAAAAAAAAAAAAAAAAAAAAAAAAAAAAAAAAAAAAAAAAAAAAAAAAAAAAAAAAAAAAAAAAAAAAAAAAAAAAAAAAAAAAAAAAAAAAAAAAAAAAAAAAAAAABAAAAAAAAAAAAAAAAAAAAAAAAAAAAAAAAAAAAAAAAAAAAAAEAAAAAAAAAAAAAAAAAAAAAAAAAAAAAAAAAAAAAAAAAAAAAAAAAAAAAAAAAAAAAAAAAAAAAAAAAAAAAAAAAAAAAAAAAAAAAAAAAAAAAAAAAAAAAAAAAAAAAAAAAAAAAAAAAAAAAAAAAAAAAAAAAAAAAAAAAAAAAAAAAAAAAAAAAAAAAAAAAAAAAAAAAAAAAAAAAAAAAAAAAAAAAAAAAAAAAAAAAAAAAAAAAAAAAAAAAAAAAAAAAAAAAAAAAAAAAAAAAAAAAAAAAAAAAAAAAAAAAAAAAAAAAAAAAAAAAAAAAAAAAAAAAAAAAAAAAAAAAAAAAAAAAAAAAAAAAAAAAAAAAAAAAAAAAAAAAAAAAAAAAAAAAAAAAAAAAAAAAAAAAAAAAAAAAAAAAAAAAAQAAAAAAAAAAAAAAAAAAAAAAAAAAAAAAAAAAAAAAAAAAAAAAAAAAAAAAAAAAAAAAAAAAAAAAAAAAAAAAAAAAAAAAAAAAAAAAAAAAAAAAAAAAAAAAAAAAAAAAAAAAAAAAAAAAAAAAAAAAAAAAAAAAAAAAAAAAAAAAAAAAAAAAAAAAAAAAAAAAAAAAAAAAAAAAAAAAAAAAAAAAAAAAAAAAAAAAAAAAAAAAAAAAAAAAAAAAAAAAAAAAAAAAAAAAAAAAAAAAAAAAAAAAAAAAAAAAAAAAAAEAAQAAAAAAAAAAAAAAAAAAAAAAAAAAAAAAAAAAAAEBAAABAAABAAEBAAAAAAAAAAAAAAAAAAAAAAAAAAAAAAAAAAAAAAAAAAAAAAAAAAAAAQAAAAAAAAAAAAAAAAAAAAAAAAAAAAAAAAAAAAAAAAAAAAAAAAAAAAAAAAEAAAAAAAAAAAAAAAEAAAAAAAAAAAAAAAAAAAAAAAAAAAAAAAAAAAAAAAAAAAEAAAAAAAAAAAAAAAAAAAAAAAAAAAAAAAAAAAAAAAAAAAAAAAAAAAAAAAAAAAAAAAAAAAAAAAAAAAAAAAAAAAAAAAAAAAAAAAAAAAAAAAAAAAAAAAAAAAAAAAAAAAAAAAAAAAAAAAAAAAAAAAAAAQAAAAAAAAAAAAABAAAAAAAAAAAAAAAAAAAAAAA=",
          "dtype": "i1"
         },
         "xaxis": "x",
         "yaxis": "y"
        }
       ],
       "layout": {
        "barmode": "relative",
        "legend": {
         "tracegroupgap": 0
        },
        "margin": {
         "t": 60
        },
        "template": {
         "data": {
          "bar": [
           {
            "error_x": {
             "color": "#2a3f5f"
            },
            "error_y": {
             "color": "#2a3f5f"
            },
            "marker": {
             "line": {
              "color": "#E5ECF6",
              "width": 0.5
             },
             "pattern": {
              "fillmode": "overlay",
              "size": 10,
              "solidity": 0.2
             }
            },
            "type": "bar"
           }
          ],
          "barpolar": [
           {
            "marker": {
             "line": {
              "color": "#E5ECF6",
              "width": 0.5
             },
             "pattern": {
              "fillmode": "overlay",
              "size": 10,
              "solidity": 0.2
             }
            },
            "type": "barpolar"
           }
          ],
          "carpet": [
           {
            "aaxis": {
             "endlinecolor": "#2a3f5f",
             "gridcolor": "white",
             "linecolor": "white",
             "minorgridcolor": "white",
             "startlinecolor": "#2a3f5f"
            },
            "baxis": {
             "endlinecolor": "#2a3f5f",
             "gridcolor": "white",
             "linecolor": "white",
             "minorgridcolor": "white",
             "startlinecolor": "#2a3f5f"
            },
            "type": "carpet"
           }
          ],
          "choropleth": [
           {
            "colorbar": {
             "outlinewidth": 0,
             "ticks": ""
            },
            "type": "choropleth"
           }
          ],
          "contour": [
           {
            "colorbar": {
             "outlinewidth": 0,
             "ticks": ""
            },
            "colorscale": [
             [
              0,
              "#0d0887"
             ],
             [
              0.1111111111111111,
              "#46039f"
             ],
             [
              0.2222222222222222,
              "#7201a8"
             ],
             [
              0.3333333333333333,
              "#9c179e"
             ],
             [
              0.4444444444444444,
              "#bd3786"
             ],
             [
              0.5555555555555556,
              "#d8576b"
             ],
             [
              0.6666666666666666,
              "#ed7953"
             ],
             [
              0.7777777777777778,
              "#fb9f3a"
             ],
             [
              0.8888888888888888,
              "#fdca26"
             ],
             [
              1,
              "#f0f921"
             ]
            ],
            "type": "contour"
           }
          ],
          "contourcarpet": [
           {
            "colorbar": {
             "outlinewidth": 0,
             "ticks": ""
            },
            "type": "contourcarpet"
           }
          ],
          "heatmap": [
           {
            "colorbar": {
             "outlinewidth": 0,
             "ticks": ""
            },
            "colorscale": [
             [
              0,
              "#0d0887"
             ],
             [
              0.1111111111111111,
              "#46039f"
             ],
             [
              0.2222222222222222,
              "#7201a8"
             ],
             [
              0.3333333333333333,
              "#9c179e"
             ],
             [
              0.4444444444444444,
              "#bd3786"
             ],
             [
              0.5555555555555556,
              "#d8576b"
             ],
             [
              0.6666666666666666,
              "#ed7953"
             ],
             [
              0.7777777777777778,
              "#fb9f3a"
             ],
             [
              0.8888888888888888,
              "#fdca26"
             ],
             [
              1,
              "#f0f921"
             ]
            ],
            "type": "heatmap"
           }
          ],
          "histogram": [
           {
            "marker": {
             "pattern": {
              "fillmode": "overlay",
              "size": 10,
              "solidity": 0.2
             }
            },
            "type": "histogram"
           }
          ],
          "histogram2d": [
           {
            "colorbar": {
             "outlinewidth": 0,
             "ticks": ""
            },
            "colorscale": [
             [
              0,
              "#0d0887"
             ],
             [
              0.1111111111111111,
              "#46039f"
             ],
             [
              0.2222222222222222,
              "#7201a8"
             ],
             [
              0.3333333333333333,
              "#9c179e"
             ],
             [
              0.4444444444444444,
              "#bd3786"
             ],
             [
              0.5555555555555556,
              "#d8576b"
             ],
             [
              0.6666666666666666,
              "#ed7953"
             ],
             [
              0.7777777777777778,
              "#fb9f3a"
             ],
             [
              0.8888888888888888,
              "#fdca26"
             ],
             [
              1,
              "#f0f921"
             ]
            ],
            "type": "histogram2d"
           }
          ],
          "histogram2dcontour": [
           {
            "colorbar": {
             "outlinewidth": 0,
             "ticks": ""
            },
            "colorscale": [
             [
              0,
              "#0d0887"
             ],
             [
              0.1111111111111111,
              "#46039f"
             ],
             [
              0.2222222222222222,
              "#7201a8"
             ],
             [
              0.3333333333333333,
              "#9c179e"
             ],
             [
              0.4444444444444444,
              "#bd3786"
             ],
             [
              0.5555555555555556,
              "#d8576b"
             ],
             [
              0.6666666666666666,
              "#ed7953"
             ],
             [
              0.7777777777777778,
              "#fb9f3a"
             ],
             [
              0.8888888888888888,
              "#fdca26"
             ],
             [
              1,
              "#f0f921"
             ]
            ],
            "type": "histogram2dcontour"
           }
          ],
          "mesh3d": [
           {
            "colorbar": {
             "outlinewidth": 0,
             "ticks": ""
            },
            "type": "mesh3d"
           }
          ],
          "parcoords": [
           {
            "line": {
             "colorbar": {
              "outlinewidth": 0,
              "ticks": ""
             }
            },
            "type": "parcoords"
           }
          ],
          "pie": [
           {
            "automargin": true,
            "type": "pie"
           }
          ],
          "scatter": [
           {
            "fillpattern": {
             "fillmode": "overlay",
             "size": 10,
             "solidity": 0.2
            },
            "type": "scatter"
           }
          ],
          "scatter3d": [
           {
            "line": {
             "colorbar": {
              "outlinewidth": 0,
              "ticks": ""
             }
            },
            "marker": {
             "colorbar": {
              "outlinewidth": 0,
              "ticks": ""
             }
            },
            "type": "scatter3d"
           }
          ],
          "scattercarpet": [
           {
            "marker": {
             "colorbar": {
              "outlinewidth": 0,
              "ticks": ""
             }
            },
            "type": "scattercarpet"
           }
          ],
          "scattergeo": [
           {
            "marker": {
             "colorbar": {
              "outlinewidth": 0,
              "ticks": ""
             }
            },
            "type": "scattergeo"
           }
          ],
          "scattergl": [
           {
            "marker": {
             "colorbar": {
              "outlinewidth": 0,
              "ticks": ""
             }
            },
            "type": "scattergl"
           }
          ],
          "scattermap": [
           {
            "marker": {
             "colorbar": {
              "outlinewidth": 0,
              "ticks": ""
             }
            },
            "type": "scattermap"
           }
          ],
          "scattermapbox": [
           {
            "marker": {
             "colorbar": {
              "outlinewidth": 0,
              "ticks": ""
             }
            },
            "type": "scattermapbox"
           }
          ],
          "scatterpolar": [
           {
            "marker": {
             "colorbar": {
              "outlinewidth": 0,
              "ticks": ""
             }
            },
            "type": "scatterpolar"
           }
          ],
          "scatterpolargl": [
           {
            "marker": {
             "colorbar": {
              "outlinewidth": 0,
              "ticks": ""
             }
            },
            "type": "scatterpolargl"
           }
          ],
          "scatterternary": [
           {
            "marker": {
             "colorbar": {
              "outlinewidth": 0,
              "ticks": ""
             }
            },
            "type": "scatterternary"
           }
          ],
          "surface": [
           {
            "colorbar": {
             "outlinewidth": 0,
             "ticks": ""
            },
            "colorscale": [
             [
              0,
              "#0d0887"
             ],
             [
              0.1111111111111111,
              "#46039f"
             ],
             [
              0.2222222222222222,
              "#7201a8"
             ],
             [
              0.3333333333333333,
              "#9c179e"
             ],
             [
              0.4444444444444444,
              "#bd3786"
             ],
             [
              0.5555555555555556,
              "#d8576b"
             ],
             [
              0.6666666666666666,
              "#ed7953"
             ],
             [
              0.7777777777777778,
              "#fb9f3a"
             ],
             [
              0.8888888888888888,
              "#fdca26"
             ],
             [
              1,
              "#f0f921"
             ]
            ],
            "type": "surface"
           }
          ],
          "table": [
           {
            "cells": {
             "fill": {
              "color": "#EBF0F8"
             },
             "line": {
              "color": "white"
             }
            },
            "header": {
             "fill": {
              "color": "#C8D4E3"
             },
             "line": {
              "color": "white"
             }
            },
            "type": "table"
           }
          ]
         },
         "layout": {
          "annotationdefaults": {
           "arrowcolor": "#2a3f5f",
           "arrowhead": 0,
           "arrowwidth": 1
          },
          "autotypenumbers": "strict",
          "coloraxis": {
           "colorbar": {
            "outlinewidth": 0,
            "ticks": ""
           }
          },
          "colorscale": {
           "diverging": [
            [
             0,
             "#8e0152"
            ],
            [
             0.1,
             "#c51b7d"
            ],
            [
             0.2,
             "#de77ae"
            ],
            [
             0.3,
             "#f1b6da"
            ],
            [
             0.4,
             "#fde0ef"
            ],
            [
             0.5,
             "#f7f7f7"
            ],
            [
             0.6,
             "#e6f5d0"
            ],
            [
             0.7,
             "#b8e186"
            ],
            [
             0.8,
             "#7fbc41"
            ],
            [
             0.9,
             "#4d9221"
            ],
            [
             1,
             "#276419"
            ]
           ],
           "sequential": [
            [
             0,
             "#0d0887"
            ],
            [
             0.1111111111111111,
             "#46039f"
            ],
            [
             0.2222222222222222,
             "#7201a8"
            ],
            [
             0.3333333333333333,
             "#9c179e"
            ],
            [
             0.4444444444444444,
             "#bd3786"
            ],
            [
             0.5555555555555556,
             "#d8576b"
            ],
            [
             0.6666666666666666,
             "#ed7953"
            ],
            [
             0.7777777777777778,
             "#fb9f3a"
            ],
            [
             0.8888888888888888,
             "#fdca26"
            ],
            [
             1,
             "#f0f921"
            ]
           ],
           "sequentialminus": [
            [
             0,
             "#0d0887"
            ],
            [
             0.1111111111111111,
             "#46039f"
            ],
            [
             0.2222222222222222,
             "#7201a8"
            ],
            [
             0.3333333333333333,
             "#9c179e"
            ],
            [
             0.4444444444444444,
             "#bd3786"
            ],
            [
             0.5555555555555556,
             "#d8576b"
            ],
            [
             0.6666666666666666,
             "#ed7953"
            ],
            [
             0.7777777777777778,
             "#fb9f3a"
            ],
            [
             0.8888888888888888,
             "#fdca26"
            ],
            [
             1,
             "#f0f921"
            ]
           ]
          },
          "colorway": [
           "#636efa",
           "#EF553B",
           "#00cc96",
           "#ab63fa",
           "#FFA15A",
           "#19d3f3",
           "#FF6692",
           "#B6E880",
           "#FF97FF",
           "#FECB52"
          ],
          "font": {
           "color": "#2a3f5f"
          },
          "geo": {
           "bgcolor": "white",
           "lakecolor": "white",
           "landcolor": "#E5ECF6",
           "showlakes": true,
           "showland": true,
           "subunitcolor": "white"
          },
          "hoverlabel": {
           "align": "left"
          },
          "hovermode": "closest",
          "mapbox": {
           "style": "light"
          },
          "paper_bgcolor": "white",
          "plot_bgcolor": "#E5ECF6",
          "polar": {
           "angularaxis": {
            "gridcolor": "white",
            "linecolor": "white",
            "ticks": ""
           },
           "bgcolor": "#E5ECF6",
           "radialaxis": {
            "gridcolor": "white",
            "linecolor": "white",
            "ticks": ""
           }
          },
          "scene": {
           "xaxis": {
            "backgroundcolor": "#E5ECF6",
            "gridcolor": "white",
            "gridwidth": 2,
            "linecolor": "white",
            "showbackground": true,
            "ticks": "",
            "zerolinecolor": "white"
           },
           "yaxis": {
            "backgroundcolor": "#E5ECF6",
            "gridcolor": "white",
            "gridwidth": 2,
            "linecolor": "white",
            "showbackground": true,
            "ticks": "",
            "zerolinecolor": "white"
           },
           "zaxis": {
            "backgroundcolor": "#E5ECF6",
            "gridcolor": "white",
            "gridwidth": 2,
            "linecolor": "white",
            "showbackground": true,
            "ticks": "",
            "zerolinecolor": "white"
           }
          },
          "shapedefaults": {
           "line": {
            "color": "#2a3f5f"
           }
          },
          "ternary": {
           "aaxis": {
            "gridcolor": "white",
            "linecolor": "white",
            "ticks": ""
           },
           "baxis": {
            "gridcolor": "white",
            "linecolor": "white",
            "ticks": ""
           },
           "bgcolor": "#E5ECF6",
           "caxis": {
            "gridcolor": "white",
            "linecolor": "white",
            "ticks": ""
           }
          },
          "title": {
           "x": 0.05
          },
          "xaxis": {
           "automargin": true,
           "gridcolor": "white",
           "linecolor": "white",
           "ticks": "",
           "title": {
            "standoff": 15
           },
           "zerolinecolor": "white",
           "zerolinewidth": 2
          },
          "yaxis": {
           "automargin": true,
           "gridcolor": "white",
           "linecolor": "white",
           "ticks": "",
           "title": {
            "standoff": 15
           },
           "zerolinecolor": "white",
           "zerolinewidth": 2
          }
         }
        },
        "xaxis": {
         "anchor": "y",
         "domain": [
          0,
          1
         ],
         "title": {
          "text": "boredom"
         }
        },
        "yaxis": {
         "anchor": "x",
         "domain": [
          0,
          1
         ],
         "title": {
          "text": "count"
         }
        }
       }
      }
     },
     "metadata": {},
     "output_type": "display_data"
    }
   ],
   "source": [
    "px.histogram(df_binary,\n",
    "             'boredom')"
   ]
  },
  {
   "cell_type": "code",
   "execution_count": 12,
   "id": "b0d4574c",
   "metadata": {},
   "outputs": [
    {
     "data": {
      "application/vnd.plotly.v1+json": {
       "config": {
        "plotlyServerURL": "https://plot.ly"
       },
       "data": [
        {
         "bingroup": "x",
         "hovertemplate": "engagement=%{x}<br>count=%{y}<extra></extra>",
         "legendgroup": "",
         "marker": {
          "color": "#636efa",
          "pattern": {
           "shape": ""
          }
         },
         "name": "",
         "orientation": "v",
         "showlegend": false,
         "type": "histogram",
         "x": {
          "bdata": "AgIDAwMCAwIDAwIDAwMDAwMDAwMDAwMDAwMDAwMDAwMDAgMDAgMDAwMDAwMDAwMDAwMDAwMDAwMDAwMDAwMCAwMDAwMDAwMDAwMDAwMDAwMDAgMDAwMDAwMDAwMDAwMDAgIDAgMDAwMDAwMDAwMDAwMDAgECAgIDAwMBAwIDAwECAwMDAgICAwMDAwMCAwMDAwMCAgMCAgICAwIDAwMCAgICAgIDAgIDAgICAgICAwMBAgIBAwIDAgIDAgICAgICAQICAgICAgECAwICAgICAgICAgEBAwICAgICAgMCAgMCAgIDAgIBAgICAwMCAwMCAwMDAwICAwICAgIDAgECAgICAwICAgICAgICAgMCAgICAgICAwICAwICAwMDAgMCAgICAwICAwICAgIDAgIDAwIDAwMCAwMDAgIDAgICAwMDAwMDAgICAgMDAwEDAgMCAgICAgIBAgECAwICAgICAgICAwMCAgIDAwICAgMCAgIDAgMCAwICAgIDAgICAgICAgMDAgIDAgICAwICAwICAgICAwICAwIDAgICAwIDAwICAwIDAgICAgICAwMDAwMCAwMCAgICAwIDAwICAgICAgMCAgICAgIDAwICAgICAgIDAgMCAgIDAwICAgIDAgICAgMCAwICAgICAgIDAgIDAwICAgMCAgICAgIDAwMDAgICAwMCAgIDAgICAgICAgICAwMCAwIDAgIBAwMBAwMDAgIDAgIDAwMDAgIDAgIDAwMCAwMCAwICAwICAgMCAwMDAgMCAwMCAgIDAgMDAwIDAwMDAwMDAwMCAwMCAgMCAgMCAwICAwIDAwICAwMDAgMCAwMCAwICAgMCAgICAwMDAgMDAwMDAgIDAwMCAgMCAgMDAgMCAwMDAwICAgIDAwIDAgIBAwIDAwMDAAMDAgMDAgIDAgIDAgIBAgIDAgICAgMBAgICAgICAgICAwICAgMCAgICAgMDAgIDAgICAgICAwICAgICAgMCAgIDAgMCAgMBAwMCAwICAgMDAgICAgMDAwICAgIDAwICAQICAwICAgICAgMDAgICAgMCAwMCAgMDAgICAwICAwMCAwECAgIDAgICAgEDAgIBAwMCAgICAwECAwICAgICAgICAQICAgICAAIDAwMCAgMCAwMCAgICAgICAgMDAwICAgIDAQECAgECAgACAgACAgMCAgICAgIDAgICAgIDAwMCAgICAgMCAQMDAwICAwIDAgMCAgIDAwICAgICAQICAgIBAwICAgICAwIBAQMCAgIBAwIBAwICAwIDAwMCAgMCAwMCAgIDAwMCAgIDAgIAAQIBAgIDAQIDAgICAgABAwEDAAIDAgICAwECAgACAwMCAwICAQMDAgICAgIDAgEDAgMDAgMCAgECAgICAwIDAgICAwIDAgICAwIDAwICAgMCAwMDAgMCAgACAgMCAgICAgIDAwMDAwMCAgIDAgMCAgICAwMCAQEDAwMCAgMDAwMDAgIDAgICAwICAwIDAwMDAwMDAwMDAwIDAwIDAwMDAwICAwMDAwMDAgMCAgMCAwMDAgMDAgMDAwIDAwMCAgICAgIDAgICAgICAwMCAwICAgIDAgMDAwICAgIDAgICAwICAgECAwMCAgMBAwMDAgIDAwIDAwMDAgIBAgMDAgMDAwMDAwICAwICAwICAwIDAgIDAgIDAwMCAwIDAwMCAgICAgMCAwMCAgICAwICAgIDAgIDAwMDAgICAQMDAgMCAgICAgECAgICAgICAgICAQICAgICAgICAwMCAwICAgMDAwMCAwMCAwIDAwMCAgICAgIDAwICAgMCAgICAwMCAwMCAgICAgICAwMDAgMCAgMDAgICAgICAwMCAgIDAwMDAwIDAgMCAwIDAgMCAgMCAgICAgICAwMDAwICAwACAgMDAgICAwMCAgMDAgICAwMCAgMCAwIDAgIBAwMDAwMDAwIDAgMDAgICAgICAwMDAgIDAwMCAwIDAwMCAwMCAgMDAwICAwIDAwIDAgMCAgMDAgICAgMDAgICAgMCAwICAwMCAwIDAwIDAwECAwMDAwIDAwMDAgMDAgICAwMDAgMDAgMDAgMDAwICAwMDAgICAwICAwICAQMDAgMDAwMDAQIDAwMDAgICAgMDAgIDAgICAgICAgMCAgEDAgIDAgIDAgICAwICAgICAgICAgICAwICAgICAgIDAgMCAwIDAgIDAgIDAgMCAgICAgMCAgMDAwIDAgICAgICAgICAgICAwICAgIDAwICAgICAwICAgIDAgMDAwICAwMDAgMDAgIDAwMCAwMCAgMDAgICAwMCAgMCAwMDAwMCAwIDAwIBAwIDAwIDAgMCAgMDAwICAgIDAwMDAwMCAwMCAgIDAgICAgICAQMCAgACAwMDAwMCAgIDAgIDAgMCAgMCAwMCAwMDAgIDAwMDAgMDAwIDAwMCAgACAwECAwICAgMDAwIDAgIDAgIDAgECAgECAgICAQICAgIDAwICAwICAwMCAwICAgICAwIDAwMCAgICAwICAwIDAgICAgICAwICAgICAwICAgMCAwICAwMDAwMCAwMDAgICAgIDAgMCAwEDAwICAwMCAwIBAgICAgICAgMDAgIDAwMDAgMCAwMCAgMDAwIDAwICAwMDAwIDAwMCAwIDAwMDAgMCAwMDAwIDAwMDAQIBAgIDAgICAwMDAgICAwICAgMDAgICAwICAwMDAgMCAQIBAwICAgMCAgICAgECAQICAgICAgICAgECAwMDAQMDAgMBAgICAgMCAgICAQICAwICAgICAwICAwMDAgMCAgMCAwIDAwIDAwMDAgIBAgMCAgICAgICAwICAgMCAwICAgIDAwMDAwIDAwECAgICAwIDAgICAQMCAgICAwICAwMCAwMDAwECAgMCAgMCAgICAwMCAgICAgICAgMDAwMCAgMDAgICAgICAgICAwIDAgIDAwMCAgMCAgICAgICAgIDAwECAgMCAgIDAgIAAwIAAAAAAAEAAwICAwMDAwMDAwMCAgMCAgMCAwIDAgICAgMDAwICAgMCAwIDAgEDAwIDAwMDAwMDAgMCAgMDAwMDAwMDAwMDAwMDAgMDAwIDAwMDAgMCAgMDAwIDAwMCAwMCAwIDAwIDAwMCAgICAwMCAwIDAgMCAwICAgIDAgICAgMCAwICAwMDAgICAgMCAwMBAgMCAwMBAwICAgICAgIDAgIDAwIDAwIDAwMDAwMDAgICAgIDAgMCAwMCAwMDAgMDAwICAwICAgICAgMCAgMCAgICAwICAwICAgMCAwICAgIDAgICAgIAAgMCAgMDAwIDAgMCAgICAgMDAgMCAgMDAwMCAgIDAwMDAwICAgIDAgMDAwECAgIDAwMCAgMDAgMCAgMCAwIDAwIDAgMDAgIDAgMCAwMDAgIDAgICAwMCAgMCAwMCAgIDAwEDAwMDAwMDAwMDAgIDAgMCAgMCAwMCAgMCAwMDAwMDAgMDAwMDAwICAwMDAgICAgMCAwIDAgICAgICAwICAgICAgICAwICAgMCAgMDAQICAgICAgECAwIDAgIBAgICAgMCAwMDAgMDAgMDAwIDAwMDAwMDAwMDAwMDAwMDAgMDAgIDAwMDAgMDAwMCAwICAwMDAwIBAgIDAwICAgICAgIDAwMBAwIDAwICAgIDAwMDAgICAgICAgICAgMDAwICAgMDAgIDAgMCAgIDAwICAgMDAgMDAwMCAwMDAwMDAwICAgICAwMCAgMCAwMDAgMDAgMDAgMDAwICAgIDAwIDAwMCAwIDAgIBAwMDAgMDAwMDAwICAwMDAwMCAgMDAgMDAgMDAgMDAwICAgMCAgICAwMCAwMDAwMCAwMDAgMCAwIDAwIDAgMDAwMDAgICAwIDAgIDAwIDAwMDAgMDAwMDAgIDAwIDAgMCAwMDAgMCAwMCAgIDAgMCAwIDAwMCAwIDAgMDAwMCAgEBAQICAQMCAgIBAwMDAgMCAQMDAgIDAgICAgICAgMCAgECAgICAwIDAQMCAgICAgIDAgICAwICAwICAgICAgMCAwICAgICAgIDAgIDAwICAwICAwICAgIBAwIDAwIDAgICAgMDAQEBAQIDAgICAwIDAgICAgICAgICAgICAgIDAgIDAgMCAgECAgICAgICAwIDAwICAwICAgICAwMDAgIBAgMDAgIDAgICAQICAwICAgICAgMCAwICAwICAwICAwMDAgICAgICAgMCAgICAgICAgIDAwEDAwMDAgMDAwMCAwICAwICAgICAwIDAgICAgMCAgMCAgIDAwICAgICAwIDAwMDAwMCAwMDAgMDAQMCAgICAwMDAwIDAwMCAgIDAwIDAwMDAgMDAwMDAwMDAwICAgMDAgMDAwMDAwMDAwMCAwMCAgMCAgMCAwMDAwMCAgMCAwMDAwMDAwMDAwMDAwMDAwIDAwMDAgICAgICAwMCAwMCAwICAwMCAwMCAwMDAwIDAgMCAgMCAgICAgIDAwICAwIDAwICAwMDAgICAwMDAwMDAwMDAwICAwIDAwMDAgMDAwIDAwMCAgICAwMDAwMDAgMBAgMDAwMCAwIDAwMCAgICAgIDAwMCAgIDAgIDAgMCAgMDAgICAwMCAwICAgICAgICAgIDAQMDAgICAgMDAgICAQABAwADAQICAgIDAQMCAgMCAgIDAgICAgIDAgMDAgICAwEBAgICAgIDAgICAwIDAgICAgIDAgICAgICAgIBAwICAwMCAQICAgICAQIDAgIBAgIDAwICAwMCAgECAwEDAgECAgMCAgICAgEDAQIBAgICAgICAwMCAwMDAgICAgICAwICAgICAwIBAgMCAgIBAwECAgEBAgMCAQICAwICAgICAgICAgICAgICAgICAgICAwMCAgIDAgMCAgIDAwMDAgMCAgICAgICAwICAwMCAgMDAgICAwMCAwMCAwMDAwIDAwIDAgMDAwICAwMCAgMDAwMDAwICAgICAQIDAwMDAwMCAwICAgMCAQIDAQMDAgMCAgMCAwMDAwMDAwMDAgIBAwIDAwMCAwMDAwMDAwMDAgMCAwMDAgICAwICAgMDAwMDAwMCAwMDAgMCAwMCAwMDAwIDAwMDAwMCAwICAwMCAgIDAgMDAwMDAwIDAgIDAwIDAwIDAwMBAwICAgMCAgMCAgMDAwIDAwMDAwIDAgMCAgMCAgEDAwMCAgMCAgICAgMCAgICAgICAwICAgICAwICAwICAgICAgMCAgMCAgICAgICAgIDAgIBAwMCAgICAgICAgIDAwICAgICAwICAgMDAgICAgIDAgICAgMCAwIDAgIDAgMDAgMDAgIDAgICAgICAQICAgMCAwIBAwIBAAMDAwIBAgICAwICAgEDAwACAgECAwAAAgECAgMAAwMDAwMCAwEAAgIDAgMCAgMCAwMCAgICAgICAwMDAgMDAgICAgMCAgIDAwMDAgIDAgMDAgMCAwIDAwECAwECAgICAgMCAwMCAgMDAgICAgMBAwICAwICAwMCAgICAwICAwMCAwICAwIDAgEDAwMDAgMCAgMCAgICAwIDAwMDAwMCAgMCAgMCAwICAwICAgIDAgIDAwICAQMDAwEDAgMCAgMDAwIDAwEDAgIDAwIDAwMCAgMDAgICAgMCAgICAwMBAwMCAwMDAwMCAwIDAwICAgMDAwICAwIDAwMCAwMCAwIDAgMDAgMDAwMDAgMCAwMDAwMDAgMDAwMDAgMDAwICAgMDAwMDAgMDAwMDAwIDAgIDAwMCAwMDAgMCAwMDAgMDAwMDAwIDAwMDAwMCAQIDAAMDAwMDAgIDAgMDAwMDAwMDAwMCAwMDAwMDAgMDAwMDAgMDAwIDAwMDAwMCAwMDAgMCAwICAwIDAQICAQICAgICAgIDAwECAgIDAwIDAwIDAgMCAgMDAgICAwMCAwICAgMDAgICAwICAwICAgIDAgICAwICAgICAgMCAwMCAgIDAgMDAgMDAgIDAgMCAgMCAgICAwIDAgECAgICAwMDAwICAwICAgICAgMDAgIDAgICAQEBAgICAgIBAQADAgMCAQEBAgACAQECAgICAgECAQEAAgIDAQMDAgICAwIBAgEDAgMCAAICAgIDAgICAQMBAgICAgICAgICAwMCAgICAgMCAgICAgMCAQIBAgMCAgMCAgMBAgEDAgICAgICAQICAgMDAwIBAgMCAwICAgECAwICAgMDAwMDAgECAQICAwECAgECAgICAgMCAgECAwMDAgMCAgIDAwMDAwMDAwMDAwMCAgMDAgMDAgIDAwMDAwMCAwMDAQMDAgMBAwMDAwIDAwMCAwMDAwMCAwMDAQMCAgEBAwIDAwMCAgMDAwMDAgMDAwICAwICAwIDAwIDAwMCAwMDAwMDAwMDAgMBAgMDAwIDAgMCAwIDAwMDAwMDAgIDAgMCAwMDAQIDAwMDAwMDAgMDAwMDAgMDAwIDAwMDAgMDAwMDAwMDAwIDAQMDAwMCAwIDAwIDAwIDAgMCAgICAgIDAwICAgICAgECAwICAwMCAgICAgIDAgMCAwICAgIBAAIBAwMCAQICAgMCAgMCAgICAwMCAgMDAgIDAwICAwMCAgICAgIDAwICAwMCAgICAwIDAwMCAgMCAwMCAgIDAwICAgICAgMBAgICAQECAgEAAgICAgICAgIBAwMDAgIAAAIDAgMDAwMAAwIDAwEDAgIBAgICAgECAgMCAQEBAgIAAgMDAgICAgIDAwMDAgMDAwICAgMDAgIDAwMCAgICAwMCAgMCAgIDAwMCAgIDAwICAgMCAgICAgMCAgICAgMCAgICAwIDAgICAgIDAgMCAgMCAwMCAgMDAwIDAwICAgIDAgIDAgMDAwICAgMCAwIDAwIBAgIDAwICAQICAgICAwMCAgICAgMCAgADAgICAQICAgICAgICAgICAwIBAQICAwEBAgICAwIDAAIDAAEDAgICAgICAgICAgIDAgECAgIBAgICAwIBAgMCAgIDAgMCAgIDAgMCAwMCAwMDAgMDAwMCAgEDAQICAwEDAgMBAgICAgMDAgIDAwIDAgIAAwICAwMCAwMCAwIDAwICAgICAgMDAwICAgIBAwMDAgMDAgMCAgICAgIDAgMCAQICAgMDAgMBAwICAgICAgICAgICAwIDAgECAgICAwIDAwMCAQMBAwMCAwIBAwMCAgEDAgICAgICAgIAAQIBAgICAgIDAgICAQICAQICAgIDAwEDAgICAgMBAgICAQECAQMBAQECAgEBAgIBAQICAQICAQICAQICAwMCAAICAQICAgIBAgICAgMCAwICAwICAgICAgICAwIDAgICAgEDAgICAQMBAwIDAwMCAgIDAwICAQMDAgIDAgMCAgICAgICAgMCAQEDAgICAgMCAgIBAgIBAgIDAQMCAgECAgICAgIBAwECAQICAgIBAAICAgICAwIDAgICAgICAgIBAgMCAgICAwICAwICAgECAgICAgICAgMCAgICAwMCAgICAgMDAwECAQIDAQIDAwIDAgMCAgMCAgICAwICAgICAQICAgICAwICAQICAgIBAgICAgMCAgICAAIBAgIBAwICAgICAwICAgIBAgIDAgMCAwMDAwIDAgICAwICAQICAgIDAgIBAQICAQICAgICAgIBAgICAQECAQICAQICAgECAgICAgICAgICAwICAwMCAQECAgIBAgIBAQIBAgICAgICAgIDAgIDAgICAgIDAgICAwIDAwMBAgICAgICAgIDAgIDAgMDAwICAgMDAgMCAwIDAwIDAgIDAQMBAgECAgIDAQACAAEAAAICAQMCAgICAwEAAgIAAQMCAwECAwIDAgIBAwICAgMCAQICAwMDAwMDAgMDAgIDAwIDAQEBAgMDAgMCAgMCAgECAgICAgIDAgMDAwIDAwICAgICAwICAgIDAgMCAgIDAgMDAQICAwICAgMCAwMDAgMCAwICAQIDAgICAQECAQIDAwICAwIDAwICAgICAgICAwICAgMCAgMCAgICAgICAgICAgICAQIDAgIDAwICAgIDAwMBAgICAgIBAgICAgICAgICAgMDAgMCAgMDAwICAwICAgMDAwIDAAMDAwMCAQICAwEBAgECAQICAwIDAgICAwEBAwMDAgIDAwICAwEDAgECAwIDAwICAQMDAQMDAwICAwIDAwEDAgMDAwECAwMCAQMCAwMCAwIDAgIDAgMCAwIDAgMCAgMDAgMDAgIDAwICAwIDAwMDAwMDAQICAgMCAwIDAgMBAgMDAwEDAwEDAAMDAgMCAgICAwIDAgICAwIDAwMCAwMDAwMDAgMDAAMCAwMCAwMDAgIDAwECAwIDAwMDAgICAwMCAwMDAwMDAwMCAgMCAwMDAwMDAwMDAgIDAgMDAgMDAwIDAwIDAwMCAgICAgICAgICAwICAgICAwIDAwIDAQMCAgICAgMCAwMDAwICAgIDAgICAgIDAgMBAgMCAgICAQICAwMDAwICAgICAgMCAwICAgIDAgICAwIDAgMDAgMDAwMCAwMCAgICAgIDAwIDAwMCAgMDAwMCAwMDAgMCAgICAgMCAgMCAgMCAwMDAgMDAgIDAgICAwIDAgMCAwIDAwIDAgICAgIBAQICAgEBAgICAgMCAQICAQICAwICAgEBAgICAgMCAgIDAgMDAgIDAwMDAgIDAwICAgICAwIDAwMDAwICAgICAwMCAwMDAgICAgMCAgICAgMCAgMDAwICAgICAwICAgMCAwIDAgIDAgICAQIBAQIBAwICAgICAwIDAgICAwMCAgMCAwMDAwICAgMCAgICAgMDAwICAgMCAgICAgIDAgMDAgICAgICAQICAwMCAgICAwIDAgMCAgICAQIDAgIDAgMCAwICAwICAwECAwMCAgMDAgMCAgIDAgMCAgMCAwMDAwMDAwECAgIDAgICAgICAwIDAgMDAwMDAwMCAwIDAgMDAwMCAwICAgIDAwIDAgMDAgICAwMCAgMCAwIDAwMCAgMCAgICAgMCAwICAgIDAwICAwIDAwICAwICAwICAgMCAQIDAwMDAwICAwIDAwMDAwMDAQMDAgMDAwIDAgICAgMCAwABAQIBAgICAQICAgEBAQICAgICAwECAgICAgACAgIDAwMCAgIDAgEDAgIDAwMCAgICAgMCAgMCAwICAwICAgMCAwIBAwMCAwMCAgICAgMDAgIBAgMDAgICAwEDAgICAgICAgMCAwICAwIDAwMCAgICAwICAgMDAwMDAwMDAgMCAwMDAwIDAwMCAgICAgICAwMDAwICAwICAgMDAgMDAwICAwICAgIDAwICAgMDAwMCAwIDAwICAwIDAgICAgICAgIDAgIDAwMDAwIDAwMCAwMDAwMDAgMDAgIDAgIDAgMDAgMDAgIDAgMDAgMDAwICAwMDAwMDAgIDAgMDAwICAgICAgICAgIDAwICAgMCAgIDAwEDAwICAwICAgECAgMCAgIBAwMCAgICAgIDAgIDAwICAgMCAgEDAgMCAgMCAwICAgIBAgMDAgMCAgICAgIDAgMDAgICAwICAwICAwIDAgICAwICAgICAgICAgEBAwICAgIDAgMDAgICAwIDAwICAwIDAwIDAgMDAwMCAwICAgICAwMCAgIDAgMDAgICAgMCAwMCAwIDAgIDAgMDAwMDAgIDAgMCAgICAwICAgMCAwICAgMDAgMCAgICAgMCAwMCAwICAwICAwICAwMCAgMCAwIDAwICAgIDAgICAwICAwICAgICAwMDAwMDAwMCAwMCAwMDAgMDAgIDAgMCAwMCAwIDAwMDAgMCAwMDAgMCAwIDAwICAwMDAQMDAgICAgMDAwICAwIDAwMCAgMDAwIDAgMDAgMDAwMDAwMCAgICAQIDAgICAwIDAgICAwMCAgMCAgICAgICAgMCAwIDAgICAgIDAgMCAwMCAgMCAgMDAwICAwICAQICAwMCAwICAgICAwICAgIDAgMDAgICAwMCAgIDAgICAgIDAgICAgMCAwIDAgICAwMCAgIDAwIDAgMDAgICAgICAwMCAgICAwIDAgICAwIDAgMCAgMDAwMCAgIDAgMCAgICAwICAgMDAgIDAgICAgICAQICAwIDAwMCAgICAwMDAgIDAgICAwICAwICAwICAQICAgMCAgIDAQMDAQICAQICAgEBAgICAwIDAwMCAQECAgMDAQICAgIBAwMDAwMCAwIDAwMCAwECAwIBAwACAgECAwIBAgEBAwIBAQEBAQMBAgMDAQIBAQICAgEDAwMDAgICAwICAwMCAgECAgECAwMDAQICAwMDAgMCAwIDAwMCAwMDAwMDAwMCAwMDAwMDAwMDAwIDAwIDAwMDAwIDAwMDAwMCAwMDAQMDAwMDAwMCAwMDAwMDAgMCAwICAgIDAwMCAgMDAgMDAwIDAwMDAgICAgMCAwMCAgIDAwMDAgMCAgMDAwMDAwMDAQMCAwMDAgMDAgIBAgMDAwIDAgMCAAMCAgMDAwMDAwIDAwIDAQMDAwIDAwMDAQIDAQIDAgMCAwMCAwMCAwMCAwICAwMDAwMCAgMDAwMDAgMDAgMDAwICAwMBAgIDAwMDAQIDAgIDAwMDAwI=",
          "dtype": "i1"
         },
         "xaxis": "x",
         "yaxis": "y"
        }
       ],
       "layout": {
        "barmode": "relative",
        "legend": {
         "tracegroupgap": 0
        },
        "margin": {
         "t": 60
        },
        "template": {
         "data": {
          "bar": [
           {
            "error_x": {
             "color": "#2a3f5f"
            },
            "error_y": {
             "color": "#2a3f5f"
            },
            "marker": {
             "line": {
              "color": "#E5ECF6",
              "width": 0.5
             },
             "pattern": {
              "fillmode": "overlay",
              "size": 10,
              "solidity": 0.2
             }
            },
            "type": "bar"
           }
          ],
          "barpolar": [
           {
            "marker": {
             "line": {
              "color": "#E5ECF6",
              "width": 0.5
             },
             "pattern": {
              "fillmode": "overlay",
              "size": 10,
              "solidity": 0.2
             }
            },
            "type": "barpolar"
           }
          ],
          "carpet": [
           {
            "aaxis": {
             "endlinecolor": "#2a3f5f",
             "gridcolor": "white",
             "linecolor": "white",
             "minorgridcolor": "white",
             "startlinecolor": "#2a3f5f"
            },
            "baxis": {
             "endlinecolor": "#2a3f5f",
             "gridcolor": "white",
             "linecolor": "white",
             "minorgridcolor": "white",
             "startlinecolor": "#2a3f5f"
            },
            "type": "carpet"
           }
          ],
          "choropleth": [
           {
            "colorbar": {
             "outlinewidth": 0,
             "ticks": ""
            },
            "type": "choropleth"
           }
          ],
          "contour": [
           {
            "colorbar": {
             "outlinewidth": 0,
             "ticks": ""
            },
            "colorscale": [
             [
              0,
              "#0d0887"
             ],
             [
              0.1111111111111111,
              "#46039f"
             ],
             [
              0.2222222222222222,
              "#7201a8"
             ],
             [
              0.3333333333333333,
              "#9c179e"
             ],
             [
              0.4444444444444444,
              "#bd3786"
             ],
             [
              0.5555555555555556,
              "#d8576b"
             ],
             [
              0.6666666666666666,
              "#ed7953"
             ],
             [
              0.7777777777777778,
              "#fb9f3a"
             ],
             [
              0.8888888888888888,
              "#fdca26"
             ],
             [
              1,
              "#f0f921"
             ]
            ],
            "type": "contour"
           }
          ],
          "contourcarpet": [
           {
            "colorbar": {
             "outlinewidth": 0,
             "ticks": ""
            },
            "type": "contourcarpet"
           }
          ],
          "heatmap": [
           {
            "colorbar": {
             "outlinewidth": 0,
             "ticks": ""
            },
            "colorscale": [
             [
              0,
              "#0d0887"
             ],
             [
              0.1111111111111111,
              "#46039f"
             ],
             [
              0.2222222222222222,
              "#7201a8"
             ],
             [
              0.3333333333333333,
              "#9c179e"
             ],
             [
              0.4444444444444444,
              "#bd3786"
             ],
             [
              0.5555555555555556,
              "#d8576b"
             ],
             [
              0.6666666666666666,
              "#ed7953"
             ],
             [
              0.7777777777777778,
              "#fb9f3a"
             ],
             [
              0.8888888888888888,
              "#fdca26"
             ],
             [
              1,
              "#f0f921"
             ]
            ],
            "type": "heatmap"
           }
          ],
          "histogram": [
           {
            "marker": {
             "pattern": {
              "fillmode": "overlay",
              "size": 10,
              "solidity": 0.2
             }
            },
            "type": "histogram"
           }
          ],
          "histogram2d": [
           {
            "colorbar": {
             "outlinewidth": 0,
             "ticks": ""
            },
            "colorscale": [
             [
              0,
              "#0d0887"
             ],
             [
              0.1111111111111111,
              "#46039f"
             ],
             [
              0.2222222222222222,
              "#7201a8"
             ],
             [
              0.3333333333333333,
              "#9c179e"
             ],
             [
              0.4444444444444444,
              "#bd3786"
             ],
             [
              0.5555555555555556,
              "#d8576b"
             ],
             [
              0.6666666666666666,
              "#ed7953"
             ],
             [
              0.7777777777777778,
              "#fb9f3a"
             ],
             [
              0.8888888888888888,
              "#fdca26"
             ],
             [
              1,
              "#f0f921"
             ]
            ],
            "type": "histogram2d"
           }
          ],
          "histogram2dcontour": [
           {
            "colorbar": {
             "outlinewidth": 0,
             "ticks": ""
            },
            "colorscale": [
             [
              0,
              "#0d0887"
             ],
             [
              0.1111111111111111,
              "#46039f"
             ],
             [
              0.2222222222222222,
              "#7201a8"
             ],
             [
              0.3333333333333333,
              "#9c179e"
             ],
             [
              0.4444444444444444,
              "#bd3786"
             ],
             [
              0.5555555555555556,
              "#d8576b"
             ],
             [
              0.6666666666666666,
              "#ed7953"
             ],
             [
              0.7777777777777778,
              "#fb9f3a"
             ],
             [
              0.8888888888888888,
              "#fdca26"
             ],
             [
              1,
              "#f0f921"
             ]
            ],
            "type": "histogram2dcontour"
           }
          ],
          "mesh3d": [
           {
            "colorbar": {
             "outlinewidth": 0,
             "ticks": ""
            },
            "type": "mesh3d"
           }
          ],
          "parcoords": [
           {
            "line": {
             "colorbar": {
              "outlinewidth": 0,
              "ticks": ""
             }
            },
            "type": "parcoords"
           }
          ],
          "pie": [
           {
            "automargin": true,
            "type": "pie"
           }
          ],
          "scatter": [
           {
            "fillpattern": {
             "fillmode": "overlay",
             "size": 10,
             "solidity": 0.2
            },
            "type": "scatter"
           }
          ],
          "scatter3d": [
           {
            "line": {
             "colorbar": {
              "outlinewidth": 0,
              "ticks": ""
             }
            },
            "marker": {
             "colorbar": {
              "outlinewidth": 0,
              "ticks": ""
             }
            },
            "type": "scatter3d"
           }
          ],
          "scattercarpet": [
           {
            "marker": {
             "colorbar": {
              "outlinewidth": 0,
              "ticks": ""
             }
            },
            "type": "scattercarpet"
           }
          ],
          "scattergeo": [
           {
            "marker": {
             "colorbar": {
              "outlinewidth": 0,
              "ticks": ""
             }
            },
            "type": "scattergeo"
           }
          ],
          "scattergl": [
           {
            "marker": {
             "colorbar": {
              "outlinewidth": 0,
              "ticks": ""
             }
            },
            "type": "scattergl"
           }
          ],
          "scattermap": [
           {
            "marker": {
             "colorbar": {
              "outlinewidth": 0,
              "ticks": ""
             }
            },
            "type": "scattermap"
           }
          ],
          "scattermapbox": [
           {
            "marker": {
             "colorbar": {
              "outlinewidth": 0,
              "ticks": ""
             }
            },
            "type": "scattermapbox"
           }
          ],
          "scatterpolar": [
           {
            "marker": {
             "colorbar": {
              "outlinewidth": 0,
              "ticks": ""
             }
            },
            "type": "scatterpolar"
           }
          ],
          "scatterpolargl": [
           {
            "marker": {
             "colorbar": {
              "outlinewidth": 0,
              "ticks": ""
             }
            },
            "type": "scatterpolargl"
           }
          ],
          "scatterternary": [
           {
            "marker": {
             "colorbar": {
              "outlinewidth": 0,
              "ticks": ""
             }
            },
            "type": "scatterternary"
           }
          ],
          "surface": [
           {
            "colorbar": {
             "outlinewidth": 0,
             "ticks": ""
            },
            "colorscale": [
             [
              0,
              "#0d0887"
             ],
             [
              0.1111111111111111,
              "#46039f"
             ],
             [
              0.2222222222222222,
              "#7201a8"
             ],
             [
              0.3333333333333333,
              "#9c179e"
             ],
             [
              0.4444444444444444,
              "#bd3786"
             ],
             [
              0.5555555555555556,
              "#d8576b"
             ],
             [
              0.6666666666666666,
              "#ed7953"
             ],
             [
              0.7777777777777778,
              "#fb9f3a"
             ],
             [
              0.8888888888888888,
              "#fdca26"
             ],
             [
              1,
              "#f0f921"
             ]
            ],
            "type": "surface"
           }
          ],
          "table": [
           {
            "cells": {
             "fill": {
              "color": "#EBF0F8"
             },
             "line": {
              "color": "white"
             }
            },
            "header": {
             "fill": {
              "color": "#C8D4E3"
             },
             "line": {
              "color": "white"
             }
            },
            "type": "table"
           }
          ]
         },
         "layout": {
          "annotationdefaults": {
           "arrowcolor": "#2a3f5f",
           "arrowhead": 0,
           "arrowwidth": 1
          },
          "autotypenumbers": "strict",
          "coloraxis": {
           "colorbar": {
            "outlinewidth": 0,
            "ticks": ""
           }
          },
          "colorscale": {
           "diverging": [
            [
             0,
             "#8e0152"
            ],
            [
             0.1,
             "#c51b7d"
            ],
            [
             0.2,
             "#de77ae"
            ],
            [
             0.3,
             "#f1b6da"
            ],
            [
             0.4,
             "#fde0ef"
            ],
            [
             0.5,
             "#f7f7f7"
            ],
            [
             0.6,
             "#e6f5d0"
            ],
            [
             0.7,
             "#b8e186"
            ],
            [
             0.8,
             "#7fbc41"
            ],
            [
             0.9,
             "#4d9221"
            ],
            [
             1,
             "#276419"
            ]
           ],
           "sequential": [
            [
             0,
             "#0d0887"
            ],
            [
             0.1111111111111111,
             "#46039f"
            ],
            [
             0.2222222222222222,
             "#7201a8"
            ],
            [
             0.3333333333333333,
             "#9c179e"
            ],
            [
             0.4444444444444444,
             "#bd3786"
            ],
            [
             0.5555555555555556,
             "#d8576b"
            ],
            [
             0.6666666666666666,
             "#ed7953"
            ],
            [
             0.7777777777777778,
             "#fb9f3a"
            ],
            [
             0.8888888888888888,
             "#fdca26"
            ],
            [
             1,
             "#f0f921"
            ]
           ],
           "sequentialminus": [
            [
             0,
             "#0d0887"
            ],
            [
             0.1111111111111111,
             "#46039f"
            ],
            [
             0.2222222222222222,
             "#7201a8"
            ],
            [
             0.3333333333333333,
             "#9c179e"
            ],
            [
             0.4444444444444444,
             "#bd3786"
            ],
            [
             0.5555555555555556,
             "#d8576b"
            ],
            [
             0.6666666666666666,
             "#ed7953"
            ],
            [
             0.7777777777777778,
             "#fb9f3a"
            ],
            [
             0.8888888888888888,
             "#fdca26"
            ],
            [
             1,
             "#f0f921"
            ]
           ]
          },
          "colorway": [
           "#636efa",
           "#EF553B",
           "#00cc96",
           "#ab63fa",
           "#FFA15A",
           "#19d3f3",
           "#FF6692",
           "#B6E880",
           "#FF97FF",
           "#FECB52"
          ],
          "font": {
           "color": "#2a3f5f"
          },
          "geo": {
           "bgcolor": "white",
           "lakecolor": "white",
           "landcolor": "#E5ECF6",
           "showlakes": true,
           "showland": true,
           "subunitcolor": "white"
          },
          "hoverlabel": {
           "align": "left"
          },
          "hovermode": "closest",
          "mapbox": {
           "style": "light"
          },
          "paper_bgcolor": "white",
          "plot_bgcolor": "#E5ECF6",
          "polar": {
           "angularaxis": {
            "gridcolor": "white",
            "linecolor": "white",
            "ticks": ""
           },
           "bgcolor": "#E5ECF6",
           "radialaxis": {
            "gridcolor": "white",
            "linecolor": "white",
            "ticks": ""
           }
          },
          "scene": {
           "xaxis": {
            "backgroundcolor": "#E5ECF6",
            "gridcolor": "white",
            "gridwidth": 2,
            "linecolor": "white",
            "showbackground": true,
            "ticks": "",
            "zerolinecolor": "white"
           },
           "yaxis": {
            "backgroundcolor": "#E5ECF6",
            "gridcolor": "white",
            "gridwidth": 2,
            "linecolor": "white",
            "showbackground": true,
            "ticks": "",
            "zerolinecolor": "white"
           },
           "zaxis": {
            "backgroundcolor": "#E5ECF6",
            "gridcolor": "white",
            "gridwidth": 2,
            "linecolor": "white",
            "showbackground": true,
            "ticks": "",
            "zerolinecolor": "white"
           }
          },
          "shapedefaults": {
           "line": {
            "color": "#2a3f5f"
           }
          },
          "ternary": {
           "aaxis": {
            "gridcolor": "white",
            "linecolor": "white",
            "ticks": ""
           },
           "baxis": {
            "gridcolor": "white",
            "linecolor": "white",
            "ticks": ""
           },
           "bgcolor": "#E5ECF6",
           "caxis": {
            "gridcolor": "white",
            "linecolor": "white",
            "ticks": ""
           }
          },
          "title": {
           "x": 0.05
          },
          "xaxis": {
           "automargin": true,
           "gridcolor": "white",
           "linecolor": "white",
           "ticks": "",
           "title": {
            "standoff": 15
           },
           "zerolinecolor": "white",
           "zerolinewidth": 2
          },
          "yaxis": {
           "automargin": true,
           "gridcolor": "white",
           "linecolor": "white",
           "ticks": "",
           "title": {
            "standoff": 15
           },
           "zerolinecolor": "white",
           "zerolinewidth": 2
          }
         }
        },
        "xaxis": {
         "anchor": "y",
         "domain": [
          0,
          1
         ],
         "title": {
          "text": "engagement"
         }
        },
        "yaxis": {
         "anchor": "x",
         "domain": [
          0,
          1
         ],
         "title": {
          "text": "count"
         }
        }
       }
      }
     },
     "metadata": {},
     "output_type": "display_data"
    }
   ],
   "source": [
    "px.histogram(df_continous,\n",
    "             'engagement')"
   ]
  },
  {
   "cell_type": "code",
   "execution_count": 16,
   "id": "f02a4f04",
   "metadata": {},
   "outputs": [
    {
     "data": {
      "application/vnd.plotly.v1+json": {
       "config": {
        "plotlyServerURL": "https://plot.ly"
       },
       "data": [
        {
         "bingroup": "x",
         "hovertemplate": "engagement=%{x}<br>count=%{y}<extra></extra>",
         "legendgroup": "",
         "marker": {
          "color": "#636efa",
          "pattern": {
           "shape": ""
          }
         },
         "name": "",
         "orientation": "v",
         "showlegend": false,
         "type": "histogram",
         "x": {
          "bdata": "AAABAQEAAQABAQABAQEBAQEBAQEBAQEBAQEBAQEBAQEBAAEBAAEBAQEBAQEBAQEBAQEBAQEBAQEBAQEBAQEAAQEBAQEBAQEBAQEBAQEBAQEBAAEBAQEBAQEBAQEBAQEBAAABAAEBAQEBAQEBAQEBAQEBAAAAAAABAQEAAQABAQAAAQEBAAAAAQEBAQEAAQEBAQEAAAEAAAAAAQABAQEAAAAAAAABAAABAAAAAAAAAQEAAAAAAQABAAABAAAAAAAAAAAAAAAAAAAAAQAAAAAAAAAAAAAAAQAAAAAAAAEAAAEAAAABAAAAAAAAAQEAAQEAAQEBAQAAAQAAAAABAAAAAAAAAQAAAAAAAAAAAAEAAAAAAAAAAQAAAQAAAQEBAAEAAAAAAQAAAQAAAAABAAABAQABAQEAAQEBAAABAAAAAQEBAQEBAAAAAAEBAQABAAEAAAAAAAAAAAAAAQAAAAAAAAAAAQEAAAABAQAAAAEAAAABAAEAAQAAAAABAAAAAAAAAAEBAAABAAAAAQAAAQAAAAAAAQAAAQABAAAAAQABAQAAAQABAAAAAAAAAQEBAQEAAQEAAAAAAQABAQAAAAAAAAEAAAAAAAABAQAAAAAAAAABAAEAAAABAQAAAAABAAAAAAEAAQAAAAAAAAABAAABAQAAAAEAAAAAAAABAQEBAAAAAQEAAAABAAAAAAAAAAAAAQEAAQABAAAAAQEAAQEBAAABAAABAQEBAAABAAABAQEAAQEAAQAAAQAAAAEAAQEBAAEAAQEAAAABAAEBAQABAQEBAQEBAQEAAQEAAAEAAAEAAQAAAQABAQAAAQEBAAEAAQEAAQAAAAEAAAAAAQEBAAEBAQEBAAABAQEAAAEAAAEBAAEAAQEBAQAAAAABAQABAAAAAQABAQEBAAEBAAEBAAABAAABAAAAAAABAAAAAAEAAAAAAAAAAAAAAQAAAAEAAAAAAAEBAAABAAAAAAAAAQAAAAAAAAEAAAABAAEAAAEAAQEAAQAAAAEBAAAAAAEBAQAAAAABAQAAAAAAAQAAAAAAAAEBAAAAAAEAAQEAAAEBAAAAAQAAAQEAAQAAAAABAAAAAAABAAAAAQEAAAAAAQAAAQAAAAAAAAAAAAAAAAAAAAABAQEAAAEAAQEAAAAAAAAAAAEBAQAAAAABAAAAAAAAAAAAAAAAAAEAAAAAAAABAAAAAAABAQEAAAAAAAEAAAEBAQAAAQABAAEAAAABAQAAAAAAAAAAAAAAAQAAAAAAAQAAAAEAAAAAAQAAAQAAAQABAQEAAAEAAQEAAAABAQEAAAABAAAAAAAAAAABAAABAAAAAAAAAQABAAABAAAAAQAAAAAAAQEAAQAAAAEBAAAAAAABAAABAAEBAAEAAAAAAAAAAQABAAAAAQABAAAAAQABAQAAAAEAAQEBAAEAAAAAAAEAAAAAAAABAQEBAQEAAAABAAEAAAAAAQEAAAABAQEAAAEBAQEBAAABAAAAAQAAAQABAQEBAQEBAQEBAQABAQABAQEBAQAAAQEBAQEBAAEAAAEAAQEBAAEBAAEBAQABAQEAAAAAAAABAAAAAAAAAQEAAQAAAAABAAEBAQAAAAABAAAAAQAAAAAAAQEAAAEAAQEBAAABAQABAQEBAAAAAAEBAAEBAQEBAQAAAQAAAQAAAQABAAABAAABAQEAAQABAQEAAAAAAAEAAQEAAAAAAQAAAAABAAABAQEBAAAAAAEBAAEAAAAAAAAAAAAAAAAAAAAAAAAAAAAAAAAAAQEAAQAAAAEBAQEAAQEAAQABAQEAAAAAAAABAQAAAAEAAAAAAQEAAQEAAAAAAAAAAQEBAAEAAAEBAAAAAAAAAQEAAAABAQEBAQABAAEAAQABAAEAAAEAAAAAAAAAAQEBAQAAAQAAAAEBAAAAAQEAAAEBAAAAAQEAAAEAAQABAAAAAQEBAQEBAQABAAEBAAAAAAAAAQEBAAABAQEAAQABAQEAAQEAAAEBAQAAAQABAQABAAEAAAEBAAAAAAEBAAAAAAEAAQAAAQEAAQABAQABAQAAAQEBAQABAQEBAAEBAAAAAQEBAAEBAAEBAAEBAQAAAQEBAAAAAQAAAQAAAAEBAAEBAQEBAAABAQEBAAAAAAEBAAABAAAAAAAAAAEAAAABAAABAAABAAAAAQAAAAAAAAAAAAAAAQAAAAAAAAABAAEAAQABAAABAAABAAEAAAAAAAEAAAEBAQABAAAAAAAAAAAAAAAAAQAAAAABAQAAAAAAAQAAAAABAAEBAQAAAQEBAAEBAAABAQEAAQEAAAEBAAAAAQEAAAEAAQEBAQEAAQABAQAAAQABAQABAAEAAAEBAQAAAAABAQEBAQEAAQEAAAABAAAAAAAAAAEAAAAAAQEBAQEAAAABAAABAAEAAAEAAQEAAQEBAAABAQEBAAEBAQABAQEAAAAAAQAAAQAAAAEBAQABAAABAAABAAAAAAAAAAAAAAAAAAABAQAAAQAAAQEAAQAAAAAAAQABAQEAAAAAAQAAAQABAAAAAAAAAQAAAAAAAQAAAAEAAQAAAQEBAQEAAQEBAAAAAAABAAEAAQABAQAAAQEAAQAAAAAAAAAAAAEBAAABAQEBAAEAAQEAAAEBAQABAQAAAQEBAQABAQEAAQABAQEBAAEAAQEBAQABAQEBAAAAAAABAAAAAQEBAAAAAQAAAAEBAAAAAQAAAQEBAAEAAAAAAQAAAAEAAAAAAAAAAAAAAAAAAAAAAAAAAQEBAAEBAAEAAAAAAAEAAAAAAAAAAQAAAAAAAQAAAQEBAAEAAAEAAQABAQABAQEBAAAAAAEAAAAAAAAAAQAAAAEAAQAAAAABAQEBAQABAQAAAAAAAQABAAAAAAEAAAAAAQAAAQEAAQEBAQAAAAEAAAEAAAAAAQEAAAAAAAAAAAEBAQEAAAEBAAAAAAAAAAAAAQABAAABAQEAAAEAAAAAAAAAAAABAQAAAAEAAAABAAAAAQAAAAAAAAAAAQAAAQEBAQEBAQEAAAEAAAEAAQABAAAAAAEBAQAAAAEAAQABAAABAQABAQEBAQEBAAEAAAEBAQEBAQEBAQEBAQEBAAEBAQABAQEBAAEAAAEBAQABAQEAAQEAAQABAQABAQEAAAAAAQEAAQABAAEAAQAAAAABAAAAAAEAAQAAAQEBAAAAAAEAAQEAAAEAAQEAAQAAAAAAAAABAAABAQABAQABAQEBAQEBAAAAAAABAAEAAQEAAQEBAAEBAQAAAQAAAAAAAAEAAAEAAAAAAQAAAQAAAAEAAQAAAAABAAAAAAAAAAEAAAEBAQABAAEAAAAAAAEBAAEAAAEBAQEAAAABAQEBAQAAAAABAAEBAQAAAAABAQEAAAEBAAEAAAEAAQABAQABAAEBAAABAAEAAQEBAAABAAAAAQEAAAEAAQEAAAABAQABAQEBAQEBAQEBAAABAAEAAAEAAQEAAAEAAQEBAQEBAAEBAQEBAQAAAQEBAAAAAAEAAQABAAAAAAAAAQAAAAAAAAAAAQAAAAEAAAEBAAAAAAAAAAAAAQABAAAAAAAAAAEAAQEBAAEBAAEBAQABAQEBAQEBAQEBAQEBAQEBAAEBAAABAQEBAAEBAQEAAQAAAQEBAQAAAAABAQAAAAAAAAABAQEAAQABAQAAAAABAQEBAAAAAAAAAAAAAAEBAQAAAAEBAAABAAEAAAABAQAAAAEBAAEBAQEAAQEBAQEBAQAAAAAAAQEAAAEAAQEBAAEBAAEBAAEBAQAAAAABAQABAQEAAQABAAAAAQEBAAEBAQEBAQAAAQEBAQEAAAEBAAEBAAEBAAEBAQAAAAEAAAAAAQEAAQEBAQEAAQEBAAEAAQABAQABAAEBAQEBAAAAAQABAAABAQABAQEBAAEBAQEBAAABAQABAAEAAQEBAAEAAQEAAAABAAEAAQABAQEAAQABAAEBAQEAAAAAAAAAAAEAAAAAAQEBAAEAAAEBAAABAAAAAAAAAAEAAAAAAAAAAQABAAEAAAAAAAABAAAAAQAAAQAAAAAAAAEAAQAAAAAAAAABAAABAQAAAQAAAQAAAAAAAQABAQABAAAAAAEBAAAAAAABAAAAAQABAAAAAAAAAAAAAAAAAAABAAABAAEAAAAAAAAAAAAAAQABAQAAAQAAAAAAAQEBAAAAAAEBAAABAAAAAAAAAQAAAAAAAAEAAQAAAQAAAQAAAQEBAAAAAAAAAAEAAAAAAAAAAAABAQABAQEBAAEBAQEAAQAAAQAAAAAAAQABAAAAAAEAAAEAAAABAQAAAAAAAQABAQEBAQEAAQEBAAEBAAEAAAAAAQEBAQABAQEAAAABAQABAQEBAAEBAQEBAQEBAQAAAAEBAAEBAQEBAQEBAQEAAQEAAAEAAAEAAQEBAQEAAAEAAQEBAQEBAQEBAQEBAQEBAQABAQEBAAAAAAAAAQEAAQEAAQAAAQEAAQEAAQEBAQABAAEAAAEAAAAAAAABAQAAAQABAQAAAQEBAAAAAQEBAQEBAQEBAQAAAQABAQEBAAEBAQABAQEAAAAAAQEBAQEBAAEAAAEBAQEAAQABAQEAAAAAAAABAQEAAAABAAABAAEAAAEBAAAAAQEAAQAAAAAAAAAAAAABAAEBAAAAAAEBAAAAAAAAAQABAAAAAAABAAEAAAEAAAABAAAAAAABAAEBAAAAAQAAAAAAAAABAAAAAQABAAAAAAABAAAAAAAAAAAAAQAAAQEAAAAAAAAAAAABAAAAAAABAQAAAQEAAAAAAQABAAAAAAEAAAAAAAABAAAAAAAAAAAAAQEAAQEBAAAAAAAAAQAAAAAAAQAAAAEAAAAAAQAAAAAAAAEAAAAAAQAAAAAAAAAAAAAAAAAAAAAAAAAAAQEAAAABAAEAAAABAQEBAAEAAAAAAAAAAQAAAQEAAAEBAAAAAQEAAQEAAQEBAQABAQABAAEBAQAAAQEAAAEBAQEBAQAAAAAAAAABAQEBAQEAAQAAAAEAAAABAAEBAAEAAAEAAQEBAQEBAQEBAAAAAQABAQEAAQEBAQEBAQEBAAEAAQEBAAAAAQAAAAEBAQEBAQEAAQEBAAEAAQEAAQEBAQABAQEBAQEAAQAAAQEAAAABAAEBAQEBAQABAAABAQABAQABAQEAAQAAAAEAAAEAAAEBAQABAQEBAQABAAEAAAEAAAABAQEAAAEAAAAAAAEAAAAAAAAAAQAAAAAAAQAAAQAAAAAAAAEAAAEAAAAAAAAAAAABAAAAAQEAAAAAAAAAAAABAQAAAAAAAQAAAAEBAAAAAAABAAAAAAEAAQABAAABAAEBAAEBAAABAAAAAAAAAAAAAAEAAQAAAQAAAAEBAQAAAAAAAQAAAAABAQAAAAAAAQAAAAAAAAEAAQEBAQEAAQAAAAABAAEAAAEAAQEAAAAAAAAAAQEBAAEBAAAAAAEAAAABAQEBAAABAAEBAAEAAQABAQAAAQAAAAAAAAEAAQEAAAEBAAAAAAEAAQAAAQAAAQEAAAAAAQAAAQEAAQAAAQABAAABAQEBAAEAAAEAAAAAAQABAQEBAQEAAAEAAAEAAQAAAQAAAAABAAABAQAAAAEBAQABAAEAAAEBAQABAQABAAABAQABAQEAAAEBAAAAAAEAAAAAAQEAAQEAAQEBAQEAAQABAQAAAAEBAQAAAQABAQEAAQEAAQABAAEBAAEBAQEBAAEAAQEBAQEBAAEBAQEBAAEBAQAAAAEBAQEBAAEBAQEBAQABAAABAQEAAQEBAAEAAQEBAAEBAQEBAQABAQEBAQEAAAABAAEBAQEBAAABAAEBAQEBAQEBAQEAAQEBAQEBAAEBAQEBAAEBAQABAQEBAQEAAQEBAAEAAQAAAQABAAAAAAAAAAAAAAABAQAAAAABAQABAQABAAEAAAEBAAAAAQEAAQAAAAEBAAAAAQAAAQAAAAABAAAAAQAAAAAAAAEAAQEAAAABAAEBAAEBAAABAAEAAAEAAAAAAQABAAAAAAAAAQEBAQAAAQAAAAAAAAEBAAABAAAAAAAAAAAAAAAAAAABAAEAAAAAAAAAAAAAAAAAAAAAAAAAAAABAAEBAAAAAQAAAAABAAEAAAAAAAABAAAAAAEAAAAAAAAAAAAAAQEAAAAAAAEAAAAAAAEAAAAAAAEAAAEAAAEAAAABAAAAAAAAAAAAAAEBAQAAAAEAAQAAAAAAAQAAAAEBAQEBAAAAAAAAAQAAAAAAAAAAAAEAAAAAAQEBAAEAAAABAQEBAQEBAQEBAQEAAAEBAAEBAAABAQEBAQEAAQEBAAEBAAEAAQEBAQABAQEAAQEBAQEAAQEBAAEAAAAAAQABAQEAAAEBAQEBAAEBAQAAAQAAAQABAQABAQEAAQEBAQEBAQEBAAEAAAEBAQABAAEAAQABAQEBAQEBAAABAAEAAQEBAAABAQEBAQEBAAEBAQEBAAEBAQABAQEBAAEBAQEBAQEBAQABAAEBAQEAAQABAQABAQABAAEAAAAAAAABAQAAAAAAAAAAAQAAAQEAAAAAAAABAAEAAQAAAAAAAAAAAQEAAAAAAAEAAAEAAAAAAQEAAAEBAAABAQAAAQEAAAAAAAABAQAAAQEAAAAAAQABAQEAAAEAAQEAAAABAQAAAAAAAAEAAAAAAAAAAAAAAAAAAAAAAAAAAQEBAAAAAAABAAEBAQEAAQABAQABAAAAAAAAAAAAAAEAAAAAAAAAAAEBAAAAAAABAQEBAAEBAQAAAAEBAAABAQEAAAAAAQEAAAEAAAABAQEAAAABAQAAAAEAAAAAAAEAAAAAAAEAAAAAAQABAAAAAAABAAEAAAEAAQEAAAEBAQABAQAAAAABAAABAAEBAQAAAAEAAQABAQAAAAABAQAAAAAAAAAAAQEAAAAAAAEAAAABAAAAAAAAAAAAAAAAAAAAAQAAAAAAAQAAAAAAAQABAAABAAABAAAAAAAAAAAAAAABAAAAAAAAAAAAAQAAAAEAAAABAAEAAAABAAEAAQEAAQEBAAEBAQEAAAABAAAAAQABAAEAAAAAAAEBAAABAQABAAAAAQAAAQEAAQEAAQABAQAAAAAAAAEBAQAAAAAAAQEBAAEBAAEAAAAAAAABAAEAAAAAAAEBAAEAAQAAAAAAAAAAAAAAAQABAAAAAAAAAQABAQEAAAEAAQEAAQAAAQEAAAABAAAAAAAAAAAAAAAAAAAAAAABAAAAAAAAAAAAAAABAQABAAAAAAEAAAAAAAAAAAEAAAAAAAAAAAAAAAAAAAAAAAAAAAAAAQEAAAAAAAAAAAAAAAAAAAEAAQAAAQAAAAAAAAAAAQABAAAAAAABAAAAAAEAAQABAQEAAAABAQAAAAEBAAABAAEAAAAAAAAAAAEAAAABAAAAAAEAAAAAAAAAAAABAAEAAAAAAAAAAAAAAQAAAAAAAAAAAAAAAAAAAQABAAAAAAAAAAAAAAEAAAAAAQAAAQAAAAAAAAAAAAAAAAEAAAAAAQEAAAAAAAEBAQAAAAABAAABAQABAAEAAAEAAAAAAQAAAAAAAAAAAAAAAQAAAAAAAAAAAAAAAAEAAAAAAAAAAAAAAQAAAAAAAQAAAAAAAAABAAEAAQEBAQABAAAAAQAAAAAAAAABAAAAAAAAAAAAAAAAAAAAAAAAAAAAAAAAAAAAAAAAAAAAAAAAAAAAAQAAAQEAAAAAAAAAAAAAAAAAAAAAAAAAAAABAAABAAAAAAABAAAAAQABAQEAAAAAAAAAAAABAAABAAEBAQAAAAEBAAEAAQABAQABAAABAAEAAAAAAAABAAAAAAAAAAAAAAEAAAAAAQAAAAAAAAEAAQAAAQABAAAAAQAAAAEAAAAAAQEBAQEBAAEBAAABAQABAAAAAAEBAAEAAAEAAAAAAAAAAAABAAEBAQABAQAAAAAAAQAAAAABAAEAAAABAAEBAAAAAQAAAAEAAQEBAAEAAQAAAAABAAAAAAAAAAABAQAAAQABAQAAAAAAAAAAAQAAAAEAAAEAAAAAAAAAAAAAAAAAAAABAAABAQAAAAABAQEAAAAAAAAAAAAAAAAAAAAAAAEBAAEAAAEBAQAAAQAAAAEBAQABAAEBAQEAAAAAAQAAAAAAAAAAAQABAAAAAQAAAQEBAAABAQAAAQABAAAAAQABAQAAAAEBAAEBAQAAAQABAQABAAEBAQAAAQEAAAEAAQEAAQABAAABAAEAAQABAAEAAAEBAAEBAAABAQAAAQABAQEBAQEBAAAAAAEAAQABAAEAAAEBAQABAQABAAEBAAEAAAAAAQABAAAAAQABAQEAAQEBAQEBAAEBAAEAAQEAAQEBAAABAQAAAQABAQEBAAAAAQEAAQEBAQEBAQEAAAEAAQEBAQEBAQEBAAABAAEBAAEBAQABAQABAQEAAAAAAAAAAAAAAQAAAAAAAQABAQABAAEAAAAAAAEAAQEBAQAAAAABAAAAAAABAAEAAAEAAAAAAAAAAQEBAQAAAAAAAAEAAQAAAAABAAAAAQABAAEBAAEBAQEAAQEAAAAAAAABAQABAQEAAAEBAQEAAQEBAAEAAAAAAAEAAAEAAAEAAQEBAAEBAAABAAAAAQABAAEAAQABAQABAAAAAAAAAAAAAAAAAAAAAAEAAAAAAAAAAQAAAAAAAAAAAAEAAAABAAEBAAABAQEBAAABAQAAAAAAAQABAQEBAQAAAAAAAQEAAQEBAAAAAAEAAAAAAAEAAAEBAQAAAAAAAQAAAAEAAQABAAABAAAAAAAAAAAAAQAAAAAAAQABAAAAAQEAAAEAAQEBAQAAAAEAAAAAAAEBAQAAAAEAAAAAAAABAAEBAAAAAAAAAAAAAQEAAAAAAQABAAEAAAAAAAABAAABAAEAAQAAAQAAAQAAAQEAAAEBAAEAAAABAAEAAAEAAQEBAQEBAQAAAAABAAAAAAAAAQABAAEBAQEBAQEAAQABAAEBAQEAAQAAAAABAQABAAEBAAAAAQEAAAEAAQABAQEAAAEAAAAAAAEAAQAAAAABAQAAAQABAQAAAQAAAQAAAAEAAAABAQEBAQAAAQABAQEBAQEBAAEBAAEBAQABAAAAAAEAAQAAAAAAAAAAAAAAAAAAAAAAAAAAAQAAAAAAAAAAAAABAQEAAAABAAABAAABAQEAAAAAAAEAAAEAAQAAAQAAAAEAAQAAAQEAAQEAAAAAAAEBAAAAAAEBAAAAAQABAAAAAAAAAAEAAQAAAQABAQEAAAAAAQAAAAEBAQEBAQEBAAEAAQEBAQABAQEAAAAAAAAAAQEBAQAAAQAAAAEBAAEBAQAAAQAAAAABAQAAAAEBAQEAAQABAQAAAQABAAAAAAAAAAABAAABAQEBAQABAQEAAQEBAQEBAAEBAAABAAABAAEBAAEBAAABAAEBAAEBAQAAAQEBAQEBAAABAAEBAQAAAAAAAAAAAAABAQAAAAEAAAABAQABAQAAAQAAAAAAAAEAAAAAAQEAAAAAAAABAAABAQAAAAEAAAABAAEAAAEAAQAAAAAAAAEBAAEAAAAAAAABAAEBAAAAAQAAAQAAAQABAAAAAQAAAAAAAAAAAAAAAQAAAAABAAEBAAAAAQABAQAAAQABAQABAAEBAQEAAQAAAAAAAQEAAAABAAEBAAAAAAEAAQEAAQABAAABAAEBAQEBAAABAAEAAAAAAQAAAAEAAQAAAAEBAAEAAAAAAAEAAQEAAQAAAQAAAQAAAQEAAAEAAQABAQAAAAABAAAAAQAAAQAAAAAAAQEBAQEBAQEAAQEAAQEBAAEBAAABAAEAAQEAAQABAQEBAAEAAQEBAAEAAQABAQAAAQEBAAEBAAAAAAEBAQAAAQABAQEAAAEBAQABAAEBAAEBAQEBAQEAAAAAAAABAAAAAQABAAAAAQEAAAEAAAAAAAAAAAEAAQABAAAAAAABAAEAAQEAAAEAAAEBAQAAAQAAAAAAAQEAAQAAAAAAAQAAAAABAAEBAAAAAQEAAAABAAAAAAABAAAAAAEAAQABAAAAAQEAAAABAQABAAEBAAAAAAAAAQEAAAAAAQABAAAAAQABAAEAAAEBAQEAAAABAAEAAAAAAQAAAAEBAAABAAAAAAAAAAAAAQABAQEAAAAAAQEBAAABAAAAAQAAAQAAAQAAAAAAAAEAAAABAAEBAAAAAAAAAAAAAAAAAQABAQEAAAAAAAEBAAAAAAAAAQEBAQEAAQABAQEAAQAAAQAAAQAAAAAAAQAAAAAAAQAAAAAAAAEAAAEBAAAAAAAAAAABAQEBAAAAAQAAAQEAAAAAAAAAAQEBAAAAAQEBAAEAAQABAQEAAQEBAQEBAQEAAQEBAQEBAQEBAQABAQABAQEBAQABAQEBAQEAAQEBAAEBAQEBAQEAAQEBAQEBAAEAAQAAAAABAQEAAAEBAAEBAQABAQEBAAAAAAEAAQEAAAABAQEBAAEAAAEBAQEBAQEBAAEAAQEBAAEBAAAAAAEBAQABAAEAAAEAAAEBAQEBAQABAQABAAEBAQABAQEBAAABAAABAAEAAQEAAQEAAQEAAQAAAQEBAQEAAAEBAQEBAAEBAAEBAQAAAQEAAAABAQEBAAABAAABAQEBAQA=",
          "dtype": "i1"
         },
         "xaxis": "x",
         "yaxis": "y"
        }
       ],
       "layout": {
        "barmode": "relative",
        "legend": {
         "tracegroupgap": 0
        },
        "margin": {
         "t": 60
        },
        "template": {
         "data": {
          "bar": [
           {
            "error_x": {
             "color": "#2a3f5f"
            },
            "error_y": {
             "color": "#2a3f5f"
            },
            "marker": {
             "line": {
              "color": "#E5ECF6",
              "width": 0.5
             },
             "pattern": {
              "fillmode": "overlay",
              "size": 10,
              "solidity": 0.2
             }
            },
            "type": "bar"
           }
          ],
          "barpolar": [
           {
            "marker": {
             "line": {
              "color": "#E5ECF6",
              "width": 0.5
             },
             "pattern": {
              "fillmode": "overlay",
              "size": 10,
              "solidity": 0.2
             }
            },
            "type": "barpolar"
           }
          ],
          "carpet": [
           {
            "aaxis": {
             "endlinecolor": "#2a3f5f",
             "gridcolor": "white",
             "linecolor": "white",
             "minorgridcolor": "white",
             "startlinecolor": "#2a3f5f"
            },
            "baxis": {
             "endlinecolor": "#2a3f5f",
             "gridcolor": "white",
             "linecolor": "white",
             "minorgridcolor": "white",
             "startlinecolor": "#2a3f5f"
            },
            "type": "carpet"
           }
          ],
          "choropleth": [
           {
            "colorbar": {
             "outlinewidth": 0,
             "ticks": ""
            },
            "type": "choropleth"
           }
          ],
          "contour": [
           {
            "colorbar": {
             "outlinewidth": 0,
             "ticks": ""
            },
            "colorscale": [
             [
              0,
              "#0d0887"
             ],
             [
              0.1111111111111111,
              "#46039f"
             ],
             [
              0.2222222222222222,
              "#7201a8"
             ],
             [
              0.3333333333333333,
              "#9c179e"
             ],
             [
              0.4444444444444444,
              "#bd3786"
             ],
             [
              0.5555555555555556,
              "#d8576b"
             ],
             [
              0.6666666666666666,
              "#ed7953"
             ],
             [
              0.7777777777777778,
              "#fb9f3a"
             ],
             [
              0.8888888888888888,
              "#fdca26"
             ],
             [
              1,
              "#f0f921"
             ]
            ],
            "type": "contour"
           }
          ],
          "contourcarpet": [
           {
            "colorbar": {
             "outlinewidth": 0,
             "ticks": ""
            },
            "type": "contourcarpet"
           }
          ],
          "heatmap": [
           {
            "colorbar": {
             "outlinewidth": 0,
             "ticks": ""
            },
            "colorscale": [
             [
              0,
              "#0d0887"
             ],
             [
              0.1111111111111111,
              "#46039f"
             ],
             [
              0.2222222222222222,
              "#7201a8"
             ],
             [
              0.3333333333333333,
              "#9c179e"
             ],
             [
              0.4444444444444444,
              "#bd3786"
             ],
             [
              0.5555555555555556,
              "#d8576b"
             ],
             [
              0.6666666666666666,
              "#ed7953"
             ],
             [
              0.7777777777777778,
              "#fb9f3a"
             ],
             [
              0.8888888888888888,
              "#fdca26"
             ],
             [
              1,
              "#f0f921"
             ]
            ],
            "type": "heatmap"
           }
          ],
          "histogram": [
           {
            "marker": {
             "pattern": {
              "fillmode": "overlay",
              "size": 10,
              "solidity": 0.2
             }
            },
            "type": "histogram"
           }
          ],
          "histogram2d": [
           {
            "colorbar": {
             "outlinewidth": 0,
             "ticks": ""
            },
            "colorscale": [
             [
              0,
              "#0d0887"
             ],
             [
              0.1111111111111111,
              "#46039f"
             ],
             [
              0.2222222222222222,
              "#7201a8"
             ],
             [
              0.3333333333333333,
              "#9c179e"
             ],
             [
              0.4444444444444444,
              "#bd3786"
             ],
             [
              0.5555555555555556,
              "#d8576b"
             ],
             [
              0.6666666666666666,
              "#ed7953"
             ],
             [
              0.7777777777777778,
              "#fb9f3a"
             ],
             [
              0.8888888888888888,
              "#fdca26"
             ],
             [
              1,
              "#f0f921"
             ]
            ],
            "type": "histogram2d"
           }
          ],
          "histogram2dcontour": [
           {
            "colorbar": {
             "outlinewidth": 0,
             "ticks": ""
            },
            "colorscale": [
             [
              0,
              "#0d0887"
             ],
             [
              0.1111111111111111,
              "#46039f"
             ],
             [
              0.2222222222222222,
              "#7201a8"
             ],
             [
              0.3333333333333333,
              "#9c179e"
             ],
             [
              0.4444444444444444,
              "#bd3786"
             ],
             [
              0.5555555555555556,
              "#d8576b"
             ],
             [
              0.6666666666666666,
              "#ed7953"
             ],
             [
              0.7777777777777778,
              "#fb9f3a"
             ],
             [
              0.8888888888888888,
              "#fdca26"
             ],
             [
              1,
              "#f0f921"
             ]
            ],
            "type": "histogram2dcontour"
           }
          ],
          "mesh3d": [
           {
            "colorbar": {
             "outlinewidth": 0,
             "ticks": ""
            },
            "type": "mesh3d"
           }
          ],
          "parcoords": [
           {
            "line": {
             "colorbar": {
              "outlinewidth": 0,
              "ticks": ""
             }
            },
            "type": "parcoords"
           }
          ],
          "pie": [
           {
            "automargin": true,
            "type": "pie"
           }
          ],
          "scatter": [
           {
            "fillpattern": {
             "fillmode": "overlay",
             "size": 10,
             "solidity": 0.2
            },
            "type": "scatter"
           }
          ],
          "scatter3d": [
           {
            "line": {
             "colorbar": {
              "outlinewidth": 0,
              "ticks": ""
             }
            },
            "marker": {
             "colorbar": {
              "outlinewidth": 0,
              "ticks": ""
             }
            },
            "type": "scatter3d"
           }
          ],
          "scattercarpet": [
           {
            "marker": {
             "colorbar": {
              "outlinewidth": 0,
              "ticks": ""
             }
            },
            "type": "scattercarpet"
           }
          ],
          "scattergeo": [
           {
            "marker": {
             "colorbar": {
              "outlinewidth": 0,
              "ticks": ""
             }
            },
            "type": "scattergeo"
           }
          ],
          "scattergl": [
           {
            "marker": {
             "colorbar": {
              "outlinewidth": 0,
              "ticks": ""
             }
            },
            "type": "scattergl"
           }
          ],
          "scattermap": [
           {
            "marker": {
             "colorbar": {
              "outlinewidth": 0,
              "ticks": ""
             }
            },
            "type": "scattermap"
           }
          ],
          "scattermapbox": [
           {
            "marker": {
             "colorbar": {
              "outlinewidth": 0,
              "ticks": ""
             }
            },
            "type": "scattermapbox"
           }
          ],
          "scatterpolar": [
           {
            "marker": {
             "colorbar": {
              "outlinewidth": 0,
              "ticks": ""
             }
            },
            "type": "scatterpolar"
           }
          ],
          "scatterpolargl": [
           {
            "marker": {
             "colorbar": {
              "outlinewidth": 0,
              "ticks": ""
             }
            },
            "type": "scatterpolargl"
           }
          ],
          "scatterternary": [
           {
            "marker": {
             "colorbar": {
              "outlinewidth": 0,
              "ticks": ""
             }
            },
            "type": "scatterternary"
           }
          ],
          "surface": [
           {
            "colorbar": {
             "outlinewidth": 0,
             "ticks": ""
            },
            "colorscale": [
             [
              0,
              "#0d0887"
             ],
             [
              0.1111111111111111,
              "#46039f"
             ],
             [
              0.2222222222222222,
              "#7201a8"
             ],
             [
              0.3333333333333333,
              "#9c179e"
             ],
             [
              0.4444444444444444,
              "#bd3786"
             ],
             [
              0.5555555555555556,
              "#d8576b"
             ],
             [
              0.6666666666666666,
              "#ed7953"
             ],
             [
              0.7777777777777778,
              "#fb9f3a"
             ],
             [
              0.8888888888888888,
              "#fdca26"
             ],
             [
              1,
              "#f0f921"
             ]
            ],
            "type": "surface"
           }
          ],
          "table": [
           {
            "cells": {
             "fill": {
              "color": "#EBF0F8"
             },
             "line": {
              "color": "white"
             }
            },
            "header": {
             "fill": {
              "color": "#C8D4E3"
             },
             "line": {
              "color": "white"
             }
            },
            "type": "table"
           }
          ]
         },
         "layout": {
          "annotationdefaults": {
           "arrowcolor": "#2a3f5f",
           "arrowhead": 0,
           "arrowwidth": 1
          },
          "autotypenumbers": "strict",
          "coloraxis": {
           "colorbar": {
            "outlinewidth": 0,
            "ticks": ""
           }
          },
          "colorscale": {
           "diverging": [
            [
             0,
             "#8e0152"
            ],
            [
             0.1,
             "#c51b7d"
            ],
            [
             0.2,
             "#de77ae"
            ],
            [
             0.3,
             "#f1b6da"
            ],
            [
             0.4,
             "#fde0ef"
            ],
            [
             0.5,
             "#f7f7f7"
            ],
            [
             0.6,
             "#e6f5d0"
            ],
            [
             0.7,
             "#b8e186"
            ],
            [
             0.8,
             "#7fbc41"
            ],
            [
             0.9,
             "#4d9221"
            ],
            [
             1,
             "#276419"
            ]
           ],
           "sequential": [
            [
             0,
             "#0d0887"
            ],
            [
             0.1111111111111111,
             "#46039f"
            ],
            [
             0.2222222222222222,
             "#7201a8"
            ],
            [
             0.3333333333333333,
             "#9c179e"
            ],
            [
             0.4444444444444444,
             "#bd3786"
            ],
            [
             0.5555555555555556,
             "#d8576b"
            ],
            [
             0.6666666666666666,
             "#ed7953"
            ],
            [
             0.7777777777777778,
             "#fb9f3a"
            ],
            [
             0.8888888888888888,
             "#fdca26"
            ],
            [
             1,
             "#f0f921"
            ]
           ],
           "sequentialminus": [
            [
             0,
             "#0d0887"
            ],
            [
             0.1111111111111111,
             "#46039f"
            ],
            [
             0.2222222222222222,
             "#7201a8"
            ],
            [
             0.3333333333333333,
             "#9c179e"
            ],
            [
             0.4444444444444444,
             "#bd3786"
            ],
            [
             0.5555555555555556,
             "#d8576b"
            ],
            [
             0.6666666666666666,
             "#ed7953"
            ],
            [
             0.7777777777777778,
             "#fb9f3a"
            ],
            [
             0.8888888888888888,
             "#fdca26"
            ],
            [
             1,
             "#f0f921"
            ]
           ]
          },
          "colorway": [
           "#636efa",
           "#EF553B",
           "#00cc96",
           "#ab63fa",
           "#FFA15A",
           "#19d3f3",
           "#FF6692",
           "#B6E880",
           "#FF97FF",
           "#FECB52"
          ],
          "font": {
           "color": "#2a3f5f"
          },
          "geo": {
           "bgcolor": "white",
           "lakecolor": "white",
           "landcolor": "#E5ECF6",
           "showlakes": true,
           "showland": true,
           "subunitcolor": "white"
          },
          "hoverlabel": {
           "align": "left"
          },
          "hovermode": "closest",
          "mapbox": {
           "style": "light"
          },
          "paper_bgcolor": "white",
          "plot_bgcolor": "#E5ECF6",
          "polar": {
           "angularaxis": {
            "gridcolor": "white",
            "linecolor": "white",
            "ticks": ""
           },
           "bgcolor": "#E5ECF6",
           "radialaxis": {
            "gridcolor": "white",
            "linecolor": "white",
            "ticks": ""
           }
          },
          "scene": {
           "xaxis": {
            "backgroundcolor": "#E5ECF6",
            "gridcolor": "white",
            "gridwidth": 2,
            "linecolor": "white",
            "showbackground": true,
            "ticks": "",
            "zerolinecolor": "white"
           },
           "yaxis": {
            "backgroundcolor": "#E5ECF6",
            "gridcolor": "white",
            "gridwidth": 2,
            "linecolor": "white",
            "showbackground": true,
            "ticks": "",
            "zerolinecolor": "white"
           },
           "zaxis": {
            "backgroundcolor": "#E5ECF6",
            "gridcolor": "white",
            "gridwidth": 2,
            "linecolor": "white",
            "showbackground": true,
            "ticks": "",
            "zerolinecolor": "white"
           }
          },
          "shapedefaults": {
           "line": {
            "color": "#2a3f5f"
           }
          },
          "ternary": {
           "aaxis": {
            "gridcolor": "white",
            "linecolor": "white",
            "ticks": ""
           },
           "baxis": {
            "gridcolor": "white",
            "linecolor": "white",
            "ticks": ""
           },
           "bgcolor": "#E5ECF6",
           "caxis": {
            "gridcolor": "white",
            "linecolor": "white",
            "ticks": ""
           }
          },
          "title": {
           "x": 0.05
          },
          "xaxis": {
           "automargin": true,
           "gridcolor": "white",
           "linecolor": "white",
           "ticks": "",
           "title": {
            "standoff": 15
           },
           "zerolinecolor": "white",
           "zerolinewidth": 2
          },
          "yaxis": {
           "automargin": true,
           "gridcolor": "white",
           "linecolor": "white",
           "ticks": "",
           "title": {
            "standoff": 15
           },
           "zerolinecolor": "white",
           "zerolinewidth": 2
          }
         }
        },
        "xaxis": {
         "anchor": "y",
         "domain": [
          0,
          1
         ],
         "title": {
          "text": "engagement"
         }
        },
        "yaxis": {
         "anchor": "x",
         "domain": [
          0,
          1
         ],
         "title": {
          "text": "count"
         }
        }
       }
      }
     },
     "metadata": {},
     "output_type": "display_data"
    }
   ],
   "source": [
    "px.histogram(df_binary,\n",
    "             'engagement')"
   ]
  },
  {
   "cell_type": "code",
   "execution_count": null,
   "id": "44d4e7ee",
   "metadata": {},
   "outputs": [
    {
     "data": {
      "application/vnd.plotly.v1+json": {
       "config": {
        "plotlyServerURL": "https://plot.ly"
       },
       "data": [
        {
         "bingroup": "x",
         "hovertemplate": "confusion=%{x}<br>count=%{y}<extra></extra>",
         "legendgroup": "",
         "marker": {
          "color": "#636efa",
          "pattern": {
           "shape": ""
          }
         },
         "name": "",
         "orientation": "v",
         "showlegend": false,
         "type": "histogram",
         "x": {
          "bdata": "AAAAAAAAAAEAAAIAAAAAAAAAAAAAAAAAAAAAAAAAAAAAAAAAAQAAAQAAAAAAAAABAQAAAAAAAAAAAAAAAAAAAAAAAAAAAAAAAAMAAAAAAAEAAAAAAAAAAAAAAAAAAAAAAAAAAAAAAQABAAAAAAAAAQAAAAAAAAIAAAAAAQABAAABAAEBAAEAAAEAAAEBAQAAAAMCAwMCAgAAAAAAAAAAAAAAAgAAAAAAAAEAAQAAAAABAQABAQECAAAAAgAAAAMBAgIAAAAAAAIBAQECAAABAgEAAAAAAQACAQIAAgACAAEAAAAAAAEAAAABAgEAAgAAAgIBAAAAAAABAAEAAAABAAAAAAEAAAAAAAAAAAEAAAAAAgAAAAEAAAIAAAAAAAAAAAAAAAAAAAAAAAAAAAAAAAAAAAAAAAAAAAAAAAAAAAEAAAAAAAAAAAACAQEAAAAAAQEAAAABAAIAAAAAAAAAAAAAAAABAAABAQAAAAAAAAAAAAACAAAAAAAAAAAAAAAAAAAAAQABAAAAAAABAgEAAAAAAAAAAQEAAAEBAAAAAAAAAQEAAAAAAAAAAQAAAAAAAAAAAAAAAAAAAAAAAAAAAAAAAAAAAAAAAAAAAAEBAAABAAAAAAAAAAAAAQAAAAAAAAABAQAAAAABAAAAAAAAAAAAAAAAAAACAAAAAQAAAQAAAAACAAAAAAABAAAAAAAAAAAAAQEAAAAAAAAAAAAAAAIAAAAAAAAAAQAAAAAAAAAAAAAAAAAAAAAAAQAAAAAAAAAAAAAAAQEAAQAAAAAAAAAAAAAAAAAAAgAAAQAAAgAAAAEAAAAAAAEAAAAAAAEBAAAAAAEAAAAAAAAAAAABAAAAAAAAAAAAAAAAAAEAAAAAAAABAAAAAAAAAAABAAAAAAAAAAAAAAAAAAAAAgAAAAEAAAAAAAIAAQAAAQACAgAAAAABAgACAAABAgAAAAEAAQIAAQAAAQEAAQAAAAAAAgAAAAABAAEAAQEAAgAAAAAAAAAAAAEAAAAAAAABAgAAAAAAAQAAAQAAAQAAAAABAAIAAAABAgABAAAAAgAAAAAAAQAAAAECAAAAAAAAAAAAAAAAAAAAAgAAAAACAAAAAAAAAAABAAAAAQEDAAAAAAAAAwEAAAEAAAAAAAAAAQAAAgAAAwAAAQIDAAAAAAIAAAABAAAAAAABAQAAAAABAAECAQACAgABAAECAgABAAEAAAEAAAAAAQABAAAAAAEAAgAAAAEBAAAAAQEAAgAAAAAAAAAAAQAAAAAAAQAAAQEAAAAAAAAAAAAAAAABAAABAAAAAAIBAgAAAAABAAMCAQACAQEAAgICAAIAAQEAAAEAAQIAAAMAAAEDAgEAAgECAQABAAEBAgIAAQAAAQICAgIDAwECAQICAgMDAAIAAQICAAEBAQAAAQAAAAEBAAEBAAEBAgAAAQEBAQAAAAABAQABAQEBAAABAQEBAAAAAAEAAAEBAQEBAQABAQABAAIBAQEBAAEAAAABAAAAAAAAAAEAAAEAAAEAAAEAAAABAAEAAAEAAQEBAAAAAAAAAQAAAAAAAQAAAQAAAAAAAAEAAAAAAAAAAAAAAAACAAAAAQAAAAEAAAAAAAAAAAABAAABAAAAAAIAAgIAAAAAAAABAgEBAAAAAgAAAAABAAIBAQACAAAAAQAAAAABAAEBAAABAAAAAAAAAAAAAQAAAAAAAAEAAAIAAAEAAAAAAAABAAAAAAEAAAEAAQACAAAAAAEAAQAAAAAAAAAAAAMAAAAAAAABAAAAAAEAAQAAAAABAAEAAAEBAQAAAAEAAAAAAAAAAAAAAgIBAQABAQIAAAAAAAAAAAAAAAIAAQAAAAAAAAAAAAACAAAAAAEAAgABAAAAAAAAAQAAAAMBAAECAAAAAQAAAAEBAAEAAQEBAAIBAQABAQEBAQEBAQICAQICAQICAAABAQIBAAIBAQICAQEAAQABAQIBAgMAAAECAgIBAQECAQEDAQICAQMAAQEAAAEAAQEAAAAAAAAAAQAAAQEAAAEAAAIAAAACAgAAAAAAAAEAAAACAQEAAAAAAAAAAAIBAQEAAAAAAAAAAQAAAAAAAAAAAAIAAAAAAAAAAQAAAAAAAAAAAAABAAAAAAEAAAAAAQABAQAAAQABAQAAAAIAAQIAAAEAAAEAAAAAAAAAAQABAAAAAAABAAAAAQAAAAAAAQAAAAACAAAAAQAAAQEAAAAAAAAAAAEAAAABAAABAAAAAgEBAgEAAAEAAAAAAAABAAIAAQAAAAEAAAEBAAABAAEAAQAAAAAAAAIBAAAAAgAAAAIAAAAAAQEAAAACAAIAAQACAAAAAgABAAABAQACAAEBAQEBAAEAAAACAQIAAAEAAQABAAACAAIAAAMBAAAAAAAAAAAAAAAAAAABAAABAAACAAAAAQEAAAAAAAAAAAEAAAAAAgICAAICAAABAAAAAAEAAgAAAAAAAAACAgAAAgICAAACAQAAAAABAgAAAAEAAAAAAQACAAAAAAAAAgEAAAEDAAIBAgABAQEAAAABAgABAQADAAAAAAABAQABAgICAAABAQIAAQIAAgEAAAIAAAICAAEBAgABAAAAAQEAAAAAAQAAAAAAAAAAAQAAAAEAAAEAAAEAAAAAAAEAAQAAAAAAAAAAAAAAAAAAAAAAAAAAAgABAQAAAAAAAAAAAAIAAAEBAAAAAQIBAQABAAMAAQABAgAAAAABAAABAAAAAAAAAQEAAAAAAAAAAQAAAAAAAAAAAAABAAEAAQAAAAAAAQAAAAAAAAABAAAAAAAAAAAAAAAAAAAAAAEBAAAAAAEAAAAAAQAAAQAAAAEBAwAAAQAAAAAAAAAAAAEAAAABAAEBAAEAAAAAAQAAAAIAAAAAAQACAAAAAAEBAQAAAAAAAAAAAAAAAAAAAQAAAAAAAAAAAQEAAAAAAAAAAAACAAABAAAAAAABAAAAAAAAAAAAAAAAAAAAAAICAAEAAAAAAAAAAAEAAAAAAQAAAAAAAAAAAAIAAAAAAAAAAQAAAQAAAAABAAEAAgEAAAAAAQAAAAAAAAEAAAIAAAAAAAAAAAAAAAIAAAAAAQABAAABAAAAAAEAAAIAAQAAAAAAAAAAAQAAAAEBAQABAAAAAAAAAAAAAAAAAAAAAgAAAAAAAAAAAAAAAAABAAEAAQEAAgACAAAAAQAAAAACAAABAAAAAgAAAAABAAAAAAEAAAAAAAAAAAEAAAABAAEAAgECAAAAAQAAAAAAAAECAAABAAEBAAICAAMAAgABAAABAAACAAEAAAEAAAAAAgEBAAAAAAIAAAABAAACAAAAAAAAAAABAQABAAAAAQAAAAACAAIAAAAAAAACAAAAAQAAAAABAQAAAAAAAAAAAgAAAQAAAQAAAAABAgIAAAAAAQEAAAIAAQAAAAACAwACAQABAAIBAAAAAwEAAAAAAAIAAQABAgACAAICAQABAAEAAQIBAAABAAECAgIAAAAAAgABAgADAQABAQIBAgEAAAABAAEBAAEBAQACAQEBAAEAAAEAAAEAAQACAAEAAgMAAQEBAQECAAAAAAAAAQEBAQABAQABAAEAAQMBAgAAAAABAAICAQEAAAAAAAAAAAAAAAIBAAEBAQEBAQEBAAEAAAABAAABAAAAAgEAAQECAAAAAAAAAAABAQEBAQECAQAAAQIAAQABAAEAAAEBAgEAAAIAAQEBAQABAAEAAQAAAAEBAQABAQEBAQAAAQABAgMBAgABAAAAAAIAAAEAAQABAQAAAAEAAQIAAgACAQAAAAAAAgACAgABAAAAAAICAQAAAQECAgIAAgAAAAACAgIDAgMCAAIBAAEAAAACAAAAAgAAAQAAAAAAAAAAAAAAAgECAAAAAQEAAQAAAAAAAQABAAAAAAABAAEAAAAAAQAAAAABAQAAAAAAAQAAAAAAAAAAAAAAAAABAAAAAQIBAAEAAAABAAAAAgACAQACAAAAAAEBAAAAAAAAAQAAAQABAAAAAAACAAAAAAAAAAEAAgAAAAEAAAEAAAAAAAEAAQADAAIAAAABAAEAAgIAAQIAAAABAAEAAAAAAQABAAAAAgAAAAACAAEAAQIAAgAAAgAAAAEAAQAAAAAAAQEAAAEAAAAAAAABAAAAAwEAAQABAAAAAQEAAAAAAAAAAAAAAQAAAAAAAAAAAQAAAAAAAAAAAAAAAAABAgAAAAECAAAAAQEAAAAAAAAAAAAAAAEAAAAAAQAAAAAAAAAAAAABAAAAAAAAAAECAAAAAQIAAAAAAAAAAAAAAAAAAAAAAAAAAAABAAAAAAAAAQABAQAAAAAAAAAAAAAAAQEAAAAAAQAAAAAAAAABAAAAAQAAAAAAAAAAAAAAAAAAAQIBAAAAAAAAAAAAAAAAAAAAAAAAAAAAAAAAAAAAAAABAAAAAAAAAAAAAAAAAAAAAAAAAAABAQAAAAAAAAAAAAAAAQAAAAAAAAEAAAAAAAIDAQAAAAIBAQAAAwABAAAAAAAAAAAAAAAAAAAAAAAAAAAAAQACAQABAAABAAAAAAAAAAAAAAAAAAAAAAAAAAAAAAAAAAABAAEAAQAAAAAAAAAAAQAAAAAAAAAAAQAAAAAAAAAAAAAAAQAAAgAAAgAAAAAAAQAAAAEAAQAAAAAAAAAAAAEAAAAAAAAAAAAAAAAAAAEAAAAAAAAAAAABAAAAAAAAAQAAAAABAAAAAAEAAQMBAgAAAAAAAAAAAAEAAAEAAgAAAQAAAAAAAAAAAQAAAAAAAAAAAAAAAAAAAAAAAQAAAAABAAAAAAAAAAEAAAEAAAEAAgABAAIAAgIBAQIAAAAAAAAAAAEBAAEBAQECAAECAgIAAgAAAAAAAAMBAAIAAAEBAgABAQAAAAEAAQAAAAAAAQAAAAEAAAACAAEBAAEAAAEAAAAAAQAAAAAAAAAAAgACAAAAAAAAAAACAAAAAAABAAAAAAIBAAAAAQAAAAACAAAAAQAAAAABAAAAAAAAAAEAAAEAAAABAAABAAAAAAAAAAAAAAACAAICAAAAAAAAAAAAAQAAAAAAAgAAAAAAAAEAAAAAAAIAAQEBAAAAAQAAAAABAQAAAQAAAAAAAAAAAAAAAAAAAAIAAAIBAAEAAAIAAAAAAAECAAAAAAECAgAAAAAAAAAAAAAAAAAAAgAAAAAAAAAAAQAAAAEAAAABAAAAAAEAAQAAAAAAAAAAAAAAAAAAAQEAAAAAAAABAQAAAAEBAQAAAAEAAAAAAAEBAAAAAAAAAAEAAQAAAAADAQIAAAAAAAAAAgAAAAMAAAAAAAAAAAAAAQAAAAACAAABAQAAAAAAAAMBAQAAAAIAAAEBAQAAAAAAAAAAAAAAAAAAAAAAAgAAAAAAAAAAAAEAAQAAAAABAAAAAAIAAAAAAAABAAABAAAAAAAAAAAAAQAAAAEAAAAAAQAAAQAAAAEAAQEBAgEBAgABAQEBAQEBAQIBAQEBAQAAAwEBAQAAAQABAQAAAgEAAQEBAQEAAAACAAAAAAABAAEBAQABAQIBAQICAgEDAQABAQAAAAIBAgICAwABAgIBAgACAwABAwEBAQEDAgMCAwMBAgEAAAEAAAAAAQABAQEAAAEAAAAAAQAAAAEBAAEAAAAAAQACAQAAAAEBAQEAAAEBAAABAQEBAAABAQEAAAABAAEAAQAAAAAAAAEAAAAAAQABAQEBAQABAAACAQABAQAAAQEBAQEAAAABAQAAAQEAAQAAAQAAAAMAAQEAAAEBAAAAAQABAAAAAAAAAAAAAAEAAAAAAQAAAQABAgABAAABAQAAAAAAAAEAAAAAAAEAAQAAAAAAAAAAAAEAAQAAAAEAAAABAAAAAAAAAQABAAAAAAAAAQABAAEAAAIAAQACAQICAgABAgEAAAAAAgIAAQAAAAEBAQIAAAABAQAAAgAAAAAAAAAAAgAAAAIBAAAAAAAAAgAAAAAAAAAAAQAAAAAAAAAAAAEAAAICAAAAAAAAAAAAAQAAAAAAAAEAAAABAAAAAAACAQAAAQAAAAAAAQACAwMAAQABAgAAAAEBAQAAAAIAAQIAAAMBAAIBAQMAAgMBAAACAAAAAAEAAgAAAgIAAAIBAgAAAgABAQICAQAAAAABAAAAAAABAAABAAIAAQEAAgACAgEBAAEAAAEBAAAAAAAAAAEAAQEAAQAAAAAAAgABAAAAAAIAAAAAAQABAAAAAAACAAAAAAAAAAEBAAAAAAACAgIAAAAAAAABAQAAAAEAAAEAAAAAAAAAAAEAAAEAAQEBAAAAAgABAAABAAEAAAABAQAAAAEBAQAAAAEAAAABAAAAAAEBAAAAAAEBAAEAAAAAAAABAQAAAAAAAAEBAAEAAQIAAAAAAAAAAAEAAQEAAAIAAQEBAQEBAAEBAAAAAQAAAAEAAQIAAAEBAgECAQEBAAAAAAEAAQEBAAAAAQABAAAAAAEAAQAAAQAAAAAAAQAAAAEDAQEBAAIAAAEAAAAAAAAAAQEAAAMAAAAAAAAAAAEAAQAAAAAAAAABAAAAAAAAAAABAQAAAgAAAAABAAABAAAAAAAAAAICAAAAAAABAQAAAAEAAQAAAQEAAAAAAgAAAAABAAAAAAAAAAAAAAAAAAEAAAEAAAAAAAAAAAAAAAABAAEAAAAAAAAAAAAAAQAAAQAAAAIAAAAAAAAAAAAAAAEAAAAAAAABAAAAAAAAAAAAAAAAAAABAAAAAAAAAAAAAAABAAAAAAIBAAAAAQEAAAAAAAAAAAAAAQABAAAAAAAAAAAAAAIAAgABAAAAAgEAAAAAAAABAAIAAAEAAAAAAAEAAAAAAAAAAAEAAQAAAAIAAgAAAAECAAAAAAAAAAAAAgICAQABAAACAAABAAAAAgIDAAECAAIAAgIBAAABAAECAAAAAAIAAAABAAABAAAAAAABAAABAAAAAQIAAAAAAAEAAwAAAQEAAwEAAgEAAAAAAgEAAAABAgAAAAABAAAAAAAAAQABAQEAAAAAAQAAAAAAAAAAAAACAAAAAQAAAQIAAAACAQABAAAAAAAAAAIBAAAAAQAAAAEAAQABAQIAAQAAAAEAAQAAAAAAAQEAAAEAAAEAAAABAAABAgAAAgAAAgAAAAACAAIAAAAAAgAAAgABAQIBAAIAAgECAgIBAAABAgABAAAAAAACAQIBAAAAAgABAgIAAgAAAAACAAEAAAAAAgIBAQACAAAAAwEAAQAAAQAAAAIAAAICAAICAgAAAQEBAAABAAACAgABAgMAAgAAAQAAAAAAAQACAAABAAAAAAICAgAAAAAAAAAAAAEBAAABAAEAAAAAAAIBAAAAAgAAAAABAAAAAAAAAAAAAAAAAQEAAAAAAQAAAAIAAQEAAQAAAAIAAAEAAAABAAAAAAAAAQAAAQAAAAEBAAAAAAABAAABAAIBAAIAAgEAAgIAAAACAQACAgIBAQIBAQEBAQIBAgEBAQEBAQABAwABAgICAgEBAAIBAAAAAAABAQAAAAIBAQABAQAAAAIAAAABAAACAQECAAECAAICAQAAAAAAAgIBAAICAQABAAAAAwECAAACAAICAgAAAQEAAQICAQMDAAECAAEAAAEBAAIAAQAAAAAAAAECAgAAAAEAAAAAAAACAQIAAAACAQEAAAABAAAAAAAAAAAAAgIAAAEDAQABAAAAAAAAAAAAAQAAAQECAAABAAECAAAAAAAAAAAAAAABAAAAAQAAAAAAAAEAAAAAAAEAAQEAAAAAAQAAAAAAAAAAAAAAAgAAAAABAAAAAAAAAAABAAAAAAIAAQAAAAIAAAACAAAAAQAAAAAAAAAAAAAAAQABAAAAAQABAAAAAAAAAAAAAAAAAAAAAAAAAAAAAAAAAAACAAAAAAAAAQEAAAAAAAEAAQAAAAAAAAACAAABAgIAAAAAAQABAAAAAgACAAAAAAABAAAAAAAAAAABAAAAAAABAAAAAQAAAAAAAAAAAAEAAAEAAQABAAAAAAAAAAAAAAAAAAAAAQAAAAABAgEAAQAAAgAAAQAAAAAAAAABAAAAAAAAAAAAAAABAAAAAAAAAAAAAAAAAAAAAAAAAAECAQEAAAEBAAAAAAEAAQEAAAABAAABAQEBAAEAAAABAAEAAAABAQEAAgEBAAEAAAAAAAEAAAEBAQAAAQAAAAACAAACAAAAAQAAAAAAAAABAAAAAQEAAQIAAgEAAQEAAAEAAQEBAQAAAQIAAgACAQACAAEAAQECAQECAQEBAAEBAAABAAIBAgEBAQEBAgAAAQEAAAEDAQEBAQEBAgEBAAIBAQECAAEAAQABAAAAAAABAAABAAABAQEAAAABAQAAAAEAAAABAAAAAAEAAQAAAAEBAAAAAQEAAAABAAAAAAEAAQAAAAAAAQAAAQIAAAAAAQEAAAAAAQAAAAAAAAEBAAEAAAEAAQAAAAAAAgEAAAABAAAAAAAAAQAAAQAAAAAAAAAAAAABAAAAAAAAAQIAAQEAAAABAAAAAAAAAAAAAAAAAAAAAAEAAAAAAAABAAAAAAAAAgACAAEAAAEAAAAAAAAAAAEAAAAAAAAAAQABAAEBAAAAAAAAAAAAAQAAAgAAAAAAAAIAAAAAAAAAAAEAAQABAAAAAgABAAEAAAAAAQEAAAEAAAABAAAAAAAAAAAAAAAAAAEAAAAAAAAAAAABAAEBAAEAAAAAAAEAAQABAAAAAAEAAAABAAEAAQEAAAIAAAAAAAAAAAIAAAEAAQACAAIAAAAAAAAAAgAAAgIBAQAAAAEAAAIBAAAAAAEAAAEAAAEAAAAAAAAAAQACAgEBAAAAAgEDAgAAAAEAAAAAAAEAAAAAAgAAAAAAAAIAAAAAAAACAAAAAAAAAQAAAAAAAAABAAAAAAAAAAEAAAABAAABAQAAAAAAAAABAAEAAAEBAAAAAAAAAAAAAAMCAAEAAAAAAAAAAAAAAAAAAQAAAAAAAAIBAAAAAAAAAAAAAAEBAAAAAAAAAAAAAAABAAAAAAAAAAAAAAACAAAAAAAAAAAAAAAAAAABAAEAAAAAAAAAAAAAAAEAAAAAAAAAAAABAAAAAAAAAQAAAAAAAQABAAIAAQEBAAADAgAAAAAAAAABAAAAAAEAAAEAAAAAAQAAAQABAAAAAAAAAgACAAACAgABAAAAAAAAAAEAAQACAAEAAAAAAAAAAQAAAAAAAAAAAAAAAAIAAAEAAAABAAABAAAAAAEAAQECAAAAAAEBAwAAAAAAAAAAAAAAAAACAAAAAAAAAAEAAQAAAAAAAAEAAAAAAAAAAAAAAAAAAAEAAQAAAAAAAAIAAAAAAAABAAAAAAAAAAAAAQAAAAABAQABAQAAAAABAAAAAQAAAAAAAAAAAAAAAAAAAAABAAAAAAAAAAAAAgAAAAAAAQAAAAAAAAAAAAAAAAAAAAAAAAAAAAAAAAEAAQAAAAAAAAAAAQAAAAEAAAEAAAEAAAAAAAABAAABAAAAAAAAAQAAAAAAAAAAAAABAQAAAQAAAAEBAAIAAAAAAQAAAAEAAQEAAAEDAQEAAAIAAAAAAQIBAAAAAAAAAAAAAgABAQEAAAAAAAAAAAAAAAAAAQAAAAEBAQAAAAAAAQEAAgAAAQAAAQAAAAAAAAABAAAAAAAAAQABAQEAAAAAAAABAAAAAQAAAAEAAAABAAABAAABAAABAQAAAAABAQABAAAAAAAAAQACAAAAAAEAAAEAAAAAAAAAAAAAAQACAQEAAAABAAAAAAEAAQACAAABAAAAAQAAAAAAAAAAAAAAAQAAAAAAAAABAAAAAAAAAAEAAAABAAAAAAAAAAAAAAAAAAAAAgEAAAEAAQAAAAAAAAAAAAAAAQAAAAAAAQAAAQAAAQAAAAAAAgIAAgIAAAEAAQAAAgAAAAABAAEAAAACAAMAAAECAAIBAAAAAgIBAQEBAAEAAgACAAIAAgEDAAAAAAMAAAAAAAEBAAEAAAAAAwADAAAAAQIDAAICAgABAAEAAAACAAIBAQAAAAMBAQICAAACAgEAAgIAAgIAAAABAwAAAAABAgACAAIAAgECAQIBAAECAgECAQEAAwIBAgACAAAAAAEDAQICAQABAAEAAAEAAgIBAAEAAQABAQAAAAAAAAIAAAACAQICAAACAAEAAAAAAQAAAQECAQEAAQEBAAABAAEAAQIBAAEBAAABAQEAAQABAAABAAIAAQABAAAAAAEAAQACAgECAQIBAAEAAgEBAQAAAQAAAAAAAgEAAQEBAQEAAAIBAAEBAQAAAgEAAQEAAAEBAAIBAQABAQABAAEAAAEBAQAAAQABAAACAAABAAEAAQAAAgABAAEAAAAAAAEAAAEAAAEAAQEAAQIAAAAAAAABAQAAAQEBAQAAAAEBAAAAAAABAgABAAIAAAAAAAAAAQAAAQAAAQEAAAMAAAEAAAABAAAAAAAAAAEAAQAAAQAAAAAAAAAAAAABAAAAAQEBAQABAAEAAQABAAAAAQABAQABAQADAQMBAwAAAAAAAAEAAAABAAABAgAAAQABAAAAAQEAAQAAAgABAQIAAQABAAEAAAABAQEBAQAAAAEAAAAAAQABAAAAAQIAAQEAAAAAAAA=",
          "dtype": "i1"
         },
         "xaxis": "x",
         "yaxis": "y"
        }
       ],
       "layout": {
        "barmode": "relative",
        "legend": {
         "tracegroupgap": 0
        },
        "margin": {
         "t": 60
        },
        "template": {
         "data": {
          "bar": [
           {
            "error_x": {
             "color": "#2a3f5f"
            },
            "error_y": {
             "color": "#2a3f5f"
            },
            "marker": {
             "line": {
              "color": "#E5ECF6",
              "width": 0.5
             },
             "pattern": {
              "fillmode": "overlay",
              "size": 10,
              "solidity": 0.2
             }
            },
            "type": "bar"
           }
          ],
          "barpolar": [
           {
            "marker": {
             "line": {
              "color": "#E5ECF6",
              "width": 0.5
             },
             "pattern": {
              "fillmode": "overlay",
              "size": 10,
              "solidity": 0.2
             }
            },
            "type": "barpolar"
           }
          ],
          "carpet": [
           {
            "aaxis": {
             "endlinecolor": "#2a3f5f",
             "gridcolor": "white",
             "linecolor": "white",
             "minorgridcolor": "white",
             "startlinecolor": "#2a3f5f"
            },
            "baxis": {
             "endlinecolor": "#2a3f5f",
             "gridcolor": "white",
             "linecolor": "white",
             "minorgridcolor": "white",
             "startlinecolor": "#2a3f5f"
            },
            "type": "carpet"
           }
          ],
          "choropleth": [
           {
            "colorbar": {
             "outlinewidth": 0,
             "ticks": ""
            },
            "type": "choropleth"
           }
          ],
          "contour": [
           {
            "colorbar": {
             "outlinewidth": 0,
             "ticks": ""
            },
            "colorscale": [
             [
              0,
              "#0d0887"
             ],
             [
              0.1111111111111111,
              "#46039f"
             ],
             [
              0.2222222222222222,
              "#7201a8"
             ],
             [
              0.3333333333333333,
              "#9c179e"
             ],
             [
              0.4444444444444444,
              "#bd3786"
             ],
             [
              0.5555555555555556,
              "#d8576b"
             ],
             [
              0.6666666666666666,
              "#ed7953"
             ],
             [
              0.7777777777777778,
              "#fb9f3a"
             ],
             [
              0.8888888888888888,
              "#fdca26"
             ],
             [
              1,
              "#f0f921"
             ]
            ],
            "type": "contour"
           }
          ],
          "contourcarpet": [
           {
            "colorbar": {
             "outlinewidth": 0,
             "ticks": ""
            },
            "type": "contourcarpet"
           }
          ],
          "heatmap": [
           {
            "colorbar": {
             "outlinewidth": 0,
             "ticks": ""
            },
            "colorscale": [
             [
              0,
              "#0d0887"
             ],
             [
              0.1111111111111111,
              "#46039f"
             ],
             [
              0.2222222222222222,
              "#7201a8"
             ],
             [
              0.3333333333333333,
              "#9c179e"
             ],
             [
              0.4444444444444444,
              "#bd3786"
             ],
             [
              0.5555555555555556,
              "#d8576b"
             ],
             [
              0.6666666666666666,
              "#ed7953"
             ],
             [
              0.7777777777777778,
              "#fb9f3a"
             ],
             [
              0.8888888888888888,
              "#fdca26"
             ],
             [
              1,
              "#f0f921"
             ]
            ],
            "type": "heatmap"
           }
          ],
          "histogram": [
           {
            "marker": {
             "pattern": {
              "fillmode": "overlay",
              "size": 10,
              "solidity": 0.2
             }
            },
            "type": "histogram"
           }
          ],
          "histogram2d": [
           {
            "colorbar": {
             "outlinewidth": 0,
             "ticks": ""
            },
            "colorscale": [
             [
              0,
              "#0d0887"
             ],
             [
              0.1111111111111111,
              "#46039f"
             ],
             [
              0.2222222222222222,
              "#7201a8"
             ],
             [
              0.3333333333333333,
              "#9c179e"
             ],
             [
              0.4444444444444444,
              "#bd3786"
             ],
             [
              0.5555555555555556,
              "#d8576b"
             ],
             [
              0.6666666666666666,
              "#ed7953"
             ],
             [
              0.7777777777777778,
              "#fb9f3a"
             ],
             [
              0.8888888888888888,
              "#fdca26"
             ],
             [
              1,
              "#f0f921"
             ]
            ],
            "type": "histogram2d"
           }
          ],
          "histogram2dcontour": [
           {
            "colorbar": {
             "outlinewidth": 0,
             "ticks": ""
            },
            "colorscale": [
             [
              0,
              "#0d0887"
             ],
             [
              0.1111111111111111,
              "#46039f"
             ],
             [
              0.2222222222222222,
              "#7201a8"
             ],
             [
              0.3333333333333333,
              "#9c179e"
             ],
             [
              0.4444444444444444,
              "#bd3786"
             ],
             [
              0.5555555555555556,
              "#d8576b"
             ],
             [
              0.6666666666666666,
              "#ed7953"
             ],
             [
              0.7777777777777778,
              "#fb9f3a"
             ],
             [
              0.8888888888888888,
              "#fdca26"
             ],
             [
              1,
              "#f0f921"
             ]
            ],
            "type": "histogram2dcontour"
           }
          ],
          "mesh3d": [
           {
            "colorbar": {
             "outlinewidth": 0,
             "ticks": ""
            },
            "type": "mesh3d"
           }
          ],
          "parcoords": [
           {
            "line": {
             "colorbar": {
              "outlinewidth": 0,
              "ticks": ""
             }
            },
            "type": "parcoords"
           }
          ],
          "pie": [
           {
            "automargin": true,
            "type": "pie"
           }
          ],
          "scatter": [
           {
            "fillpattern": {
             "fillmode": "overlay",
             "size": 10,
             "solidity": 0.2
            },
            "type": "scatter"
           }
          ],
          "scatter3d": [
           {
            "line": {
             "colorbar": {
              "outlinewidth": 0,
              "ticks": ""
             }
            },
            "marker": {
             "colorbar": {
              "outlinewidth": 0,
              "ticks": ""
             }
            },
            "type": "scatter3d"
           }
          ],
          "scattercarpet": [
           {
            "marker": {
             "colorbar": {
              "outlinewidth": 0,
              "ticks": ""
             }
            },
            "type": "scattercarpet"
           }
          ],
          "scattergeo": [
           {
            "marker": {
             "colorbar": {
              "outlinewidth": 0,
              "ticks": ""
             }
            },
            "type": "scattergeo"
           }
          ],
          "scattergl": [
           {
            "marker": {
             "colorbar": {
              "outlinewidth": 0,
              "ticks": ""
             }
            },
            "type": "scattergl"
           }
          ],
          "scattermap": [
           {
            "marker": {
             "colorbar": {
              "outlinewidth": 0,
              "ticks": ""
             }
            },
            "type": "scattermap"
           }
          ],
          "scattermapbox": [
           {
            "marker": {
             "colorbar": {
              "outlinewidth": 0,
              "ticks": ""
             }
            },
            "type": "scattermapbox"
           }
          ],
          "scatterpolar": [
           {
            "marker": {
             "colorbar": {
              "outlinewidth": 0,
              "ticks": ""
             }
            },
            "type": "scatterpolar"
           }
          ],
          "scatterpolargl": [
           {
            "marker": {
             "colorbar": {
              "outlinewidth": 0,
              "ticks": ""
             }
            },
            "type": "scatterpolargl"
           }
          ],
          "scatterternary": [
           {
            "marker": {
             "colorbar": {
              "outlinewidth": 0,
              "ticks": ""
             }
            },
            "type": "scatterternary"
           }
          ],
          "surface": [
           {
            "colorbar": {
             "outlinewidth": 0,
             "ticks": ""
            },
            "colorscale": [
             [
              0,
              "#0d0887"
             ],
             [
              0.1111111111111111,
              "#46039f"
             ],
             [
              0.2222222222222222,
              "#7201a8"
             ],
             [
              0.3333333333333333,
              "#9c179e"
             ],
             [
              0.4444444444444444,
              "#bd3786"
             ],
             [
              0.5555555555555556,
              "#d8576b"
             ],
             [
              0.6666666666666666,
              "#ed7953"
             ],
             [
              0.7777777777777778,
              "#fb9f3a"
             ],
             [
              0.8888888888888888,
              "#fdca26"
             ],
             [
              1,
              "#f0f921"
             ]
            ],
            "type": "surface"
           }
          ],
          "table": [
           {
            "cells": {
             "fill": {
              "color": "#EBF0F8"
             },
             "line": {
              "color": "white"
             }
            },
            "header": {
             "fill": {
              "color": "#C8D4E3"
             },
             "line": {
              "color": "white"
             }
            },
            "type": "table"
           }
          ]
         },
         "layout": {
          "annotationdefaults": {
           "arrowcolor": "#2a3f5f",
           "arrowhead": 0,
           "arrowwidth": 1
          },
          "autotypenumbers": "strict",
          "coloraxis": {
           "colorbar": {
            "outlinewidth": 0,
            "ticks": ""
           }
          },
          "colorscale": {
           "diverging": [
            [
             0,
             "#8e0152"
            ],
            [
             0.1,
             "#c51b7d"
            ],
            [
             0.2,
             "#de77ae"
            ],
            [
             0.3,
             "#f1b6da"
            ],
            [
             0.4,
             "#fde0ef"
            ],
            [
             0.5,
             "#f7f7f7"
            ],
            [
             0.6,
             "#e6f5d0"
            ],
            [
             0.7,
             "#b8e186"
            ],
            [
             0.8,
             "#7fbc41"
            ],
            [
             0.9,
             "#4d9221"
            ],
            [
             1,
             "#276419"
            ]
           ],
           "sequential": [
            [
             0,
             "#0d0887"
            ],
            [
             0.1111111111111111,
             "#46039f"
            ],
            [
             0.2222222222222222,
             "#7201a8"
            ],
            [
             0.3333333333333333,
             "#9c179e"
            ],
            [
             0.4444444444444444,
             "#bd3786"
            ],
            [
             0.5555555555555556,
             "#d8576b"
            ],
            [
             0.6666666666666666,
             "#ed7953"
            ],
            [
             0.7777777777777778,
             "#fb9f3a"
            ],
            [
             0.8888888888888888,
             "#fdca26"
            ],
            [
             1,
             "#f0f921"
            ]
           ],
           "sequentialminus": [
            [
             0,
             "#0d0887"
            ],
            [
             0.1111111111111111,
             "#46039f"
            ],
            [
             0.2222222222222222,
             "#7201a8"
            ],
            [
             0.3333333333333333,
             "#9c179e"
            ],
            [
             0.4444444444444444,
             "#bd3786"
            ],
            [
             0.5555555555555556,
             "#d8576b"
            ],
            [
             0.6666666666666666,
             "#ed7953"
            ],
            [
             0.7777777777777778,
             "#fb9f3a"
            ],
            [
             0.8888888888888888,
             "#fdca26"
            ],
            [
             1,
             "#f0f921"
            ]
           ]
          },
          "colorway": [
           "#636efa",
           "#EF553B",
           "#00cc96",
           "#ab63fa",
           "#FFA15A",
           "#19d3f3",
           "#FF6692",
           "#B6E880",
           "#FF97FF",
           "#FECB52"
          ],
          "font": {
           "color": "#2a3f5f"
          },
          "geo": {
           "bgcolor": "white",
           "lakecolor": "white",
           "landcolor": "#E5ECF6",
           "showlakes": true,
           "showland": true,
           "subunitcolor": "white"
          },
          "hoverlabel": {
           "align": "left"
          },
          "hovermode": "closest",
          "mapbox": {
           "style": "light"
          },
          "paper_bgcolor": "white",
          "plot_bgcolor": "#E5ECF6",
          "polar": {
           "angularaxis": {
            "gridcolor": "white",
            "linecolor": "white",
            "ticks": ""
           },
           "bgcolor": "#E5ECF6",
           "radialaxis": {
            "gridcolor": "white",
            "linecolor": "white",
            "ticks": ""
           }
          },
          "scene": {
           "xaxis": {
            "backgroundcolor": "#E5ECF6",
            "gridcolor": "white",
            "gridwidth": 2,
            "linecolor": "white",
            "showbackground": true,
            "ticks": "",
            "zerolinecolor": "white"
           },
           "yaxis": {
            "backgroundcolor": "#E5ECF6",
            "gridcolor": "white",
            "gridwidth": 2,
            "linecolor": "white",
            "showbackground": true,
            "ticks": "",
            "zerolinecolor": "white"
           },
           "zaxis": {
            "backgroundcolor": "#E5ECF6",
            "gridcolor": "white",
            "gridwidth": 2,
            "linecolor": "white",
            "showbackground": true,
            "ticks": "",
            "zerolinecolor": "white"
           }
          },
          "shapedefaults": {
           "line": {
            "color": "#2a3f5f"
           }
          },
          "ternary": {
           "aaxis": {
            "gridcolor": "white",
            "linecolor": "white",
            "ticks": ""
           },
           "baxis": {
            "gridcolor": "white",
            "linecolor": "white",
            "ticks": ""
           },
           "bgcolor": "#E5ECF6",
           "caxis": {
            "gridcolor": "white",
            "linecolor": "white",
            "ticks": ""
           }
          },
          "title": {
           "x": 0.05
          },
          "xaxis": {
           "automargin": true,
           "gridcolor": "white",
           "linecolor": "white",
           "ticks": "",
           "title": {
            "standoff": 15
           },
           "zerolinecolor": "white",
           "zerolinewidth": 2
          },
          "yaxis": {
           "automargin": true,
           "gridcolor": "white",
           "linecolor": "white",
           "ticks": "",
           "title": {
            "standoff": 15
           },
           "zerolinecolor": "white",
           "zerolinewidth": 2
          }
         }
        },
        "xaxis": {
         "anchor": "y",
         "domain": [
          0,
          1
         ],
         "title": {
          "text": "confusion"
         }
        },
        "yaxis": {
         "anchor": "x",
         "domain": [
          0,
          1
         ],
         "title": {
          "text": "count"
         }
        }
       }
      }
     },
     "metadata": {},
     "output_type": "display_data"
    }
   ],
   "source": [
    "px.histogram(df_continous,\n",
    "             'confusion')"
   ]
  },
  {
   "cell_type": "code",
   "execution_count": 17,
   "id": "c9ad3bd4",
   "metadata": {},
   "outputs": [
    {
     "data": {
      "application/vnd.plotly.v1+json": {
       "config": {
        "plotlyServerURL": "https://plot.ly"
       },
       "data": [
        {
         "bingroup": "x",
         "hovertemplate": "confusion=%{x}<br>count=%{y}<extra></extra>",
         "legendgroup": "",
         "marker": {
          "color": "#636efa",
          "pattern": {
           "shape": ""
          }
         },
         "name": "",
         "orientation": "v",
         "showlegend": false,
         "type": "histogram",
         "x": {
          "bdata": "AAAAAAAAAAAAAAAAAAAAAAAAAAAAAAAAAAAAAAAAAAAAAAAAAAAAAAAAAAAAAAAAAAAAAAAAAAAAAAAAAAAAAAAAAAAAAAAAAAEAAAAAAAAAAAAAAAAAAAAAAAAAAAAAAAAAAAAAAAAAAAAAAAAAAAAAAAAAAAAAAAAAAAAAAAAAAAAAAAAAAAAAAAAAAAAAAAEAAQEAAAAAAAAAAAAAAAAAAAAAAAAAAAAAAAAAAAAAAAAAAAAAAAAAAAAAAAEAAAAAAAAAAAAAAAAAAAAAAAAAAAAAAAAAAAAAAAAAAAAAAAAAAAAAAAAAAAAAAAAAAAAAAAAAAAAAAAAAAAAAAAAAAAAAAAAAAAAAAAAAAAAAAAAAAAAAAAAAAAAAAAAAAAAAAAAAAAAAAAAAAAAAAAAAAAAAAAAAAAAAAAAAAAAAAAAAAAAAAAAAAAAAAAAAAAAAAAAAAAAAAAAAAAAAAAAAAAAAAAAAAAAAAAAAAAAAAAAAAAAAAAAAAAAAAAAAAAAAAAAAAAAAAAAAAAAAAAAAAAAAAAAAAAAAAAAAAAAAAAAAAAAAAAAAAAAAAAAAAAAAAAAAAAAAAAAAAAAAAAAAAAAAAAAAAAAAAAAAAAAAAAAAAAAAAAAAAAAAAAAAAAAAAAAAAAAAAAAAAAAAAAAAAAAAAAAAAAAAAAAAAAAAAAAAAAAAAAAAAAAAAAAAAAAAAAAAAAAAAAAAAAAAAAAAAAAAAAAAAAAAAAAAAAAAAAAAAAAAAAAAAAAAAAAAAAAAAAAAAAAAAAAAAAAAAAAAAAAAAAAAAAAAAAAAAAAAAAAAAAAAAAAAAAAAAAAAAAAAAAAAAAAAAAAAAAAAAAAAAAAAAAAAAAAAAAAAAAAAAAAAAAAAAAAAAAAAAAAAAAAAAAAAAAAAAAAAAAAAAAAAAAAAAAAAAAAAAAAAAAAAAAAAAAAAAAAAAAAAAAAAAAAAAAAAAAAAAAAAAAAAAAAAAAAAAAAAAAAAAAAAAAAAAAAAAAAAAAAAAAAAAAAAAAAAAAAAAAAAAAAAAAAAAAAAAAAAAAAAAAAAAAAAAAAAAAAAAAAAAAAAAAAAAAAAAAAAAAAAAAAAAAAAAAAAAAAAAAAAAAAAAAABAAAAAAAAAQAAAAAAAAAAAAAAAAAAAAAAAQAAAAABAAAAAAAAAAAAAAAAAAAAAAAAAAAAAAAAAAAAAAAAAAAAAAAAAAAAAAAAAAAAAAAAAAAAAAAAAAAAAAAAAAAAAAAAAAAAAAAAAAAAAAAAAAAAAAAAAAAAAAAAAAAAAAAAAAAAAAAAAAAAAAAAAAAAAAAAAAEAAAAAAAAAAAAAAAAAAAAAAAAAAAAAAAEAAAABAAAAAAAAAAAAAAAAAAAAAAAAAAAAAAABAQAAAAAAAAEBAAAAAAAAAAAAAAAAAAAAAAAAAAAAAAAAAAAAAAAAAAAAAAAAAAAAAAAAAAAAAAAAAAAAAAAAAAAAAAAAAAAAAAAAAAAAAAAAAAAAAAAAAAAAAAAAAAAAAAAAAAAAAAAAAAAAAAAAAAAAAAAAAAAAAAAAAAAAAAAAAAAAAAAAAAAAAAAAAAAAAAAAAAAAAAAAAAAAAAAAAAAAAAAAAAAAAAAAAAAAAAAAAAAAAAAAAAAAAAAAAAAAAAAAAAAAAAAAAAAAAAAAAAAAAAAAAAAAAAAAAAAAAAAAAAAAAAAAAAAAAAAAAAAAAAAAAAAAAAAAAAAAAAAAAAAAAAAAAAAAAAAAAAAAAAAAAAAAAAAAAAEAAAAAAAAAAAAAAAAAAAAAAAAAAAAAAAAAAAAAAAAAAAAAAAAAAAAAAAAAAAAAAAAAAAAAAAAAAAAAAAAAAAAAAAAAAAAAAAAAAAAAAAAAAAAAAAAAAAAAAAAAAAEAAAAAAAAAAAAAAAAAAAAAAAAAAAAAAAAAAAAAAAAAAAAAAAAAAAAAAAAAAAAAAAAAAAAAAAAAAAAAAAAAAAEAAAAAAAAAAAAAAAABAAAAAAEAAAAAAAAAAAAAAAAAAAAAAAAAAAAAAAAAAAAAAAAAAAAAAAAAAAAAAAAAAAAAAAAAAAAAAAAAAAAAAAAAAAAAAAAAAAAAAAAAAAAAAAAAAAAAAAAAAAAAAAAAAAAAAAAAAAAAAAAAAAAAAAAAAAAAAAAAAAAAAAAAAAAAAAAAAAAAAAAAAAAAAAAAAAAAAAAAAAAAAAAAAAAAAAAAAAAAAAAAAAAAAAAAAAAAAAAAAAAAAAAAAAAAAAAAAAAAAAAAAAAAAAAAAAAAAAAAAAAAAAAAAAAAAAAAAAAAAAAAAAAAAAAAAAAAAAAAAAAAAAAAAAAAAAAAAAAAAAAAAAAAAAAAAAAAAAAAAAAAAAAAAAAAAAAAAAAAAAAAAAAAAAAAAAEAAAAAAAAAAAAAAAAAAAAAAAAAAAAAAAAAAAAAAAAAAAAAAAAAAAAAAAAAAAAAAAAAAAAAAAAAAAAAAAAAAAAAAAAAAAAAAAAAAAAAAAAAAAAAAAAAAAAAAAAAAAAAAAAAAAAAAAABAAAAAAAAAAAAAAAAAAAAAAABAAAAAAAAAAAAAAAAAAAAAAAAAAAAAAAAAAAAAAAAAAAAAAAAAAAAAAAAAAAAAAAAAAAAAAAAAAAAAAAAAAAAAAAAAAAAAAAAAAAAAAAAAAAAAAAAAAAAAAAAAAAAAAAAAAAAAAAAAAAAAAAAAAAAAAAAAAAAAAAAAAEAAAAAAAAAAAAAAAAAAAAAAAAAAAAAAAAAAAAAAAAAAAAAAAAAAAAAAAAAAAAAAAAAAAAAAAAAAAAAAAAAAAAAAAAAAAAAAAAAAAAAAAAAAAAAAAAAAAAAAAAAAAAAAQAAAAAAAAAAAAAAAAAAAAAAAAAAAAAAAAAAAAAAAAAAAAAAAAAAAAAAAAAAAAAAAAAAAAAAAAAAAAAAAAAAAAAAAAAAAAAAAAAAAAAAAAAAAAAAAAAAAAAAAAAAAAAAAAAAAAAAAAAAAAAAAAAAAAAAAAAAAAAAAAAAAAAAAAAAAAAAAAAAAAAAAAAAAAAAAAAAAAAAAAAAAAAAAAAAAAAAAAAAAAAAAAAAAAAAAAAAAAAAAAAAAAAAAAAAAAAAAAAAAAAAAAAAAAAAAAAAAAAAAAAAAAAAAAAAAAAAAAAAAAAAAAAAAAAAAAAAAAAAAAAAAAAAAAAAAAAAAAAAAAAAAAAAAAAAAAAAAAAAAAAAAAAAAAAAAAAAAAAAAAAAAAAAAAAAAAAAAAAAAAAAAAAAAAAAAAAAAAAAAAAAAAAAAAAAAAEAAAAAAAAAAAAAAAAAAAAAAAAAAAAAAAAAAAAAAAAAAAAAAAAAAAAAAAAAAAAAAAAAAAAAAAAAAAAAAAAAAAAAAAAAAAAAAAAAAAAAAAAAAAAAAAAAAAAAAAAAAAAAAAAAAAAAAAAAAAAAAAAAAAAAAQAAAAAAAAAAAAAAAQAAAAAAAAAAAAAAAAAAAAAAAAAAAAAAAAAAAAAAAAAAAAAAAAAAAAAAAAABAAAAAAAAAAAAAAAAAAAAAAAAAAAAAAAAAAAAAAAAAAAAAAAAAAAAAAEAAAAAAAAAAAAAAAAAAAAAAAAAAAAAAAAAAAEAAAAAAAAAAAAAAAAAAAAAAAAAAAAAAAAAAAAAAAAAAAAAAAAAAAAAAAAAAAAAAAAAAAAAAAAAAAAAAAAAAAAAAAAAAAAAAAAAAAAAAAAAAAAAAAAAAAAAAAAAAAAAAAAAAAAAAAAAAAAAAAAAAAAAAAAAAAEAAAAAAAAAAAAAAAAAAAAAAAAAAAAAAAAAAAAAAAAAAAAAAAAAAAAAAAAAAAAAAAAAAAAAAAAAAAAAAAAAAAABAAEAAAAAAAAAAAAAAAAAAAAAAAAAAAAAAAAAAAAAAAAAAAAAAAAAAAAAAAAAAAAAAAAAAAAAAAAAAAAAAAAAAAAAAAAAAAAAAAAAAAAAAAAAAAAAAAAAAAAAAAAAAAAAAAAAAAAAAAAAAAAAAAAAAAAAAAAAAAAAAAAAAAAAAAAAAAAAAAAAAAAAAAAAAAAAAAAAAAAAAAAAAAAAAAABAAAAAAAAAAAAAAAAAAAAAAAAAAAAAAAAAAAAAAAAAAAAAAAAAAAAAAAAAAAAAAAAAAAAAAAAAAAAAAAAAAAAAAAAAAAAAAAAAQAAAAAAAAAAAAAAAAAAAAAAAAAAAAAAAAAAAAAAAAAAAAAAAAAAAAAAAAAAAAAAAAAAAAAAAAAAAAAAAAAAAAAAAAAAAAAAAAAAAAAAAAAAAAAAAAAAAAAAAAAAAAAAAAAAAAAAAAAAAAAAAAAAAAAAAAAAAAAAAAAAAAAAAAAAAAAAAAAAAAAAAAAAAAAAAAAAAAAAAAAAAAAAAAAAAAAAAAAAAAAAAAAAAAAAAAAAAAAAAAAAAAAAAAAAAAAAAAAAAAAAAAAAAAAAAAAAAAAAAAAAAAAAAAAAAAAAAAAAAAAAAAAAAAAAAAAAAAAAAAAAAAAAAAAAAAAAAAABAAAAAAAAAAAAAQAAAAAAAAAAAAAAAAAAAAAAAAAAAAAAAAAAAAAAAAAAAAAAAAAAAAAAAAAAAAAAAAAAAAAAAAAAAAAAAAAAAAAAAAAAAAAAAAAAAAAAAAAAAAAAAAAAAAAAAAAAAAAAAAAAAAAAAAAAAAAAAAAAAAAAAAAAAAAAAAAAAAAAAAAAAAAAAAAAAAAAAAAAAAAAAAAAAAAAAAAAAAAAAAAAAAAAAAAAAAEAAAAAAAAAAAAAAAAAAAAAAAAAAAAAAAAAAAAAAAAAAAAAAAAAAAAAAAAAAAAAAAAAAAAAAAAAAAAAAAAAAAAAAAAAAAAAAAAAAAAAAAAAAAAAAAAAAAAAAAAAAAAAAAAAAAAAAAAAAAAAAAEAAAAAAAAAAAAAAAAAAAAAAAAAAAAAAAAAAAAAAAAAAAAAAAAAAAAAAAAAAAAAAAAAAAAAAAAAAAAAAAAAAAAAAAAAAAAAAAAAAAAAAAAAAAAAAAAAAAAAAAAAAAAAAAAAAAAAAAAAAAAAAAAAAAAAAAAAAAAAAAAAAAAAAAAAAAAAAAAAAAAAAAAAAAAAAAAAAAAAAAAAAAAAAAAAAAAAAAAAAAAAAAAAAAAAAAAAAAAAAAAAAAAAAAAAAAAAAAAAAAAAAAAAAAAAAAAAAAAAAAAAAAAAAAAAAAAAAAAAAAAAAAAAAAAAAAAAAAAAAAAAAAAAAAAAAAAAAAAAAAAAAAAAAAAAAAAAAAAAAAAAAAAAAAAAAAAAAAAAAAAAAAAAAAAAAAAAAAAAAAAAAAAAAAABAAAAAAAAAAAAAAAAAAEAAAAAAAAAAAAAAAAAAAAAAAAAAAAAAAAAAAEAAAAAAAAAAAAAAAAAAAAAAAAAAAAAAAAAAAAAAAAAAAAAAAAAAAAAAAAAAAAAAAAAAAAAAAAAAAAAAAAAAAAAAAAAAAAAAAAAAAAAAAAAAAAAAAAAAAAAAAAAAAAAAAAAAAAAAAAAAAAAAAAAAAAAAQAAAAAAAAAAAAAAAAAAAAAAAAAAAAAAAAAAAAAAAAAAAAAAAAAAAAAAAAABAAAAAAAAAAAAAAAAAQAAAAAAAAAAAQAAAQAAAAABAAEAAQEAAAAAAAAAAAAAAAAAAAAAAAAAAAAAAAAAAAAAAAAAAAAAAAAAAAAAAAAAAAAAAAAAAAAAAAAAAAAAAAAAAAAAAAAAAAAAAAAAAAAAAAAAAAAAAAAAAAAAAAAAAAAAAAAAAAAAAAAAAAAAAAAAAAAAAAAAAAAAAAEAAAAAAAAAAAAAAAAAAAAAAAAAAAAAAAAAAAAAAAAAAAAAAAAAAAAAAAAAAAAAAAAAAAAAAAAAAAAAAAAAAAAAAAAAAAAAAAAAAAAAAAAAAAAAAAAAAAAAAAAAAAAAAAAAAAAAAAAAAAAAAAAAAAAAAAAAAAAAAAAAAAAAAAAAAAAAAAAAAAAAAAAAAAAAAAAAAAAAAAAAAAAAAAAAAAAAAAAAAAAAAAAAAAAAAAAAAAAAAAAAAAAAAAAAAAAAAAAAAAAAAAAAAAAAAAAAAAAAAAAAAAAAAAAAAQEAAAAAAAAAAAAAAAAAAAAAAAAAAAEAAAAAAAEAAAEAAAAAAAAAAAAAAAAAAAAAAAAAAAAAAAAAAAAAAAAAAAAAAAAAAAAAAAAAAAAAAAAAAAAAAAAAAAAAAAAAAAAAAAAAAAAAAAAAAAAAAAAAAAAAAAAAAAAAAAAAAAAAAAAAAAAAAAAAAAAAAAAAAAAAAAAAAAAAAAAAAAAAAAAAAAAAAAAAAAAAAAAAAAAAAAAAAAAAAAAAAAAAAAAAAAAAAAAAAAAAAAAAAAAAAAAAAAAAAAAAAAAAAAAAAAAAAAAAAAAAAAAAAAAAAAAAAAAAAAAAAAAAAAAAAAAAAAAAAAAAAAAAAAAAAAAAAAAAAAAAAAAAAAAAAAAAAAAAAAAAAAAAAAAAAAAAAAAAAAAAAAAAAAAAAAAAAAAAAAAAAAAAAAAAAAABAAAAAAAAAAAAAAAAAAAAAAAAAAEAAAAAAAAAAAAAAAAAAAAAAAAAAAAAAAAAAAAAAAAAAAAAAAAAAAAAAAAAAAAAAAAAAAAAAAAAAAAAAAAAAAAAAAAAAAAAAAAAAAAAAAAAAAAAAAAAAAAAAAAAAAAAAAAAAAAAAAAAAAAAAAAAAAAAAAAAAAAAAAAAAAAAAAAAAAAAAAAAAAAAAAAAAAAAAAAAAAAAAAAAAAAAAAAAAAAAAAAAAAAAAAAAAAAAAAAAAAAAAAAAAAAAAAAAAAAAAAAAAAAAAAAAAAAAAAAAAAAAAAAAAAAAAAAAAAAAAAAAAAAAAAAAAAAAAAAAAAAAAAAAAAAAAAAAAAAAAAAAAAAAAAAAAAAAAAAAAAAAAAAAAAAAAAAAAAAAAAABAAAAAAAAAAAAAAAAAAAAAAAAAAAAAAAAAAAAAAAAAAAAAAAAAAAAAAAAAAAAAAAAAQAAAAAAAQAAAAAAAAAAAAAAAAAAAAAAAAAAAAAAAAAAAAAAAAAAAAAAAAAAAAAAAAAAAAAAAAAAAAAAAAAAAAAAAAAAAAAAAAAAAAAAAAAAAAAAAAAAAAAAAAAAAAAAAAAAAAAAAAAAAAAAAAAAAAAAAAAAAAAAAAAAAAAAAAAAAAAAAAAAAAAAAAAAAAAAAAAAAAAAAAAAAAAAAAAAAAAAAAAAAAAAAAAAAAAAAAAAAAAAAAAAAAAAAAAAAAAAAAAAAAAAAAAAAQAAAAAAAAAAAAAAAAAAAAAAAAAAAAAAAAAAAAAAAAAAAAEAAAAAAAAAAAAAAAAAAAAAAAAAAAAAAAAAAAAAAAAAAAAAAAAAAAAAAAAAAAAAAAAAAAAAAAAAAAAAAAAAAAAAAAAAAAAAAAAAAAAAAAAAAAAAAAAAAAAAAAAAAAAAAAAAAAAAAAAAAAAAAAAAAAAAAAAAAAAAAAAAAAAAAAAAAAAAAAAAAAAAAAAAAAAAAAAAAAAAAAAAAAAAAAAAAQAAAAAAAAAAAAAAAAAAAAAAAAAAAAAAAAAAAAAAAAAAAAAAAAAAAAAAAAAAAAAAAAAAAAAAAAAAAAAAAAAAAAAAAQAAAAAAAAAAAAAAAAAAAAAAAAEBAAAAAAAAAAAAAAAAAAAAAAAAAAAAAAAAAAAAAAAAAAAAAAAAAAAAAAAAAAAAAAAAAAAAAAAAAAAAAAABAAAAAAAAAAAAAAAAAAAAAAAAAAAAAAAAAAAAAAAAAAAAAAAAAAAAAAAAAAAAAAAAAAAAAAAAAAAAAAAAAAAAAAAAAAAAAAAAAAAAAAAAAAAAAAAAAAAAAAAAAAAAAAAAAAAAAAAAAAAAAAAAAAAAAAAAAAAAAAAAAAAAAAAAAAAAAAAAAAAAAAAAAAAAAAAAAAAAAAAAAAAAAAAAAAAAAAAAAAAAAAAAAAAAAAAAAAAAAAAAAAAAAAAAAAAAAAAAAAAAAAAAAAAAAAAAAAAAAAAAAAAAAAAAAAAAAAAAAAAAAAAAAAAAAAAAAAAAAAAAAAAAAAAAAAAAAAAAAAAAAAAAAAAAAAAAAAAAAAAAAAAAAAAAAAAAAAAAAAAAAAAAAAAAAAAAAAAAAAAAAAAAAAAAAAAAAAAAAAAAAAAAAAAAAAAAAAAAAAAAAAAAAAAAAAAAAAAAAAAAAAAAAAAAAAAAAAAAAAAAAAAAAAAAAAAAAAAAAAAAAAAAAAAAAAAAAAAAAAAAAAAAAAAAAAAAAAAAAAAAAAAAAAAAAAAAAAAAAAAAAAAAAAAAAAAAAAAAAAAAAAAAAAAAAAAAAAAAAAAAAAAAAAABAAAAAAAAAAAAAAAAAAAAAAAAAAAAAAAAAAAAAAAAAAAAAAAAAAAAAAAAAAAAAAAAAAAAAAAAAAAAAAAAAAAAAAAAAAAAAAAAAAAAAAAAAAAAAAAAAAAAAAAAAAAAAAAAAAAAAAAAAAAAAAAAAAAAAAAAAAAAAAAAAAAAAAAAAAAAAAAAAAAAAAAAAAAAAAAAAAAAAAAAAAAAAAAAAAAAAAAAAAAAAAAAAAAAAAAAAAAAAAAAAAAAAAAAAAAAAAAAAAAAAAAAAAAAAAAAAAAAAAAAAAAAAAAAAAAAAAAAAAAAAAAAAAAAAAAAAAAAAAAAAAAAAAAAAAAAAAAAAAAAAAAAAAAAAAAAAAAAAAAAAAAAAAAAAAAAAAAAAAAAAAAAAAAAAAAAAAAAAAAAAAAAAAAAAAAAAAAAAAAAAAAAAAAAAAAAAAAAAAAAAAAAAAAAAAAAAAAAAAAAAAAAAAAAAAAAAAAAAAAAAAAAAAAAAAAAAAAAAAAAAAAAAAAAAAAAAAAAAAAAAAAAAAAAAAABAAAAAAAAAAAAAAAAAAAAAAAAAAAAAAAAAAAAAAAAAAAAAAAAAAAAAAAAAAAAAAAAAAAAAAAAAAAAAAAAAAAAAAAAAAAAAAAAAAAAAAAAAAAAAAAAAAEAAAAAAAAAAAAAAAAAAAAAAAAAAAAAAAAAAAAAAAAAAAAAAAAAAAAAAAAAAAAAAAAAAAAAAAAAAAAAAAAAAAAAAAAAAAAAAAAAAAAAAAAAAAAAAAAAAAAAAAAAAAAAAAAAAAAAAAAAAAAAAAAAAAAAAAAAAAAAAAAAAAABAAAAAAAAAAAAAAAAAAAAAAAAAAAAAAAAAAAAAAAAAAAAAAAAAAAAAAAAAAAAAAAAAAAAAAAAAAAAAAAAAAAAAAAAAAAAAAAAAAAAAAAAAAAAAAAAAAAAAAAAAAAAAAAAAAAAAAAAAQAAAAAAAAAAAAAAAAAAAAAAAAAAAAAAAAAAAAAAAAAAAAAAAAAAAAAAAAAAAAAAAAAAAAAAAAAAAAAAAAAAAAAAAAAAAAAAAAAAAAAAAAAAAAAAAAAAAAAAAAAAAAAAAAAAAAAAAAAAAAAAAAAAAAAAAAAAAAAAAAAAAAAAAAAAAAAAAAAAAAAAAAAAAAAAAAAAAAAAAAAAAAAAAAAAAAAAAAAAAAAAAAAAAAAAAAAAAAAAAAAAAAAAAAAAAAAAAAAAAAAAAAAAAAAAAAAAAAAAAAAAAAAAAAAAAAAAAAABAAAAAAAAAAAAAAAAAAAAAAAAAAAAAAAAAAAAAAAAAAAAAAAAAAAAAAAAAAAAAAAAAAAAAAAAAAAAAAAAAAAAAAAAAAAAAAAAAAAAAAAAAAAAAAAAAAAAAAAAAAAAAAAAAAAAAAAAAAAAAAAAAAAAAAAAAAAAAAAAAAAAAAAAAAAAAAAAAAAAAAAAAAAAAAAAAAAAAAAAAAAAAAAAAAAAAAAAAAAAAAAAAAAAAAAAAAAAAAAAAAAAAAAAAAAAAAAAAAAAAAAAAAAAAAAAAAAAAAAAAAAAAAAAAAAAAAAAAAAAAAAAAAAAAAAAAAAAAAAAAAAAAAAAAAAAAAAAAAAAAAAAAAAAAAAAAAAAAAAAAAAAAAAAAAEAAAAAAAAAAAAAAAAAAAAAAAAAAAAAAAAAAAABAAAAAAEAAAAAAAAAAAAAAAAAAQABAAAAAAABAAAAAAAAAAAAAAAAAAAAAAAAAAEAAAAAAAAAAAAAAAAAAAAAAAAAAQAAAAAAAAAAAAAAAAAAAAAAAAAAAAAAAAAAAQAAAAAAAAAAAAABAAAAAAAAAAAAAAAAAAAAAAAAAAAAAAAAAAAAAAAAAAAAAAAAAAAAAAAAAAAAAAAAAAAAAAAAAAAAAAAAAAAAAAAAAAAAAAAAAAAAAAAAAAAAAAAAAAAAAAAAAAAAAAAAAAAAAAAAAAAAAAAAAAAAAAAAAAAAAAAAAAAAAAAAAAAAAAAAAAAAAAAAAAAAAAAAAAAAAAAAAAAAAAAAAAAAAAAAAAAAAAAAAAAAAAAAAAAAAAAAAAAAAAAAAAAAAAAAAAAAAAAAAAAAAAAAAAAAAAAAAAAAAAAAAAAAAAAAAAAAAAAAAAAAAAAAAAAAAAAAAAAAAAAAAAEAAAAAAAAAAAAAAAAAAAAAAAAAAAAAAAAAAAAAAAAAAAAAAAAAAAAAAAAAAAAAAAAAAAAAAAAAAAABAAEAAQAAAAAAAAAAAAAAAAAAAAAAAAAAAAAAAAAAAAAAAAAAAAAAAAAAAAAAAAAAAAAAAAAAAAAAAAAAAAAAAAAAAAAAAAAAAAAAAAA=",
          "dtype": "i1"
         },
         "xaxis": "x",
         "yaxis": "y"
        }
       ],
       "layout": {
        "barmode": "relative",
        "legend": {
         "tracegroupgap": 0
        },
        "margin": {
         "t": 60
        },
        "template": {
         "data": {
          "bar": [
           {
            "error_x": {
             "color": "#2a3f5f"
            },
            "error_y": {
             "color": "#2a3f5f"
            },
            "marker": {
             "line": {
              "color": "#E5ECF6",
              "width": 0.5
             },
             "pattern": {
              "fillmode": "overlay",
              "size": 10,
              "solidity": 0.2
             }
            },
            "type": "bar"
           }
          ],
          "barpolar": [
           {
            "marker": {
             "line": {
              "color": "#E5ECF6",
              "width": 0.5
             },
             "pattern": {
              "fillmode": "overlay",
              "size": 10,
              "solidity": 0.2
             }
            },
            "type": "barpolar"
           }
          ],
          "carpet": [
           {
            "aaxis": {
             "endlinecolor": "#2a3f5f",
             "gridcolor": "white",
             "linecolor": "white",
             "minorgridcolor": "white",
             "startlinecolor": "#2a3f5f"
            },
            "baxis": {
             "endlinecolor": "#2a3f5f",
             "gridcolor": "white",
             "linecolor": "white",
             "minorgridcolor": "white",
             "startlinecolor": "#2a3f5f"
            },
            "type": "carpet"
           }
          ],
          "choropleth": [
           {
            "colorbar": {
             "outlinewidth": 0,
             "ticks": ""
            },
            "type": "choropleth"
           }
          ],
          "contour": [
           {
            "colorbar": {
             "outlinewidth": 0,
             "ticks": ""
            },
            "colorscale": [
             [
              0,
              "#0d0887"
             ],
             [
              0.1111111111111111,
              "#46039f"
             ],
             [
              0.2222222222222222,
              "#7201a8"
             ],
             [
              0.3333333333333333,
              "#9c179e"
             ],
             [
              0.4444444444444444,
              "#bd3786"
             ],
             [
              0.5555555555555556,
              "#d8576b"
             ],
             [
              0.6666666666666666,
              "#ed7953"
             ],
             [
              0.7777777777777778,
              "#fb9f3a"
             ],
             [
              0.8888888888888888,
              "#fdca26"
             ],
             [
              1,
              "#f0f921"
             ]
            ],
            "type": "contour"
           }
          ],
          "contourcarpet": [
           {
            "colorbar": {
             "outlinewidth": 0,
             "ticks": ""
            },
            "type": "contourcarpet"
           }
          ],
          "heatmap": [
           {
            "colorbar": {
             "outlinewidth": 0,
             "ticks": ""
            },
            "colorscale": [
             [
              0,
              "#0d0887"
             ],
             [
              0.1111111111111111,
              "#46039f"
             ],
             [
              0.2222222222222222,
              "#7201a8"
             ],
             [
              0.3333333333333333,
              "#9c179e"
             ],
             [
              0.4444444444444444,
              "#bd3786"
             ],
             [
              0.5555555555555556,
              "#d8576b"
             ],
             [
              0.6666666666666666,
              "#ed7953"
             ],
             [
              0.7777777777777778,
              "#fb9f3a"
             ],
             [
              0.8888888888888888,
              "#fdca26"
             ],
             [
              1,
              "#f0f921"
             ]
            ],
            "type": "heatmap"
           }
          ],
          "histogram": [
           {
            "marker": {
             "pattern": {
              "fillmode": "overlay",
              "size": 10,
              "solidity": 0.2
             }
            },
            "type": "histogram"
           }
          ],
          "histogram2d": [
           {
            "colorbar": {
             "outlinewidth": 0,
             "ticks": ""
            },
            "colorscale": [
             [
              0,
              "#0d0887"
             ],
             [
              0.1111111111111111,
              "#46039f"
             ],
             [
              0.2222222222222222,
              "#7201a8"
             ],
             [
              0.3333333333333333,
              "#9c179e"
             ],
             [
              0.4444444444444444,
              "#bd3786"
             ],
             [
              0.5555555555555556,
              "#d8576b"
             ],
             [
              0.6666666666666666,
              "#ed7953"
             ],
             [
              0.7777777777777778,
              "#fb9f3a"
             ],
             [
              0.8888888888888888,
              "#fdca26"
             ],
             [
              1,
              "#f0f921"
             ]
            ],
            "type": "histogram2d"
           }
          ],
          "histogram2dcontour": [
           {
            "colorbar": {
             "outlinewidth": 0,
             "ticks": ""
            },
            "colorscale": [
             [
              0,
              "#0d0887"
             ],
             [
              0.1111111111111111,
              "#46039f"
             ],
             [
              0.2222222222222222,
              "#7201a8"
             ],
             [
              0.3333333333333333,
              "#9c179e"
             ],
             [
              0.4444444444444444,
              "#bd3786"
             ],
             [
              0.5555555555555556,
              "#d8576b"
             ],
             [
              0.6666666666666666,
              "#ed7953"
             ],
             [
              0.7777777777777778,
              "#fb9f3a"
             ],
             [
              0.8888888888888888,
              "#fdca26"
             ],
             [
              1,
              "#f0f921"
             ]
            ],
            "type": "histogram2dcontour"
           }
          ],
          "mesh3d": [
           {
            "colorbar": {
             "outlinewidth": 0,
             "ticks": ""
            },
            "type": "mesh3d"
           }
          ],
          "parcoords": [
           {
            "line": {
             "colorbar": {
              "outlinewidth": 0,
              "ticks": ""
             }
            },
            "type": "parcoords"
           }
          ],
          "pie": [
           {
            "automargin": true,
            "type": "pie"
           }
          ],
          "scatter": [
           {
            "fillpattern": {
             "fillmode": "overlay",
             "size": 10,
             "solidity": 0.2
            },
            "type": "scatter"
           }
          ],
          "scatter3d": [
           {
            "line": {
             "colorbar": {
              "outlinewidth": 0,
              "ticks": ""
             }
            },
            "marker": {
             "colorbar": {
              "outlinewidth": 0,
              "ticks": ""
             }
            },
            "type": "scatter3d"
           }
          ],
          "scattercarpet": [
           {
            "marker": {
             "colorbar": {
              "outlinewidth": 0,
              "ticks": ""
             }
            },
            "type": "scattercarpet"
           }
          ],
          "scattergeo": [
           {
            "marker": {
             "colorbar": {
              "outlinewidth": 0,
              "ticks": ""
             }
            },
            "type": "scattergeo"
           }
          ],
          "scattergl": [
           {
            "marker": {
             "colorbar": {
              "outlinewidth": 0,
              "ticks": ""
             }
            },
            "type": "scattergl"
           }
          ],
          "scattermap": [
           {
            "marker": {
             "colorbar": {
              "outlinewidth": 0,
              "ticks": ""
             }
            },
            "type": "scattermap"
           }
          ],
          "scattermapbox": [
           {
            "marker": {
             "colorbar": {
              "outlinewidth": 0,
              "ticks": ""
             }
            },
            "type": "scattermapbox"
           }
          ],
          "scatterpolar": [
           {
            "marker": {
             "colorbar": {
              "outlinewidth": 0,
              "ticks": ""
             }
            },
            "type": "scatterpolar"
           }
          ],
          "scatterpolargl": [
           {
            "marker": {
             "colorbar": {
              "outlinewidth": 0,
              "ticks": ""
             }
            },
            "type": "scatterpolargl"
           }
          ],
          "scatterternary": [
           {
            "marker": {
             "colorbar": {
              "outlinewidth": 0,
              "ticks": ""
             }
            },
            "type": "scatterternary"
           }
          ],
          "surface": [
           {
            "colorbar": {
             "outlinewidth": 0,
             "ticks": ""
            },
            "colorscale": [
             [
              0,
              "#0d0887"
             ],
             [
              0.1111111111111111,
              "#46039f"
             ],
             [
              0.2222222222222222,
              "#7201a8"
             ],
             [
              0.3333333333333333,
              "#9c179e"
             ],
             [
              0.4444444444444444,
              "#bd3786"
             ],
             [
              0.5555555555555556,
              "#d8576b"
             ],
             [
              0.6666666666666666,
              "#ed7953"
             ],
             [
              0.7777777777777778,
              "#fb9f3a"
             ],
             [
              0.8888888888888888,
              "#fdca26"
             ],
             [
              1,
              "#f0f921"
             ]
            ],
            "type": "surface"
           }
          ],
          "table": [
           {
            "cells": {
             "fill": {
              "color": "#EBF0F8"
             },
             "line": {
              "color": "white"
             }
            },
            "header": {
             "fill": {
              "color": "#C8D4E3"
             },
             "line": {
              "color": "white"
             }
            },
            "type": "table"
           }
          ]
         },
         "layout": {
          "annotationdefaults": {
           "arrowcolor": "#2a3f5f",
           "arrowhead": 0,
           "arrowwidth": 1
          },
          "autotypenumbers": "strict",
          "coloraxis": {
           "colorbar": {
            "outlinewidth": 0,
            "ticks": ""
           }
          },
          "colorscale": {
           "diverging": [
            [
             0,
             "#8e0152"
            ],
            [
             0.1,
             "#c51b7d"
            ],
            [
             0.2,
             "#de77ae"
            ],
            [
             0.3,
             "#f1b6da"
            ],
            [
             0.4,
             "#fde0ef"
            ],
            [
             0.5,
             "#f7f7f7"
            ],
            [
             0.6,
             "#e6f5d0"
            ],
            [
             0.7,
             "#b8e186"
            ],
            [
             0.8,
             "#7fbc41"
            ],
            [
             0.9,
             "#4d9221"
            ],
            [
             1,
             "#276419"
            ]
           ],
           "sequential": [
            [
             0,
             "#0d0887"
            ],
            [
             0.1111111111111111,
             "#46039f"
            ],
            [
             0.2222222222222222,
             "#7201a8"
            ],
            [
             0.3333333333333333,
             "#9c179e"
            ],
            [
             0.4444444444444444,
             "#bd3786"
            ],
            [
             0.5555555555555556,
             "#d8576b"
            ],
            [
             0.6666666666666666,
             "#ed7953"
            ],
            [
             0.7777777777777778,
             "#fb9f3a"
            ],
            [
             0.8888888888888888,
             "#fdca26"
            ],
            [
             1,
             "#f0f921"
            ]
           ],
           "sequentialminus": [
            [
             0,
             "#0d0887"
            ],
            [
             0.1111111111111111,
             "#46039f"
            ],
            [
             0.2222222222222222,
             "#7201a8"
            ],
            [
             0.3333333333333333,
             "#9c179e"
            ],
            [
             0.4444444444444444,
             "#bd3786"
            ],
            [
             0.5555555555555556,
             "#d8576b"
            ],
            [
             0.6666666666666666,
             "#ed7953"
            ],
            [
             0.7777777777777778,
             "#fb9f3a"
            ],
            [
             0.8888888888888888,
             "#fdca26"
            ],
            [
             1,
             "#f0f921"
            ]
           ]
          },
          "colorway": [
           "#636efa",
           "#EF553B",
           "#00cc96",
           "#ab63fa",
           "#FFA15A",
           "#19d3f3",
           "#FF6692",
           "#B6E880",
           "#FF97FF",
           "#FECB52"
          ],
          "font": {
           "color": "#2a3f5f"
          },
          "geo": {
           "bgcolor": "white",
           "lakecolor": "white",
           "landcolor": "#E5ECF6",
           "showlakes": true,
           "showland": true,
           "subunitcolor": "white"
          },
          "hoverlabel": {
           "align": "left"
          },
          "hovermode": "closest",
          "mapbox": {
           "style": "light"
          },
          "paper_bgcolor": "white",
          "plot_bgcolor": "#E5ECF6",
          "polar": {
           "angularaxis": {
            "gridcolor": "white",
            "linecolor": "white",
            "ticks": ""
           },
           "bgcolor": "#E5ECF6",
           "radialaxis": {
            "gridcolor": "white",
            "linecolor": "white",
            "ticks": ""
           }
          },
          "scene": {
           "xaxis": {
            "backgroundcolor": "#E5ECF6",
            "gridcolor": "white",
            "gridwidth": 2,
            "linecolor": "white",
            "showbackground": true,
            "ticks": "",
            "zerolinecolor": "white"
           },
           "yaxis": {
            "backgroundcolor": "#E5ECF6",
            "gridcolor": "white",
            "gridwidth": 2,
            "linecolor": "white",
            "showbackground": true,
            "ticks": "",
            "zerolinecolor": "white"
           },
           "zaxis": {
            "backgroundcolor": "#E5ECF6",
            "gridcolor": "white",
            "gridwidth": 2,
            "linecolor": "white",
            "showbackground": true,
            "ticks": "",
            "zerolinecolor": "white"
           }
          },
          "shapedefaults": {
           "line": {
            "color": "#2a3f5f"
           }
          },
          "ternary": {
           "aaxis": {
            "gridcolor": "white",
            "linecolor": "white",
            "ticks": ""
           },
           "baxis": {
            "gridcolor": "white",
            "linecolor": "white",
            "ticks": ""
           },
           "bgcolor": "#E5ECF6",
           "caxis": {
            "gridcolor": "white",
            "linecolor": "white",
            "ticks": ""
           }
          },
          "title": {
           "x": 0.05
          },
          "xaxis": {
           "automargin": true,
           "gridcolor": "white",
           "linecolor": "white",
           "ticks": "",
           "title": {
            "standoff": 15
           },
           "zerolinecolor": "white",
           "zerolinewidth": 2
          },
          "yaxis": {
           "automargin": true,
           "gridcolor": "white",
           "linecolor": "white",
           "ticks": "",
           "title": {
            "standoff": 15
           },
           "zerolinecolor": "white",
           "zerolinewidth": 2
          }
         }
        },
        "xaxis": {
         "anchor": "y",
         "domain": [
          0,
          1
         ],
         "title": {
          "text": "confusion"
         }
        },
        "yaxis": {
         "anchor": "x",
         "domain": [
          0,
          1
         ],
         "title": {
          "text": "count"
         }
        }
       }
      }
     },
     "metadata": {},
     "output_type": "display_data"
    }
   ],
   "source": [
    "px.histogram(df_binary,\n",
    "             'confusion')"
   ]
  },
  {
   "cell_type": "code",
   "execution_count": 14,
   "id": "73eb70e3",
   "metadata": {},
   "outputs": [
    {
     "data": {
      "application/vnd.plotly.v1+json": {
       "config": {
        "plotlyServerURL": "https://plot.ly"
       },
       "data": [
        {
         "bingroup": "x",
         "hovertemplate": "frustration=%{x}<br>count=%{y}<extra></extra>",
         "legendgroup": "",
         "marker": {
          "color": "#636efa",
          "pattern": {
           "shape": ""
          }
         },
         "name": "",
         "orientation": "v",
         "showlegend": false,
         "type": "histogram",
         "x": {
          "bdata": "AAAAAAAAAAAAAAAAAAAAAAAAAAAAAAAAAAAAAAAAAAAAAAAAAQAAAAEAAAAAAAAAAQAAAAAAAAAAAAAAAAAAAAAAAAAAAAEAAAABAAAAAAAAAAAAAAAAAAAAAAAAAAAAAAAAAAAAAAABAAAAAAAAAQAAAAABAAIAAQIAAQABAQABAAABAAABAAEAAAEAAQEAAAAAAAEAAQAAAAAAAAACAAAAAQAAAAAAAAEAAQAAAAAAAAAAAAAAAAAAAAEAAAEBAQAAAAAAAAACAAAAAAABAAAAAAAAAAAAAAECAwAAAAAAAAAAAAEAAAEBAAAAAAAAAAEAAAABAAEAAAAAAAABAAAAAAAAAQAAAQAAAAAAAAAAAwAAAAEBAAABAAAAAAAAAAAAAAAAAAAAAAAAAAAAAAAAAAAAAAAAAAAAAQAAAAAAAAAAAAAAAAACAAIAAAAAAAAAAAAAAAAAAAEBAAAAAAAAAAAAAAABAgAAAAAAAAAAAAACAAEAAAAAAAAAAQAAAAABAAAAAAAAAAAAAQAAAAAAAAAAAQEAAAEAAAAAAAAAAAAAAAAAAAAAAAAAAAAAAAAAAAAAAAAAAAAAAQAAAAAAAAAAAAAAAAAAAAEBAAAAAAAAAAAAAAAAAQAAAAAAAAABAAAAAAABAAAAAAAAAAEAAAAAAAABAAEAAQAAAQEDAAAAAAAAAAABAgAAAAAAAAAAAQAAAAAAAAAAAAAAAAAAAAAAAAAAAQAAAAAAAAAAAAAAAAAAAAAAAQAAAAAAAAAAAAAAAAAAAAAAAAAAAAAAAAAAAAAAAAACAAAAAgAAAAAAAAABAAAAAAAAAAAAAAAAAAAAAQAAAAAAAAABAAAAAAEAAAAAAAAAAAEAAAAAAAAAAAAAAAAAAAEAAAAAAAABAAAAAAAAAAAAAgAAAAAAAAAAAQABAQAAAAEBAAABAgACAAEBAQIAAAEBAAIAAAEAAAAAAgEAAQEAAAEAAQAAAAABAQABAgAAAAAAAAAAAAAAAAAAAAAAAAAAAAAAAAABAQAAAQEAAgIAAAACAAAAAgAAAQEBAAAAAAAAAAAAAQAAAAAAAAAAAAAAAAAAAAAAAAAAAQABAAABAAAAAAAAAgABAAEAAAEBAAABAAAAAAAAAAAAAAAAAAAAAQAAAgAAAgAAAAABAAAAAAEAAAAAAAAAAAAAAAAAAAAAAAEAAQADAQAAAAEAAAAAAAAAAAAAAAAAAQAAAAAAAAEAAQAAAAEAAAAAAQEAAQAAAAAAAAAAAQAAAAAAAAACAQAAAAAAAAAAAAABAwAAAAABAgIAAQAAAAAAAAACAQECAgIBAQABAAIAAwMCAgAAAgACAAIBAgIAAAIBAwIBAgABAAACAQAAAAIBAwAAAwADAwMDAwACAgICAgEBAAABAgADAAAAAAAAAQAAAAABAAAAAAADAAAAAAAAAQEAAAABAAAAAAAAAQABAAEBAAAAAQEAAAEAAAAAAAAAAAAAAAAAAAEAAAEAAAAAAAAAAAAAAAAAAAAAAAEAAAEAAAAAAAEAAAAAAAEAAAAAAAAAAQAAAAAAAAACAgAAAAAAAAEAAAAAAAABAAAAAAIBAAAAAAAAAAEAAQAAAAAAAAABAAEAAQAAAAEAAQABAQAAAAAAAAAAAAAAAAAAAAAAAAIAAAAAAAAAAAAAAAAAAAEBAAAAAAEAAAAAAAAAAgEAAAAAAAAAAAIAAQAAAAAAAAAAAAAAAAAAAAEAAQACAAAAAAEAAgAAAAEAAAAAAAAAAAAAAAAAAAAAAAEAAQAAAAAAAAAAAAAAAQAAAAAAAAAAAAAAAAAAAQAAAQAAAAAAAAABAAEAAQAAAAABAQAAAAAAAAAAAQEAAAAAAAAAAgABAAAAAAAAAAAAAAEAAQABAAAAAAABAAAAAAEAAQEAAQAAAQAAAAEBAQABAAAAAAEAAAIBAAEAAQEBAAMAAQAAAAEAAgAAAAABAQAAAQAAAQAAAAEAAQEBAAEBAQEAAAAAAAEAAAEAAAAAAAAAAAAAAAABAQEAAAEAAAAAAAAAAAAAAAAAAAAAAQEAAAAAAAAAAAABAAAAAAAAAAAAAAAAAAIAAAAAAQAAAAAAAAAAAAAAAAAAAAAAAAAAAAAAAAAAAQAAAAABAQAAAQABAQAAAQAAAQIAAAEAAAEAAAAAAAEAAAABAQAAAAABAAAAAQAAAAAAAQAAAAAAAAAAAAAAAAEAAAAAAAEAAAEAAAAAAAABAAAAAwIBAQAAAAEAAAAAAAABAAAAAQAAAAAAAAEAAAABAAEAAgAAAAABAAAAAAAAAAAAAAECAAAAAQAAAAABAAAAAAACAAABAQABAAACAAABAAAAAAEAAAEAAAAAAAAAAAEAAAABAgACAAABAAIBAAAAAAAAAAAAAAAAAAAAAAABAAABAAAAAQEAAAAAAAAAAAEAAAAAAAICAgEBAAAAAAACAAECAgAAAAEAAAABAAIAAAICAAACAAAAAAABAQAAAAIAAAAAAgAAAAAAAAAAAQEBAAAAAAAAAgAAAQEAAAACAAAAAAAAAgAAAAAAAQABAAEBAAEAAwEAAAAAAAABAAECAAEAAAACAAACAQEAAQAAAAAAAAAAAAAAAAAAAAAAAAAAAAAAAAAAAQAAAAEAAAABAAAAAAAAAAAAAAAAAAAAAAAAAAAAAAAAAQAAAAAAAAEAAAABAAABAAEAAAABAAAAAQACAAAAAAAAAQABAAABAAAAAQEAAAAAAAEAAQEAAAAAAwEAAAAAAAEAAQABAAEAAgAAAAEAAAAAAAAAAAAAAAAAAAAAAAAAAAEBAAAAAQEAAAAAAQAAAAAAAAIAAQAAAQAAAAAAAAAAAAAAAAEAAAEAAAAAAAAAAQAAAAAAAAAAAAEBAAAAAQABAQAAAAAAAAAAAAAAAAAAAAAAAAAAAAAAAAEAAAEAAAAAAQABAAABAAAAAAAAAAAAAQAAAAABAAAAAAAAAAABAAAAAAAAAAAAAAAAAAAAAAABAAAAAAAAAAAAAAAAAAAAAQAAAQEAAAAAAAAAAAAAAAABAAAAAAAAAAAAAAEAAAAAAAAAAAAAAAAAAAAAAQEAAAAAAAAAAAEAAAAAAQAAAAEAAAAAAAAAAAAAAAABAAAAAQAAAAAAAAEAAAAAAAEAAAAAAAAAAAAAAAAAAAAAAAEBAgABAAAAAAAAAAAAAAAAAAABAAAAAAAAAQAAAAEAAAAAAAAAAAAAAAAAAAAAAAAAAAAAAAAAAAIBAAEAAAAAAAEAAAAAAAAAAgAAAAABAAABAAEAAAAAAAAAAgEAAAAAAAIAAgABAAACAAAAAAAAAAAAAAAAAAAAAAEAAAEAAAEBAAAAAAABAAEBAAABAAAAAAAAAgAAAAAAAQAAAAAAAQAAAAAAAAAAAAAAAQAAAAAAAAAAAAABAQABAAEBAAAAAAAAAQEAAQIAAAEAAgAAAQEBAAAAAQIAAQAAAQAAAAAAAAAAAgAAAAAAAAEAAAABAQEAAQEBAQAAAQAAAQABAAEBAQAAAQEBAAEAAgADAQEAAAIBAQEBAAEBAAICAgAAAAAAAAAAAAAAAQAAAAAAAAAAAAAAAAAAAAAAAAAAAQAAAAAAAAABAAAAAAAAAAAAAAEBAQAAAAEAAAABAAAAAAAAAQAAAQAAAAEAAAAAAAAAAQEAAQABAAAAAAEAAQABAAEAAAAAAAEAAAEAAQABAQABAAEAAQAAAAAAAAABAAABAAEAAAAAAAEAAAEAAAAAAAIAAAAAAAAAAAAAAQEAAQEAAAAAAQAAAAAAAAACAQAAAAAAAAICAAEAAQAAAQEAAgEAAAAAAAEAAAICAAIBAAAAAAABAAAAAQAAAAAAAAAAAAAAAAAAAgACAAAAAQAAAQAAAAAAAgEBAAAAAAAAAAABAAEAAAAAAAAAAAAAAAAAAQAAAAABAAAAAQAAAAAAAAAAAQABAAIAAAABAAAAAAAAAAAAAAAAAAIBAAADAAAAAQAAAQAAAAAAAAAAAAAAAAAAAAIAAQAAAAAAAAEAAAAAAAAAAAAAAAAAAAAAAAAAAgEAAQAAAAABAAAAAAAAAAABAAAAAAAAAAIAAAAAAQAAAAAAAQAAAAEAAQAAAAAAAQEAAAAAAAAAAAAAAAAAAAAAAAAAAAAAAAAAAAAAAAAAAAAAAQAAAAAAAAAAAgAAAAAAAAAAAAABAAABAgAAAAEDAAAAAAAAAAAAAAAAAAAAAAAAAAAAAQEAAAAAAAAAAAABAAAAAAAAAAECAAAAAAAAAQAAAAAAAgAAAAAAAAAAAAAAAAAAAAAAAAAAAQAAAAAAAAAAAAAAAAAAAAAAAAAAAQAAAAAAAAAAAAAAAQAAAAAAAAAAAAAAAAAAAAAAAAAAAAAAAAAAAAAAAAAAAAAAAAAAAAAAAAEAAAABAAAAAAAAAAAAAAAAAAAAAAAAAAAAAAAAAAAAAAAAAAAAAAAAAAAAAAEAAQAAAAAAAQAAAAEBAAAAAAABAAAAAAAAAAAAAAAAAAAAAAAAAAEAAAAAAQABAAAAAAAAAAAAAAAAAAAAAAAAAAAAAAAAAAAAAAAAAQAAAQAAAAAAAQAAAQAAAAAAAAAAAgAAAAAAAAAAAAAAAAAAAQAAAAAAAAAAAAAAAAEBAQEBAAAAAAAAAAAAAAAAAAAAAAAAAAAAAAEAAQAAAAAAAAABAAAAAAAAAQAAAAABAAABAAEAAQEBAQAAAAECAAAAAAEAAAEAAAABAAAAAAAAAAABAAAAAAAAAQAAAAEAAAEBAAAAAQAAAAAAAAABAAAAAAEAAAEBAAEAAAABAAMBAAEBAQIAAAAAAAAAAAAAAAEBAQEBAAAAAAEAAAAAAQAAAgEBAAAAAQAAAgAAAQAAAAABAQABAAAAAAAAAQAAAAEBAAEBAAAAAAAAAAAAAAAAAAEAAAAAAQABAAAAAQAAAAABAAAAAAABAAAAAAAAAAAAAQAAAAAAAgAAAAAAAAABAAAAAAAAAAAAAAEAAAABAQAAAQABAAABAAAAAAABAgAAAAABAAAAAAAAAAAAAQABAAABAAAAAAAAAAEBAAAAAAIBAAAAAQAAAAABAAAAAQAAAAAAAAAAAAAAAAAAAAAAAQIBAAAAAQEAAAAAAAABAAAAAAABAAAAAAAAAAAAAAAAAAAAAAABAAAAAAAAAAAAAQEAAAAAAAAAAQEAAAAAAAAAAAAAAAAAAAAAAAAAAAAAAAAAAQAAAAEAAQACAAAAAAAAAAABAAAAAAAAAAEBAQIAAAABAgAAAgAAAAAAAAAAAAAAAAAAAQAAAAAAAAAAAAAAAAAAAQAAAAAAAAEAAAAAAAAAAAAAAAAAAQAAAAAAAAAAAAAAAAAAAAAAAAAAAAABAAIAAAAAAAAAAAAAAAIAAAAAAAAAAAAAAAABAAAAAAAAAQAAAAAAAAAAAAAAAQAAAAAAAQADAQABAgABAAEBAwEBAAIBAQABAQEBAAAAAQAAAAABAQAAAAEAAAECAAEAAAABAAEBAAAAAAEBAAABAQEAAAEBAQABAgABAQAAAQIAAQEBAQADAgEBAgEDAAEBAQADAQMBAQEAAwEAAwECAAEAAAAAAAAAAAEAAAEAAAAAAQEAAAAAAAAAAAAAAQAAAAABAAEAAQAAAAAAAAAAAQABAAEBAAEAAAABAAAAAQAAAAAAAAEAAAAAAAAAAQAAAAABAAAAAAAAAQAAAAEAAAEAAAAAAAAAAAAAAgEAAAAAAAAAAQAAAAAAAAAAAAABAAAAAAAAAAAAAAEAAAAAAQAAAQEAAgABAAAAAAEAAAEAAAAAAAAAAAAAAQAAAAAAAAAAAAAAAAAAAAAAAAAAAAAAAAAAAQABAAIAAAAAAQEAAQIAAAIAAQAAAQIAAAABAgEBAAAAAQAAAQAAAAEAAQAAAAABAAAAAQAAAAAAAAABAQAAAAAAAAEAAAABAAAAAAAAAAAAAQAAAAAAAgEAAAECAAABAAAAAAAAAAIBAQAAAAAAAAAAAAEAAAAAAAAAAQAAAgEAAAADAAABAAIAAQAAAQAAAAEBAQEAAAAAAQIAAAIAAAIAAQMAAAMCAAACAAABAAEAAwABAwIAAAEBAAAAAgACAAIAAAAAAAABAAABAAABAQABAgIAAAEAAAABAAADAAAAAAABAgEAAAAAAQAAAAEAAQAAAAABAAAAAAAAAQMAAAABAgABAAAAAAIBAgECAAAAAAEAAAAAAAACAAAAAAAAAAABAQAAAAAAAAAAAAAAAAABAAEBAAAAAQIBAAAAAQAAAAAAAQEAAAAAAQAAAAEAAAAAAAEAAAABAAAAAAEBAAABAAAAAAABAQAAAAABAAAAAAAAAAAAAAAAAgAAAAAAAAAAAAAAAQEAAAAAAAAAAQABAAEAAAAAAAAAAAAAAQEAAQEBAQAAAQEAAAAAAAAAAQAAAAAAAQABAAAAAAAAAQAAAAAAAAAAAAEAAQAAAQAAAAAAAAEAAAAAAAAAAQAAAQAAAAABAAAAAAEAAAAAAAABAAAAAAAAAQAAAAEBAQAAAgAAAAAAAAAAAAAAAAEAAAICAAAAAAAAAAAAAAEBAQAAAAAAAAAAAAAAAAAAAAAAAAAAAAAAAAAAAAEAAAAAAAAAAAAAAAACAAABAgABAAAAAAAAAAAAAAAAAAAAAAAAAAAAAAAAAAAAAAAAAAAAAAABAAAAAAAAAAAAAQAAAAAAAAAAAAAAAAAAAAABAAAAAAACAQAAAQAAAAAAAAAAAAAAAQAAAAAAAAEAAAAAAAEAAAICAAAAAgAAAQAAAAAAAAAAAAEAAAAAAAEAAAAAAAAAAAAAAQAAAAEAAgAAAAIAAAAAAAAAAAEAAAECAwECAAIAAAEBAAAAAQAAAAABAAEBAQIAAAABAAAAAAEAAAEAAAAAAAABAAAAAAICAQIAAAIAAAAAAAAAAAEAAAIAAQAAAgIAAgEAAAAAAgEAAAAAAgAAAAABAAAAAAAAAAABAQEAAAAAAAAAAAAAAQAAAAAAAAAAAAAAAAEAAAACAAABAAAAAAAAAAAAAAAAAQAAAAEAAAAAAAEAAAAAAAAAAQAAAAAAAQEBAQAAAAAAAAABAQABAQIAAAAAAQAAAAAAAAAAAAACAAAAAAACAAAAAAAAAgEAAQEBAAABAQABAAAAAAAAAAAAAAAAAAEBAgEAAQEBAAABAAAAAQAAAgIBAQIAAQMAAgIAAAAAAgAAAQMAAAADAQACAgAAAAEBAAEBAAAAAwMCAAIAAgACAQAAAgAAAAAAAAABAAADAAECAQABAAABAAAAAAABAAEBAAEAAgAAAgIAAAAAAgAAAAACAAAAAAAAAAEAAAAAAAAAAQEAAAAAAAICAAAAAQAAAAEAAQAAAAABAAABAAAAAAEAAAAAAAABAAEAAQACAAABAAABAAEAAAAAAAEAAAEBAQAAAgAAAQEBAAMAAAABAAABAQAAAQABAQABAQABAAAAAAEAAAEAAAACAAEAAAIAAgABAAEAAAAAAAACAAAAAAAAAAABAAMBAQABAAAAAAAAAAEDAQAAAAACAwAAAAACAQADAAAAAQAAAAEBAAMAAAAAAgAAAQIAAAIAAAACAAAAAAACAQAAAQEAAAACAAAAAAMAAAAAAgEBAQEAAQAAAAAAAAAAAQMAAQEAAAABAAAAAAEAAAAAAQAAAQABAAABAAEAAQAAAAAAAAAAAAAAAAAAAAABAAAAAAAAAAAAAAEAAAAAAAAAAQAAAAAAAAAAAAAAAAAAAAAAAAAAAQAAAAEBAAEAAAIBAAEAAAAAAAABAAAAAAAAAAABAQAAAAAAAQEAAAAAAAAAAAAAAgAAAQAAAAAAAAAAAAAAAQAAAAEAAAAAAAAAAAAAAQEAAAAAAAEAAAEAAAAAAAACAAEBAQABAAAAAQAAAAEAAwABAAAAAAAAAAAAAAEBAAABAAAAAAABAAEAAAAAAQAAAAAAAAEAAAEAAQAAAAABAAAAAAAAAAAAAQAAAgABAAABAAEAAAAAAQAAAQAAAAABAAABAAAAAAAAAAACAAABAAEAAAEAAAAAAAAAAAAAAAAAAAEAAAEAAAEAAQEAAAAAAQEAAAACAAECAQABAAAAAAABAAIAAAEAAAAAAgEAAAAAAQIAAAAAAAEAAAABAAABAAADAAABAQAAAAAAAQEAAAACAQAAAAABAAEAAQABAQEAAAEAAAAAAAAAAQEAAQAAAAAAAAEAAAEDAAEAAQEAAAAAAAAAAAAAAQABAQEAAAAAAQAAAAAAAAMBAQAAAQICAAEAAAEAAAAAAAAAAAAAAQIAAAAAAAABAAAAAAAAAAAAAAAAAAAAAAAAAAAAAAAAAAAAAAAAAQABAAAAAAAAAAAAAAAAAAAAAAABAAAAAQAAAAEAAAAAAgABAAAAAAECAAAAAAEAAAAAAAAAAAAAAAAAAAAAAAEAAQAAAQAAAAAAAQAAAAAAAAAAAAAAAAIAAQEAAAABAAEAAAAAAAAAAAAAAAAAAAEAAAABAAAAAAAAAAAAAAAAAAEAAAAAAAAAAAAAAAEAAAAAAAAAAQAAAAAAAAAAAAAAAAAAAAAAAAAAAAAAAAEAAAAAAAAAAgEAAAMAAAIAAQAAAAAAAAAAAgEAAAAAAgECAAAAAAAAAAAAAAAAAAEAAAAAAAAAAAAAAAABAAEBAAAAAAAAAQABAAAAAAAAAAAAAAABAAAAAAEAAAABAAEAAAEAAAAAAQAAAAMAAAAAAAAAAAAAAQAAAQAAAAEAAAAAAQAAAAEAAQAAAAAAAAAAAQAAAAAAAwEAAAAAAQEAAAEAAAEAAAAAAAAAAAAAAAAAAAAAAAAAAAAAAAABAAAAAAAAAAAAAAAAAAABAAAAAAAAAAEAAAAAAAABAQABAAAAAAAAAAEBAAEAAAABAAAAAAAAAAMAAAAAAAAAAAAAAAAAAAAAAAAAAAAAAAEBAAAAAAAAAAAAAAEAAAAAAAABAAAAAAAAAAAAAAAAAAEAAAABAAABAAAAAAAAAAABAQAAAAEAAAAAAAAAAAAAAAAAAAAAAAAAAAABAAAAAAAAAAEAAAAAAgABAAMAAgEBAwEDAAAAAAAAAQECAAAAAAAAAAAAAAAAAAEAAQABAAAAAAAAAQABAAAAAAABAAAAAAAAAAAAAQABAAEAAAEAAAAAAAAAAAAAAAAAAAABAAAAAAAAAAAAAAAAAAABAAEBAAABAAAAAQABAgAAAAAAAQAAAAEAAAAAAAAAAAAAAAAAAAAAAAAAAAEAAAAAAAAAAAAAAAAAAAEBAAACAAABAAAAAAAAAAAAAAAAAAAAAAAAAAAAAAAAAQAAAwAAAAAAAAAAAAAAAAAAAAAAAAAAAAAAAAAAAAAAAAAAAAAAAAAAAAAAAAABAAAAAAAAAAAAAAAAAAAAAAAAAAAAAAEAAQEAAAAAAAAAAAAAAAEAAAEAAAAAAAAAAAABAAABAAAAAAAAAAABAAAAAAAAAAABAQAAAAAAAAABAAAAAAAAAAAAAAAAAQEAAAAAAAEAAAAAAAAAAQEBAAAAAAAAAAECAAABAQAAAAECAAAAAAEBAAAAAQABAAACAQEAAAAAAAAAAQAAAQAAAAAAAQAAAAAAAAAAAAAAAAAAAgAAAAAAAAAAAAAAAAAAAAEAAAAAAAAAAAAAAAABAAAAAAABAQABAAIAAAAAAQAAAQAAAAAAAAABAAAAAAAAAAAAAAAAAQAAAQAAAAAAAAAAAQAAAAABAAAAAQAAAAAAAAAAAAAAAAAAAAAAAAAAAAAAAAAAAAIAAAAAAAABAAAAAAAAAAAAAAAAAAAAAAEAAAAAAAAAAAAAAAABAAAAAAAAAAAAAAAAAAAAAAAAAQIAAgEAAAEAAQEAAAAAAAABAAEAAgADAQADAAEBAAEDAQAAAgAAAQACAAEAAAAAAAAAAgAAAAAAAQIAAAEAAAEBAAAAAAABAwAAAAIAAgMDAAMAAQABAQEAAAABAAMBAQAAAAAAAAIAAAADAAAAAgAAAQAAAQABAgACAAABAgAAAAAAAQAAAQABAAMDAQAAAAIBAgICAAACAAAAAAECAQAAAAAAAAEAAAEAAQABAQAAAQABAAAAAAAAAAAAAAABAQMBAgAAAAAAAQAAAAABAQECAQAAAAEAAgACAAIAAAIAAAMAAAAAAQEBAgAAAAAAAAABAQIAAAEAAAEAAAAAAQEBAQEBAAEBAQIAAAIBAAABAAAAAgEAAQEBAQEAAAEAAAAAAwIBAAAAAAAAAAIAAAAAAQEAAAAAAAAAAQEBAAAAAQAAAAAAAAAAAAAAAAAAAQABAAAAAAAAAAEAAAEAAAAAAAAAAAEAAAAAAAABAAAAAQEBAAAAAAABAAAAAAAAAQAAAAABAQAAAQAAAQAAAAAAAAAAAAAAAAAAAAAAAAAAAAIAAAEAAAEBAAAAAAAAAAAAAAAAAAABAAEAAQEBAAEBAAAAAAABAAABAQAAAQAAAQAAAwEAAQAAAQEAAAIBAAABAAABAQAAAAAAAQEAAAAAAAABAAEAAAABAAEAAAABAAEBAQAAAAAAAAAAAQEAAAAAAAIAAgEAAAAAAAA=",
          "dtype": "i1"
         },
         "xaxis": "x",
         "yaxis": "y"
        }
       ],
       "layout": {
        "barmode": "relative",
        "legend": {
         "tracegroupgap": 0
        },
        "margin": {
         "t": 60
        },
        "template": {
         "data": {
          "bar": [
           {
            "error_x": {
             "color": "#2a3f5f"
            },
            "error_y": {
             "color": "#2a3f5f"
            },
            "marker": {
             "line": {
              "color": "#E5ECF6",
              "width": 0.5
             },
             "pattern": {
              "fillmode": "overlay",
              "size": 10,
              "solidity": 0.2
             }
            },
            "type": "bar"
           }
          ],
          "barpolar": [
           {
            "marker": {
             "line": {
              "color": "#E5ECF6",
              "width": 0.5
             },
             "pattern": {
              "fillmode": "overlay",
              "size": 10,
              "solidity": 0.2
             }
            },
            "type": "barpolar"
           }
          ],
          "carpet": [
           {
            "aaxis": {
             "endlinecolor": "#2a3f5f",
             "gridcolor": "white",
             "linecolor": "white",
             "minorgridcolor": "white",
             "startlinecolor": "#2a3f5f"
            },
            "baxis": {
             "endlinecolor": "#2a3f5f",
             "gridcolor": "white",
             "linecolor": "white",
             "minorgridcolor": "white",
             "startlinecolor": "#2a3f5f"
            },
            "type": "carpet"
           }
          ],
          "choropleth": [
           {
            "colorbar": {
             "outlinewidth": 0,
             "ticks": ""
            },
            "type": "choropleth"
           }
          ],
          "contour": [
           {
            "colorbar": {
             "outlinewidth": 0,
             "ticks": ""
            },
            "colorscale": [
             [
              0,
              "#0d0887"
             ],
             [
              0.1111111111111111,
              "#46039f"
             ],
             [
              0.2222222222222222,
              "#7201a8"
             ],
             [
              0.3333333333333333,
              "#9c179e"
             ],
             [
              0.4444444444444444,
              "#bd3786"
             ],
             [
              0.5555555555555556,
              "#d8576b"
             ],
             [
              0.6666666666666666,
              "#ed7953"
             ],
             [
              0.7777777777777778,
              "#fb9f3a"
             ],
             [
              0.8888888888888888,
              "#fdca26"
             ],
             [
              1,
              "#f0f921"
             ]
            ],
            "type": "contour"
           }
          ],
          "contourcarpet": [
           {
            "colorbar": {
             "outlinewidth": 0,
             "ticks": ""
            },
            "type": "contourcarpet"
           }
          ],
          "heatmap": [
           {
            "colorbar": {
             "outlinewidth": 0,
             "ticks": ""
            },
            "colorscale": [
             [
              0,
              "#0d0887"
             ],
             [
              0.1111111111111111,
              "#46039f"
             ],
             [
              0.2222222222222222,
              "#7201a8"
             ],
             [
              0.3333333333333333,
              "#9c179e"
             ],
             [
              0.4444444444444444,
              "#bd3786"
             ],
             [
              0.5555555555555556,
              "#d8576b"
             ],
             [
              0.6666666666666666,
              "#ed7953"
             ],
             [
              0.7777777777777778,
              "#fb9f3a"
             ],
             [
              0.8888888888888888,
              "#fdca26"
             ],
             [
              1,
              "#f0f921"
             ]
            ],
            "type": "heatmap"
           }
          ],
          "histogram": [
           {
            "marker": {
             "pattern": {
              "fillmode": "overlay",
              "size": 10,
              "solidity": 0.2
             }
            },
            "type": "histogram"
           }
          ],
          "histogram2d": [
           {
            "colorbar": {
             "outlinewidth": 0,
             "ticks": ""
            },
            "colorscale": [
             [
              0,
              "#0d0887"
             ],
             [
              0.1111111111111111,
              "#46039f"
             ],
             [
              0.2222222222222222,
              "#7201a8"
             ],
             [
              0.3333333333333333,
              "#9c179e"
             ],
             [
              0.4444444444444444,
              "#bd3786"
             ],
             [
              0.5555555555555556,
              "#d8576b"
             ],
             [
              0.6666666666666666,
              "#ed7953"
             ],
             [
              0.7777777777777778,
              "#fb9f3a"
             ],
             [
              0.8888888888888888,
              "#fdca26"
             ],
             [
              1,
              "#f0f921"
             ]
            ],
            "type": "histogram2d"
           }
          ],
          "histogram2dcontour": [
           {
            "colorbar": {
             "outlinewidth": 0,
             "ticks": ""
            },
            "colorscale": [
             [
              0,
              "#0d0887"
             ],
             [
              0.1111111111111111,
              "#46039f"
             ],
             [
              0.2222222222222222,
              "#7201a8"
             ],
             [
              0.3333333333333333,
              "#9c179e"
             ],
             [
              0.4444444444444444,
              "#bd3786"
             ],
             [
              0.5555555555555556,
              "#d8576b"
             ],
             [
              0.6666666666666666,
              "#ed7953"
             ],
             [
              0.7777777777777778,
              "#fb9f3a"
             ],
             [
              0.8888888888888888,
              "#fdca26"
             ],
             [
              1,
              "#f0f921"
             ]
            ],
            "type": "histogram2dcontour"
           }
          ],
          "mesh3d": [
           {
            "colorbar": {
             "outlinewidth": 0,
             "ticks": ""
            },
            "type": "mesh3d"
           }
          ],
          "parcoords": [
           {
            "line": {
             "colorbar": {
              "outlinewidth": 0,
              "ticks": ""
             }
            },
            "type": "parcoords"
           }
          ],
          "pie": [
           {
            "automargin": true,
            "type": "pie"
           }
          ],
          "scatter": [
           {
            "fillpattern": {
             "fillmode": "overlay",
             "size": 10,
             "solidity": 0.2
            },
            "type": "scatter"
           }
          ],
          "scatter3d": [
           {
            "line": {
             "colorbar": {
              "outlinewidth": 0,
              "ticks": ""
             }
            },
            "marker": {
             "colorbar": {
              "outlinewidth": 0,
              "ticks": ""
             }
            },
            "type": "scatter3d"
           }
          ],
          "scattercarpet": [
           {
            "marker": {
             "colorbar": {
              "outlinewidth": 0,
              "ticks": ""
             }
            },
            "type": "scattercarpet"
           }
          ],
          "scattergeo": [
           {
            "marker": {
             "colorbar": {
              "outlinewidth": 0,
              "ticks": ""
             }
            },
            "type": "scattergeo"
           }
          ],
          "scattergl": [
           {
            "marker": {
             "colorbar": {
              "outlinewidth": 0,
              "ticks": ""
             }
            },
            "type": "scattergl"
           }
          ],
          "scattermap": [
           {
            "marker": {
             "colorbar": {
              "outlinewidth": 0,
              "ticks": ""
             }
            },
            "type": "scattermap"
           }
          ],
          "scattermapbox": [
           {
            "marker": {
             "colorbar": {
              "outlinewidth": 0,
              "ticks": ""
             }
            },
            "type": "scattermapbox"
           }
          ],
          "scatterpolar": [
           {
            "marker": {
             "colorbar": {
              "outlinewidth": 0,
              "ticks": ""
             }
            },
            "type": "scatterpolar"
           }
          ],
          "scatterpolargl": [
           {
            "marker": {
             "colorbar": {
              "outlinewidth": 0,
              "ticks": ""
             }
            },
            "type": "scatterpolargl"
           }
          ],
          "scatterternary": [
           {
            "marker": {
             "colorbar": {
              "outlinewidth": 0,
              "ticks": ""
             }
            },
            "type": "scatterternary"
           }
          ],
          "surface": [
           {
            "colorbar": {
             "outlinewidth": 0,
             "ticks": ""
            },
            "colorscale": [
             [
              0,
              "#0d0887"
             ],
             [
              0.1111111111111111,
              "#46039f"
             ],
             [
              0.2222222222222222,
              "#7201a8"
             ],
             [
              0.3333333333333333,
              "#9c179e"
             ],
             [
              0.4444444444444444,
              "#bd3786"
             ],
             [
              0.5555555555555556,
              "#d8576b"
             ],
             [
              0.6666666666666666,
              "#ed7953"
             ],
             [
              0.7777777777777778,
              "#fb9f3a"
             ],
             [
              0.8888888888888888,
              "#fdca26"
             ],
             [
              1,
              "#f0f921"
             ]
            ],
            "type": "surface"
           }
          ],
          "table": [
           {
            "cells": {
             "fill": {
              "color": "#EBF0F8"
             },
             "line": {
              "color": "white"
             }
            },
            "header": {
             "fill": {
              "color": "#C8D4E3"
             },
             "line": {
              "color": "white"
             }
            },
            "type": "table"
           }
          ]
         },
         "layout": {
          "annotationdefaults": {
           "arrowcolor": "#2a3f5f",
           "arrowhead": 0,
           "arrowwidth": 1
          },
          "autotypenumbers": "strict",
          "coloraxis": {
           "colorbar": {
            "outlinewidth": 0,
            "ticks": ""
           }
          },
          "colorscale": {
           "diverging": [
            [
             0,
             "#8e0152"
            ],
            [
             0.1,
             "#c51b7d"
            ],
            [
             0.2,
             "#de77ae"
            ],
            [
             0.3,
             "#f1b6da"
            ],
            [
             0.4,
             "#fde0ef"
            ],
            [
             0.5,
             "#f7f7f7"
            ],
            [
             0.6,
             "#e6f5d0"
            ],
            [
             0.7,
             "#b8e186"
            ],
            [
             0.8,
             "#7fbc41"
            ],
            [
             0.9,
             "#4d9221"
            ],
            [
             1,
             "#276419"
            ]
           ],
           "sequential": [
            [
             0,
             "#0d0887"
            ],
            [
             0.1111111111111111,
             "#46039f"
            ],
            [
             0.2222222222222222,
             "#7201a8"
            ],
            [
             0.3333333333333333,
             "#9c179e"
            ],
            [
             0.4444444444444444,
             "#bd3786"
            ],
            [
             0.5555555555555556,
             "#d8576b"
            ],
            [
             0.6666666666666666,
             "#ed7953"
            ],
            [
             0.7777777777777778,
             "#fb9f3a"
            ],
            [
             0.8888888888888888,
             "#fdca26"
            ],
            [
             1,
             "#f0f921"
            ]
           ],
           "sequentialminus": [
            [
             0,
             "#0d0887"
            ],
            [
             0.1111111111111111,
             "#46039f"
            ],
            [
             0.2222222222222222,
             "#7201a8"
            ],
            [
             0.3333333333333333,
             "#9c179e"
            ],
            [
             0.4444444444444444,
             "#bd3786"
            ],
            [
             0.5555555555555556,
             "#d8576b"
            ],
            [
             0.6666666666666666,
             "#ed7953"
            ],
            [
             0.7777777777777778,
             "#fb9f3a"
            ],
            [
             0.8888888888888888,
             "#fdca26"
            ],
            [
             1,
             "#f0f921"
            ]
           ]
          },
          "colorway": [
           "#636efa",
           "#EF553B",
           "#00cc96",
           "#ab63fa",
           "#FFA15A",
           "#19d3f3",
           "#FF6692",
           "#B6E880",
           "#FF97FF",
           "#FECB52"
          ],
          "font": {
           "color": "#2a3f5f"
          },
          "geo": {
           "bgcolor": "white",
           "lakecolor": "white",
           "landcolor": "#E5ECF6",
           "showlakes": true,
           "showland": true,
           "subunitcolor": "white"
          },
          "hoverlabel": {
           "align": "left"
          },
          "hovermode": "closest",
          "mapbox": {
           "style": "light"
          },
          "paper_bgcolor": "white",
          "plot_bgcolor": "#E5ECF6",
          "polar": {
           "angularaxis": {
            "gridcolor": "white",
            "linecolor": "white",
            "ticks": ""
           },
           "bgcolor": "#E5ECF6",
           "radialaxis": {
            "gridcolor": "white",
            "linecolor": "white",
            "ticks": ""
           }
          },
          "scene": {
           "xaxis": {
            "backgroundcolor": "#E5ECF6",
            "gridcolor": "white",
            "gridwidth": 2,
            "linecolor": "white",
            "showbackground": true,
            "ticks": "",
            "zerolinecolor": "white"
           },
           "yaxis": {
            "backgroundcolor": "#E5ECF6",
            "gridcolor": "white",
            "gridwidth": 2,
            "linecolor": "white",
            "showbackground": true,
            "ticks": "",
            "zerolinecolor": "white"
           },
           "zaxis": {
            "backgroundcolor": "#E5ECF6",
            "gridcolor": "white",
            "gridwidth": 2,
            "linecolor": "white",
            "showbackground": true,
            "ticks": "",
            "zerolinecolor": "white"
           }
          },
          "shapedefaults": {
           "line": {
            "color": "#2a3f5f"
           }
          },
          "ternary": {
           "aaxis": {
            "gridcolor": "white",
            "linecolor": "white",
            "ticks": ""
           },
           "baxis": {
            "gridcolor": "white",
            "linecolor": "white",
            "ticks": ""
           },
           "bgcolor": "#E5ECF6",
           "caxis": {
            "gridcolor": "white",
            "linecolor": "white",
            "ticks": ""
           }
          },
          "title": {
           "x": 0.05
          },
          "xaxis": {
           "automargin": true,
           "gridcolor": "white",
           "linecolor": "white",
           "ticks": "",
           "title": {
            "standoff": 15
           },
           "zerolinecolor": "white",
           "zerolinewidth": 2
          },
          "yaxis": {
           "automargin": true,
           "gridcolor": "white",
           "linecolor": "white",
           "ticks": "",
           "title": {
            "standoff": 15
           },
           "zerolinecolor": "white",
           "zerolinewidth": 2
          }
         }
        },
        "xaxis": {
         "anchor": "y",
         "domain": [
          0,
          1
         ],
         "title": {
          "text": "frustration"
         }
        },
        "yaxis": {
         "anchor": "x",
         "domain": [
          0,
          1
         ],
         "title": {
          "text": "count"
         }
        }
       }
      }
     },
     "metadata": {},
     "output_type": "display_data"
    }
   ],
   "source": [
    "px.histogram(df_continous,\n",
    "             'frustration')"
   ]
  },
  {
   "cell_type": "code",
   "execution_count": 18,
   "id": "80289d37",
   "metadata": {},
   "outputs": [
    {
     "data": {
      "application/vnd.plotly.v1+json": {
       "config": {
        "plotlyServerURL": "https://plot.ly"
       },
       "data": [
        {
         "bingroup": "x",
         "hovertemplate": "frustration=%{x}<br>count=%{y}<extra></extra>",
         "legendgroup": "",
         "marker": {
          "color": "#636efa",
          "pattern": {
           "shape": ""
          }
         },
         "name": "",
         "orientation": "v",
         "showlegend": false,
         "type": "histogram",
         "x": {
          "bdata": "AAAAAAAAAAAAAAAAAAAAAAAAAAAAAAAAAAAAAAAAAAAAAAAAAAAAAAAAAAAAAAAAAAAAAAAAAAAAAAAAAAAAAAAAAAAAAAAAAAAAAAAAAAAAAAAAAAAAAAAAAAAAAAAAAAAAAAAAAAAAAAAAAAAAAAAAAAAAAAAAAAAAAAAAAAAAAAAAAAAAAAAAAAAAAAAAAAAAAAAAAAAAAAAAAAAAAAAAAAAAAAAAAAAAAAAAAAAAAAAAAAAAAAAAAAAAAAAAAAAAAAAAAAAAAAAAAAAAAAAAAAAAAAAAAAAAAQAAAAAAAAAAAAAAAAAAAAAAAAAAAAAAAAAAAAAAAAAAAAAAAAAAAAAAAAAAAAAAAAAAAAAAAQAAAAAAAAAAAAAAAAAAAAAAAAAAAAAAAAAAAAAAAAAAAAAAAAAAAAAAAAAAAAAAAAAAAAAAAAAAAAAAAAAAAAAAAAAAAAAAAAAAAAAAAAAAAAAAAAAAAAAAAAAAAAAAAAAAAAAAAAAAAAAAAAAAAAAAAAAAAAAAAAAAAAAAAAAAAAAAAAAAAAAAAAAAAAAAAAAAAAAAAAAAAAAAAAAAAAAAAAAAAAAAAAAAAAAAAAAAAAAAAAAAAAAAAAAAAAAAAAAAAAAAAAAAAAAAAAAAAAAAAAAAAAAAAAAAAAAAAAAAAAAAAAAAAAAAAAAAAAABAAAAAAAAAAAAAAAAAAAAAAAAAAAAAAAAAAAAAAAAAAAAAAAAAAAAAAAAAAAAAAAAAAAAAAAAAAAAAAAAAAAAAAAAAAAAAAAAAAAAAAAAAAAAAAAAAAAAAAAAAAAAAAAAAAAAAAAAAAAAAAAAAAAAAAAAAAAAAAAAAAAAAAAAAAAAAAAAAAAAAAAAAAAAAAAAAAAAAAAAAAAAAAAAAAAAAAAAAAAAAAAAAAAAAAAAAAAAAAAAAAAAAAAAAAAAAAAAAAAAAAAAAAAAAAAAAAAAAAAAAAAAAAAAAAAAAAAAAAAAAAAAAAAAAAAAAAAAAAAAAAAAAAAAAAAAAAAAAAAAAAAAAAAAAAAAAAAAAAAAAAAAAAAAAAAAAAAAAAAAAAAAAAAAAAAAAAAAAAAAAAAAAAAAAAAAAAAAAAAAAAAAAAAAAAAAAAAAAAAAAAAAAAAAAAAAAAAAAAAAAAAAAAAAAAAAAAAAAAAAAAAAAAAAAAAAAAAAAAAAAAAAAAAAAAAAAAABAAAAAAAAAAAAAAAAAAAAAAAAAAAAAAAAAAAAAAAAAAAAAAAAAAAAAAAAAAAAAAAAAAAAAAAAAAAAAAAAAAAAAAAAAAAAAQAAAAAAAAAAAAAAAAAAAAAAAAAAAAAAAAAAAAAAAQEAAAAAAAAAAAAAAAAAAAAAAQAAAAAAAAAAAAAAAAAAAQAAAQABAQEBAQAAAAAAAAAAAAAAAAABAAAAAAAAAAAAAAAAAAAAAAABAAAAAAAAAAAAAAAAAAAAAAAAAAAAAAAAAAAAAAAAAAAAAAAAAAAAAAAAAAAAAAAAAAAAAAAAAAAAAAAAAAAAAAAAAAAAAAAAAAAAAAAAAAAAAAAAAAAAAAAAAAAAAAAAAAAAAAAAAAAAAAAAAAAAAAAAAAAAAAAAAAAAAAAAAAAAAAAAAAAAAAAAAAAAAAAAAAAAAAAAAAAAAAAAAAAAAAAAAAAAAAAAAAAAAAAAAAAAAAAAAAAAAAAAAAAAAAAAAAAAAAAAAAAAAAAAAAAAAAAAAAAAAAAAAAAAAAAAAAAAAAAAAAAAAAAAAAAAAAAAAAAAAAAAAAAAAAAAAAAAAAAAAAAAAAAAAAAAAAAAAAAAAAAAAAAAAAAAAAAAAAAAAAAAAAAAAAAAAAAAAAAAAAAAAAAAAAAAAAAAAAAAAAAAAAAAAAAAAAAAAAAAAAAAAAAAAAAAAAAAAAAAAAAAAAAAAAAAAAAAAAAAAAAAAAAAAAAAAAAAAAAAAAAAAAAAAAAAAAEAAAAAAAAAAAAAAAAAAAAAAAAAAAAAAAAAAAAAAAAAAAAAAAAAAAAAAAAAAAAAAAAAAAAAAAAAAAAAAAAAAAAAAAAAAAAAAAAAAAAAAAAAAAAAAAAAAAAAAAAAAAAAAAAAAAAAAAAAAAAAAAAAAAAAAAAAAAAAAAAAAAAAAAAAAAAAAAAAAAAAAAAAAAAAAAAAAAAAAAAAAAAAAAAAAAAAAAAAAAAAAAAAAAAAAAAAAAAAAAAAAAAAAAAAAAAAAAAAAAAAAAAAAAAAAAAAAAAAAAAAAAAAAAAAAQAAAAAAAAAAAAAAAAAAAAAAAAAAAAAAAAAAAAAAAAAAAAAAAAAAAAAAAAAAAAAAAAAAAAAAAAAAAAAAAAAAAAAAAAAAAAAAAAAAAAAAAAAAAAAAAAAAAAAAAAAAAAAAAAAAAAAAAAAAAAAAAAAAAAAAAAAAAAAAAAAAAAAAAAAAAAAAAAAAAAAAAAAAAAAAAAAAAAAAAAAAAAAAAAAAAAAAAAAAAAAAAAAAAAAAAAAAAAAAAAAAAAAAAAAAAAAAAAAAAAAAAAAAAAAAAAAAAAAAAAAAAAAAAAAAAAAAAAAAAAAAAAAAAAAAAAAAAAAAAAAAAQAAAAAAAAAAAAAAAAAAAAAAAAAAAAAAAAAAAAAAAAAAAAAAAAAAAAAAAAAAAAAAAAAAAAAAAAAAAAAAAAAAAAAAAAAAAAAAAAAAAAAAAAAAAAAAAAAAAAAAAAAAAAAAAAAAAAAAAAAAAAAAAAAAAAAAAAAAAAAAAAAAAAAAAAAAAAAAAAAAAAAAAAAAAQAAAAAAAAAAAAAAAAAAAAAAAAAAAAAAAAAAAAAAAAAAAAAAAAAAAAAAAAAAAAAAAAAAAAAAAAAAAAAAAAAAAAAAAAAAAAAAAAAAAAAAAAAAAAAAAAAAAAAAAAAAAAAAAAAAAAAAAAAAAAAAAAAAAAAAAAAAAAAAAAAAAAAAAAAAAAAAAAAAAAAAAAAAAAAAAAAAAAAAAAAAAAAAAAAAAAAAAAAAAAAAAAAAAAAAAAAAAAAAAAAAAAAAAAAAAAAAAAAAAAAAAAAAAAAAAAAAAAAAAAAAAAAAAAAAAAAAAAAAAAAAAAAAAAAAAAAAAAAAAAAAAAAAAAAAAAAAAAAAAAAAAAAAAAAAAAAAAAAAAAAAAAAAAAAAAAAAAAAAAAAAAAAAAAAAAAAAAAAAAAAAAAAAAAAAAAAAAAAAAAAAAAAAAAAAAAAAAAAAAAAAAAAAAAAAAAAAAAAAAAAAAAAAAAAAAAAAAAAAAAAAAAAAAAAAAAAAAAAAAAAAAAAAAAAAAAAAAAAAAAAAAAAAAAAAAAAAAAAAAAAAAAAAAAAAAAAAAAAAAAAAAAAAAAAAAAAAAAAAAAAAAAAAAAAAAAAAAAAAAAAAAAAAAAAAAAAAAAAAAAAAAAAAAAAAAAAAAAAAAAAAAAAAAAAAAAAAAAAAAAAAAAAAAAAAAAAAAAAAAAAAAAAAAAAAAAAAAAAAAAAAAAAAAAAAAAAAAAAAAAAAAAAAAAAAAAAAAAAAAAAAAAAAAAAAAAAAAAAAAAAAAAAAAAAAAAAAAAABAAAAAAAAAAAAAAAAAAAAAAAAAAAAAAAAAAAAAAAAAAAAAAAAAAAAAAAAAAAAAAAAAAAAAAAAAAAAAAAAAAAAAAAAAAAAAAAAAAAAAAAAAAAAAAAAAAAAAAAAAAAAAAAAAAAAAAAAAAAAAAAAAAAAAAAAAAAAAAAAAAAAAAAAAAAAAAAAAAAAAAAAAAAAAAAAAAAAAAAAAAAAAAAAAAAAAAAAAAAAAAAAAAAAAAAAAAAAAAAAAAAAAAAAAAAAAAAAAAAAAAAAAAAAAAAAAAAAAAAAAAAAAAAAAAAAAAAAAAAAAAAAAAAAAAAAAAAAAAAAAAAAAAAAAAAAAAAAAAAAAAAAAAAAAAAAAAAAAAAAAAAAAAAAAAAAAAAAAAAAAAAAAAAAAAAAAAAAAAAAAAAAAAAAAAAAAAAAAAAAAAAAAAAAAAAAAAAAAAAAAAAAAAABAAAAAAAAAAAAAAAAAAAAAAAAAAAAAAAAAAAAAAAAAAAAAAAAAAAAAAAAAAAAAAAAAAAAAAAAAAAAAAAAAAAAAAAAAAAAAAAAAAAAAAAAAAAAAAAAAAAAAAAAAAAAAAAAAAAAAAAAAAAAAAAAAAAAAAAAAAAAAAAAAAAAAAAAAAAAAAAAAAAAAAAAAAAAAAAAAAAAAAAAAAAAAAAAAAAAAAAAAAABAAAAAAAAAAAAAAAAAAAAAAAAAAAAAAAAAAAAAAAAAAAAAAAAAAAAAAAAAAAAAAAAAAAAAAAAAAAAAAAAAAAAAAAAAAAAAAAAAAAAAAAAAAAAAAAAAAAAAAAAAAAAAAAAAAAAAAAAAAAAAAAAAAAAAAAAAAAAAAAAAAAAAAAAAAAAAAAAAAAAAAAAAAAAAAAAAAAAAAAAAAAAAAAAAAAAAAAAAAAAAAAAAAAAAAAAAAAAAAAAAAAAAAAAAAAAAAAAAAAAAAAAAAAAAAAAAAAAAAAAAAAAAAAAAAAAAAAAAAAAAAAAAAAAAAAAAAAAAAAAAAAAAAAAAAAAAAAAAAAAAAAAAAAAAAAAAAAAAAAAAAAAAAAAAAAAAAAAAAAAAAAAAAAAAAAAAAAAAAAAAAAAAAAAAAAAAAAAAAAAAAAAAAAAAAAAAAAAAAAAAAAAAAAAAAAAAAAAAAAAAAAAAAAAAAAAAAAAAAAAAAAAAAAAAAAAAAAAAAAAAAAAAAAAAAAAAAAAAAAAAAAAAAAAAAAAAAAAAAAAAAAAAAAAAAAAAAAAAAAAAAAAAAAAAAAAAAAAAAAAAAAAAAAAAAAAAAAAAAAAAAEAAAAAAAAAAAAAAAAAAAAAAAAAAAAAAAAAAAAAAAAAAAAAAAAAAAAAAAAAAAAAAAAAAAAAAAAAAAAAAAAAAAAAAAAAAAAAAAAAAAAAAAAAAAAAAAAAAAAAAAAAAAAAAAAAAAAAAAAAAAAAAAAAAAAAAAAAAAAAAAAAAAAAAAAAAAAAAAAAAAAAAAAAAAAAAAAAAAAAAAAAAAAAAAAAAAAAAAAAAAAAAAAAAAAAAAAAAAAAAAAAAAAAAAAAAAAAAAAAAAAAAAAAAAAAAAAAAAAAAAAAAAAAAAAAAAAAAAAAAAAAAAAAAAAAAAAAAAAAAAAAAAAAAAAAAAAAAAAAAAAAAAAAAAAAAAAAAAAAAAAAAAAAAAAAAAAAAAAAAAAAAAAAAAAAAAAAAAAAAAAAAAAAAAAAAAAAAAAAAAAAAAAAAAAAAAAAAAAAAAAAAAAAAAAAAAAAAAAAAAAAAAAAAAAAAAAAAAAAAAAAAAAAAAAAAAAAAAAAAAAAAAAAAAAAAAAAAAAAAAAAAAAAAAAAAAAAAAAAAAAAAAAAAAAAAAAAAAAAAAAAAAAAAAAAAAAAAAAAAAAAAAAAAAAAAAAAAAAAAAAAAAAAAAAAAAAAAAAAAAAAAAAAAAAAAAABAAAAAAAAAAAAAQAAAAAAAAAAAAAAAAAAAAAAAAAAAAAAAAAAAAAAAAAAAAAAAAAAAAAAAAAAAAAAAAAAAAAAAAAAAAAAAAAAAAAAAAAAAAABAAAAAAABAAAAAAABAAEAAAAAAQAAAQAAAAAAAAAAAAAAAAAAAAAAAAAAAAAAAAAAAAAAAAAAAAAAAAAAAAAAAAAAAAAAAAAAAAAAAAAAAAAAAAAAAAAAAAAAAAAAAAAAAAAAAAAAAAAAAAAAAAAAAAAAAAAAAAAAAAAAAAAAAAAAAAAAAAAAAAAAAAAAAAAAAAAAAAAAAAAAAAAAAAAAAAAAAAAAAAAAAAAAAAAAAAAAAAAAAAAAAAAAAAAAAAAAAAAAAAAAAAAAAAAAAAAAAAAAAAAAAAAAAAAAAAAAAAAAAAAAAAAAAAAAAAAAAAAAAAAAAAAAAAAAAAAAAAAAAAAAAAAAAAAAAAAAAAAAAAAAAAAAAAAAAAAAAAAAAAAAAAAAAAAAAAAAAAAAAAAAAAAAAAAAAAAAAAAAAAAAAAAAAAAAAAAAAAAAAAAAAAAAAAAAAAAAAAAAAAAAAAAAAAABAAAAAAAAAAAAAAAAAAAAAAAAAAAAAAAAAAAAAAAAAAEAAAEAAAAAAAAAAAAAAQAAAQAAAAAAAAAAAAAAAAAAAAAAAAAAAAAAAAAAAAAAAAAAAAAAAAAAAAABAAAAAAAAAAAAAAAAAAAAAAAAAAAAAAAAAAAAAAAAAAEAAAAAAAAAAAAAAAAAAAAAAAAAAAAAAAAAAAAAAAAAAAAAAAAAAAAAAAAAAAAAAAAAAAAAAAAAAAAAAAAAAAAAAAAAAAAAAAAAAAAAAAAAAAAAAAAAAAAAAAAAAAAAAAAAAAAAAAAAAAAAAAAAAAAAAAAAAAAAAAAAAAAAAAAAAAAAAAAAAAAAAAAAAAAAAAAAAAAAAAAAAAAAAAAAAAAAAAAAAAAAAAAAAAAAAAAAAAAAAAAAAAAAAAAAAAAAAAAAAAAAAAAAAAAAAAAAAAAAAAAAAAAAAAAAAAAAAAAAAAAAAAAAAAAAAAAAAAAAAAAAAAAAAAAAAAAAAAAAAAAAAAAAAAAAAAAAAAAAAAAAAAAAAAAAAAAAAAAAAAAAAAAAAAAAAAAAAAAAAAAAAAAAAAAAAAAAAAAAAAAAAAAAAAAAAAAAAAAAAAAAAAAAAAAAAAAAAAAAAAAAAAAAAAAAAAAAAAAAAAAAAAAAAAAAAAAAAAAAAAAAAAAAAAAAAAAAAAAAAAAAAAAAAAAAAAAAAAAAAAAAAAAAAAAAAAAAAAAAAAAAAAAAAAAAAAAAAAAAAAAAAAAAAAAAAAAAAAAAAAAAAAAAAAAAAAAAAAAAAAAAAAAAAAAAAAAAAAAAAAAAAAAAAAAAAAAAAAAAAAAAAQAAAAAAAAAAAAAAAAAAAAAAAAAAAAAAAAAAAAAAAAAAAAAAAAAAAAAAAAAAAAAAAAAAAAAAAAAAAAAAAAAAAAAAAAAAAAAAAAAAAAAAAAAAAAAAAAAAAAAAAAAAAAAAAAAAAAAAAAAAAAAAAAAAAAAAAAAAAAAAAAAAAAAAAAAAAAAAAAAAAAAAAAAAAAAAAAAAAAAAAAAAAAAAAAAAAAAAAAAAAAAAAAAAAAAAAAAAAAAAAAAAAAAAAAAAAAAAAAAAAAAAAAAAAAAAAAAAAAAAAAAAAAAAAAAAAAAAAAAAAAAAAAAAAAAAAAAAAAAAAAAAAAAAAAAAAAAAAAAAAAAAAAAAAAEAAAAAAAAAAAAAAAEAAAABAAAAAAAAAAAAAAAAAAAAAQEAAAAAAAAAAAAAAAAAAAAAAAAAAAABAAAAAAAAAAAAAAAAAAAAAAAAAAAAAAAAAAAAAAAAAAAAAAAAAAAAAAAAAAAAAAAAAAAAAAAAAAAAAAAAAAAAAAAAAAAAAAAAAAAAAAAAAAAAAAAAAAAAAAAAAAAAAAAAAAAAAAAAAAAAAAAAAAAAAAAAAAAAAAAAAAAAAAEAAAAAAAAAAAAAAAAAAAAAAAAAAAAAAAAAAAAAAAAAAAAAAAAAAAAAAAAAAAAAAAAAAAAAAAAAAAAAAAEAAAAAAAAAAAAAAAABAAAAAAAAAQAAAAAAAAABAAAAAAAAAAAAAAEAAAAAAAAAAAAAAAAAAAAAAAAAAAAAAAAAAAAAAAAAAAAAAAEAAAAAAAAAAAAAAAAAAAAAAAAAAAEAAAAAAAAAAAAAAAAAAAAAAAAAAAAAAAAAAAAAAAAAAAAAAAAAAAAAAAAAAAAAAAAAAAAAAAAAAAAAAAAAAAAAAAAAAAAAAAAAAAAAAAAAAAAAAAAAAAAAAAAAAAAAAAAAAAAAAAAAAAAAAAAAAAAAAAAAAAAAAAAAAAAAAAAAAAAAAAAAAAAAAAAAAAAAAAAAAAAAAAAAAAAAAAAAAAAAAAAAAAAAAAAAAAAAAAAAAAAAAAAAAAAAAAAAAAAAAAAAAAAAAQAAAAAAAAAAAAAAAAAAAAAAAAAAAAAAAAAAAAAAAAAAAAAAAAAAAAAAAAAAAAAAAAAAAAAAAAAAAAAAAAAAAAAAAAAAAAAAAAAAAAAAAAAAAAAAAAAAAAAAAAAAAAAAAAAAAAAAAAAAAAAAAAAAAAAAAAAAAAAAAAAAAAAAAAAAAAAAAAAAAAAAAAAAAAAAAAAAAAAAAAAAAAAAAAAAAAAAAAAAAAAAAAAAAAAAAAAAAAABAAAAAAAAAAAAAAAAAAAAAAAAAAAAAAAAAAAAAAAAAAAAAAAAAAAAAAAAAAAAAAAAAAAAAAABAAAAAAAAAAAAAAAAAAAAAAAAAAAAAAAAAAAAAAAAAAEAAAAAAAAAAAAAAAAAAAAAAAAAAAAAAAAAAAAAAAAAAAAAAAAAAAAAAAAAAAAAAAAAAAAAAAAAAAAAAAAAAAAAAAAAAAAAAAAAAAAAAAAAAAAAAAAAAAAAAAAAAAAAAAAAAAAAAAAAAAAAAAAAAAAAAAAAAAAAAAAAAAAAAAAAAAAAAAAAAAAAAAAAAAAAAAAAAAAAAAAAAAAAAAAAAAAAAAAAAAAAAAAAAAAAAAAAAAAAAAAAAAAAAAAAAAAAAAAAAAAAAAAAAAAAAAAAAAAAAAAAAAAAAAAAAAAAAAAAAAAAAAAAAAAAAAAAAAAAAAAAAAAAAAAAAAEAAAAAAAAAAAAAAAAAAAAAAAAAAAAAAAAAAAAAAAAAAAAAAAAAAAAAAAAAAAAAAAAAAAAAAAAAAAAAAAAAAAAAAAAAAAAAAAAAAAAAAAAAAAAAAAAAAAAAAAAAAAAAAAEAAAAAAAAAAAAAAAAAAAAAAAAAAAAAAAAAAAAAAAAAAAAAAAAAAAAAAAAAAQAAAAAAAAAAAAAAAAAAAAAAAAAAAAAAAAAAAAAAAAAAAAAAAAAAAAAAAAAAAAAAAAAAAAAAAAAAAAAAAAAAAAAAAAAAAAAAAAAAAAAAAAAAAAAAAAAAAAAAAAAAAAEAAAAAAAAAAAAAAAAAAAAAAAAAAAAAAAAAAAAAAAAAAAAAAAAAAAAAAAAAAAAAAAAAAAAAAAAAAAAAAAAAAAAAAAAAAAAAAAAAAAAAAAAAAAAAAAAAAAAAAAAAAAAAAAAAAAAAAAAAAAAAAAAAAAAAAAAAAAEAAAAAAQABAAAAAAAAAAAAAAAAAAAAAAAAAAAAAAAAAAAAAAAAAAAAAAAAAAAAAAAAAAAAAAAAAAAAAAAAAAAAAAAAAAAAAAAAAAAAAAAAAAAAAAAAAAAAAAAAAAAAAAAAAAAAAAAAAAAAAAAAAAAAAAAAAAAAAAAAAAAAAAAAAAAAAAAAAAAAAAAAAAAAAAAAAAAAAAAAAAAAAAAAAAAAAAAAAAAAAAAAAAAAAAAAAAAAAAAAAAAAAAAAAAAAAQAAAAAAAAAAAAAAAAAAAAAAAAAAAAAAAAAAAAAAAAAAAAAAAAAAAAAAAAAAAAAAAAAAAAAAAAAAAAAAAAAAAAAAAAAAAAAAAAAAAAAAAAAAAAAAAAAAAAAAAAAAAAAAAAAAAAAAAAAAAAAAAAAAAAAAAAAAAAAAAAAAAAAAAAAAAAAAAAAAAAAAAAAAAAAAAAAAAAAAAAAAAAAAAAAAAAAAAAAAAAAAAAAAAAAAAAAAAAAAAAAAAAAAAAAAAAAAAAAAAAAAAAAAAAAAAAAAAAAAAAAAAAAAAAAAAAAAAAAAAAAAAAAAAAAAAAAAAAAAAAAAAAAAAAAAAAAAAAAAAAAAAAAAAAAAAAAAAAAAAAAAAAAAAAAAAAAAAAAAAAAAAAAAAAAAAAAAAAAAAAAAAAAAAAAAAAAAAAAAAAAAAAAAAAAAAAAAAAAAAAAAAAAAAAAAAAAAAAAAAAAAAAAAAAAAAAAAAAAAAAAAAAAAAAAAAAAAAAAAAAAAAAAAAAAAAAAAAAAAAAAAAAAAAAAAAAAAAAAAAAAAAAAAAAAAAAAAAAABAAABAAAAAAABAAAAAAAAAAAAAAAAAAAAAAAAAAAAAAAAAAAAAAAAAAAAAAAAAAAAAQAAAAAAAAEBAAEAAAAAAAAAAAAAAAEAAAAAAAAAAAAAAAABAAAAAAAAAAAAAAAAAAAAAAAAAAAAAAAAAAAAAAAAAAEBAAAAAAAAAAAAAAAAAAAAAAAAAAAAAAAAAAAAAAAAAAAAAAAAAAAAAAAAAAAAAAAAAAAAAAEAAAAAAAAAAAAAAAAAAAAAAAAAAAAAAAAAAAAAAAAAAAEAAAAAAAAAAAAAAAAAAAAAAAAAAAAAAAAAAAAAAAAAAAAAAAAAAAAAAAAAAAAAAAAAAAAAAAAAAAAAAAAAAAAAAQAAAAAAAAAAAAAAAAAAAAAAAAAAAAAAAAAAAAAAAAAAAAAAAAAAAAAAAAAAAAAAAAAAAAAAAAAAAAAAAAAAAAAAAAAAAAAAAAAAAAAAAAAAAAAAAAAAAAAAAAAAAAAAAAAAAAAAAAAAAAAAAAAAAAAAAAAAAAAAAAAAAAAAAAAAAAAAAAAAAAAAAAAAAAAAAAAAAAAAAAAAAAAAAAAAAAAAAAAAAAAAAAAAAAAAAAAAAQAAAAAAAAAAAAAAAAAAAAAAAAAAAAAAAAAAAAAAAAAAAAAAAAAAAAAAAAAAAAAAAAAAAAAAAAAAAAAAAAAAAAAAAAAAAAAAAAA=",
          "dtype": "i1"
         },
         "xaxis": "x",
         "yaxis": "y"
        }
       ],
       "layout": {
        "barmode": "relative",
        "legend": {
         "tracegroupgap": 0
        },
        "margin": {
         "t": 60
        },
        "template": {
         "data": {
          "bar": [
           {
            "error_x": {
             "color": "#2a3f5f"
            },
            "error_y": {
             "color": "#2a3f5f"
            },
            "marker": {
             "line": {
              "color": "#E5ECF6",
              "width": 0.5
             },
             "pattern": {
              "fillmode": "overlay",
              "size": 10,
              "solidity": 0.2
             }
            },
            "type": "bar"
           }
          ],
          "barpolar": [
           {
            "marker": {
             "line": {
              "color": "#E5ECF6",
              "width": 0.5
             },
             "pattern": {
              "fillmode": "overlay",
              "size": 10,
              "solidity": 0.2
             }
            },
            "type": "barpolar"
           }
          ],
          "carpet": [
           {
            "aaxis": {
             "endlinecolor": "#2a3f5f",
             "gridcolor": "white",
             "linecolor": "white",
             "minorgridcolor": "white",
             "startlinecolor": "#2a3f5f"
            },
            "baxis": {
             "endlinecolor": "#2a3f5f",
             "gridcolor": "white",
             "linecolor": "white",
             "minorgridcolor": "white",
             "startlinecolor": "#2a3f5f"
            },
            "type": "carpet"
           }
          ],
          "choropleth": [
           {
            "colorbar": {
             "outlinewidth": 0,
             "ticks": ""
            },
            "type": "choropleth"
           }
          ],
          "contour": [
           {
            "colorbar": {
             "outlinewidth": 0,
             "ticks": ""
            },
            "colorscale": [
             [
              0,
              "#0d0887"
             ],
             [
              0.1111111111111111,
              "#46039f"
             ],
             [
              0.2222222222222222,
              "#7201a8"
             ],
             [
              0.3333333333333333,
              "#9c179e"
             ],
             [
              0.4444444444444444,
              "#bd3786"
             ],
             [
              0.5555555555555556,
              "#d8576b"
             ],
             [
              0.6666666666666666,
              "#ed7953"
             ],
             [
              0.7777777777777778,
              "#fb9f3a"
             ],
             [
              0.8888888888888888,
              "#fdca26"
             ],
             [
              1,
              "#f0f921"
             ]
            ],
            "type": "contour"
           }
          ],
          "contourcarpet": [
           {
            "colorbar": {
             "outlinewidth": 0,
             "ticks": ""
            },
            "type": "contourcarpet"
           }
          ],
          "heatmap": [
           {
            "colorbar": {
             "outlinewidth": 0,
             "ticks": ""
            },
            "colorscale": [
             [
              0,
              "#0d0887"
             ],
             [
              0.1111111111111111,
              "#46039f"
             ],
             [
              0.2222222222222222,
              "#7201a8"
             ],
             [
              0.3333333333333333,
              "#9c179e"
             ],
             [
              0.4444444444444444,
              "#bd3786"
             ],
             [
              0.5555555555555556,
              "#d8576b"
             ],
             [
              0.6666666666666666,
              "#ed7953"
             ],
             [
              0.7777777777777778,
              "#fb9f3a"
             ],
             [
              0.8888888888888888,
              "#fdca26"
             ],
             [
              1,
              "#f0f921"
             ]
            ],
            "type": "heatmap"
           }
          ],
          "histogram": [
           {
            "marker": {
             "pattern": {
              "fillmode": "overlay",
              "size": 10,
              "solidity": 0.2
             }
            },
            "type": "histogram"
           }
          ],
          "histogram2d": [
           {
            "colorbar": {
             "outlinewidth": 0,
             "ticks": ""
            },
            "colorscale": [
             [
              0,
              "#0d0887"
             ],
             [
              0.1111111111111111,
              "#46039f"
             ],
             [
              0.2222222222222222,
              "#7201a8"
             ],
             [
              0.3333333333333333,
              "#9c179e"
             ],
             [
              0.4444444444444444,
              "#bd3786"
             ],
             [
              0.5555555555555556,
              "#d8576b"
             ],
             [
              0.6666666666666666,
              "#ed7953"
             ],
             [
              0.7777777777777778,
              "#fb9f3a"
             ],
             [
              0.8888888888888888,
              "#fdca26"
             ],
             [
              1,
              "#f0f921"
             ]
            ],
            "type": "histogram2d"
           }
          ],
          "histogram2dcontour": [
           {
            "colorbar": {
             "outlinewidth": 0,
             "ticks": ""
            },
            "colorscale": [
             [
              0,
              "#0d0887"
             ],
             [
              0.1111111111111111,
              "#46039f"
             ],
             [
              0.2222222222222222,
              "#7201a8"
             ],
             [
              0.3333333333333333,
              "#9c179e"
             ],
             [
              0.4444444444444444,
              "#bd3786"
             ],
             [
              0.5555555555555556,
              "#d8576b"
             ],
             [
              0.6666666666666666,
              "#ed7953"
             ],
             [
              0.7777777777777778,
              "#fb9f3a"
             ],
             [
              0.8888888888888888,
              "#fdca26"
             ],
             [
              1,
              "#f0f921"
             ]
            ],
            "type": "histogram2dcontour"
           }
          ],
          "mesh3d": [
           {
            "colorbar": {
             "outlinewidth": 0,
             "ticks": ""
            },
            "type": "mesh3d"
           }
          ],
          "parcoords": [
           {
            "line": {
             "colorbar": {
              "outlinewidth": 0,
              "ticks": ""
             }
            },
            "type": "parcoords"
           }
          ],
          "pie": [
           {
            "automargin": true,
            "type": "pie"
           }
          ],
          "scatter": [
           {
            "fillpattern": {
             "fillmode": "overlay",
             "size": 10,
             "solidity": 0.2
            },
            "type": "scatter"
           }
          ],
          "scatter3d": [
           {
            "line": {
             "colorbar": {
              "outlinewidth": 0,
              "ticks": ""
             }
            },
            "marker": {
             "colorbar": {
              "outlinewidth": 0,
              "ticks": ""
             }
            },
            "type": "scatter3d"
           }
          ],
          "scattercarpet": [
           {
            "marker": {
             "colorbar": {
              "outlinewidth": 0,
              "ticks": ""
             }
            },
            "type": "scattercarpet"
           }
          ],
          "scattergeo": [
           {
            "marker": {
             "colorbar": {
              "outlinewidth": 0,
              "ticks": ""
             }
            },
            "type": "scattergeo"
           }
          ],
          "scattergl": [
           {
            "marker": {
             "colorbar": {
              "outlinewidth": 0,
              "ticks": ""
             }
            },
            "type": "scattergl"
           }
          ],
          "scattermap": [
           {
            "marker": {
             "colorbar": {
              "outlinewidth": 0,
              "ticks": ""
             }
            },
            "type": "scattermap"
           }
          ],
          "scattermapbox": [
           {
            "marker": {
             "colorbar": {
              "outlinewidth": 0,
              "ticks": ""
             }
            },
            "type": "scattermapbox"
           }
          ],
          "scatterpolar": [
           {
            "marker": {
             "colorbar": {
              "outlinewidth": 0,
              "ticks": ""
             }
            },
            "type": "scatterpolar"
           }
          ],
          "scatterpolargl": [
           {
            "marker": {
             "colorbar": {
              "outlinewidth": 0,
              "ticks": ""
             }
            },
            "type": "scatterpolargl"
           }
          ],
          "scatterternary": [
           {
            "marker": {
             "colorbar": {
              "outlinewidth": 0,
              "ticks": ""
             }
            },
            "type": "scatterternary"
           }
          ],
          "surface": [
           {
            "colorbar": {
             "outlinewidth": 0,
             "ticks": ""
            },
            "colorscale": [
             [
              0,
              "#0d0887"
             ],
             [
              0.1111111111111111,
              "#46039f"
             ],
             [
              0.2222222222222222,
              "#7201a8"
             ],
             [
              0.3333333333333333,
              "#9c179e"
             ],
             [
              0.4444444444444444,
              "#bd3786"
             ],
             [
              0.5555555555555556,
              "#d8576b"
             ],
             [
              0.6666666666666666,
              "#ed7953"
             ],
             [
              0.7777777777777778,
              "#fb9f3a"
             ],
             [
              0.8888888888888888,
              "#fdca26"
             ],
             [
              1,
              "#f0f921"
             ]
            ],
            "type": "surface"
           }
          ],
          "table": [
           {
            "cells": {
             "fill": {
              "color": "#EBF0F8"
             },
             "line": {
              "color": "white"
             }
            },
            "header": {
             "fill": {
              "color": "#C8D4E3"
             },
             "line": {
              "color": "white"
             }
            },
            "type": "table"
           }
          ]
         },
         "layout": {
          "annotationdefaults": {
           "arrowcolor": "#2a3f5f",
           "arrowhead": 0,
           "arrowwidth": 1
          },
          "autotypenumbers": "strict",
          "coloraxis": {
           "colorbar": {
            "outlinewidth": 0,
            "ticks": ""
           }
          },
          "colorscale": {
           "diverging": [
            [
             0,
             "#8e0152"
            ],
            [
             0.1,
             "#c51b7d"
            ],
            [
             0.2,
             "#de77ae"
            ],
            [
             0.3,
             "#f1b6da"
            ],
            [
             0.4,
             "#fde0ef"
            ],
            [
             0.5,
             "#f7f7f7"
            ],
            [
             0.6,
             "#e6f5d0"
            ],
            [
             0.7,
             "#b8e186"
            ],
            [
             0.8,
             "#7fbc41"
            ],
            [
             0.9,
             "#4d9221"
            ],
            [
             1,
             "#276419"
            ]
           ],
           "sequential": [
            [
             0,
             "#0d0887"
            ],
            [
             0.1111111111111111,
             "#46039f"
            ],
            [
             0.2222222222222222,
             "#7201a8"
            ],
            [
             0.3333333333333333,
             "#9c179e"
            ],
            [
             0.4444444444444444,
             "#bd3786"
            ],
            [
             0.5555555555555556,
             "#d8576b"
            ],
            [
             0.6666666666666666,
             "#ed7953"
            ],
            [
             0.7777777777777778,
             "#fb9f3a"
            ],
            [
             0.8888888888888888,
             "#fdca26"
            ],
            [
             1,
             "#f0f921"
            ]
           ],
           "sequentialminus": [
            [
             0,
             "#0d0887"
            ],
            [
             0.1111111111111111,
             "#46039f"
            ],
            [
             0.2222222222222222,
             "#7201a8"
            ],
            [
             0.3333333333333333,
             "#9c179e"
            ],
            [
             0.4444444444444444,
             "#bd3786"
            ],
            [
             0.5555555555555556,
             "#d8576b"
            ],
            [
             0.6666666666666666,
             "#ed7953"
            ],
            [
             0.7777777777777778,
             "#fb9f3a"
            ],
            [
             0.8888888888888888,
             "#fdca26"
            ],
            [
             1,
             "#f0f921"
            ]
           ]
          },
          "colorway": [
           "#636efa",
           "#EF553B",
           "#00cc96",
           "#ab63fa",
           "#FFA15A",
           "#19d3f3",
           "#FF6692",
           "#B6E880",
           "#FF97FF",
           "#FECB52"
          ],
          "font": {
           "color": "#2a3f5f"
          },
          "geo": {
           "bgcolor": "white",
           "lakecolor": "white",
           "landcolor": "#E5ECF6",
           "showlakes": true,
           "showland": true,
           "subunitcolor": "white"
          },
          "hoverlabel": {
           "align": "left"
          },
          "hovermode": "closest",
          "mapbox": {
           "style": "light"
          },
          "paper_bgcolor": "white",
          "plot_bgcolor": "#E5ECF6",
          "polar": {
           "angularaxis": {
            "gridcolor": "white",
            "linecolor": "white",
            "ticks": ""
           },
           "bgcolor": "#E5ECF6",
           "radialaxis": {
            "gridcolor": "white",
            "linecolor": "white",
            "ticks": ""
           }
          },
          "scene": {
           "xaxis": {
            "backgroundcolor": "#E5ECF6",
            "gridcolor": "white",
            "gridwidth": 2,
            "linecolor": "white",
            "showbackground": true,
            "ticks": "",
            "zerolinecolor": "white"
           },
           "yaxis": {
            "backgroundcolor": "#E5ECF6",
            "gridcolor": "white",
            "gridwidth": 2,
            "linecolor": "white",
            "showbackground": true,
            "ticks": "",
            "zerolinecolor": "white"
           },
           "zaxis": {
            "backgroundcolor": "#E5ECF6",
            "gridcolor": "white",
            "gridwidth": 2,
            "linecolor": "white",
            "showbackground": true,
            "ticks": "",
            "zerolinecolor": "white"
           }
          },
          "shapedefaults": {
           "line": {
            "color": "#2a3f5f"
           }
          },
          "ternary": {
           "aaxis": {
            "gridcolor": "white",
            "linecolor": "white",
            "ticks": ""
           },
           "baxis": {
            "gridcolor": "white",
            "linecolor": "white",
            "ticks": ""
           },
           "bgcolor": "#E5ECF6",
           "caxis": {
            "gridcolor": "white",
            "linecolor": "white",
            "ticks": ""
           }
          },
          "title": {
           "x": 0.05
          },
          "xaxis": {
           "automargin": true,
           "gridcolor": "white",
           "linecolor": "white",
           "ticks": "",
           "title": {
            "standoff": 15
           },
           "zerolinecolor": "white",
           "zerolinewidth": 2
          },
          "yaxis": {
           "automargin": true,
           "gridcolor": "white",
           "linecolor": "white",
           "ticks": "",
           "title": {
            "standoff": 15
           },
           "zerolinecolor": "white",
           "zerolinewidth": 2
          }
         }
        },
        "xaxis": {
         "anchor": "y",
         "domain": [
          0,
          1
         ],
         "title": {
          "text": "frustration"
         }
        },
        "yaxis": {
         "anchor": "x",
         "domain": [
          0,
          1
         ],
         "title": {
          "text": "count"
         }
        }
       }
      }
     },
     "metadata": {},
     "output_type": "display_data"
    }
   ],
   "source": [
    "px.histogram(df_binary,\n",
    "             'frustration')"
   ]
  },
  {
   "cell_type": "markdown",
   "id": "68b6625c",
   "metadata": {},
   "source": [
    "## create new df"
   ]
  },
  {
   "cell_type": "code",
   "execution_count": 21,
   "id": "f814cde9",
   "metadata": {},
   "outputs": [
    {
     "data": {
      "text/html": [
       "<div>\n",
       "<style scoped>\n",
       "    .dataframe tbody tr th:only-of-type {\n",
       "        vertical-align: middle;\n",
       "    }\n",
       "\n",
       "    .dataframe tbody tr th {\n",
       "        vertical-align: top;\n",
       "    }\n",
       "\n",
       "    .dataframe thead th {\n",
       "        text-align: right;\n",
       "    }\n",
       "</style>\n",
       "<table border=\"1\" class=\"dataframe\">\n",
       "  <thead>\n",
       "    <tr style=\"text-align: right;\">\n",
       "      <th></th>\n",
       "      <th>image_path</th>\n",
       "      <th>boredom</th>\n",
       "      <th>engagement</th>\n",
       "      <th>confusion</th>\n",
       "      <th>frustration</th>\n",
       "      <th>split</th>\n",
       "    </tr>\n",
       "  </thead>\n",
       "  <tbody>\n",
       "    <tr>\n",
       "      <th>0</th>\n",
       "      <td>Train/110001/1100011002/1100011002.jpg</td>\n",
       "      <td>0</td>\n",
       "      <td>2</td>\n",
       "      <td>0</td>\n",
       "      <td>0</td>\n",
       "      <td>train</td>\n",
       "    </tr>\n",
       "    <tr>\n",
       "      <th>1</th>\n",
       "      <td>Train/110001/1100011003/1100011003.jpg</td>\n",
       "      <td>0</td>\n",
       "      <td>2</td>\n",
       "      <td>0</td>\n",
       "      <td>0</td>\n",
       "      <td>train</td>\n",
       "    </tr>\n",
       "    <tr>\n",
       "      <th>2</th>\n",
       "      <td>Train/110001/1100011004/1100011004.jpg</td>\n",
       "      <td>0</td>\n",
       "      <td>3</td>\n",
       "      <td>0</td>\n",
       "      <td>0</td>\n",
       "      <td>train</td>\n",
       "    </tr>\n",
       "    <tr>\n",
       "      <th>3</th>\n",
       "      <td>Train/110001/1100011005/1100011005.jpg</td>\n",
       "      <td>0</td>\n",
       "      <td>3</td>\n",
       "      <td>0</td>\n",
       "      <td>0</td>\n",
       "      <td>train</td>\n",
       "    </tr>\n",
       "    <tr>\n",
       "      <th>4</th>\n",
       "      <td>Train/110001/1100011006/1100011006.jpg</td>\n",
       "      <td>0</td>\n",
       "      <td>3</td>\n",
       "      <td>0</td>\n",
       "      <td>0</td>\n",
       "      <td>train</td>\n",
       "    </tr>\n",
       "    <tr>\n",
       "      <th>...</th>\n",
       "      <td>...</td>\n",
       "      <td>...</td>\n",
       "      <td>...</td>\n",
       "      <td>...</td>\n",
       "      <td>...</td>\n",
       "      <td>...</td>\n",
       "    </tr>\n",
       "    <tr>\n",
       "      <th>7914</th>\n",
       "      <td>Test/987736/987736029/987736029.jpg</td>\n",
       "      <td>0</td>\n",
       "      <td>3</td>\n",
       "      <td>0</td>\n",
       "      <td>0</td>\n",
       "      <td>test</td>\n",
       "    </tr>\n",
       "    <tr>\n",
       "      <th>7915</th>\n",
       "      <td>Test/998826/998826011/998826011.jpg</td>\n",
       "      <td>0</td>\n",
       "      <td>3</td>\n",
       "      <td>0</td>\n",
       "      <td>0</td>\n",
       "      <td>test</td>\n",
       "    </tr>\n",
       "    <tr>\n",
       "      <th>7916</th>\n",
       "      <td>Test/998826/9988260112/9988260112.jpg</td>\n",
       "      <td>0</td>\n",
       "      <td>3</td>\n",
       "      <td>0</td>\n",
       "      <td>0</td>\n",
       "      <td>test</td>\n",
       "    </tr>\n",
       "    <tr>\n",
       "      <th>7917</th>\n",
       "      <td>Test/998826/9988260115/9988260115.jpg</td>\n",
       "      <td>0</td>\n",
       "      <td>3</td>\n",
       "      <td>0</td>\n",
       "      <td>0</td>\n",
       "      <td>test</td>\n",
       "    </tr>\n",
       "    <tr>\n",
       "      <th>7918</th>\n",
       "      <td>Test/998826/9988260119/9988260119.jpg</td>\n",
       "      <td>1</td>\n",
       "      <td>2</td>\n",
       "      <td>0</td>\n",
       "      <td>0</td>\n",
       "      <td>test</td>\n",
       "    </tr>\n",
       "  </tbody>\n",
       "</table>\n",
       "<p>7919 rows × 6 columns</p>\n",
       "</div>"
      ],
      "text/plain": [
       "                                  image_path  boredom  engagement  confusion  \\\n",
       "0     Train/110001/1100011002/1100011002.jpg        0           2          0   \n",
       "1     Train/110001/1100011003/1100011003.jpg        0           2          0   \n",
       "2     Train/110001/1100011004/1100011004.jpg        0           3          0   \n",
       "3     Train/110001/1100011005/1100011005.jpg        0           3          0   \n",
       "4     Train/110001/1100011006/1100011006.jpg        0           3          0   \n",
       "...                                      ...      ...         ...        ...   \n",
       "7914     Test/987736/987736029/987736029.jpg        0           3          0   \n",
       "7915     Test/998826/998826011/998826011.jpg        0           3          0   \n",
       "7916   Test/998826/9988260112/9988260112.jpg        0           3          0   \n",
       "7917   Test/998826/9988260115/9988260115.jpg        0           3          0   \n",
       "7918   Test/998826/9988260119/9988260119.jpg        1           2          0   \n",
       "\n",
       "      frustration  split  \n",
       "0               0  train  \n",
       "1               0  train  \n",
       "2               0  train  \n",
       "3               0  train  \n",
       "4               0  train  \n",
       "...           ...    ...  \n",
       "7914            0   test  \n",
       "7915            0   test  \n",
       "7916            0   test  \n",
       "7917            0   test  \n",
       "7918            0   test  \n",
       "\n",
       "[7919 rows x 6 columns]"
      ]
     },
     "execution_count": 21,
     "metadata": {},
     "output_type": "execute_result"
    }
   ],
   "source": [
    "df_continous"
   ]
  },
  {
   "cell_type": "code",
   "execution_count": 22,
   "id": "6d8887c8",
   "metadata": {},
   "outputs": [
    {
     "data": {
      "text/html": [
       "<div>\n",
       "<style scoped>\n",
       "    .dataframe tbody tr th:only-of-type {\n",
       "        vertical-align: middle;\n",
       "    }\n",
       "\n",
       "    .dataframe tbody tr th {\n",
       "        vertical-align: top;\n",
       "    }\n",
       "\n",
       "    .dataframe thead th {\n",
       "        text-align: right;\n",
       "    }\n",
       "</style>\n",
       "<table border=\"1\" class=\"dataframe\">\n",
       "  <thead>\n",
       "    <tr style=\"text-align: right;\">\n",
       "      <th></th>\n",
       "      <th>image_path</th>\n",
       "      <th>boredom</th>\n",
       "      <th>engagement</th>\n",
       "      <th>confusion</th>\n",
       "      <th>frustration</th>\n",
       "      <th>split</th>\n",
       "    </tr>\n",
       "  </thead>\n",
       "  <tbody>\n",
       "    <tr>\n",
       "      <th>0</th>\n",
       "      <td>Train/110001/1100011002/1100011002.jpg</td>\n",
       "      <td>0</td>\n",
       "      <td>2</td>\n",
       "      <td>0</td>\n",
       "      <td>0</td>\n",
       "      <td>train</td>\n",
       "    </tr>\n",
       "    <tr>\n",
       "      <th>1</th>\n",
       "      <td>Train/110001/1100011003/1100011003.jpg</td>\n",
       "      <td>0</td>\n",
       "      <td>2</td>\n",
       "      <td>0</td>\n",
       "      <td>0</td>\n",
       "      <td>train</td>\n",
       "    </tr>\n",
       "    <tr>\n",
       "      <th>2</th>\n",
       "      <td>Train/110001/1100011004/1100011004.jpg</td>\n",
       "      <td>0</td>\n",
       "      <td>3</td>\n",
       "      <td>0</td>\n",
       "      <td>0</td>\n",
       "      <td>train</td>\n",
       "    </tr>\n",
       "    <tr>\n",
       "      <th>3</th>\n",
       "      <td>Train/110001/1100011005/1100011005.jpg</td>\n",
       "      <td>0</td>\n",
       "      <td>3</td>\n",
       "      <td>0</td>\n",
       "      <td>0</td>\n",
       "      <td>train</td>\n",
       "    </tr>\n",
       "    <tr>\n",
       "      <th>4</th>\n",
       "      <td>Train/110001/1100011006/1100011006.jpg</td>\n",
       "      <td>0</td>\n",
       "      <td>3</td>\n",
       "      <td>0</td>\n",
       "      <td>0</td>\n",
       "      <td>train</td>\n",
       "    </tr>\n",
       "    <tr>\n",
       "      <th>...</th>\n",
       "      <td>...</td>\n",
       "      <td>...</td>\n",
       "      <td>...</td>\n",
       "      <td>...</td>\n",
       "      <td>...</td>\n",
       "      <td>...</td>\n",
       "    </tr>\n",
       "    <tr>\n",
       "      <th>7914</th>\n",
       "      <td>Test/987736/987736029/987736029.jpg</td>\n",
       "      <td>0</td>\n",
       "      <td>3</td>\n",
       "      <td>0</td>\n",
       "      <td>0</td>\n",
       "      <td>test</td>\n",
       "    </tr>\n",
       "    <tr>\n",
       "      <th>7915</th>\n",
       "      <td>Test/998826/998826011/998826011.jpg</td>\n",
       "      <td>0</td>\n",
       "      <td>3</td>\n",
       "      <td>0</td>\n",
       "      <td>0</td>\n",
       "      <td>test</td>\n",
       "    </tr>\n",
       "    <tr>\n",
       "      <th>7916</th>\n",
       "      <td>Test/998826/9988260112/9988260112.jpg</td>\n",
       "      <td>0</td>\n",
       "      <td>3</td>\n",
       "      <td>0</td>\n",
       "      <td>0</td>\n",
       "      <td>test</td>\n",
       "    </tr>\n",
       "    <tr>\n",
       "      <th>7917</th>\n",
       "      <td>Test/998826/9988260115/9988260115.jpg</td>\n",
       "      <td>0</td>\n",
       "      <td>3</td>\n",
       "      <td>0</td>\n",
       "      <td>0</td>\n",
       "      <td>test</td>\n",
       "    </tr>\n",
       "    <tr>\n",
       "      <th>7918</th>\n",
       "      <td>Test/998826/9988260119/9988260119.jpg</td>\n",
       "      <td>1</td>\n",
       "      <td>2</td>\n",
       "      <td>0</td>\n",
       "      <td>0</td>\n",
       "      <td>test</td>\n",
       "    </tr>\n",
       "  </tbody>\n",
       "</table>\n",
       "<p>7919 rows × 6 columns</p>\n",
       "</div>"
      ],
      "text/plain": [
       "                                  image_path  boredom  engagement  confusion  \\\n",
       "0     Train/110001/1100011002/1100011002.jpg        0           2          0   \n",
       "1     Train/110001/1100011003/1100011003.jpg        0           2          0   \n",
       "2     Train/110001/1100011004/1100011004.jpg        0           3          0   \n",
       "3     Train/110001/1100011005/1100011005.jpg        0           3          0   \n",
       "4     Train/110001/1100011006/1100011006.jpg        0           3          0   \n",
       "...                                      ...      ...         ...        ...   \n",
       "7914     Test/987736/987736029/987736029.jpg        0           3          0   \n",
       "7915     Test/998826/998826011/998826011.jpg        0           3          0   \n",
       "7916   Test/998826/9988260112/9988260112.jpg        0           3          0   \n",
       "7917   Test/998826/9988260115/9988260115.jpg        0           3          0   \n",
       "7918   Test/998826/9988260119/9988260119.jpg        1           2          0   \n",
       "\n",
       "      frustration  split  \n",
       "0               0  train  \n",
       "1               0  train  \n",
       "2               0  train  \n",
       "3               0  train  \n",
       "4               0  train  \n",
       "...           ...    ...  \n",
       "7914            0   test  \n",
       "7915            0   test  \n",
       "7916            0   test  \n",
       "7917            0   test  \n",
       "7918            0   test  \n",
       "\n",
       "[7919 rows x 6 columns]"
      ]
     },
     "execution_count": 22,
     "metadata": {},
     "output_type": "execute_result"
    }
   ],
   "source": [
    "df_new = df_continous.copy(deep=True)\n",
    "df_new"
   ]
  },
  {
   "cell_type": "code",
   "execution_count": 42,
   "id": "2d0e6fca",
   "metadata": {},
   "outputs": [],
   "source": [
    "df_new['image_path'] = df_new['image_path'].str.replace('/','\\\\')"
   ]
  },
  {
   "cell_type": "code",
   "execution_count": 43,
   "id": "3791335a",
   "metadata": {},
   "outputs": [
    {
     "data": {
      "text/html": [
       "<div>\n",
       "<style scoped>\n",
       "    .dataframe tbody tr th:only-of-type {\n",
       "        vertical-align: middle;\n",
       "    }\n",
       "\n",
       "    .dataframe tbody tr th {\n",
       "        vertical-align: top;\n",
       "    }\n",
       "\n",
       "    .dataframe thead th {\n",
       "        text-align: right;\n",
       "    }\n",
       "</style>\n",
       "<table border=\"1\" class=\"dataframe\">\n",
       "  <thead>\n",
       "    <tr style=\"text-align: right;\">\n",
       "      <th></th>\n",
       "      <th>image_path</th>\n",
       "      <th>boredom</th>\n",
       "      <th>engagement</th>\n",
       "      <th>confusion</th>\n",
       "      <th>frustration</th>\n",
       "      <th>split</th>\n",
       "    </tr>\n",
       "  </thead>\n",
       "  <tbody>\n",
       "    <tr>\n",
       "      <th>0</th>\n",
       "      <td>Train\\110001\\1100011002\\1100011002.jpg</td>\n",
       "      <td>0</td>\n",
       "      <td>2</td>\n",
       "      <td>0</td>\n",
       "      <td>0</td>\n",
       "      <td>train</td>\n",
       "    </tr>\n",
       "    <tr>\n",
       "      <th>1</th>\n",
       "      <td>Train\\110001\\1100011003\\1100011003.jpg</td>\n",
       "      <td>0</td>\n",
       "      <td>2</td>\n",
       "      <td>0</td>\n",
       "      <td>0</td>\n",
       "      <td>train</td>\n",
       "    </tr>\n",
       "    <tr>\n",
       "      <th>2</th>\n",
       "      <td>Train\\110001\\1100011004\\1100011004.jpg</td>\n",
       "      <td>0</td>\n",
       "      <td>3</td>\n",
       "      <td>0</td>\n",
       "      <td>0</td>\n",
       "      <td>train</td>\n",
       "    </tr>\n",
       "    <tr>\n",
       "      <th>3</th>\n",
       "      <td>Train\\110001\\1100011005\\1100011005.jpg</td>\n",
       "      <td>0</td>\n",
       "      <td>3</td>\n",
       "      <td>0</td>\n",
       "      <td>0</td>\n",
       "      <td>train</td>\n",
       "    </tr>\n",
       "    <tr>\n",
       "      <th>4</th>\n",
       "      <td>Train\\110001\\1100011006\\1100011006.jpg</td>\n",
       "      <td>0</td>\n",
       "      <td>3</td>\n",
       "      <td>0</td>\n",
       "      <td>0</td>\n",
       "      <td>train</td>\n",
       "    </tr>\n",
       "    <tr>\n",
       "      <th>...</th>\n",
       "      <td>...</td>\n",
       "      <td>...</td>\n",
       "      <td>...</td>\n",
       "      <td>...</td>\n",
       "      <td>...</td>\n",
       "      <td>...</td>\n",
       "    </tr>\n",
       "    <tr>\n",
       "      <th>7914</th>\n",
       "      <td>Test\\987736\\987736029\\987736029.jpg</td>\n",
       "      <td>0</td>\n",
       "      <td>3</td>\n",
       "      <td>0</td>\n",
       "      <td>0</td>\n",
       "      <td>test</td>\n",
       "    </tr>\n",
       "    <tr>\n",
       "      <th>7915</th>\n",
       "      <td>Test\\998826\\998826011\\998826011.jpg</td>\n",
       "      <td>0</td>\n",
       "      <td>3</td>\n",
       "      <td>0</td>\n",
       "      <td>0</td>\n",
       "      <td>test</td>\n",
       "    </tr>\n",
       "    <tr>\n",
       "      <th>7916</th>\n",
       "      <td>Test\\998826\\9988260112\\9988260112.jpg</td>\n",
       "      <td>0</td>\n",
       "      <td>3</td>\n",
       "      <td>0</td>\n",
       "      <td>0</td>\n",
       "      <td>test</td>\n",
       "    </tr>\n",
       "    <tr>\n",
       "      <th>7917</th>\n",
       "      <td>Test\\998826\\9988260115\\9988260115.jpg</td>\n",
       "      <td>0</td>\n",
       "      <td>3</td>\n",
       "      <td>0</td>\n",
       "      <td>0</td>\n",
       "      <td>test</td>\n",
       "    </tr>\n",
       "    <tr>\n",
       "      <th>7918</th>\n",
       "      <td>Test\\998826\\9988260119\\9988260119.jpg</td>\n",
       "      <td>1</td>\n",
       "      <td>2</td>\n",
       "      <td>0</td>\n",
       "      <td>0</td>\n",
       "      <td>test</td>\n",
       "    </tr>\n",
       "  </tbody>\n",
       "</table>\n",
       "<p>7919 rows × 6 columns</p>\n",
       "</div>"
      ],
      "text/plain": [
       "                                  image_path  boredom  engagement  confusion  \\\n",
       "0     Train\\110001\\1100011002\\1100011002.jpg        0           2          0   \n",
       "1     Train\\110001\\1100011003\\1100011003.jpg        0           2          0   \n",
       "2     Train\\110001\\1100011004\\1100011004.jpg        0           3          0   \n",
       "3     Train\\110001\\1100011005\\1100011005.jpg        0           3          0   \n",
       "4     Train\\110001\\1100011006\\1100011006.jpg        0           3          0   \n",
       "...                                      ...      ...         ...        ...   \n",
       "7914     Test\\987736\\987736029\\987736029.jpg        0           3          0   \n",
       "7915     Test\\998826\\998826011\\998826011.jpg        0           3          0   \n",
       "7916   Test\\998826\\9988260112\\9988260112.jpg        0           3          0   \n",
       "7917   Test\\998826\\9988260115\\9988260115.jpg        0           3          0   \n",
       "7918   Test\\998826\\9988260119\\9988260119.jpg        1           2          0   \n",
       "\n",
       "      frustration  split  \n",
       "0               0  train  \n",
       "1               0  train  \n",
       "2               0  train  \n",
       "3               0  train  \n",
       "4               0  train  \n",
       "...           ...    ...  \n",
       "7914            0   test  \n",
       "7915            0   test  \n",
       "7916            0   test  \n",
       "7917            0   test  \n",
       "7918            0   test  \n",
       "\n",
       "[7919 rows x 6 columns]"
      ]
     },
     "execution_count": 43,
     "metadata": {},
     "output_type": "execute_result"
    }
   ],
   "source": [
    "df_new"
   ]
  },
  {
   "cell_type": "code",
   "execution_count": 44,
   "id": "d9be48c1",
   "metadata": {},
   "outputs": [],
   "source": [
    "df_new.to_csv('labels_daisee_continous.csv', index=False)"
   ]
  },
  {
   "cell_type": "markdown",
   "id": "f5489b72",
   "metadata": {},
   "source": [
    "# try first binary "
   ]
  },
  {
   "cell_type": "code",
   "execution_count": 23,
   "id": "11ea230e",
   "metadata": {},
   "outputs": [
    {
     "data": {
      "text/html": [
       "<div>\n",
       "<style scoped>\n",
       "    .dataframe tbody tr th:only-of-type {\n",
       "        vertical-align: middle;\n",
       "    }\n",
       "\n",
       "    .dataframe tbody tr th {\n",
       "        vertical-align: top;\n",
       "    }\n",
       "\n",
       "    .dataframe thead th {\n",
       "        text-align: right;\n",
       "    }\n",
       "</style>\n",
       "<table border=\"1\" class=\"dataframe\">\n",
       "  <thead>\n",
       "    <tr style=\"text-align: right;\">\n",
       "      <th></th>\n",
       "      <th>image_path</th>\n",
       "      <th>boredom</th>\n",
       "      <th>engagement</th>\n",
       "      <th>confusion</th>\n",
       "      <th>frustration</th>\n",
       "      <th>split</th>\n",
       "    </tr>\n",
       "  </thead>\n",
       "  <tbody>\n",
       "    <tr>\n",
       "      <th>0</th>\n",
       "      <td>Train/110001/1100011002/1100011002.jpg</td>\n",
       "      <td>0</td>\n",
       "      <td>0</td>\n",
       "      <td>0</td>\n",
       "      <td>0</td>\n",
       "      <td>train</td>\n",
       "    </tr>\n",
       "    <tr>\n",
       "      <th>1</th>\n",
       "      <td>Train/110001/1100011003/1100011003.jpg</td>\n",
       "      <td>0</td>\n",
       "      <td>0</td>\n",
       "      <td>0</td>\n",
       "      <td>0</td>\n",
       "      <td>train</td>\n",
       "    </tr>\n",
       "    <tr>\n",
       "      <th>2</th>\n",
       "      <td>Train/110001/1100011004/1100011004.jpg</td>\n",
       "      <td>0</td>\n",
       "      <td>1</td>\n",
       "      <td>0</td>\n",
       "      <td>0</td>\n",
       "      <td>train</td>\n",
       "    </tr>\n",
       "    <tr>\n",
       "      <th>3</th>\n",
       "      <td>Train/110001/1100011005/1100011005.jpg</td>\n",
       "      <td>0</td>\n",
       "      <td>1</td>\n",
       "      <td>0</td>\n",
       "      <td>0</td>\n",
       "      <td>train</td>\n",
       "    </tr>\n",
       "    <tr>\n",
       "      <th>4</th>\n",
       "      <td>Train/110001/1100011006/1100011006.jpg</td>\n",
       "      <td>0</td>\n",
       "      <td>1</td>\n",
       "      <td>0</td>\n",
       "      <td>0</td>\n",
       "      <td>train</td>\n",
       "    </tr>\n",
       "    <tr>\n",
       "      <th>...</th>\n",
       "      <td>...</td>\n",
       "      <td>...</td>\n",
       "      <td>...</td>\n",
       "      <td>...</td>\n",
       "      <td>...</td>\n",
       "      <td>...</td>\n",
       "    </tr>\n",
       "    <tr>\n",
       "      <th>7914</th>\n",
       "      <td>Test/987736/987736029/987736029.jpg</td>\n",
       "      <td>0</td>\n",
       "      <td>1</td>\n",
       "      <td>0</td>\n",
       "      <td>0</td>\n",
       "      <td>test</td>\n",
       "    </tr>\n",
       "    <tr>\n",
       "      <th>7915</th>\n",
       "      <td>Test/998826/998826011/998826011.jpg</td>\n",
       "      <td>0</td>\n",
       "      <td>1</td>\n",
       "      <td>0</td>\n",
       "      <td>0</td>\n",
       "      <td>test</td>\n",
       "    </tr>\n",
       "    <tr>\n",
       "      <th>7916</th>\n",
       "      <td>Test/998826/9988260112/9988260112.jpg</td>\n",
       "      <td>0</td>\n",
       "      <td>1</td>\n",
       "      <td>0</td>\n",
       "      <td>0</td>\n",
       "      <td>test</td>\n",
       "    </tr>\n",
       "    <tr>\n",
       "      <th>7917</th>\n",
       "      <td>Test/998826/9988260115/9988260115.jpg</td>\n",
       "      <td>0</td>\n",
       "      <td>1</td>\n",
       "      <td>0</td>\n",
       "      <td>0</td>\n",
       "      <td>test</td>\n",
       "    </tr>\n",
       "    <tr>\n",
       "      <th>7918</th>\n",
       "      <td>Test/998826/9988260119/9988260119.jpg</td>\n",
       "      <td>0</td>\n",
       "      <td>0</td>\n",
       "      <td>0</td>\n",
       "      <td>0</td>\n",
       "      <td>test</td>\n",
       "    </tr>\n",
       "  </tbody>\n",
       "</table>\n",
       "<p>7919 rows × 6 columns</p>\n",
       "</div>"
      ],
      "text/plain": [
       "                                  image_path  boredom  engagement  confusion  \\\n",
       "0     Train/110001/1100011002/1100011002.jpg        0           0          0   \n",
       "1     Train/110001/1100011003/1100011003.jpg        0           0          0   \n",
       "2     Train/110001/1100011004/1100011004.jpg        0           1          0   \n",
       "3     Train/110001/1100011005/1100011005.jpg        0           1          0   \n",
       "4     Train/110001/1100011006/1100011006.jpg        0           1          0   \n",
       "...                                      ...      ...         ...        ...   \n",
       "7914     Test/987736/987736029/987736029.jpg        0           1          0   \n",
       "7915     Test/998826/998826011/998826011.jpg        0           1          0   \n",
       "7916   Test/998826/9988260112/9988260112.jpg        0           1          0   \n",
       "7917   Test/998826/9988260115/9988260115.jpg        0           1          0   \n",
       "7918   Test/998826/9988260119/9988260119.jpg        0           0          0   \n",
       "\n",
       "      frustration  split  \n",
       "0               0  train  \n",
       "1               0  train  \n",
       "2               0  train  \n",
       "3               0  train  \n",
       "4               0  train  \n",
       "...           ...    ...  \n",
       "7914            0   test  \n",
       "7915            0   test  \n",
       "7916            0   test  \n",
       "7917            0   test  \n",
       "7918            0   test  \n",
       "\n",
       "[7919 rows x 6 columns]"
      ]
     },
     "execution_count": 23,
     "metadata": {},
     "output_type": "execute_result"
    }
   ],
   "source": [
    "df_copy01 = df_binary.copy(deep=True)\n",
    "df_copy01"
   ]
  },
  {
   "cell_type": "code",
   "execution_count": 24,
   "id": "1252c910",
   "metadata": {},
   "outputs": [],
   "source": [
    "df_copy01['unengagement'] = 1 - df_copy01['engagement']"
   ]
  },
  {
   "cell_type": "code",
   "execution_count": 25,
   "id": "f9ac5ca7",
   "metadata": {},
   "outputs": [
    {
     "data": {
      "text/html": [
       "<div>\n",
       "<style scoped>\n",
       "    .dataframe tbody tr th:only-of-type {\n",
       "        vertical-align: middle;\n",
       "    }\n",
       "\n",
       "    .dataframe tbody tr th {\n",
       "        vertical-align: top;\n",
       "    }\n",
       "\n",
       "    .dataframe thead th {\n",
       "        text-align: right;\n",
       "    }\n",
       "</style>\n",
       "<table border=\"1\" class=\"dataframe\">\n",
       "  <thead>\n",
       "    <tr style=\"text-align: right;\">\n",
       "      <th></th>\n",
       "      <th>image_path</th>\n",
       "      <th>boredom</th>\n",
       "      <th>engagement</th>\n",
       "      <th>confusion</th>\n",
       "      <th>frustration</th>\n",
       "      <th>split</th>\n",
       "      <th>unengagement</th>\n",
       "    </tr>\n",
       "  </thead>\n",
       "  <tbody>\n",
       "    <tr>\n",
       "      <th>0</th>\n",
       "      <td>Train/110001/1100011002/1100011002.jpg</td>\n",
       "      <td>0</td>\n",
       "      <td>0</td>\n",
       "      <td>0</td>\n",
       "      <td>0</td>\n",
       "      <td>train</td>\n",
       "      <td>1</td>\n",
       "    </tr>\n",
       "    <tr>\n",
       "      <th>1</th>\n",
       "      <td>Train/110001/1100011003/1100011003.jpg</td>\n",
       "      <td>0</td>\n",
       "      <td>0</td>\n",
       "      <td>0</td>\n",
       "      <td>0</td>\n",
       "      <td>train</td>\n",
       "      <td>1</td>\n",
       "    </tr>\n",
       "    <tr>\n",
       "      <th>2</th>\n",
       "      <td>Train/110001/1100011004/1100011004.jpg</td>\n",
       "      <td>0</td>\n",
       "      <td>1</td>\n",
       "      <td>0</td>\n",
       "      <td>0</td>\n",
       "      <td>train</td>\n",
       "      <td>0</td>\n",
       "    </tr>\n",
       "    <tr>\n",
       "      <th>3</th>\n",
       "      <td>Train/110001/1100011005/1100011005.jpg</td>\n",
       "      <td>0</td>\n",
       "      <td>1</td>\n",
       "      <td>0</td>\n",
       "      <td>0</td>\n",
       "      <td>train</td>\n",
       "      <td>0</td>\n",
       "    </tr>\n",
       "    <tr>\n",
       "      <th>4</th>\n",
       "      <td>Train/110001/1100011006/1100011006.jpg</td>\n",
       "      <td>0</td>\n",
       "      <td>1</td>\n",
       "      <td>0</td>\n",
       "      <td>0</td>\n",
       "      <td>train</td>\n",
       "      <td>0</td>\n",
       "    </tr>\n",
       "    <tr>\n",
       "      <th>...</th>\n",
       "      <td>...</td>\n",
       "      <td>...</td>\n",
       "      <td>...</td>\n",
       "      <td>...</td>\n",
       "      <td>...</td>\n",
       "      <td>...</td>\n",
       "      <td>...</td>\n",
       "    </tr>\n",
       "    <tr>\n",
       "      <th>7914</th>\n",
       "      <td>Test/987736/987736029/987736029.jpg</td>\n",
       "      <td>0</td>\n",
       "      <td>1</td>\n",
       "      <td>0</td>\n",
       "      <td>0</td>\n",
       "      <td>test</td>\n",
       "      <td>0</td>\n",
       "    </tr>\n",
       "    <tr>\n",
       "      <th>7915</th>\n",
       "      <td>Test/998826/998826011/998826011.jpg</td>\n",
       "      <td>0</td>\n",
       "      <td>1</td>\n",
       "      <td>0</td>\n",
       "      <td>0</td>\n",
       "      <td>test</td>\n",
       "      <td>0</td>\n",
       "    </tr>\n",
       "    <tr>\n",
       "      <th>7916</th>\n",
       "      <td>Test/998826/9988260112/9988260112.jpg</td>\n",
       "      <td>0</td>\n",
       "      <td>1</td>\n",
       "      <td>0</td>\n",
       "      <td>0</td>\n",
       "      <td>test</td>\n",
       "      <td>0</td>\n",
       "    </tr>\n",
       "    <tr>\n",
       "      <th>7917</th>\n",
       "      <td>Test/998826/9988260115/9988260115.jpg</td>\n",
       "      <td>0</td>\n",
       "      <td>1</td>\n",
       "      <td>0</td>\n",
       "      <td>0</td>\n",
       "      <td>test</td>\n",
       "      <td>0</td>\n",
       "    </tr>\n",
       "    <tr>\n",
       "      <th>7918</th>\n",
       "      <td>Test/998826/9988260119/9988260119.jpg</td>\n",
       "      <td>0</td>\n",
       "      <td>0</td>\n",
       "      <td>0</td>\n",
       "      <td>0</td>\n",
       "      <td>test</td>\n",
       "      <td>1</td>\n",
       "    </tr>\n",
       "  </tbody>\n",
       "</table>\n",
       "<p>7919 rows × 7 columns</p>\n",
       "</div>"
      ],
      "text/plain": [
       "                                  image_path  boredom  engagement  confusion  \\\n",
       "0     Train/110001/1100011002/1100011002.jpg        0           0          0   \n",
       "1     Train/110001/1100011003/1100011003.jpg        0           0          0   \n",
       "2     Train/110001/1100011004/1100011004.jpg        0           1          0   \n",
       "3     Train/110001/1100011005/1100011005.jpg        0           1          0   \n",
       "4     Train/110001/1100011006/1100011006.jpg        0           1          0   \n",
       "...                                      ...      ...         ...        ...   \n",
       "7914     Test/987736/987736029/987736029.jpg        0           1          0   \n",
       "7915     Test/998826/998826011/998826011.jpg        0           1          0   \n",
       "7916   Test/998826/9988260112/9988260112.jpg        0           1          0   \n",
       "7917   Test/998826/9988260115/9988260115.jpg        0           1          0   \n",
       "7918   Test/998826/9988260119/9988260119.jpg        0           0          0   \n",
       "\n",
       "      frustration  split  unengagement  \n",
       "0               0  train             1  \n",
       "1               0  train             1  \n",
       "2               0  train             0  \n",
       "3               0  train             0  \n",
       "4               0  train             0  \n",
       "...           ...    ...           ...  \n",
       "7914            0   test             0  \n",
       "7915            0   test             0  \n",
       "7916            0   test             0  \n",
       "7917            0   test             0  \n",
       "7918            0   test             1  \n",
       "\n",
       "[7919 rows x 7 columns]"
      ]
     },
     "execution_count": 25,
     "metadata": {},
     "output_type": "execute_result"
    }
   ],
   "source": [
    "df_copy01"
   ]
  },
  {
   "cell_type": "code",
   "execution_count": 28,
   "id": "d90a52c7",
   "metadata": {},
   "outputs": [],
   "source": [
    "df_copy001 = df_copy01.drop(columns='engagement', axis=1)"
   ]
  },
  {
   "cell_type": "code",
   "execution_count": 29,
   "id": "efb650f3",
   "metadata": {},
   "outputs": [
    {
     "data": {
      "text/html": [
       "<div>\n",
       "<style scoped>\n",
       "    .dataframe tbody tr th:only-of-type {\n",
       "        vertical-align: middle;\n",
       "    }\n",
       "\n",
       "    .dataframe tbody tr th {\n",
       "        vertical-align: top;\n",
       "    }\n",
       "\n",
       "    .dataframe thead th {\n",
       "        text-align: right;\n",
       "    }\n",
       "</style>\n",
       "<table border=\"1\" class=\"dataframe\">\n",
       "  <thead>\n",
       "    <tr style=\"text-align: right;\">\n",
       "      <th></th>\n",
       "      <th>image_path</th>\n",
       "      <th>boredom</th>\n",
       "      <th>confusion</th>\n",
       "      <th>frustration</th>\n",
       "      <th>split</th>\n",
       "      <th>unengagement</th>\n",
       "      <th>adhd_emotion</th>\n",
       "    </tr>\n",
       "  </thead>\n",
       "  <tbody>\n",
       "    <tr>\n",
       "      <th>0</th>\n",
       "      <td>Train/110001/1100011002/1100011002.jpg</td>\n",
       "      <td>0</td>\n",
       "      <td>0</td>\n",
       "      <td>0</td>\n",
       "      <td>train</td>\n",
       "      <td>1</td>\n",
       "      <td>1</td>\n",
       "    </tr>\n",
       "    <tr>\n",
       "      <th>1</th>\n",
       "      <td>Train/110001/1100011003/1100011003.jpg</td>\n",
       "      <td>0</td>\n",
       "      <td>0</td>\n",
       "      <td>0</td>\n",
       "      <td>train</td>\n",
       "      <td>1</td>\n",
       "      <td>1</td>\n",
       "    </tr>\n",
       "    <tr>\n",
       "      <th>2</th>\n",
       "      <td>Train/110001/1100011004/1100011004.jpg</td>\n",
       "      <td>0</td>\n",
       "      <td>0</td>\n",
       "      <td>0</td>\n",
       "      <td>train</td>\n",
       "      <td>0</td>\n",
       "      <td>0</td>\n",
       "    </tr>\n",
       "    <tr>\n",
       "      <th>3</th>\n",
       "      <td>Train/110001/1100011005/1100011005.jpg</td>\n",
       "      <td>0</td>\n",
       "      <td>0</td>\n",
       "      <td>0</td>\n",
       "      <td>train</td>\n",
       "      <td>0</td>\n",
       "      <td>0</td>\n",
       "    </tr>\n",
       "    <tr>\n",
       "      <th>4</th>\n",
       "      <td>Train/110001/1100011006/1100011006.jpg</td>\n",
       "      <td>0</td>\n",
       "      <td>0</td>\n",
       "      <td>0</td>\n",
       "      <td>train</td>\n",
       "      <td>0</td>\n",
       "      <td>0</td>\n",
       "    </tr>\n",
       "    <tr>\n",
       "      <th>5</th>\n",
       "      <td>Train/110001/1100011007/1100011007.jpg</td>\n",
       "      <td>0</td>\n",
       "      <td>0</td>\n",
       "      <td>0</td>\n",
       "      <td>train</td>\n",
       "      <td>1</td>\n",
       "      <td>1</td>\n",
       "    </tr>\n",
       "    <tr>\n",
       "      <th>6</th>\n",
       "      <td>Train/110001/1100011008/1100011008.jpg</td>\n",
       "      <td>0</td>\n",
       "      <td>0</td>\n",
       "      <td>0</td>\n",
       "      <td>train</td>\n",
       "      <td>0</td>\n",
       "      <td>0</td>\n",
       "    </tr>\n",
       "    <tr>\n",
       "      <th>7</th>\n",
       "      <td>Train/110001/1100011009/1100011009.jpg</td>\n",
       "      <td>0</td>\n",
       "      <td>0</td>\n",
       "      <td>0</td>\n",
       "      <td>train</td>\n",
       "      <td>1</td>\n",
       "      <td>1</td>\n",
       "    </tr>\n",
       "    <tr>\n",
       "      <th>8</th>\n",
       "      <td>Train/110001/1100011010/1100011010.jpg</td>\n",
       "      <td>0</td>\n",
       "      <td>0</td>\n",
       "      <td>0</td>\n",
       "      <td>train</td>\n",
       "      <td>0</td>\n",
       "      <td>0</td>\n",
       "    </tr>\n",
       "    <tr>\n",
       "      <th>9</th>\n",
       "      <td>Train/110001/1100011011/1100011011.jpg</td>\n",
       "      <td>0</td>\n",
       "      <td>0</td>\n",
       "      <td>0</td>\n",
       "      <td>train</td>\n",
       "      <td>0</td>\n",
       "      <td>0</td>\n",
       "    </tr>\n",
       "  </tbody>\n",
       "</table>\n",
       "</div>"
      ],
      "text/plain": [
       "                               image_path  boredom  confusion  frustration  \\\n",
       "0  Train/110001/1100011002/1100011002.jpg        0          0            0   \n",
       "1  Train/110001/1100011003/1100011003.jpg        0          0            0   \n",
       "2  Train/110001/1100011004/1100011004.jpg        0          0            0   \n",
       "3  Train/110001/1100011005/1100011005.jpg        0          0            0   \n",
       "4  Train/110001/1100011006/1100011006.jpg        0          0            0   \n",
       "5  Train/110001/1100011007/1100011007.jpg        0          0            0   \n",
       "6  Train/110001/1100011008/1100011008.jpg        0          0            0   \n",
       "7  Train/110001/1100011009/1100011009.jpg        0          0            0   \n",
       "8  Train/110001/1100011010/1100011010.jpg        0          0            0   \n",
       "9  Train/110001/1100011011/1100011011.jpg        0          0            0   \n",
       "\n",
       "   split  unengagement  adhd_emotion  \n",
       "0  train             1             1  \n",
       "1  train             1             1  \n",
       "2  train             0             0  \n",
       "3  train             0             0  \n",
       "4  train             0             0  \n",
       "5  train             1             1  \n",
       "6  train             0             0  \n",
       "7  train             1             1  \n",
       "8  train             0             0  \n",
       "9  train             0             0  "
      ]
     },
     "execution_count": 29,
     "metadata": {},
     "output_type": "execute_result"
    }
   ],
   "source": [
    "adhd_emotion = ['boredom', 'confusion','unengagement', 'frustration']\n",
    "\n",
    "df_copy001['adhd_emotion'] = (df_copy001[adhd_emotion] == 1).any(axis=1).astype(int)\n",
    "df_copy001.head(10)\n"
   ]
  },
  {
   "cell_type": "code",
   "execution_count": 31,
   "id": "38716935",
   "metadata": {},
   "outputs": [
    {
     "data": {
      "text/html": [
       "<div>\n",
       "<style scoped>\n",
       "    .dataframe tbody tr th:only-of-type {\n",
       "        vertical-align: middle;\n",
       "    }\n",
       "\n",
       "    .dataframe tbody tr th {\n",
       "        vertical-align: top;\n",
       "    }\n",
       "\n",
       "    .dataframe thead th {\n",
       "        text-align: right;\n",
       "    }\n",
       "</style>\n",
       "<table border=\"1\" class=\"dataframe\">\n",
       "  <thead>\n",
       "    <tr style=\"text-align: right;\">\n",
       "      <th></th>\n",
       "      <th>image_path</th>\n",
       "      <th>boredom</th>\n",
       "      <th>confusion</th>\n",
       "      <th>frustration</th>\n",
       "      <th>split</th>\n",
       "      <th>unengagement</th>\n",
       "      <th>adhd_emotion</th>\n",
       "      <th>others</th>\n",
       "    </tr>\n",
       "  </thead>\n",
       "  <tbody>\n",
       "    <tr>\n",
       "      <th>0</th>\n",
       "      <td>Train/110001/1100011002/1100011002.jpg</td>\n",
       "      <td>0</td>\n",
       "      <td>0</td>\n",
       "      <td>0</td>\n",
       "      <td>train</td>\n",
       "      <td>1</td>\n",
       "      <td>1</td>\n",
       "      <td>0</td>\n",
       "    </tr>\n",
       "    <tr>\n",
       "      <th>1</th>\n",
       "      <td>Train/110001/1100011003/1100011003.jpg</td>\n",
       "      <td>0</td>\n",
       "      <td>0</td>\n",
       "      <td>0</td>\n",
       "      <td>train</td>\n",
       "      <td>1</td>\n",
       "      <td>1</td>\n",
       "      <td>0</td>\n",
       "    </tr>\n",
       "    <tr>\n",
       "      <th>2</th>\n",
       "      <td>Train/110001/1100011004/1100011004.jpg</td>\n",
       "      <td>0</td>\n",
       "      <td>0</td>\n",
       "      <td>0</td>\n",
       "      <td>train</td>\n",
       "      <td>0</td>\n",
       "      <td>0</td>\n",
       "      <td>1</td>\n",
       "    </tr>\n",
       "    <tr>\n",
       "      <th>3</th>\n",
       "      <td>Train/110001/1100011005/1100011005.jpg</td>\n",
       "      <td>0</td>\n",
       "      <td>0</td>\n",
       "      <td>0</td>\n",
       "      <td>train</td>\n",
       "      <td>0</td>\n",
       "      <td>0</td>\n",
       "      <td>1</td>\n",
       "    </tr>\n",
       "    <tr>\n",
       "      <th>4</th>\n",
       "      <td>Train/110001/1100011006/1100011006.jpg</td>\n",
       "      <td>0</td>\n",
       "      <td>0</td>\n",
       "      <td>0</td>\n",
       "      <td>train</td>\n",
       "      <td>0</td>\n",
       "      <td>0</td>\n",
       "      <td>1</td>\n",
       "    </tr>\n",
       "  </tbody>\n",
       "</table>\n",
       "</div>"
      ],
      "text/plain": [
       "                               image_path  boredom  confusion  frustration  \\\n",
       "0  Train/110001/1100011002/1100011002.jpg        0          0            0   \n",
       "1  Train/110001/1100011003/1100011003.jpg        0          0            0   \n",
       "2  Train/110001/1100011004/1100011004.jpg        0          0            0   \n",
       "3  Train/110001/1100011005/1100011005.jpg        0          0            0   \n",
       "4  Train/110001/1100011006/1100011006.jpg        0          0            0   \n",
       "\n",
       "   split  unengagement  adhd_emotion  others  \n",
       "0  train             1             1       0  \n",
       "1  train             1             1       0  \n",
       "2  train             0             0       1  \n",
       "3  train             0             0       1  \n",
       "4  train             0             0       1  "
      ]
     },
     "execution_count": 31,
     "metadata": {},
     "output_type": "execute_result"
    }
   ],
   "source": [
    "df_copy001['others'] = 1 - df_copy001['adhd_emotion']\n",
    "df_copy001.head()"
   ]
  },
  {
   "cell_type": "code",
   "execution_count": 32,
   "id": "624ed640",
   "metadata": {},
   "outputs": [
    {
     "data": {
      "text/plain": [
       "np.int64(4696)"
      ]
     },
     "execution_count": 32,
     "metadata": {},
     "output_type": "execute_result"
    }
   ],
   "source": [
    "df_copy001['adhd_emotion'].sum()"
   ]
  },
  {
   "cell_type": "code",
   "execution_count": 37,
   "id": "0f3029bc",
   "metadata": {},
   "outputs": [
    {
     "data": {
      "text/plain": [
       "np.int64(3223)"
      ]
     },
     "execution_count": 37,
     "metadata": {},
     "output_type": "execute_result"
    }
   ],
   "source": [
    "df_copy001['others'].sum()"
   ]
  },
  {
   "cell_type": "code",
   "execution_count": 38,
   "id": "8bc41ea2",
   "metadata": {},
   "outputs": [
    {
     "data": {
      "text/plain": [
       "np.int64(317)"
      ]
     },
     "execution_count": 38,
     "metadata": {},
     "output_type": "execute_result"
    }
   ],
   "source": [
    "df_copy001['boredom'].sum()"
   ]
  },
  {
   "cell_type": "code",
   "execution_count": 39,
   "id": "c26dbe2c",
   "metadata": {},
   "outputs": [
    {
     "data": {
      "text/plain": [
       "np.int64(91)"
      ]
     },
     "execution_count": 39,
     "metadata": {},
     "output_type": "execute_result"
    }
   ],
   "source": [
    "df_copy001['confusion'].sum()"
   ]
  },
  {
   "cell_type": "code",
   "execution_count": 40,
   "id": "c0b47640",
   "metadata": {},
   "outputs": [
    {
     "data": {
      "text/plain": [
       "np.int64(82)"
      ]
     },
     "execution_count": 40,
     "metadata": {},
     "output_type": "execute_result"
    }
   ],
   "source": [
    "df_copy001['frustration'].sum()"
   ]
  },
  {
   "cell_type": "code",
   "execution_count": 41,
   "id": "474f29b0",
   "metadata": {},
   "outputs": [
    {
     "data": {
      "text/plain": [
       "np.int64(4621)"
      ]
     },
     "execution_count": 41,
     "metadata": {},
     "output_type": "execute_result"
    }
   ],
   "source": [
    "df_copy001['unengagement'].sum()"
   ]
  },
  {
   "cell_type": "code",
   "execution_count": 33,
   "id": "367f03e7",
   "metadata": {},
   "outputs": [
    {
     "data": {
      "text/html": [
       "<div>\n",
       "<style scoped>\n",
       "    .dataframe tbody tr th:only-of-type {\n",
       "        vertical-align: middle;\n",
       "    }\n",
       "\n",
       "    .dataframe tbody tr th {\n",
       "        vertical-align: top;\n",
       "    }\n",
       "\n",
       "    .dataframe thead th {\n",
       "        text-align: right;\n",
       "    }\n",
       "</style>\n",
       "<table border=\"1\" class=\"dataframe\">\n",
       "  <thead>\n",
       "    <tr style=\"text-align: right;\">\n",
       "      <th></th>\n",
       "      <th>boredom</th>\n",
       "      <th>confusion</th>\n",
       "      <th>frustration</th>\n",
       "      <th>unengagement</th>\n",
       "      <th>adhd_emotion</th>\n",
       "      <th>others</th>\n",
       "    </tr>\n",
       "  </thead>\n",
       "  <tbody>\n",
       "    <tr>\n",
       "      <th>count</th>\n",
       "      <td>7919.000000</td>\n",
       "      <td>7919.000000</td>\n",
       "      <td>7919.000000</td>\n",
       "      <td>7919.000000</td>\n",
       "      <td>7919.000000</td>\n",
       "      <td>7919.000000</td>\n",
       "    </tr>\n",
       "    <tr>\n",
       "      <th>mean</th>\n",
       "      <td>0.040030</td>\n",
       "      <td>0.011491</td>\n",
       "      <td>0.010355</td>\n",
       "      <td>0.583533</td>\n",
       "      <td>0.593004</td>\n",
       "      <td>0.406996</td>\n",
       "    </tr>\n",
       "    <tr>\n",
       "      <th>std</th>\n",
       "      <td>0.196043</td>\n",
       "      <td>0.106587</td>\n",
       "      <td>0.101237</td>\n",
       "      <td>0.493004</td>\n",
       "      <td>0.491305</td>\n",
       "      <td>0.491305</td>\n",
       "    </tr>\n",
       "    <tr>\n",
       "      <th>min</th>\n",
       "      <td>0.000000</td>\n",
       "      <td>0.000000</td>\n",
       "      <td>0.000000</td>\n",
       "      <td>0.000000</td>\n",
       "      <td>0.000000</td>\n",
       "      <td>0.000000</td>\n",
       "    </tr>\n",
       "    <tr>\n",
       "      <th>25%</th>\n",
       "      <td>0.000000</td>\n",
       "      <td>0.000000</td>\n",
       "      <td>0.000000</td>\n",
       "      <td>0.000000</td>\n",
       "      <td>0.000000</td>\n",
       "      <td>0.000000</td>\n",
       "    </tr>\n",
       "    <tr>\n",
       "      <th>50%</th>\n",
       "      <td>0.000000</td>\n",
       "      <td>0.000000</td>\n",
       "      <td>0.000000</td>\n",
       "      <td>1.000000</td>\n",
       "      <td>1.000000</td>\n",
       "      <td>0.000000</td>\n",
       "    </tr>\n",
       "    <tr>\n",
       "      <th>75%</th>\n",
       "      <td>0.000000</td>\n",
       "      <td>0.000000</td>\n",
       "      <td>0.000000</td>\n",
       "      <td>1.000000</td>\n",
       "      <td>1.000000</td>\n",
       "      <td>1.000000</td>\n",
       "    </tr>\n",
       "    <tr>\n",
       "      <th>max</th>\n",
       "      <td>1.000000</td>\n",
       "      <td>1.000000</td>\n",
       "      <td>1.000000</td>\n",
       "      <td>1.000000</td>\n",
       "      <td>1.000000</td>\n",
       "      <td>1.000000</td>\n",
       "    </tr>\n",
       "  </tbody>\n",
       "</table>\n",
       "</div>"
      ],
      "text/plain": [
       "           boredom    confusion  frustration  unengagement  adhd_emotion  \\\n",
       "count  7919.000000  7919.000000  7919.000000   7919.000000   7919.000000   \n",
       "mean      0.040030     0.011491     0.010355      0.583533      0.593004   \n",
       "std       0.196043     0.106587     0.101237      0.493004      0.491305   \n",
       "min       0.000000     0.000000     0.000000      0.000000      0.000000   \n",
       "25%       0.000000     0.000000     0.000000      0.000000      0.000000   \n",
       "50%       0.000000     0.000000     0.000000      1.000000      1.000000   \n",
       "75%       0.000000     0.000000     0.000000      1.000000      1.000000   \n",
       "max       1.000000     1.000000     1.000000      1.000000      1.000000   \n",
       "\n",
       "            others  \n",
       "count  7919.000000  \n",
       "mean      0.406996  \n",
       "std       0.491305  \n",
       "min       0.000000  \n",
       "25%       0.000000  \n",
       "50%       0.000000  \n",
       "75%       1.000000  \n",
       "max       1.000000  "
      ]
     },
     "execution_count": 33,
     "metadata": {},
     "output_type": "execute_result"
    }
   ],
   "source": [
    "df_copy001.describe()"
   ]
  },
  {
   "cell_type": "code",
   "execution_count": 34,
   "id": "68b0dd3c",
   "metadata": {},
   "outputs": [],
   "source": [
    "df_copy001['image_path'] = df_copy001['image_path'].str.replace('/','\\\\')"
   ]
  },
  {
   "cell_type": "code",
   "execution_count": 35,
   "id": "6b0e5cfd",
   "metadata": {},
   "outputs": [
    {
     "data": {
      "text/html": [
       "<div>\n",
       "<style scoped>\n",
       "    .dataframe tbody tr th:only-of-type {\n",
       "        vertical-align: middle;\n",
       "    }\n",
       "\n",
       "    .dataframe tbody tr th {\n",
       "        vertical-align: top;\n",
       "    }\n",
       "\n",
       "    .dataframe thead th {\n",
       "        text-align: right;\n",
       "    }\n",
       "</style>\n",
       "<table border=\"1\" class=\"dataframe\">\n",
       "  <thead>\n",
       "    <tr style=\"text-align: right;\">\n",
       "      <th></th>\n",
       "      <th>image_path</th>\n",
       "      <th>boredom</th>\n",
       "      <th>confusion</th>\n",
       "      <th>frustration</th>\n",
       "      <th>split</th>\n",
       "      <th>unengagement</th>\n",
       "      <th>adhd_emotion</th>\n",
       "      <th>others</th>\n",
       "    </tr>\n",
       "  </thead>\n",
       "  <tbody>\n",
       "    <tr>\n",
       "      <th>0</th>\n",
       "      <td>Train\\110001\\1100011002\\1100011002.jpg</td>\n",
       "      <td>0</td>\n",
       "      <td>0</td>\n",
       "      <td>0</td>\n",
       "      <td>train</td>\n",
       "      <td>1</td>\n",
       "      <td>1</td>\n",
       "      <td>0</td>\n",
       "    </tr>\n",
       "    <tr>\n",
       "      <th>1</th>\n",
       "      <td>Train\\110001\\1100011003\\1100011003.jpg</td>\n",
       "      <td>0</td>\n",
       "      <td>0</td>\n",
       "      <td>0</td>\n",
       "      <td>train</td>\n",
       "      <td>1</td>\n",
       "      <td>1</td>\n",
       "      <td>0</td>\n",
       "    </tr>\n",
       "    <tr>\n",
       "      <th>2</th>\n",
       "      <td>Train\\110001\\1100011004\\1100011004.jpg</td>\n",
       "      <td>0</td>\n",
       "      <td>0</td>\n",
       "      <td>0</td>\n",
       "      <td>train</td>\n",
       "      <td>0</td>\n",
       "      <td>0</td>\n",
       "      <td>1</td>\n",
       "    </tr>\n",
       "    <tr>\n",
       "      <th>3</th>\n",
       "      <td>Train\\110001\\1100011005\\1100011005.jpg</td>\n",
       "      <td>0</td>\n",
       "      <td>0</td>\n",
       "      <td>0</td>\n",
       "      <td>train</td>\n",
       "      <td>0</td>\n",
       "      <td>0</td>\n",
       "      <td>1</td>\n",
       "    </tr>\n",
       "    <tr>\n",
       "      <th>4</th>\n",
       "      <td>Train\\110001\\1100011006\\1100011006.jpg</td>\n",
       "      <td>0</td>\n",
       "      <td>0</td>\n",
       "      <td>0</td>\n",
       "      <td>train</td>\n",
       "      <td>0</td>\n",
       "      <td>0</td>\n",
       "      <td>1</td>\n",
       "    </tr>\n",
       "  </tbody>\n",
       "</table>\n",
       "</div>"
      ],
      "text/plain": [
       "                               image_path  boredom  confusion  frustration  \\\n",
       "0  Train\\110001\\1100011002\\1100011002.jpg        0          0            0   \n",
       "1  Train\\110001\\1100011003\\1100011003.jpg        0          0            0   \n",
       "2  Train\\110001\\1100011004\\1100011004.jpg        0          0            0   \n",
       "3  Train\\110001\\1100011005\\1100011005.jpg        0          0            0   \n",
       "4  Train\\110001\\1100011006\\1100011006.jpg        0          0            0   \n",
       "\n",
       "   split  unengagement  adhd_emotion  others  \n",
       "0  train             1             1       0  \n",
       "1  train             1             1       0  \n",
       "2  train             0             0       1  \n",
       "3  train             0             0       1  \n",
       "4  train             0             0       1  "
      ]
     },
     "execution_count": 35,
     "metadata": {},
     "output_type": "execute_result"
    }
   ],
   "source": [
    "df_copy001.head()"
   ]
  },
  {
   "cell_type": "markdown",
   "id": "597cb1a8",
   "metadata": {},
   "source": [
    "## export"
   ]
  },
  {
   "cell_type": "code",
   "execution_count": 36,
   "id": "aa99f766",
   "metadata": {},
   "outputs": [],
   "source": [
    "df_copy001.to_csv('labels_daisee.csv', index=False)\n",
    "# df_copy6.to_csv(\"labels_v2.csv\", index=False)"
   ]
  },
  {
   "cell_type": "code",
   "execution_count": null,
   "id": "f3b62340",
   "metadata": {},
   "outputs": [],
   "source": [
    "import torch\n",
    "import torch.nn as nn\n",
    "import torch.optim as optim\n",
    "from torch.utils.data import DataLoader, TensorDataset\n",
    "from sklearn.model_selection import train_test_split\n",
    "from sklearn.metrics import (\n",
    "    mean_absolute_error,\n",
    "    mean_squared_error,\n",
    "    r2_score,\n",
    "    mean_absolute_percentage_error,\n",
    "    median_absolute_error,\n",
    "    explained_variance_score,\n",
    "    max_error\n",
    ")\n",
    "import numpy as np\n",
    "import matplotlib.pyplot as plt\n",
    "import pandas as pd # Pour faciliter la visualisation de l'historique\n",
    "\n",
    "# --- 1. Préparation des données d'exemple ---\n",
    "# Génération de données synthétiques pour une tâche de régression\n",
    "np.random.seed(42) # Pour la reproductibilité\n",
    "X_np = np.random.rand(1000, 10) * 10 # 1000 échantillons, 10 features entre 0 et 10\n",
    "y_np = 3 * X_np[:, 0] - 2 * X_np[:, 1] + np.sin(X_np[:, 2]) * 5 + np.random.randn(1000) * 0.5 + 10 # Cible avec bruit\n",
    "\n",
    "# Diviser les données en ensembles d'entraînement, de validation et de test\n",
    "# D'abord train/temp, puis val/test à partir de temp\n",
    "X_train_np, X_temp_np, y_train_np, y_temp_np = train_test_split(X_np, y_np, test_size=0.3, random_state=42)\n",
    "X_val_np, X_test_np, y_val_np, y_test_np = train_test_split(X_temp_np, y_temp_np, test_size=0.5, random_state=42)\n",
    "\n",
    "# Convertir les tableaux NumPy en tenseurs PyTorch\n",
    "# .unsqueeze(1) est important pour la cible 'y' si votre modèle sort une seule valeur\n",
    "# et que la fonction de perte attend une forme (batch_size, 1).\n",
    "X_train_t = torch.tensor(X_train_np, dtype=torch.float32)\n",
    "y_train_t = torch.tensor(y_train_np, dtype=torch.float32).unsqueeze(1)\n",
    "X_val_t = torch.tensor(X_val_np, dtype=torch.float32)\n",
    "y_val_t = torch.tensor(y_val_np, dtype=torch.float32).unsqueeze(1)\n",
    "X_test_t = torch.tensor(X_test_np, dtype=torch.float32)\n",
    "y_test_t = torch.tensor(y_test_np, dtype=torch.float32).unsqueeze(1)\n",
    "\n",
    "# Créer des DataLoaders pour gérer les batchs\n",
    "# shuffle=True pour l'entraînement aide à la généralisation\n",
    "train_dataset = TensorDataset(X_train_t, y_train_t)\n",
    "val_dataset = TensorDataset(X_val_t, y_val_t)\n",
    "test_dataset = TensorDataset(X_test_t, y_test_t)\n",
    "\n",
    "train_loader = DataLoader(train_dataset, batch_size=32, shuffle=True)\n",
    "val_loader = DataLoader(val_dataset, batch_size=32, shuffle=False) # Pas besoin de mélanger pour la validation\n",
    "test_loader = DataLoader(test_dataset, batch_size=32, shuffle=False) # Pas besoin de mélanger pour le test\n",
    "\n",
    "print(f\"Taille de l'ensemble d'entraînement: {len(X_train_t)} échantillons\")\n",
    "print(f\"Taille de l'ensemble de validation: {len(X_val_t)} échantillons\")\n",
    "print(f\"Taille de l'ensemble de test: {len(X_test_t)} échantillons\")\n",
    "\n",
    "# Définir le périphérique (GPU si disponible, sinon CPU)\n",
    "device = torch.device(\"cuda\" if torch.cuda.is_available() else \"cpu\")\n",
    "print(f\"Utilisation du périphérique: {device}\")\n",
    "\n",
    "# --- 2. Définition du modèle PyTorch pour la régression ---\n",
    "class RegressionModel(nn.Module):\n",
    "    def __init__(self, input_dim):\n",
    "        super(RegressionModel, self).__init__()\n",
    "        self.fc1 = nn.Linear(input_dim, 64)\n",
    "        self.relu1 = nn.ReLU()\n",
    "        self.dropout = nn.Dropout(0.2) # Pour aider à prévenir le surapprentissage\n",
    "        self.fc2 = nn.Linear(64, 32)\n",
    "        self.relu2 = nn.ReLU()\n",
    "        self.fc3 = nn.Linear(32, 1) # Couche de sortie avec une seule neurone pour la régression\n",
    "\n",
    "    def forward(self, x):\n",
    "        x = self.fc1(x)\n",
    "        x = self.relu1(x)\n",
    "        x = self.dropout(x)\n",
    "        x = self.fc2(x)\n",
    "        x = self.relu2(x)\n",
    "        x = self.fc3(x)\n",
    "        return x\n",
    "\n",
    "model = RegressionModel(X_train_t.shape[1]).to(device) # Envoyer le modèle au périphérique\n",
    "criterion = nn.MSELoss() # Fonction de perte courante pour la régression (Mean Squared Error)\n",
    "optimizer = optim.Adam(model.parameters(), lr=0.001) # Optimiseur Adam\n",
    "\n",
    "# --- Fonction d'évaluation des métriques de régression ---\n",
    "def evaluate_regression_metrics(y_true_np, y_pred_np):\n",
    "    \"\"\"Calcule et retourne un dictionnaire des métriques de régression.\"\"\"\n",
    "    metrics = {\n",
    "        'MAE': mean_absolute_error(y_true_np, y_pred_np),\n",
    "        'MSE': mean_squared_error(y_true_np, y_pred_np),\n",
    "        'RMSE': np.sqrt(mean_squared_error(y_true_np, y_pred_np)),\n",
    "        'R2': r2_score(y_true_np, y_pred_np)\n",
    "    }\n",
    "    # Gérer le cas de MAPE avec des zéros dans y_true\n",
    "    try:\n",
    "        metrics['MAPE'] = mean_absolute_percentage_error(y_true_np, y_pred_np)\n",
    "    except ValueError:\n",
    "        metrics['MAPE'] = np.nan # Not a Number si division par zéro\n",
    "    metrics['MedAE'] = median_absolute_error(y_true_np, y_pred_np)\n",
    "    metrics['Explained_Variance'] = explained_variance_score(y_true_np, y_pred_np)\n",
    "    metrics['Max_Error'] = max_error(y_true_np, y_pred_np)\n",
    "    return metrics\n",
    "\n",
    "# --- 3. Boucle d'entraînement avec suivi de validation et Early Stopping ---\n",
    "num_epochs = 100\n",
    "history = {\n",
    "    'epoch': [],\n",
    "    'train_loss': [],\n",
    "    'val_loss': [],\n",
    "    'val_MAE': [],\n",
    "    'val_MSE': [],\n",
    "    'val_RMSE': [],\n",
    "    'val_R2': []\n",
    "}\n",
    "\n",
    "best_val_metric = float('inf') # Pour le Early Stopping, on vise le MAE le plus bas\n",
    "best_epoch = -1\n",
    "epochs_no_improve = 0\n",
    "patience = 15 # Nombre d'époques sans amélioration avant l'arrêt\n",
    "best_model_state_dict = None # Pour sauvegarder les poids du meilleur modèle\n",
    "\n",
    "print(\"\\n--- Début de l'entraînement ---\")\n",
    "\n",
    "for epoch in range(num_epochs):\n",
    "    # Mode entraînement\n",
    "    model.train()\n",
    "    running_train_loss = 0.0\n",
    "    for batch_idx, (inputs, labels) in enumerate(train_loader):\n",
    "        inputs, labels = inputs.to(device), labels.to(device)\n",
    "\n",
    "        optimizer.zero_grad() # Remettre les gradients à zéro\n",
    "        outputs = model(inputs)\n",
    "        loss = criterion(outputs, labels) # Calcul de la loss\n",
    "        loss.backward() # Rétropropagation\n",
    "        optimizer.step() # Mise à jour des poids\n",
    "\n",
    "        running_train_loss += loss.item() * inputs.size(0)\n",
    "\n",
    "    train_loss = running_train_loss / len(train_loader.dataset)\n",
    "    history['train_loss'].append(train_loss)\n",
    "\n",
    "    # Mode évaluation sur l'ensemble de validation\n",
    "    model.eval() # Désactiver les couches de Dropout, BatchNorm, etc.\n",
    "    running_val_loss = 0.0\n",
    "    val_predictions = []\n",
    "    val_true_values = []\n",
    "\n",
    "    with torch.no_grad(): # Désactiver le calcul des gradients pour l'évaluation\n",
    "        for inputs, labels in val_loader:\n",
    "            inputs, labels = inputs.to(device), labels.to(device)\n",
    "            outputs = model(inputs)\n",
    "            loss = criterion(outputs, labels)\n",
    "            running_val_loss += loss.item() * inputs.size(0)\n",
    "\n",
    "            # Convertir les tenseurs en numpy pour calculer les métriques sklearn\n",
    "            val_predictions.extend(outputs.cpu().numpy().flatten())\n",
    "            val_true_values.extend(labels.cpu().numpy().flatten())\n",
    "\n",
    "    val_loss = running_val_loss / len(val_loader.dataset)\n",
    "    val_metrics = evaluate_regression_metrics(np.array(val_true_values), np.array(val_predictions))\n",
    "\n",
    "    history['epoch'].append(epoch + 1)\n",
    "    history['val_loss'].append(val_loss)\n",
    "    history['val_MAE'].append(val_metrics['MAE'])\n",
    "    history['val_MSE'].append(val_metrics['MSE'])\n",
    "    history['val_RMSE'].append(val_metrics['RMSE'])\n",
    "    history['val_R2'].append(val_metrics['R2'])\n",
    "\n",
    "\n",
    "    print(f\"Époque [{epoch+1}/{num_epochs}]: \"\n",
    "          f\"Train Loss: {train_loss:.4f} | \"\n",
    "          f\"Val Loss: {val_loss:.4f} | \"\n",
    "          f\"Val MAE: {val_metrics['MAE']:.4f} | \"\n",
    "          f\"Val R2: {val_metrics['R2']:.4f}\")\n",
    "\n",
    "    # Logique d'Early Stopping\n",
    "    current_val_metric = val_metrics['MAE'] # Surveiller le MAE pour l'arrêt précoce\n",
    "    if current_val_metric < best_val_metric:\n",
    "        best_val_metric = current_val_metric\n",
    "        best_epoch = epoch\n",
    "        epochs_no_improve = 0\n",
    "        # Sauvegarder l'état du modèle (les poids)\n",
    "        best_model_state_dict = model.state_dict()\n",
    "        # Optionnel: sauvegarder sur disque\n",
    "        # torch.save(model.state_dict(), 'best_regression_model.pth')\n",
    "    else:\n",
    "        epochs_no_improve += 1\n",
    "        if epochs_no_improve >= patience:\n",
    "            print(f\"Arrêt précoce à l'époque {epoch+1}. Meilleur MAE de validation: {best_val_metric:.4f} à l'époque {best_epoch+1}.\")\n",
    "            break\n",
    "\n",
    "print(\"\\n--- Entraînement terminé ---\")\n",
    "\n",
    "# --- 4. Chargement du meilleur modèle et évaluation finale sur l'ensemble de test ---\n",
    "if best_model_state_dict:\n",
    "    model.load_state_dict(best_model_state_dict)\n",
    "    print(f\"Meilleur modèle de l'époque {best_epoch+1} chargé pour l'évaluation finale.\")\n",
    "else:\n",
    "    print(\"Aucun meilleur modèle sauvegardé (pas d'amélioration significative).\")\n",
    "\n",
    "model.eval() # Passer en mode évaluation pour l'inférence finale\n",
    "test_predictions = []\n",
    "test_true_values = []\n",
    "\n",
    "with torch.no_grad():\n",
    "    for inputs, labels in test_loader:\n",
    "        inputs, labels = inputs.to(device), labels.to(device)\n",
    "        outputs = model(inputs)\n",
    "        test_predictions.extend(outputs.cpu().numpy().flatten())\n",
    "        test_true_values.extend(labels.cpu().numpy().flatten())\n",
    "\n",
    "# Calculer les métriques finales\n",
    "final_test_metrics = evaluate_regression_metrics(np.array(test_true_values), np.array(test_predictions))\n",
    "\n",
    "# Fonction pour afficher le rapport de régression final (comme dans la réponse précédente)\n",
    "def regression_report_final(metrics_dict, model_name=\"Modèle de Régression\"):\n",
    "    print(f\"\\n--- Rapport d'Évaluation Final pour {model_name} ---\")\n",
    "    print(f\"  Mean Absolute Error (MAE):           {metrics_dict['MAE']:.4f}\")\n",
    "    print(f\"  Mean Squared Error (MSE):            {metrics_dict['MSE']:.4f}\")\n",
    "    print(f\"  Root Mean Squared Error (RMSE):      {metrics_dict['RMSE']:.4f}\")\n",
    "    print(f\"  R-squared (R2 Score):                {metrics_dict['R2']:.4f}\")\n",
    "    if not np.isnan(metrics_dict['MAPE']):\n",
    "        print(f\"  Mean Absolute Percentage Error (MAPE): {metrics_dict['MAPE'] * 100:.2f}%\")\n",
    "    else:\n",
    "        print(\"  Mean Absolute Percentage Error (MAPE): N/A (division par zéro dans y_true)\")\n",
    "    print(f\"  Median Absolute Error (MedAE):       {metrics_dict['MedAE']:.4f}\")\n",
    "    print(f\"  Explained Variance Score:            {metrics_dict['Explained_Variance']:.4f}\")\n",
    "    print(f\"  Max Error:                           {metrics_dict['Max_Error']:.4f}\")\n",
    "    print(\"-\" * (len(model_name) + 33))\n",
    "\n",
    "regression_report_final(final_test_metrics, model_name=\"Modèle de Régression PyTorch Fine-Tuné\")\n",
    "\n",
    "# --- 5. Visualisation des courbes d'entraînement et de validation ---\n",
    "history_df = pd.DataFrame(history)\n",
    "\n",
    "plt.figure(figsize=(14, 6))\n",
    "\n",
    "# Plot Loss\n",
    "plt.subplot(1, 2, 1)\n",
    "plt.plot(history_df['epoch'], history_df['train_loss'], label='Train Loss')\n",
    "plt.plot(history_df['epoch'], history_df['val_loss'], label='Validation Loss')\n",
    "plt.title('Loss pendant l\\'entraînement')\n",
    "plt.xlabel('Époque')\n",
    "plt.ylabel('Loss')\n",
    "plt.legend()\n",
    "plt.grid(True)\n",
    "plt.ylim(bottom=0) # S'assurer que l'axe y commence à 0 pour la loss\n",
    "\n",
    "# Plot MAE et R2 Score de validation\n",
    "plt.subplot(1, 2, 2)\n",
    "plt.plot(history_df['epoch'], history_df['val_MAE'], label='Validation MAE', color='skyblue')\n",
    "plt.plot(history_df['epoch'], history_df['val_R2'], label='Validation R2 Score', color='orange')\n",
    "plt.title('Métriques de Validation pendant l\\'entraînement')\n",
    "plt.xlabel('Époque')\n",
    "plt.ylabel('Valeur de la Métrique')\n",
    "plt.legend()\n",
    "plt.grid(True)\n",
    "\n",
    "plt.tight_layout()\n",
    "plt.show()\n",
    "\n",
    "# Visualiser les prédictions vs les vraies valeurs pour le test (facultatif)\n",
    "plt.figure(figsize=(8, 8))\n",
    "plt.scatter(test_true_values, test_predictions, alpha=0.6)\n",
    "plt.plot([min(test_true_values), max(test_true_values)], [min(test_true_values), max(test_true_values)],\n",
    "         color='red', linestyle='--', label='Ligne idéale (y_true = y_pred)')\n",
    "plt.title('Prédictions vs Vraies Valeurs (Test Set)')\n",
    "plt.xlabel('Vraies Valeurs')\n",
    "plt.ylabel('Prédictions')\n",
    "plt.grid(True)\n",
    "plt.legend()\n",
    "plt.show()"
   ]
  }
 ],
 "metadata": {
  "kernelspec": {
   "display_name": "dl_project_py311",
   "language": "python",
   "name": "python3"
  },
  "language_info": {
   "codemirror_mode": {
    "name": "ipython",
    "version": 3
   },
   "file_extension": ".py",
   "mimetype": "text/x-python",
   "name": "python",
   "nbconvert_exporter": "python",
   "pygments_lexer": "ipython3",
   "version": "3.11.0"
  }
 },
 "nbformat": 4,
 "nbformat_minor": 5
}
