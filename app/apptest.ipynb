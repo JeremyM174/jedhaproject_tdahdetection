{
 "cells": [
  {
   "cell_type": "markdown",
   "id": "e8e3ddee",
   "metadata": {},
   "source": [
    "# Objectifs\n",
    "\n",
    "* ~~capture multiples photos sur une durée précise~~\n",
    "* ~~se séparer de l'écriture (=enregistrement) en local de ces photos (pas de photo.jpeg en local)~~\n",
    "* ~~parvenir à écrire de multiples frames ou les regrouper dans un batch à passer au cnn (sans écrire le batch en local)~~\n",
    "* ~~avoir un simple script module_1 qui prenne en input la photo, et la restitue en output~~\n",
    "* **ignorer deepface: fouiller les outils openCV pour détecter la présence d'un visage** -> nice-to-have\n",
    "* ~~supprimer l'enregistrement vidéo et simplifier la cellule openCV~~\n",
    "* ~~collectiviser les réponses CNN, extraire la plus fréquente, envoyer au LLM cette réponse AVEC une limite dans le temps de nb de requêtes~~\n",
    "* réception probas pour émotion (+0 émotion détectée): pondre formule pour isoler émotion principale et envoyer prompt en conséquence, **ou**\n",
    "    formule pour associer plusieurs émotions et personnaliser chaque prompt pour chaque cas de figure (=16 prompts +gestion incertitude)\n",
    "* **FORMAT**: output cnn = 4 probas (score de 0 à 3), notre formule doit pouvoir interpréter la plus forte\n",
    "* Prévoir la gestion d'exception (=\"incertitude\"), trouver le moyen de traiter le scoring inverse d'engagement (=\"disengagement\")\n",
    "* concevoir le script final d'application + requirements.txt"
   ]
  },
  {
   "cell_type": "code",
   "execution_count": 2,
   "id": "90b7e343",
   "metadata": {},
   "outputs": [],
   "source": [
    "import numpy\n",
    "import cv2\n",
    "from PIL import Image\n",
    "import time\n",
    "from collections import deque, Counter"
   ]
  },
  {
   "cell_type": "code",
   "execution_count": 1,
   "id": "59c93cf7",
   "metadata": {},
   "outputs": [],
   "source": [
    "import testcnn\n",
    "import llm"
   ]
  },
  {
   "cell_type": "code",
   "execution_count": 3,
   "id": "d17aacb9",
   "metadata": {},
   "outputs": [],
   "source": [
    "def showfps(frame, prev_frame_time):\n",
    "    #parameters\n",
    "    font = cv2.FONT_HERSHEY_SIMPLEX\n",
    "    #calculate fps\n",
    "    new_frame_time = time.time()\n",
    "    fps = 1/(new_frame_time - prev_frame_time)\n",
    "    fps = str(round(fps))\n",
    "    cv2.putText(frame, fps, (7, 70), font, 3, (100, 255, 0), 3, cv2.LINE_AA)\n",
    "    return new_frame_time"
   ]
  },
  {
   "cell_type": "code",
   "execution_count": 4,
   "id": "ded672c8",
   "metadata": {},
   "outputs": [],
   "source": [
    "def get_response_from_cnn(frame):\n",
    "    pilimage = Image.fromarray(frame).convert(\"RGB\")\n",
    "    cnnresponse = testcnn.testrestitution(pilimage)\n",
    "    return cnnresponse"
   ]
  },
  {
   "cell_type": "code",
   "execution_count": 5,
   "id": "39cb488b",
   "metadata": {},
   "outputs": [],
   "source": [
    "def evaluate_response(history):\n",
    "    return Counter(history).most_common(1)[0][0]"
   ]
  },
  {
   "cell_type": "code",
   "execution_count": 8,
   "id": "aaf45cc6",
   "metadata": {},
   "outputs": [],
   "source": [
    "def perform_action(action):\n",
    "    print(f\"[LLM] Message envoyé pour l’émotion détectée : {action}\")\n",
    "\n",
    "    if action == \"boredom\":\n",
    "        print(\"LLM: Tu t'ennuies, une courte pause peut t’aider.\")\n",
    "    elif action == \"engagement\":\n",
    "        print(\"LLM: T'es à fond, tu déchires tout!\")\n",
    "    elif action == \"disengagement\":\n",
    "        print(\"LLM: Hey ! Reviens avec nous, tu peux le faire.\")\n",
    "    elif action == \"confusion\":\n",
    "        print(\"LLM: Je suis là pour t'aider, prenons les choses une étape à la fois.\")\n",
    "    elif action == \"frustration\":\n",
    "        print(\"LLM: Prends une pause pour te reposer.\")\n",
    "    elif action == \"incertitude\":\n",
    "        print(\"LLM: Je suis avec toi, on va y arriver.\")"
   ]
  },
  {
   "cell_type": "code",
   "execution_count": null,
   "id": "6a64a0ee",
   "metadata": {},
   "outputs": [
    {
     "name": "stdout",
     "output_type": "stream",
     "text": [
      "engagement\n",
      "\"Continue comme ça, tu es sur la bonne voie !\"\n"
     ]
    }
   ],
   "source": [
    "cap = cv2.VideoCapture(0)\n",
    "prev_frame_time = 0\n",
    "new_frame_time = 0\n",
    "deq_len = 100\n",
    "history = deque([], maxlen=deq_len)\n",
    "last_action_time = time.time()\n",
    "\n",
    "while( cap.isOpened() ):\n",
    "    ret, frame = cap.read()\n",
    "    if ret == True:\n",
    "        frame = cv2.flip(frame,1)\n",
    "        prev_frame_time = showfps(frame, prev_frame_time)\n",
    "\n",
    "        cnnresponse = get_response_from_cnn(frame)\n",
    "        #print(cnnresponse)\n",
    "        ###stop calcul\n",
    "        history.append(cnnresponse)\n",
    "\n",
    "        if len(history) == deq_len:\n",
    "            action = evaluate_response(history)\n",
    "\n",
    "            if time.time() - last_action_time >= 10:\n",
    "                last_action_time = time.time()\n",
    "                print(action)\n",
    "                message = llm.get_recommendation(action)\n",
    "                print(message)\n",
    "\n",
    "        cv2.imshow('frame' , frame)\n",
    "        if cv2.waitKey(1) & 0xFF == ord('q'):\n",
    "            break\n",
    "    else:\n",
    "        break\n",
    "\n",
    "cap.release()\n",
    "cv2.destroyAllWindows()"
   ]
  },
  {
   "cell_type": "code",
   "execution_count": 24,
   "id": "d4f726da",
   "metadata": {},
   "outputs": [],
   "source": [
    "# Initialize webcam (0 = default camera)\n",
    "cam = cv2.VideoCapture(0)\n",
    "\n",
    "# Capture one frame\n",
    "ret, frame = cam.read()\n",
    "\n",
    "if ret:\n",
    "    cv2.imwrite(\"captured_image.jpeg\", frame)  \n",
    "else:\n",
    "    print(\"Failed to capture image.\")\n",
    "\n",
    "cam.release()"
   ]
  },
  {
   "cell_type": "code",
   "execution_count": null,
   "id": "4ccbe777",
   "metadata": {},
   "outputs": [
    {
     "data": {
      "text/plain": [
       "2"
      ]
     },
     "execution_count": 2,
     "metadata": {},
     "output_type": "execute_result"
    }
   ],
   "source": [
    "%load_ext autoreload\n",
    "%autoreload 2"
   ]
  }
 ],
 "metadata": {
  "kernelspec": {
   "display_name": "deep_learning",
   "language": "python",
   "name": "python3"
  },
  "language_info": {
   "codemirror_mode": {
    "name": "ipython",
    "version": 3
   },
   "file_extension": ".py",
   "mimetype": "text/x-python",
   "name": "python",
   "nbconvert_exporter": "python",
   "pygments_lexer": "ipython3",
   "version": "3.11.13"
  }
 },
 "nbformat": 4,
 "nbformat_minor": 5
}
