{
 "cells": [
  {
   "cell_type": "code",
   "execution_count": 1,
   "id": "90b7e343",
   "metadata": {},
   "outputs": [],
   "source": [
    "import numpy\n",
    "import cv2\n",
    "import deepface"
   ]
  },
  {
   "cell_type": "code",
   "execution_count": null,
   "id": "6a64a0ee",
   "metadata": {},
   "outputs": [],
   "source": [
    "cap = cv2.VideoCapture(0)\n",
    "\n",
    "fourcc = cv2.VideoWriter_fourcc(*'XVID')\n",
    "out = cv2.VideoWriter('output.avi',fourcc, 25.0, (640,480))\n",
    "\n",
    "while( cap.isOpened() ):\n",
    "    ret, frame = cap.read()\n",
    "    if ret == True:\n",
    "        frame = cv2.flip(frame,1)\n",
    "        out.write(frame)\n",
    "        cv2.imshow('frame' , frame)\n",
    "        if cv2.waitKey(1) & 0xFF == ord('q'):\n",
    "            break\n",
    "    else:\n",
    "        break\n",
    "\n",
    "cap.release()\n",
    "out.release()\n",
    "cv2.destroyAllWindows()"
   ]
  },
  {
   "cell_type": "code",
   "execution_count": 14,
   "id": "d4f726da",
   "metadata": {},
   "outputs": [],
   "source": [
    "# Initialize webcam (0 = default camera)\n",
    "cam = cv2.VideoCapture(0)\n",
    "\n",
    "# Capture one frame\n",
    "ret, frame = cam.read()\n",
    "\n",
    "if ret:\n",
    "    cv2.imwrite(\"captured_image.png\", frame)  \n",
    "else:\n",
    "    print(\"Failed to capture image.\")\n",
    "\n",
    "cam.release()"
   ]
  },
  {
   "cell_type": "code",
   "execution_count": null,
   "id": "73309ae7",
   "metadata": {},
   "outputs": [],
   "source": [
    "#removed lines: imshow shows pending window with result, waitKey & destroyWindow functionalities to close that pending window\n",
    "#    cv2.imshow(\"Captured\", frame)         \n",
    "#    cv2.waitKey(0)                      \n",
    "#    cv2.destroyWindow(\"Captured\")       "
   ]
  },
  {
   "cell_type": "code",
   "execution_count": 14,
   "id": "4ccbe777",
   "metadata": {},
   "outputs": [
    {
     "data": {
      "text/plain": [
       "2"
      ]
     },
     "execution_count": 14,
     "metadata": {},
     "output_type": "execute_result"
    }
   ],
   "source": [
    "import random\n",
    "import module_1\n",
    "module_1.random_nb_call()"
   ]
  }
 ],
 "metadata": {
  "kernelspec": {
   "display_name": "deep_learning",
   "language": "python",
   "name": "python3"
  },
  "language_info": {
   "codemirror_mode": {
    "name": "ipython",
    "version": 3
   },
   "file_extension": ".py",
   "mimetype": "text/x-python",
   "name": "python",
   "nbconvert_exporter": "python",
   "pygments_lexer": "ipython3",
   "version": "3.11.13"
  }
 },
 "nbformat": 4,
 "nbformat_minor": 5
}
